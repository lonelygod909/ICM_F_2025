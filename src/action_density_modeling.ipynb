{
 "cells": [
  {
   "cell_type": "code",
   "id": "f8bb4eb8e3561957",
   "metadata": {
    "ExecuteTime": {
     "end_time": "2025-01-25T10:47:52.676390Z",
     "start_time": "2025-01-25T10:47:50.732528Z"
    }
   },
   "source": [
    "# 这个文件画地理热力图（攻击）\n",
    "\n",
    "import pandas as pd\n",
    "df = pd.read_csv(\"vcdb.csv\", low_memory=False)"
   ],
   "outputs": [],
   "execution_count": 1
  },
  {
   "metadata": {
    "ExecuteTime": {
     "end_time": "2025-01-25T10:47:52.929056Z",
     "start_time": "2025-01-25T10:47:52.681143Z"
    }
   },
   "cell_type": "code",
   "source": [
    "\n",
    "country_columns = [col for col in df.columns if col.startswith('actor.external.country')]\n",
    "attacks_from_external_country = df[country_columns]\n",
    "attacks_from_external_country.to_csv(\"attacks_from_external_country.csv\")\n"
   ],
   "id": "2272484c3cd3fc7e",
   "outputs": [],
   "execution_count": 2
  },
  {
   "metadata": {
    "ExecuteTime": {
     "end_time": "2025-01-25T10:47:54.367103Z",
     "start_time": "2025-01-25T10:47:53.062172Z"
    }
   },
   "cell_type": "code",
   "source": [
    "import pandas as pd\n",
    "import plotly.express as px\n",
    "import pycountry\n",
    "import requests\n",
    "\n",
    "\n",
    "df = pd.read_csv(\"attacks_from_external_country.csv\", index_col=0)\n",
    "\n",
    "\n",
    "attack_counts = df.sum().reset_index()\n",
    "attack_counts.columns = ['country_code', 'attack_count']\n",
    "attack_counts['country_code'] = attack_counts['country_code'].str.replace('actor.external.country.', '')\n",
    "\n",
    "\n",
    "def get_population_data():\n",
    "    url = \"https://restcountries.com/v3.1/all?fields=cca2,population\"\n",
    "    response = requests.get(url)\n",
    "    data = response.json()\n",
    "    return {country['cca2']: country['population'] for country in data}\n",
    "\n",
    "population_data = get_population_data()\n",
    "\n",
    "\n",
    "attack_counts['population'] = attack_counts['country_code'].map(population_data)\n",
    "\n",
    "attack_counts['attack_density'] = (attack_counts['attack_count'] / attack_counts['population']) * 1_000_000\n",
    "\n",
    "\n",
    "def code_to_iso3(code):\n",
    "    try:\n",
    "        return pycountry.countries.get(alpha_2=code).alpha_3\n",
    "    except:\n",
    "        return None\n",
    "\n",
    "attack_counts['iso3'] = attack_counts['country_code'].apply(code_to_iso3)\n",
    "\n",
    "\n",
    "valid_data = attack_counts.dropna(subset=['iso3', 'population'])\n",
    "\n",
    "valid_data.to_csv(\"valid_data_a.csv\")"
   ],
   "id": "8ff6770d4d9d082",
   "outputs": [],
   "execution_count": 3
  },
  {
   "metadata": {
    "ExecuteTime": {
     "end_time": "2025-01-25T10:47:54.398421Z",
     "start_time": "2025-01-25T10:47:54.390718Z"
    }
   },
   "cell_type": "code",
   "source": [
    "\n",
    "from scipy.stats import zscore\n",
    "\n",
    "\n",
    "valid_data = valid_data.copy()\n",
    "if valid_data['attack_density'].isnull().any():\n",
    "    valid_data['attack_density'].fillna(0, inplace=True)  # 填充缺失值\n",
    "\n",
    "valid_data.loc[:, 'attack_density_zscore'] = zscore(valid_data['attack_density'])\n",
    "valid_data.loc[:, 'attack_density_zscore_clipped'] = valid_data['attack_density_zscore'].clip(-3, 3)\n",
    "valid_data.attack_density_zscore.head()"
   ],
   "id": "37e392faca3e6b80",
   "outputs": [
    {
     "name": "stderr",
     "output_type": "stream",
     "text": [
      "C:\\Users\\lucaslan\\AppData\\Local\\Temp\\ipykernel_16644\\137127016.py:6: FutureWarning: A value is trying to be set on a copy of a DataFrame or Series through chained assignment using an inplace method.\n",
      "The behavior will change in pandas 3.0. This inplace method will never work because the intermediate object on which we are setting values always behaves as a copy.\n",
      "\n",
      "For example, when doing 'df[col].method(value, inplace=True)', try using 'df.method({col: value}, inplace=True)' or df[col] = df[col].method(value) instead, to perform the operation inplace on the original object.\n",
      "\n",
      "\n",
      "  valid_data['attack_density'].fillna(0, inplace=True)  # 填充缺失值\n"
     ]
    },
    {
     "data": {
      "text/plain": [
       "0   -0.143900\n",
       "1   -0.143900\n",
       "2   -0.115615\n",
       "3   -0.143900\n",
       "4   -0.143900\n",
       "Name: attack_density_zscore, dtype: float64"
      ]
     },
     "execution_count": 4,
     "metadata": {},
     "output_type": "execute_result"
    }
   ],
   "execution_count": 4
  },
  {
   "metadata": {
    "ExecuteTime": {
     "end_time": "2025-01-25T11:31:35.094053Z",
     "start_time": "2025-01-25T11:31:35.044363Z"
    }
   },
   "cell_type": "code",
   "source": [
    "fig = px.choropleth(\n",
    "    valid_data,\n",
    "    locations=\"iso3\",\n",
    "    color=\"attack_density_zscore_clipped\",\n",
    "    hover_name=\"country_code\",\n",
    "    hover_data={\n",
    "        'attack_count': True,\n",
    "        'population': True,\n",
    "        'attack_density': ':.2f',\n",
    "        'iso3': False\n",
    "    },\n",
    "    color_continuous_scale=px.colors.diverging.RdYlGn_r,\n",
    "    color_continuous_midpoint=0,\n",
    "    labels={'attack_density_zscore_clipped': 'Attack Density Z-Score'},\n",
    "    title=\"<b>Global Cyber Attack Density</b><br><sup>Normalized by Z-Score</sup>\",\n",
    "    range_color=[-0.1, 3.1],\n",
    "    projection=\"natural earth\"\n",
    ")\n",
    "\n",
    "fig.update_layout(\n",
    "    margin={\"r\": 20, \"t\": 80, \"l\": 20, \"b\": 20},\n",
    "    coloraxis_colorbar=dict(\n",
    "        title=\"Z-Score\",\n",
    "        thickness=15,\n",
    "        lenmode=\"pixels\",\n",
    "        len=300,\n",
    "        yanchor=\"middle\",\n",
    "        y=0.5,\n",
    "        ticksuffix=\" σ\",\n",
    "       # dtick=1\n",
    "    ),\n",
    "    geo=dict(\n",
    "        showframe=True,\n",
    "        showcoastlines=True,\n",
    "        coastlinecolor=\"rgba(0,0,0,0.5)\",\n",
    "        coastlinewidth=0.8,\n",
    "        landcolor=\"rgba(240,240,240,1)\",\n",
    "        projection=dict(\n",
    "            type=\"natural earth\",\n",
    "            rotation_lon=10\n",
    "        ),\n",
    "        lakecolor=\"white\",\n",
    "        oceancolor=\"white\"\n",
    "    ),\n",
    "    title={\n",
    "        'text': \"<b>Global Cyber Attack Density</b><br><sup>Normalized by Z-Score</sup>\",\n",
    "        'y': 0.95,\n",
    "        'x': 0.5,\n",
    "        'xanchor': 'center',\n",
    "        'yanchor': 'top',\n",
    "        'font': {'size': 20}\n",
    "    },\n",
    "    font=dict(\n",
    "        family=\"Arial\",\n",
    "        size=12,\n",
    "        color=\"#404040\"\n",
    "    ),\n",
    "    plot_bgcolor=\"white\",\n",
    "    paper_bgcolor=\"white\",\n",
    "    hoverlabel=dict(\n",
    "        bgcolor=\"white\",\n",
    "        font_size=12,\n",
    "        font_family=\"Arial\"\n",
    "    )\n",
    ")\n",
    "\n",
    "fig.update_geos(\n",
    "    showocean=True,\n",
    "    oceancolor=\"white\",\n",
    "    lakecolor=\"white\",\n",
    "    bgcolor=\"white\",\n",
    "    showcountries=True,\n",
    "    countrycolor=\"rgba(0,0,0,0.2)\",\n",
    "    countrywidth=0.5\n",
    ")\n",
    "\n",
    "fig.add_annotation(\n",
    "    x=0.5,\n",
    "    y=-0.1,\n",
    "    text=\"Source: Your Data Source | Visualization by Your Team\",\n",
    "    showarrow=False,\n",
    "    xref=\"paper\",\n",
    "    yref=\"paper\",\n",
    "    font=dict(size=10, color=\"#666666\")\n",
    ")\n",
    "\n",
    "fig.show()"
   ],
   "id": "9ac7b9706817e7ba",
   "outputs": [
    {
     "data": {
      "application/vnd.plotly.v1+json": {
       "data": [
        {
         "coloraxis": "coloraxis",
         "customdata": [
          [
           0,
           77265.0,
           0.0,
           "AND"
          ],
          [
           0,
           9890400.0,
           0.0,
           "ARE"
          ],
          [
           2,
           4.0218234E7,
           0.04972868773899918,
           "AFG"
          ],
          [
           0,
           97928.0,
           0.0,
           "ATG"
          ],
          [
           0,
           13452.0,
           0.0,
           "AIA"
          ],
          [
           1,
           2837743.0,
           0.3523927290103438,
           "ALB"
          ],
          [
           2,
           2963234.0,
           0.6749382600226644,
           "ARM"
          ],
          [
           0,
           3.2866268E7,
           0.0,
           "AGO"
          ],
          [
           0,
           1000.0,
           0.0,
           "ATA"
          ],
          [
           8,
           4.5376763E7,
           0.1763016899200148,
           "ARG"
          ],
          [
           0,
           55197.0,
           0.0,
           "ASM"
          ],
          [
           1,
           8917205.0,
           0.11214276222201912,
           "AUT"
          ],
          [
           13,
           2.5687041E7,
           0.5060917682188463,
           "AUS"
          ],
          [
           0,
           106766.0,
           0.0,
           "ABW"
          ],
          [
           0,
           29458.0,
           0.0,
           "ALA"
          ],
          [
           2,
           1.0110116E7,
           0.1978216669324071,
           "AZE"
          ],
          [
           0,
           3280815.0,
           0.0,
           "BIH"
          ],
          [
           0,
           287371.0,
           0.0,
           "BRB"
          ],
          [
           4,
           1.64689383E8,
           0.024288147342199952,
           "BGD"
          ],
          [
           2,
           1.1555997E7,
           0.17307031145819785,
           "BEL"
          ],
          [
           0,
           2.0903278E7,
           0.0,
           "BFA"
          ],
          [
           3,
           6927288.0,
           0.4330699113419278,
           "BGR"
          ],
          [
           0,
           1701583.0,
           0.0,
           "BHR"
          ],
          [
           0,
           1.1890781E7,
           0.0,
           "BDI"
          ],
          [
           0,
           1.2123198E7,
           0.0,
           "BEN"
          ],
          [
           0,
           4255.0,
           0.0,
           "BLM"
          ],
          [
           0,
           63903.0,
           0.0,
           "BMU"
          ],
          [
           0,
           437483.0,
           0.0,
           "BRN"
          ],
          [
           0,
           1.1673029E7,
           0.0,
           "BOL"
          ],
          [
           0,
           25987.0,
           0.0,
           "BES"
          ],
          [
           5,
           2.12559409E8,
           0.023522835444089892,
           "BRA"
          ],
          [
           0,
           393248.0,
           0.0,
           "BHS"
          ],
          [
           0,
           771612.0,
           0.0,
           "BTN"
          ],
          [
           0,
           0.0,
           0.0,
           "BVT"
          ],
          [
           0,
           2351625.0,
           0.0,
           "BWA"
          ],
          [
           0,
           9398861.0,
           0.0,
           "BLR"
          ],
          [
           3,
           397621.0,
           7.544873132958269,
           "BLZ"
          ],
          [
           22,
           3.8005238E7,
           0.5788675760956951,
           "CAN"
          ],
          [
           0,
           544.0,
           0.0,
           "CCK"
          ],
          [
           0,
           1.08407721E8,
           0.0,
           "COD"
          ],
          [
           0,
           4829764.0,
           0.0,
           "CAF"
          ],
          [
           0,
           5657000.0,
           0.0,
           "COG"
          ],
          [
           0,
           8654622.0,
           0.0,
           "CHE"
          ],
          [
           0,
           2.6378275E7,
           0.0,
           "CIV"
          ],
          [
           0,
           18100.0,
           0.0,
           "COK"
          ],
          [
           1,
           1.9116209E7,
           0.05231162726877489,
           "CHL"
          ],
          [
           0,
           2.6545864E7,
           0.0,
           "CMR"
          ],
          [
           62,
           1.402112E9,
           0.044219006755523094,
           "CHN"
          ],
          [
           1,
           5.0882884E7,
           0.019652974072774648,
           "COL"
          ],
          [
           0,
           5094114.0,
           0.0,
           "CRI"
          ],
          [
           0,
           1.1326616E7,
           0.0,
           "CUB"
          ],
          [
           0,
           555988.0,
           0.0,
           "CPV"
          ],
          [
           0,
           155014.0,
           0.0,
           "CUW"
          ],
          [
           0,
           2072.0,
           0.0,
           "CXR"
          ],
          [
           0,
           1207361.0,
           0.0,
           "CYP"
          ],
          [
           0,
           1.0698896E7,
           0.0,
           "CZE"
          ],
          [
           2,
           8.3240525E7,
           0.024026758601053994,
           "DEU"
          ],
          [
           0,
           988002.0,
           0.0,
           "DJI"
          ],
          [
           1,
           5831404.0,
           0.171485288963001,
           "DNK"
          ],
          [
           0,
           71991.0,
           0.0,
           "DMA"
          ],
          [
           0,
           1.0847904E7,
           0.0,
           "DOM"
          ],
          [
           0,
           4.47E7,
           0.0,
           "DZA"
          ],
          [
           0,
           1.764306E7,
           0.0,
           "ECU"
          ],
          [
           2,
           1331057.0,
           1.5025652545307977,
           "EST"
          ],
          [
           1,
           1.02334403E8,
           0.009771884827431887,
           "EGY"
          ],
          [
           0,
           510713.0,
           0.0,
           "ESH"
          ],
          [
           0,
           5352000.0,
           0.0,
           "ERI"
          ],
          [
           0,
           4.7351567E7,
           0.0,
           "ESP"
          ],
          [
           1,
           1.14963583E8,
           0.0086984066945791,
           "ETH"
          ],
          [
           0,
           5530719.0,
           0.0,
           "FIN"
          ],
          [
           0,
           896444.0,
           0.0,
           "FJI"
          ],
          [
           0,
           2563.0,
           0.0,
           "FLK"
          ],
          [
           0,
           115021.0,
           0.0,
           "FSM"
          ],
          [
           0,
           48865.0,
           0.0,
           "FRO"
          ],
          [
           2,
           6.7391582E7,
           0.02967729708437472,
           "FRA"
          ],
          [
           0,
           2225728.0,
           0.0,
           "GAB"
          ],
          [
           49,
           6.7215293E7,
           0.7290007647515574,
           "GBR"
          ],
          [
           0,
           112519.0,
           0.0,
           "GRD"
          ],
          [
           0,
           3714000.0,
           0.0,
           "GEO"
          ],
          [
           0,
           254541.0,
           0.0,
           "GUF"
          ],
          [
           0,
           62999.0,
           0.0,
           "GGY"
          ],
          [
           1,
           3.1072945E7,
           0.03218233739994712,
           "GHA"
          ],
          [
           0,
           33691.0,
           0.0,
           "GIB"
          ],
          [
           0,
           56367.0,
           0.0,
           "GRL"
          ],
          [
           0,
           2416664.0,
           0.0,
           "GMB"
          ],
          [
           0,
           1.3132792E7,
           0.0,
           "GIN"
          ],
          [
           0,
           400132.0,
           0.0,
           "GLP"
          ],
          [
           0,
           1402985.0,
           0.0,
           "GNQ"
          ],
          [
           0,
           1.0715549E7,
           0.0,
           "GRC"
          ],
          [
           0,
           30.0,
           0.0,
           "SGS"
          ],
          [
           0,
           1.6858333E7,
           0.0,
           "GTM"
          ],
          [
           0,
           168783.0,
           0.0,
           "GUM"
          ],
          [
           0,
           1967998.0,
           0.0,
           "GNB"
          ],
          [
           0,
           786559.0,
           0.0,
           "GUY"
          ],
          [
           1,
           7500700.0,
           0.133320890050262,
           "HKG"
          ],
          [
           0,
           0.0,
           0.0,
           "HMD"
          ],
          [
           0,
           9904608.0,
           0.0,
           "HND"
          ],
          [
           0,
           4047200.0,
           0.0,
           "HRV"
          ],
          [
           0,
           1.1402533E7,
           0.0,
           "HTI"
          ],
          [
           0,
           9749763.0,
           0.0,
           "HUN"
          ],
          [
           9,
           2.73523621E8,
           0.03290392240017911,
           "IDN"
          ],
          [
           2,
           4994724.0,
           0.4004225258492761,
           "IRL"
          ],
          [
           4,
           9216900.0,
           0.4339853963914114,
           "ISR"
          ],
          [
           0,
           85032.0,
           0.0,
           "IMN"
          ],
          [
           14,
           1.380004385E9,
           0.010144895300459499,
           "IND"
          ],
          [
           0,
           3000.0,
           0.0,
           "IOT"
          ],
          [
           0,
           4.0222503E7,
           0.0,
           "IRQ"
          ],
          [
           19,
           8.3992953E7,
           0.22620945354784705,
           "IRN"
          ],
          [
           1,
           366425.0,
           2.7290714334447705,
           "ISL"
          ],
          [
           3,
           5.9554023E7,
           0.05037443062410746,
           "ITA"
          ],
          [
           0,
           100800.0,
           0.0,
           "JEY"
          ],
          [
           1,
           2961161.0,
           0.33770537974801096,
           "JAM"
          ],
          [
           1,
           1.020314E7,
           0.09800904427460566,
           "JOR"
          ],
          [
           2,
           1.25836021E8,
           0.01589370026250274,
           "JPN"
          ],
          [
           0,
           5.37713E7,
           0.0,
           "KEN"
          ],
          [
           0,
           6591600.0,
           0.0,
           "KGZ"
          ],
          [
           2,
           1.6718971E7,
           0.11962458694377781,
           "KHM"
          ],
          [
           0,
           119446.0,
           0.0,
           "KIR"
          ],
          [
           0,
           869595.0,
           0.0,
           "COM"
          ],
          [
           0,
           53192.0,
           0.0,
           "KNA"
          ],
          [
           23,
           2.5778815E7,
           0.8922054795769317,
           "PRK"
          ],
          [
           6,
           5.1780579E7,
           0.1158735594671508,
           "KOR"
          ],
          [
           0,
           4270563.0,
           0.0,
           "KWT"
          ],
          [
           0,
           65720.0,
           0.0,
           "CYM"
          ],
          [
           1,
           1.875444E7,
           0.053320706989918115,
           "KAZ"
          ],
          [
           0,
           7275556.0,
           0.0,
           "LAO"
          ],
          [
           0,
           6825442.0,
           0.0,
           "LBN"
          ],
          [
           0,
           183629.0,
           0.0,
           "LCA"
          ],
          [
           0,
           38137.0,
           0.0,
           "LIE"
          ],
          [
           0,
           2.1919E7,
           0.0,
           "LKA"
          ],
          [
           0,
           5057677.0,
           0.0,
           "LBR"
          ],
          [
           0,
           2142252.0,
           0.0,
           "LSO"
          ],
          [
           2,
           2794700.0,
           0.7156403191755824,
           "LTU"
          ],
          [
           0,
           632275.0,
           0.0,
           "LUX"
          ],
          [
           0,
           1901548.0,
           0.0,
           "LVA"
          ],
          [
           1,
           6871287.0,
           0.14553314393649983,
           "LBY"
          ],
          [
           1,
           3.6910558E7,
           0.02709251916484167,
           "MAR"
          ],
          [
           0,
           39244.0,
           0.0,
           "MCO"
          ],
          [
           2,
           2617820.0,
           0.7639944686800467,
           "MDA"
          ],
          [
           0,
           621718.0,
           0.0,
           "MNE"
          ],
          [
           0,
           38659.0,
           0.0,
           "MAF"
          ],
          [
           0,
           2.7691019E7,
           0.0,
           "MDG"
          ],
          [
           0,
           59194.0,
           0.0,
           "MHL"
          ],
          [
           0,
           2077132.0,
           0.0,
           "MKD"
          ],
          [
           0,
           2.0250834E7,
           0.0,
           "MLI"
          ],
          [
           0,
           5.4409794E7,
           0.0,
           "MMR"
          ],
          [
           0,
           3278292.0,
           0.0,
           "MNG"
          ],
          [
           0,
           649342.0,
           0.0,
           "MAC"
          ],
          [
           0,
           57557.0,
           0.0,
           "MNP"
          ],
          [
           0,
           378243.0,
           0.0,
           "MTQ"
          ],
          [
           1,
           4649660.0,
           0.21506948895188036,
           "MRT"
          ],
          [
           0,
           4922.0,
           0.0,
           "MSR"
          ],
          [
           0,
           525285.0,
           0.0,
           "MLT"
          ],
          [
           0,
           1265740.0,
           0.0,
           "MUS"
          ],
          [
           0,
           540542.0,
           0.0,
           "MDV"
          ],
          [
           0,
           1.9129955E7,
           0.0,
           "MWI"
          ],
          [
           1,
           1.28932753E8,
           0.007755981135375276,
           "MEX"
          ],
          [
           2,
           3.2365998E7,
           0.06179324363796846,
           "MYS"
          ],
          [
           0,
           3.1255435E7,
           0.0,
           "MOZ"
          ],
          [
           0,
           2540916.0,
           0.0,
           "NAM"
          ],
          [
           0,
           271960.0,
           0.0,
           "NCL"
          ],
          [
           0,
           2.4206636E7,
           0.0,
           "NER"
          ],
          [
           0,
           2302.0,
           0.0,
           "NFK"
          ],
          [
           5,
           2.06139587E8,
           0.02425540903019273,
           "NGA"
          ],
          [
           0,
           6624554.0,
           0.0,
           "NIC"
          ],
          [
           4,
           1.6655799E7,
           0.2401565965103205,
           "NLD"
          ],
          [
           0,
           5379475.0,
           0.0,
           "NOR"
          ],
          [
           0,
           2.9136808E7,
           0.0,
           "NPL"
          ],
          [
           0,
           10834.0,
           0.0,
           "NRU"
          ],
          [
           0,
           1470.0,
           0.0,
           "NIU"
          ],
          [
           6,
           5084300.0,
           1.1801034557362862,
           "NZL"
          ],
          [
           0,
           5106622.0,
           0.0,
           "OMN"
          ],
          [
           0,
           4314768.0,
           0.0,
           "PAN"
          ],
          [
           3,
           3.2971846E7,
           0.09098671636401552,
           "PER"
          ],
          [
           0,
           280904.0,
           0.0,
           "PYF"
          ],
          [
           0,
           8947027.0,
           0.0,
           "PNG"
          ],
          [
           4,
           1.09581085E8,
           0.0365026500695809,
           "PHL"
          ],
          [
           42,
           2.20892331E8,
           0.19013788215218752,
           "PAK"
          ],
          [
           1,
           3.7950802E7,
           0.026349904278702728,
           "POL"
          ],
          [
           0,
           6069.0,
           0.0,
           "SPM"
          ],
          [
           0,
           56.0,
           0.0,
           "PCN"
          ],
          [
           1,
           3194034.0,
           0.3130837054333172,
           "PRI"
          ],
          [
           6,
           4803269.0,
           1.249149277294276,
           "PSE"
          ],
          [
           1,
           1.0305564E7,
           0.09703496092013984,
           "PRT"
          ],
          [
           0,
           18092.0,
           0.0,
           "PLW"
          ],
          [
           0,
           7132530.0,
           0.0,
           "PRY"
          ],
          [
           0,
           2881060.0,
           0.0,
           "QAT"
          ],
          [
           0,
           840974.0,
           0.0,
           "REU"
          ],
          [
           16,
           1.9286123E7,
           0.8296120479994864,
           "ROU"
          ],
          [
           2,
           6908224.0,
           0.28951001009810917,
           "SRB"
          ],
          [
           875,
           1.4410408E8,
           6.072000182090611,
           "RUS"
          ],
          [
           0,
           1.2952209E7,
           0.0,
           "RWA"
          ],
          [
           4,
           3.4813867E7,
           0.11489674502404458,
           "SAU"
          ],
          [
           0,
           686878.0,
           0.0,
           "SLB"
          ],
          [
           0,
           98462.0,
           0.0,
           "SYC"
          ],
          [
           0,
           4.3849269E7,
           0.0,
           "SDN"
          ],
          [
           2,
           1.0353442E7,
           0.1931724734634144,
           "SWE"
          ],
          [
           1,
           5685807.0,
           0.175876529048559,
           "SGP"
          ],
          [
           0,
           53192.0,
           0.0,
           "SHN"
          ],
          [
           0,
           2100126.0,
           0.0,
           "SVN"
          ],
          [
           0,
           2562.0,
           0.0,
           "SJM"
          ],
          [
           0,
           5458827.0,
           0.0,
           "SVK"
          ],
          [
           0,
           7976985.0,
           0.0,
           "SLE"
          ],
          [
           0,
           33938.0,
           0.0,
           "SMR"
          ],
          [
           0,
           1.674393E7,
           0.0,
           "SEN"
          ],
          [
           0,
           1.5893219E7,
           0.0,
           "SOM"
          ],
          [
           0,
           586634.0,
           0.0,
           "SUR"
          ],
          [
           0,
           1.1193729E7,
           0.0,
           "SSD"
          ],
          [
           0,
           219161.0,
           0.0,
           "STP"
          ],
          [
           0,
           6486201.0,
           0.0,
           "SLV"
          ],
          [
           0,
           40812.0,
           0.0,
           "SXM"
          ],
          [
           38,
           1.7500657E7,
           2.1713470528563588,
           "SYR"
          ],
          [
           0,
           1160164.0,
           0.0,
           "SWZ"
          ],
          [
           1,
           38718.0,
           25.827780360555813,
           "TCA"
          ],
          [
           0,
           1.6425859E7,
           0.0,
           "TCD"
          ],
          [
           0,
           400.0,
           0.0,
           "ATF"
          ],
          [
           0,
           8278737.0,
           0.0,
           "TGO"
          ],
          [
           3,
           6.9799978E7,
           0.04297995624010082,
           "THA"
          ],
          [
           0,
           9537642.0,
           0.0,
           "TJK"
          ],
          [
           0,
           1411.0,
           0.0,
           "TKL"
          ],
          [
           0,
           1318442.0,
           0.0,
           "TLS"
          ],
          [
           1,
           6031187.0,
           0.1658048407386473,
           "TKM"
          ],
          [
           1,
           1.1818618E7,
           0.08461226177206167,
           "TUN"
          ],
          [
           0,
           105697.0,
           0.0,
           "TON"
          ],
          [
           26,
           8.4339067E7,
           0.30827943591076246,
           "TUR"
          ],
          [
           0,
           1399491.0,
           0.0,
           "TTO"
          ],
          [
           0,
           11792.0,
           0.0,
           "TUV"
          ],
          [
           2,
           2.3503349E7,
           0.08509425614196513,
           "TWN"
          ],
          [
           0,
           5.9734213E7,
           0.0,
           "TZA"
          ],
          [
           31,
           4.4134693E7,
           0.7023952789249038,
           "UKR"
          ],
          [
           0,
           4.5741E7,
           0.0,
           "UGA"
          ],
          [
           0,
           300.0,
           0.0,
           "UMI"
          ],
          [
           330,
           3.29484123E8,
           1.001565711255835,
           "USA"
          ],
          [
           1,
           3473727.0,
           0.2878752417792187,
           "URY"
          ],
          [
           1,
           3.423205E7,
           0.029212390143155315,
           "UZB"
          ],
          [
           0,
           451.0,
           0.0,
           "VAT"
          ],
          [
           0,
           110947.0,
           0.0,
           "VCT"
          ],
          [
           1,
           2.8435943E7,
           0.035166760602945366,
           "VEN"
          ],
          [
           0,
           30237.0,
           0.0,
           "VGB"
          ],
          [
           0,
           106290.0,
           0.0,
           "VIR"
          ],
          [
           4,
           9.7338583E7,
           0.041093674026464924,
           "VNM"
          ],
          [
           0,
           307150.0,
           0.0,
           "VUT"
          ],
          [
           0,
           11750.0,
           0.0,
           "WLF"
          ],
          [
           0,
           198410.0,
           0.0,
           "WSM"
          ],
          [
           1,
           2.9825968E7,
           0.03352783051332986,
           "YEM"
          ],
          [
           0,
           226915.0,
           0.0,
           "MYT"
          ],
          [
           0,
           5.930869E7,
           0.0,
           "ZAF"
          ],
          [
           0,
           1.8383956E7,
           0.0,
           "ZMB"
          ],
          [
           0,
           1.4862927E7,
           0.0,
           "ZWE"
          ]
         ],
         "geo": "geo",
         "hovertemplate": "<b>%{hovertext}</b><br><br>attack_count=%{customdata[0]}<br>population=%{customdata[1]}<br>attack_density=%{customdata[2]:.2f}<br>Attack Density Z-Score=%{z}<extra></extra>",
         "hovertext": [
          "AD",
          "AE",
          "AF",
          "AG",
          "AI",
          "AL",
          "AM",
          "AO",
          "AQ",
          "AR",
          "AS",
          "AT",
          "AU",
          "AW",
          "AX",
          "AZ",
          "BA",
          "BB",
          "BD",
          "BE",
          "BF",
          "BG",
          "BH",
          "BI",
          "BJ",
          "BL",
          "BM",
          "BN",
          "BO",
          "BQ",
          "BR",
          "BS",
          "BT",
          "BV",
          "BW",
          "BY",
          "BZ",
          "CA",
          "CC",
          "CD",
          "CF",
          "CG",
          "CH",
          "CI",
          "CK",
          "CL",
          "CM",
          "CN",
          "CO",
          "CR",
          "CU",
          "CV",
          "CW",
          "CX",
          "CY",
          "CZ",
          "DE",
          "DJ",
          "DK",
          "DM",
          "DO",
          "DZ",
          "EC",
          "EE",
          "EG",
          "EH",
          "ER",
          "ES",
          "ET",
          "FI",
          "FJ",
          "FK",
          "FM",
          "FO",
          "FR",
          "GA",
          "GB",
          "GD",
          "GE",
          "GF",
          "GG",
          "GH",
          "GI",
          "GL",
          "GM",
          "GN",
          "GP",
          "GQ",
          "GR",
          "GS",
          "GT",
          "GU",
          "GW",
          "GY",
          "HK",
          "HM",
          "HN",
          "HR",
          "HT",
          "HU",
          "ID",
          "IE",
          "IL",
          "IM",
          "IN",
          "IO",
          "IQ",
          "IR",
          "IS",
          "IT",
          "JE",
          "JM",
          "JO",
          "JP",
          "KE",
          "KG",
          "KH",
          "KI",
          "KM",
          "KN",
          "KP",
          "KR",
          "KW",
          "KY",
          "KZ",
          "LA",
          "LB",
          "LC",
          "LI",
          "LK",
          "LR",
          "LS",
          "LT",
          "LU",
          "LV",
          "LY",
          "MA",
          "MC",
          "MD",
          "ME",
          "MF",
          "MG",
          "MH",
          "MK",
          "ML",
          "MM",
          "MN",
          "MO",
          "MP",
          "MQ",
          "MR",
          "MS",
          "MT",
          "MU",
          "MV",
          "MW",
          "MX",
          "MY",
          "MZ",
          "NA",
          "NC",
          "NE",
          "NF",
          "NG",
          "NI",
          "NL",
          "NO",
          "NP",
          "NR",
          "NU",
          "NZ",
          "OM",
          "PA",
          "PE",
          "PF",
          "PG",
          "PH",
          "PK",
          "PL",
          "PM",
          "PN",
          "PR",
          "PS",
          "PT",
          "PW",
          "PY",
          "QA",
          "RE",
          "RO",
          "RS",
          "RU",
          "RW",
          "SA",
          "SB",
          "SC",
          "SD",
          "SE",
          "SG",
          "SH",
          "SI",
          "SJ",
          "SK",
          "SL",
          "SM",
          "SN",
          "SO",
          "SR",
          "SS",
          "ST",
          "SV",
          "SX",
          "SY",
          "SZ",
          "TC",
          "TD",
          "TF",
          "TG",
          "TH",
          "TJ",
          "TK",
          "TL",
          "TM",
          "TN",
          "TO",
          "TR",
          "TT",
          "TV",
          "TW",
          "TZ",
          "UA",
          "UG",
          "UM",
          "US",
          "UY",
          "UZ",
          "VA",
          "VC",
          "VE",
          "VG",
          "VI",
          "VN",
          "VU",
          "WF",
          "WS",
          "YE",
          "YT",
          "ZA",
          "ZM",
          "ZW"
         ],
         "locations": [
          "AND",
          "ARE",
          "AFG",
          "ATG",
          "AIA",
          "ALB",
          "ARM",
          "AGO",
          "ATA",
          "ARG",
          "ASM",
          "AUT",
          "AUS",
          "ABW",
          "ALA",
          "AZE",
          "BIH",
          "BRB",
          "BGD",
          "BEL",
          "BFA",
          "BGR",
          "BHR",
          "BDI",
          "BEN",
          "BLM",
          "BMU",
          "BRN",
          "BOL",
          "BES",
          "BRA",
          "BHS",
          "BTN",
          "BVT",
          "BWA",
          "BLR",
          "BLZ",
          "CAN",
          "CCK",
          "COD",
          "CAF",
          "COG",
          "CHE",
          "CIV",
          "COK",
          "CHL",
          "CMR",
          "CHN",
          "COL",
          "CRI",
          "CUB",
          "CPV",
          "CUW",
          "CXR",
          "CYP",
          "CZE",
          "DEU",
          "DJI",
          "DNK",
          "DMA",
          "DOM",
          "DZA",
          "ECU",
          "EST",
          "EGY",
          "ESH",
          "ERI",
          "ESP",
          "ETH",
          "FIN",
          "FJI",
          "FLK",
          "FSM",
          "FRO",
          "FRA",
          "GAB",
          "GBR",
          "GRD",
          "GEO",
          "GUF",
          "GGY",
          "GHA",
          "GIB",
          "GRL",
          "GMB",
          "GIN",
          "GLP",
          "GNQ",
          "GRC",
          "SGS",
          "GTM",
          "GUM",
          "GNB",
          "GUY",
          "HKG",
          "HMD",
          "HND",
          "HRV",
          "HTI",
          "HUN",
          "IDN",
          "IRL",
          "ISR",
          "IMN",
          "IND",
          "IOT",
          "IRQ",
          "IRN",
          "ISL",
          "ITA",
          "JEY",
          "JAM",
          "JOR",
          "JPN",
          "KEN",
          "KGZ",
          "KHM",
          "KIR",
          "COM",
          "KNA",
          "PRK",
          "KOR",
          "KWT",
          "CYM",
          "KAZ",
          "LAO",
          "LBN",
          "LCA",
          "LIE",
          "LKA",
          "LBR",
          "LSO",
          "LTU",
          "LUX",
          "LVA",
          "LBY",
          "MAR",
          "MCO",
          "MDA",
          "MNE",
          "MAF",
          "MDG",
          "MHL",
          "MKD",
          "MLI",
          "MMR",
          "MNG",
          "MAC",
          "MNP",
          "MTQ",
          "MRT",
          "MSR",
          "MLT",
          "MUS",
          "MDV",
          "MWI",
          "MEX",
          "MYS",
          "MOZ",
          "NAM",
          "NCL",
          "NER",
          "NFK",
          "NGA",
          "NIC",
          "NLD",
          "NOR",
          "NPL",
          "NRU",
          "NIU",
          "NZL",
          "OMN",
          "PAN",
          "PER",
          "PYF",
          "PNG",
          "PHL",
          "PAK",
          "POL",
          "SPM",
          "PCN",
          "PRI",
          "PSE",
          "PRT",
          "PLW",
          "PRY",
          "QAT",
          "REU",
          "ROU",
          "SRB",
          "RUS",
          "RWA",
          "SAU",
          "SLB",
          "SYC",
          "SDN",
          "SWE",
          "SGP",
          "SHN",
          "SVN",
          "SJM",
          "SVK",
          "SLE",
          "SMR",
          "SEN",
          "SOM",
          "SUR",
          "SSD",
          "STP",
          "SLV",
          "SXM",
          "SYR",
          "SWZ",
          "TCA",
          "TCD",
          "ATF",
          "TGO",
          "THA",
          "TJK",
          "TKL",
          "TLS",
          "TKM",
          "TUN",
          "TON",
          "TUR",
          "TTO",
          "TUV",
          "TWN",
          "TZA",
          "UKR",
          "UGA",
          "UMI",
          "USA",
          "URY",
          "UZB",
          "VAT",
          "VCT",
          "VEN",
          "VGB",
          "VIR",
          "VNM",
          "VUT",
          "WLF",
          "WSM",
          "YEM",
          "MYT",
          "ZAF",
          "ZMB",
          "ZWE"
         ],
         "name": "",
         "z": [
          -0.1439000019226315,
          -0.1439000019226315,
          -0.11561522688024001,
          -0.1439000019226315,
          -0.1439000019226315,
          0.05653458663811219,
          0.23999263068493878,
          -0.1439000019226315,
          -0.1439000019226315,
          -0.04362280045788523,
          -0.1439000019226315,
          -0.08011523408942249,
          0.1439558106016564,
          -0.1439000019226315,
          -0.1439000019226315,
          -0.031382628106914556,
          -0.1439000019226315,
          -0.1439000019226315,
          -0.13008534452856912,
          -0.04546074987953553,
          -0.1439000019226315,
          0.10242230370958584,
          -0.1439000019226315,
          -0.1439000019226315,
          -0.1439000019226315,
          -0.1439000019226315,
          -0.1439000019226315,
          -0.1439000019226315,
          -0.1439000019226315,
          -0.1439000019226315,
          -0.13052064004629765,
          -0.1439000019226315,
          -0.1439000019226315,
          -0.1439000019226315,
          -0.1439000019226315,
          -0.1439000019226315,
          3.0,
          0.18534936928811768,
          -0.1439000019226315,
          -0.1439000019226315,
          -0.1439000019226315,
          -0.1439000019226315,
          -0.1439000019226315,
          -0.1439000019226315,
          -0.1439000019226315,
          -0.11414609775438714,
          -0.1439000019226315,
          -0.11874903342649133,
          -0.13272174695881833,
          -0.1439000019226315,
          -0.1439000019226315,
          -0.1439000019226315,
          -0.1439000019226315,
          -0.1439000019226315,
          -0.1439000019226315,
          -0.1439000019226315,
          -0.13023401770049617,
          -0.1439000019226315,
          -0.04636228190766934,
          -0.1439000019226315,
          -0.1439000019226315,
          -0.1439000019226315,
          -0.1439000019226315,
          0.7107318442659697,
          -0.13834193118618396,
          -0.1439000019226315,
          -0.1439000019226315,
          -0.1439000019226315,
          -0.1389525060652161,
          -0.1439000019226315,
          -0.1439000019226315,
          -0.1439000019226315,
          -0.1439000019226315,
          -0.1439000019226315,
          -0.12702009396480582,
          -0.1439000019226315,
          0.27074240217520373,
          -0.1439000019226315,
          -0.1439000019226315,
          -0.1439000019226315,
          -0.1439000019226315,
          -0.12559527249817137,
          -0.1439000019226315,
          -0.1439000019226315,
          -0.1439000019226315,
          -0.1439000019226315,
          -0.1439000019226315,
          -0.1439000019226315,
          -0.1439000019226315,
          -0.1439000019226315,
          -0.1439000019226315,
          -0.1439000019226315,
          -0.1439000019226315,
          -0.1439000019226315,
          -0.0680694993500542,
          -0.1439000019226315,
          -0.1439000019226315,
          -0.1439000019226315,
          -0.1439000019226315,
          -0.1439000019226315,
          -0.12518484804634095,
          0.0838530633703178,
          0.10294301499027,
          -0.1439000019226315,
          -0.1381297695990249,
          -0.1439000019226315,
          -0.1439000019226315,
          -0.015236170300037167,
          1.4083462985375732,
          -0.11524794004700654,
          -0.1439000019226315,
          0.04818068894359644,
          -0.08815423634006275,
          -0.1348599536737103,
          -0.1439000019226315,
          -0.1439000019226315,
          -0.07585970797797062,
          -0.1439000019226315,
          -0.1439000019226315,
          -0.1439000019226315,
          0.36357028190775414,
          -0.07799322432795101,
          -0.1439000019226315,
          -0.1439000019226315,
          -0.1135721515231458,
          -0.1439000019226315,
          -0.1439000019226315,
          -0.1439000019226315,
          -0.1439000019226315,
          -0.1439000019226315,
          -0.1439000019226315,
          -0.1439000019226315,
          0.26314322321504374,
          -0.1439000019226315,
          -0.1439000019226315,
          -0.06112339098407944,
          -0.1284902687333871,
          -0.1439000019226315,
          0.29064618585661267,
          -0.1439000019226315,
          -0.1439000019226315,
          -0.1439000019226315,
          -0.1439000019226315,
          -0.1439000019226315,
          -0.1439000019226315,
          -0.1439000019226315,
          -0.1439000019226315,
          -0.1439000019226315,
          -0.1439000019226315,
          -0.1439000019226315,
          -0.02157237997906348,
          -0.1439000019226315,
          -0.1439000019226315,
          -0.1439000019226315,
          -0.1439000019226315,
          -0.1439000019226315,
          -0.13948854061887625,
          -0.10875312644880057,
          -0.1439000019226315,
          -0.1439000019226315,
          -0.1439000019226315,
          -0.1439000019226315,
          -0.1439000019226315,
          -0.1301039654862596,
          -0.1439000019226315,
          -0.0073032885146153605,
          -0.1439000019226315,
          -0.1439000019226315,
          -0.1439000019226315,
          -0.1439000019226315,
          0.5273214255849472,
          -0.1439000019226315,
          -0.1439000019226315,
          -0.0921484090048922,
          -0.1439000019226315,
          -0.1439000019226315,
          -0.12313795706256718,
          -0.03575302543417442,
          -0.12891265460264256,
          -0.1439000019226315,
          -0.1439000019226315,
          0.03417632746087863,
          0.5665934357500833,
          -0.0887082772730994,
          -0.1439000019226315,
          -0.1439000019226315,
          -0.1439000019226315,
          -0.1439000019226315,
          0.32796827405684276,
          0.02076803740155096,
          3.0,
          -0.1439000019226315,
          -0.07854881865463885,
          -0.1439000019226315,
          -0.1439000019226315,
          -0.1439000019226315,
          -0.03402700497222012,
          -0.04386462424517419,
          -0.1439000019226315,
          -0.1439000019226315,
          -0.1439000019226315,
          -0.1439000019226315,
          -0.1439000019226315,
          -0.1439000019226315,
          -0.1439000019226315,
          -0.1439000019226315,
          -0.1439000019226315,
          -0.1439000019226315,
          -0.1439000019226315,
          -0.1439000019226315,
          -0.1439000019226315,
          1.0911227931960295,
          -0.1439000019226315,
          3.0,
          -0.1439000019226315,
          -0.1439000019226315,
          -0.1439000019226315,
          -0.11945378287169725,
          -0.1439000019226315,
          -0.1439000019226315,
          -0.1439000019226315,
          -0.049593217761216765,
          -0.09577408308456342,
          -0.1439000019226315,
          0.03144374615083714,
          -0.1439000019226315,
          -0.1439000019226315,
          -0.09549993343484871,
          -0.1439000019226315,
          0.2556096847093803,
          -0.1439000019226315,
          -0.1439000019226315,
          0.42577239686917023,
          0.01983821085175477,
          -0.12728452459521084,
          -0.1439000019226315,
          -0.1439000019226315,
          -0.1238977867456588,
          -0.1439000019226315,
          -0.1439000019226315,
          -0.12052666596000997,
          -0.1439000019226315,
          -0.1439000019226315,
          -0.1439000019226315,
          -0.12482998043510994,
          -0.1439000019226315,
          -0.1439000019226315,
          -0.1439000019226315,
          -0.1439000019226315
         ],
         "type": "choropleth"
        }
       ],
       "layout": {
        "template": {
         "data": {
          "histogram2dcontour": [
           {
            "type": "histogram2dcontour",
            "colorbar": {
             "outlinewidth": 0,
             "ticks": ""
            },
            "colorscale": [
             [
              0.0,
              "#0d0887"
             ],
             [
              0.1111111111111111,
              "#46039f"
             ],
             [
              0.2222222222222222,
              "#7201a8"
             ],
             [
              0.3333333333333333,
              "#9c179e"
             ],
             [
              0.4444444444444444,
              "#bd3786"
             ],
             [
              0.5555555555555556,
              "#d8576b"
             ],
             [
              0.6666666666666666,
              "#ed7953"
             ],
             [
              0.7777777777777778,
              "#fb9f3a"
             ],
             [
              0.8888888888888888,
              "#fdca26"
             ],
             [
              1.0,
              "#f0f921"
             ]
            ]
           }
          ],
          "choropleth": [
           {
            "type": "choropleth",
            "colorbar": {
             "outlinewidth": 0,
             "ticks": ""
            }
           }
          ],
          "histogram2d": [
           {
            "type": "histogram2d",
            "colorbar": {
             "outlinewidth": 0,
             "ticks": ""
            },
            "colorscale": [
             [
              0.0,
              "#0d0887"
             ],
             [
              0.1111111111111111,
              "#46039f"
             ],
             [
              0.2222222222222222,
              "#7201a8"
             ],
             [
              0.3333333333333333,
              "#9c179e"
             ],
             [
              0.4444444444444444,
              "#bd3786"
             ],
             [
              0.5555555555555556,
              "#d8576b"
             ],
             [
              0.6666666666666666,
              "#ed7953"
             ],
             [
              0.7777777777777778,
              "#fb9f3a"
             ],
             [
              0.8888888888888888,
              "#fdca26"
             ],
             [
              1.0,
              "#f0f921"
             ]
            ]
           }
          ],
          "heatmap": [
           {
            "type": "heatmap",
            "colorbar": {
             "outlinewidth": 0,
             "ticks": ""
            },
            "colorscale": [
             [
              0.0,
              "#0d0887"
             ],
             [
              0.1111111111111111,
              "#46039f"
             ],
             [
              0.2222222222222222,
              "#7201a8"
             ],
             [
              0.3333333333333333,
              "#9c179e"
             ],
             [
              0.4444444444444444,
              "#bd3786"
             ],
             [
              0.5555555555555556,
              "#d8576b"
             ],
             [
              0.6666666666666666,
              "#ed7953"
             ],
             [
              0.7777777777777778,
              "#fb9f3a"
             ],
             [
              0.8888888888888888,
              "#fdca26"
             ],
             [
              1.0,
              "#f0f921"
             ]
            ]
           }
          ],
          "heatmapgl": [
           {
            "type": "heatmapgl",
            "colorbar": {
             "outlinewidth": 0,
             "ticks": ""
            },
            "colorscale": [
             [
              0.0,
              "#0d0887"
             ],
             [
              0.1111111111111111,
              "#46039f"
             ],
             [
              0.2222222222222222,
              "#7201a8"
             ],
             [
              0.3333333333333333,
              "#9c179e"
             ],
             [
              0.4444444444444444,
              "#bd3786"
             ],
             [
              0.5555555555555556,
              "#d8576b"
             ],
             [
              0.6666666666666666,
              "#ed7953"
             ],
             [
              0.7777777777777778,
              "#fb9f3a"
             ],
             [
              0.8888888888888888,
              "#fdca26"
             ],
             [
              1.0,
              "#f0f921"
             ]
            ]
           }
          ],
          "contourcarpet": [
           {
            "type": "contourcarpet",
            "colorbar": {
             "outlinewidth": 0,
             "ticks": ""
            }
           }
          ],
          "contour": [
           {
            "type": "contour",
            "colorbar": {
             "outlinewidth": 0,
             "ticks": ""
            },
            "colorscale": [
             [
              0.0,
              "#0d0887"
             ],
             [
              0.1111111111111111,
              "#46039f"
             ],
             [
              0.2222222222222222,
              "#7201a8"
             ],
             [
              0.3333333333333333,
              "#9c179e"
             ],
             [
              0.4444444444444444,
              "#bd3786"
             ],
             [
              0.5555555555555556,
              "#d8576b"
             ],
             [
              0.6666666666666666,
              "#ed7953"
             ],
             [
              0.7777777777777778,
              "#fb9f3a"
             ],
             [
              0.8888888888888888,
              "#fdca26"
             ],
             [
              1.0,
              "#f0f921"
             ]
            ]
           }
          ],
          "surface": [
           {
            "type": "surface",
            "colorbar": {
             "outlinewidth": 0,
             "ticks": ""
            },
            "colorscale": [
             [
              0.0,
              "#0d0887"
             ],
             [
              0.1111111111111111,
              "#46039f"
             ],
             [
              0.2222222222222222,
              "#7201a8"
             ],
             [
              0.3333333333333333,
              "#9c179e"
             ],
             [
              0.4444444444444444,
              "#bd3786"
             ],
             [
              0.5555555555555556,
              "#d8576b"
             ],
             [
              0.6666666666666666,
              "#ed7953"
             ],
             [
              0.7777777777777778,
              "#fb9f3a"
             ],
             [
              0.8888888888888888,
              "#fdca26"
             ],
             [
              1.0,
              "#f0f921"
             ]
            ]
           }
          ],
          "mesh3d": [
           {
            "type": "mesh3d",
            "colorbar": {
             "outlinewidth": 0,
             "ticks": ""
            }
           }
          ],
          "scatter": [
           {
            "marker": {
             "line": {
              "color": "#283442"
             }
            },
            "type": "scatter"
           }
          ],
          "parcoords": [
           {
            "type": "parcoords",
            "line": {
             "colorbar": {
              "outlinewidth": 0,
              "ticks": ""
             }
            }
           }
          ],
          "scatterpolargl": [
           {
            "type": "scatterpolargl",
            "marker": {
             "colorbar": {
              "outlinewidth": 0,
              "ticks": ""
             }
            }
           }
          ],
          "bar": [
           {
            "error_x": {
             "color": "#f2f5fa"
            },
            "error_y": {
             "color": "#f2f5fa"
            },
            "marker": {
             "line": {
              "color": "rgb(17,17,17)",
              "width": 0.5
             },
             "pattern": {
              "fillmode": "overlay",
              "size": 10,
              "solidity": 0.2
             }
            },
            "type": "bar"
           }
          ],
          "scattergeo": [
           {
            "type": "scattergeo",
            "marker": {
             "colorbar": {
              "outlinewidth": 0,
              "ticks": ""
             }
            }
           }
          ],
          "scatterpolar": [
           {
            "type": "scatterpolar",
            "marker": {
             "colorbar": {
              "outlinewidth": 0,
              "ticks": ""
             }
            }
           }
          ],
          "histogram": [
           {
            "marker": {
             "pattern": {
              "fillmode": "overlay",
              "size": 10,
              "solidity": 0.2
             }
            },
            "type": "histogram"
           }
          ],
          "scattergl": [
           {
            "marker": {
             "line": {
              "color": "#283442"
             }
            },
            "type": "scattergl"
           }
          ],
          "scatter3d": [
           {
            "type": "scatter3d",
            "line": {
             "colorbar": {
              "outlinewidth": 0,
              "ticks": ""
             }
            },
            "marker": {
             "colorbar": {
              "outlinewidth": 0,
              "ticks": ""
             }
            }
           }
          ],
          "scattermapbox": [
           {
            "type": "scattermapbox",
            "marker": {
             "colorbar": {
              "outlinewidth": 0,
              "ticks": ""
             }
            }
           }
          ],
          "scatterternary": [
           {
            "type": "scatterternary",
            "marker": {
             "colorbar": {
              "outlinewidth": 0,
              "ticks": ""
             }
            }
           }
          ],
          "scattercarpet": [
           {
            "type": "scattercarpet",
            "marker": {
             "colorbar": {
              "outlinewidth": 0,
              "ticks": ""
             }
            }
           }
          ],
          "carpet": [
           {
            "aaxis": {
             "endlinecolor": "#A2B1C6",
             "gridcolor": "#506784",
             "linecolor": "#506784",
             "minorgridcolor": "#506784",
             "startlinecolor": "#A2B1C6"
            },
            "baxis": {
             "endlinecolor": "#A2B1C6",
             "gridcolor": "#506784",
             "linecolor": "#506784",
             "minorgridcolor": "#506784",
             "startlinecolor": "#A2B1C6"
            },
            "type": "carpet"
           }
          ],
          "table": [
           {
            "cells": {
             "fill": {
              "color": "#506784"
             },
             "line": {
              "color": "rgb(17,17,17)"
             }
            },
            "header": {
             "fill": {
              "color": "#2a3f5f"
             },
             "line": {
              "color": "rgb(17,17,17)"
             }
            },
            "type": "table"
           }
          ],
          "barpolar": [
           {
            "marker": {
             "line": {
              "color": "rgb(17,17,17)",
              "width": 0.5
             },
             "pattern": {
              "fillmode": "overlay",
              "size": 10,
              "solidity": 0.2
             }
            },
            "type": "barpolar"
           }
          ],
          "pie": [
           {
            "automargin": true,
            "type": "pie"
           }
          ]
         },
         "layout": {
          "autotypenumbers": "strict",
          "colorway": [
           "#636efa",
           "#EF553B",
           "#00cc96",
           "#ab63fa",
           "#FFA15A",
           "#19d3f3",
           "#FF6692",
           "#B6E880",
           "#FF97FF",
           "#FECB52"
          ],
          "font": {
           "color": "#f2f5fa"
          },
          "hovermode": "closest",
          "hoverlabel": {
           "align": "left"
          },
          "paper_bgcolor": "rgb(17,17,17)",
          "plot_bgcolor": "rgb(17,17,17)",
          "polar": {
           "bgcolor": "rgb(17,17,17)",
           "angularaxis": {
            "gridcolor": "#506784",
            "linecolor": "#506784",
            "ticks": ""
           },
           "radialaxis": {
            "gridcolor": "#506784",
            "linecolor": "#506784",
            "ticks": ""
           }
          },
          "ternary": {
           "bgcolor": "rgb(17,17,17)",
           "aaxis": {
            "gridcolor": "#506784",
            "linecolor": "#506784",
            "ticks": ""
           },
           "baxis": {
            "gridcolor": "#506784",
            "linecolor": "#506784",
            "ticks": ""
           },
           "caxis": {
            "gridcolor": "#506784",
            "linecolor": "#506784",
            "ticks": ""
           }
          },
          "coloraxis": {
           "colorbar": {
            "outlinewidth": 0,
            "ticks": ""
           }
          },
          "colorscale": {
           "sequential": [
            [
             0.0,
             "#0d0887"
            ],
            [
             0.1111111111111111,
             "#46039f"
            ],
            [
             0.2222222222222222,
             "#7201a8"
            ],
            [
             0.3333333333333333,
             "#9c179e"
            ],
            [
             0.4444444444444444,
             "#bd3786"
            ],
            [
             0.5555555555555556,
             "#d8576b"
            ],
            [
             0.6666666666666666,
             "#ed7953"
            ],
            [
             0.7777777777777778,
             "#fb9f3a"
            ],
            [
             0.8888888888888888,
             "#fdca26"
            ],
            [
             1.0,
             "#f0f921"
            ]
           ],
           "sequentialminus": [
            [
             0.0,
             "#0d0887"
            ],
            [
             0.1111111111111111,
             "#46039f"
            ],
            [
             0.2222222222222222,
             "#7201a8"
            ],
            [
             0.3333333333333333,
             "#9c179e"
            ],
            [
             0.4444444444444444,
             "#bd3786"
            ],
            [
             0.5555555555555556,
             "#d8576b"
            ],
            [
             0.6666666666666666,
             "#ed7953"
            ],
            [
             0.7777777777777778,
             "#fb9f3a"
            ],
            [
             0.8888888888888888,
             "#fdca26"
            ],
            [
             1.0,
             "#f0f921"
            ]
           ],
           "diverging": [
            [
             0,
             "#8e0152"
            ],
            [
             0.1,
             "#c51b7d"
            ],
            [
             0.2,
             "#de77ae"
            ],
            [
             0.3,
             "#f1b6da"
            ],
            [
             0.4,
             "#fde0ef"
            ],
            [
             0.5,
             "#f7f7f7"
            ],
            [
             0.6,
             "#e6f5d0"
            ],
            [
             0.7,
             "#b8e186"
            ],
            [
             0.8,
             "#7fbc41"
            ],
            [
             0.9,
             "#4d9221"
            ],
            [
             1,
             "#276419"
            ]
           ]
          },
          "xaxis": {
           "gridcolor": "#283442",
           "linecolor": "#506784",
           "ticks": "",
           "title": {
            "standoff": 15
           },
           "zerolinecolor": "#283442",
           "automargin": true,
           "zerolinewidth": 2
          },
          "yaxis": {
           "gridcolor": "#283442",
           "linecolor": "#506784",
           "ticks": "",
           "title": {
            "standoff": 15
           },
           "zerolinecolor": "#283442",
           "automargin": true,
           "zerolinewidth": 2
          },
          "scene": {
           "xaxis": {
            "backgroundcolor": "rgb(17,17,17)",
            "gridcolor": "#506784",
            "linecolor": "#506784",
            "showbackground": true,
            "ticks": "",
            "zerolinecolor": "#C8D4E3",
            "gridwidth": 2
           },
           "yaxis": {
            "backgroundcolor": "rgb(17,17,17)",
            "gridcolor": "#506784",
            "linecolor": "#506784",
            "showbackground": true,
            "ticks": "",
            "zerolinecolor": "#C8D4E3",
            "gridwidth": 2
           },
           "zaxis": {
            "backgroundcolor": "rgb(17,17,17)",
            "gridcolor": "#506784",
            "linecolor": "#506784",
            "showbackground": true,
            "ticks": "",
            "zerolinecolor": "#C8D4E3",
            "gridwidth": 2
           }
          },
          "shapedefaults": {
           "line": {
            "color": "#f2f5fa"
           }
          },
          "annotationdefaults": {
           "arrowcolor": "#f2f5fa",
           "arrowhead": 0,
           "arrowwidth": 1
          },
          "geo": {
           "bgcolor": "rgb(17,17,17)",
           "landcolor": "rgb(17,17,17)",
           "subunitcolor": "#506784",
           "showland": true,
           "showlakes": true,
           "lakecolor": "rgb(17,17,17)"
          },
          "title": {
           "x": 0.05
          },
          "updatemenudefaults": {
           "bgcolor": "#506784",
           "borderwidth": 0
          },
          "sliderdefaults": {
           "bgcolor": "#C8D4E3",
           "borderwidth": 1,
           "bordercolor": "rgb(17,17,17)",
           "tickwidth": 0
          },
          "mapbox": {
           "style": "dark"
          }
         }
        },
        "geo": {
         "domain": {
          "x": [
           0.0,
           1.0
          ],
          "y": [
           0.0,
           1.0
          ]
         },
         "projection": {
          "type": "natural earth",
          "rotation": {
           "lon": 10
          }
         },
         "center": {},
         "showframe": true,
         "showcoastlines": true,
         "coastlinecolor": "rgba(0,0,0,0.5)",
         "coastlinewidth": 0.8,
         "landcolor": "rgba(240,240,240,1)",
         "lakecolor": "white",
         "oceancolor": "white",
         "showocean": true,
         "bgcolor": "white",
         "showcountries": true,
         "countrycolor": "rgba(0,0,0,0.2)",
         "countrywidth": 0.5
        },
        "coloraxis": {
         "colorbar": {
          "title": {
           "text": "Z-Score"
          },
          "thickness": 15,
          "lenmode": "pixels",
          "len": 300,
          "yanchor": "middle",
          "y": 0.5,
          "ticksuffix": " σ",
          "dtick": 1
         },
         "colorscale": [
          [
           0.0,
           "rgb(0,104,55)"
          ],
          [
           0.1,
           "rgb(26,152,80)"
          ],
          [
           0.2,
           "rgb(102,189,99)"
          ],
          [
           0.3,
           "rgb(166,217,106)"
          ],
          [
           0.4,
           "rgb(217,239,139)"
          ],
          [
           0.5,
           "rgb(255,255,191)"
          ],
          [
           0.6,
           "rgb(254,224,139)"
          ],
          [
           0.7,
           "rgb(253,174,97)"
          ],
          [
           0.8,
           "rgb(244,109,67)"
          ],
          [
           0.9,
           "rgb(215,48,39)"
          ],
          [
           1.0,
           "rgb(165,0,38)"
          ]
         ],
         "cmid": 0,
         "cmin": -0.1,
         "cmax": 3.1
        },
        "legend": {
         "tracegroupgap": 0
        },
        "title": {
         "text": "<b>Global Cyber Attack Density</b><br><sup>Normalized by Z-Score</sup>",
         "font": {
          "size": 20
         },
         "y": 0.95,
         "x": 0.5,
         "xanchor": "center",
         "yanchor": "top"
        },
        "margin": {
         "r": 20,
         "t": 80,
         "l": 20,
         "b": 20
        },
        "font": {
         "family": "Arial",
         "size": 12,
         "color": "#404040"
        },
        "hoverlabel": {
         "font": {
          "size": 12,
          "family": "Arial"
         },
         "bgcolor": "white"
        },
        "plot_bgcolor": "white",
        "paper_bgcolor": "white",
        "annotations": [
         {
          "font": {
           "color": "#666666",
           "size": 10
          },
          "showarrow": false,
          "text": "Source: Your Data Source | Visualization by Your Team",
          "x": 0.5,
          "xref": "paper",
          "y": -0.1,
          "yref": "paper"
         }
        ]
       },
       "config": {
        "plotlyServerURL": "https://plot.ly"
       }
      },
      "text/html": [
       "<div>                            <div id=\"5a61d57f-59dd-4081-968d-43fee0077e88\" class=\"plotly-graph-div\" style=\"height:525px; width:100%;\"></div>            <script type=\"text/javascript\">                require([\"plotly\"], function(Plotly) {                    window.PLOTLYENV=window.PLOTLYENV || {};                                    if (document.getElementById(\"5a61d57f-59dd-4081-968d-43fee0077e88\")) {                    Plotly.newPlot(                        \"5a61d57f-59dd-4081-968d-43fee0077e88\",                        [{\"coloraxis\":\"coloraxis\",\"customdata\":[[0,77265.0,0.0,\"AND\"],[0,9890400.0,0.0,\"ARE\"],[2,40218234.0,0.04972868773899918,\"AFG\"],[0,97928.0,0.0,\"ATG\"],[0,13452.0,0.0,\"AIA\"],[1,2837743.0,0.3523927290103438,\"ALB\"],[2,2963234.0,0.6749382600226644,\"ARM\"],[0,32866268.0,0.0,\"AGO\"],[0,1000.0,0.0,\"ATA\"],[8,45376763.0,0.1763016899200148,\"ARG\"],[0,55197.0,0.0,\"ASM\"],[1,8917205.0,0.11214276222201912,\"AUT\"],[13,25687041.0,0.5060917682188463,\"AUS\"],[0,106766.0,0.0,\"ABW\"],[0,29458.0,0.0,\"ALA\"],[2,10110116.0,0.1978216669324071,\"AZE\"],[0,3280815.0,0.0,\"BIH\"],[0,287371.0,0.0,\"BRB\"],[4,164689383.0,0.024288147342199952,\"BGD\"],[2,11555997.0,0.17307031145819785,\"BEL\"],[0,20903278.0,0.0,\"BFA\"],[3,6927288.0,0.4330699113419278,\"BGR\"],[0,1701583.0,0.0,\"BHR\"],[0,11890781.0,0.0,\"BDI\"],[0,12123198.0,0.0,\"BEN\"],[0,4255.0,0.0,\"BLM\"],[0,63903.0,0.0,\"BMU\"],[0,437483.0,0.0,\"BRN\"],[0,11673029.0,0.0,\"BOL\"],[0,25987.0,0.0,\"BES\"],[5,212559409.0,0.023522835444089892,\"BRA\"],[0,393248.0,0.0,\"BHS\"],[0,771612.0,0.0,\"BTN\"],[0,0.0,0.0,\"BVT\"],[0,2351625.0,0.0,\"BWA\"],[0,9398861.0,0.0,\"BLR\"],[3,397621.0,7.544873132958269,\"BLZ\"],[22,38005238.0,0.5788675760956951,\"CAN\"],[0,544.0,0.0,\"CCK\"],[0,108407721.0,0.0,\"COD\"],[0,4829764.0,0.0,\"CAF\"],[0,5657000.0,0.0,\"COG\"],[0,8654622.0,0.0,\"CHE\"],[0,26378275.0,0.0,\"CIV\"],[0,18100.0,0.0,\"COK\"],[1,19116209.0,0.05231162726877489,\"CHL\"],[0,26545864.0,0.0,\"CMR\"],[62,1402112000.0,0.044219006755523094,\"CHN\"],[1,50882884.0,0.019652974072774648,\"COL\"],[0,5094114.0,0.0,\"CRI\"],[0,11326616.0,0.0,\"CUB\"],[0,555988.0,0.0,\"CPV\"],[0,155014.0,0.0,\"CUW\"],[0,2072.0,0.0,\"CXR\"],[0,1207361.0,0.0,\"CYP\"],[0,10698896.0,0.0,\"CZE\"],[2,83240525.0,0.024026758601053994,\"DEU\"],[0,988002.0,0.0,\"DJI\"],[1,5831404.0,0.171485288963001,\"DNK\"],[0,71991.0,0.0,\"DMA\"],[0,10847904.0,0.0,\"DOM\"],[0,44700000.0,0.0,\"DZA\"],[0,17643060.0,0.0,\"ECU\"],[2,1331057.0,1.5025652545307977,\"EST\"],[1,102334403.0,0.009771884827431887,\"EGY\"],[0,510713.0,0.0,\"ESH\"],[0,5352000.0,0.0,\"ERI\"],[0,47351567.0,0.0,\"ESP\"],[1,114963583.0,0.0086984066945791,\"ETH\"],[0,5530719.0,0.0,\"FIN\"],[0,896444.0,0.0,\"FJI\"],[0,2563.0,0.0,\"FLK\"],[0,115021.0,0.0,\"FSM\"],[0,48865.0,0.0,\"FRO\"],[2,67391582.0,0.02967729708437472,\"FRA\"],[0,2225728.0,0.0,\"GAB\"],[49,67215293.0,0.7290007647515574,\"GBR\"],[0,112519.0,0.0,\"GRD\"],[0,3714000.0,0.0,\"GEO\"],[0,254541.0,0.0,\"GUF\"],[0,62999.0,0.0,\"GGY\"],[1,31072945.0,0.03218233739994712,\"GHA\"],[0,33691.0,0.0,\"GIB\"],[0,56367.0,0.0,\"GRL\"],[0,2416664.0,0.0,\"GMB\"],[0,13132792.0,0.0,\"GIN\"],[0,400132.0,0.0,\"GLP\"],[0,1402985.0,0.0,\"GNQ\"],[0,10715549.0,0.0,\"GRC\"],[0,30.0,0.0,\"SGS\"],[0,16858333.0,0.0,\"GTM\"],[0,168783.0,0.0,\"GUM\"],[0,1967998.0,0.0,\"GNB\"],[0,786559.0,0.0,\"GUY\"],[1,7500700.0,0.133320890050262,\"HKG\"],[0,0.0,0.0,\"HMD\"],[0,9904608.0,0.0,\"HND\"],[0,4047200.0,0.0,\"HRV\"],[0,11402533.0,0.0,\"HTI\"],[0,9749763.0,0.0,\"HUN\"],[9,273523621.0,0.03290392240017911,\"IDN\"],[2,4994724.0,0.4004225258492761,\"IRL\"],[4,9216900.0,0.4339853963914114,\"ISR\"],[0,85032.0,0.0,\"IMN\"],[14,1380004385.0,0.010144895300459499,\"IND\"],[0,3000.0,0.0,\"IOT\"],[0,40222503.0,0.0,\"IRQ\"],[19,83992953.0,0.22620945354784705,\"IRN\"],[1,366425.0,2.7290714334447705,\"ISL\"],[3,59554023.0,0.05037443062410746,\"ITA\"],[0,100800.0,0.0,\"JEY\"],[1,2961161.0,0.33770537974801096,\"JAM\"],[1,10203140.0,0.09800904427460566,\"JOR\"],[2,125836021.0,0.01589370026250274,\"JPN\"],[0,53771300.0,0.0,\"KEN\"],[0,6591600.0,0.0,\"KGZ\"],[2,16718971.0,0.11962458694377781,\"KHM\"],[0,119446.0,0.0,\"KIR\"],[0,869595.0,0.0,\"COM\"],[0,53192.0,0.0,\"KNA\"],[23,25778815.0,0.8922054795769317,\"PRK\"],[6,51780579.0,0.1158735594671508,\"KOR\"],[0,4270563.0,0.0,\"KWT\"],[0,65720.0,0.0,\"CYM\"],[1,18754440.0,0.053320706989918115,\"KAZ\"],[0,7275556.0,0.0,\"LAO\"],[0,6825442.0,0.0,\"LBN\"],[0,183629.0,0.0,\"LCA\"],[0,38137.0,0.0,\"LIE\"],[0,21919000.0,0.0,\"LKA\"],[0,5057677.0,0.0,\"LBR\"],[0,2142252.0,0.0,\"LSO\"],[2,2794700.0,0.7156403191755824,\"LTU\"],[0,632275.0,0.0,\"LUX\"],[0,1901548.0,0.0,\"LVA\"],[1,6871287.0,0.14553314393649983,\"LBY\"],[1,36910558.0,0.02709251916484167,\"MAR\"],[0,39244.0,0.0,\"MCO\"],[2,2617820.0,0.7639944686800467,\"MDA\"],[0,621718.0,0.0,\"MNE\"],[0,38659.0,0.0,\"MAF\"],[0,27691019.0,0.0,\"MDG\"],[0,59194.0,0.0,\"MHL\"],[0,2077132.0,0.0,\"MKD\"],[0,20250834.0,0.0,\"MLI\"],[0,54409794.0,0.0,\"MMR\"],[0,3278292.0,0.0,\"MNG\"],[0,649342.0,0.0,\"MAC\"],[0,57557.0,0.0,\"MNP\"],[0,378243.0,0.0,\"MTQ\"],[1,4649660.0,0.21506948895188036,\"MRT\"],[0,4922.0,0.0,\"MSR\"],[0,525285.0,0.0,\"MLT\"],[0,1265740.0,0.0,\"MUS\"],[0,540542.0,0.0,\"MDV\"],[0,19129955.0,0.0,\"MWI\"],[1,128932753.0,0.007755981135375276,\"MEX\"],[2,32365998.0,0.06179324363796846,\"MYS\"],[0,31255435.0,0.0,\"MOZ\"],[0,2540916.0,0.0,\"NAM\"],[0,271960.0,0.0,\"NCL\"],[0,24206636.0,0.0,\"NER\"],[0,2302.0,0.0,\"NFK\"],[5,206139587.0,0.02425540903019273,\"NGA\"],[0,6624554.0,0.0,\"NIC\"],[4,16655799.0,0.2401565965103205,\"NLD\"],[0,5379475.0,0.0,\"NOR\"],[0,29136808.0,0.0,\"NPL\"],[0,10834.0,0.0,\"NRU\"],[0,1470.0,0.0,\"NIU\"],[6,5084300.0,1.1801034557362862,\"NZL\"],[0,5106622.0,0.0,\"OMN\"],[0,4314768.0,0.0,\"PAN\"],[3,32971846.0,0.09098671636401552,\"PER\"],[0,280904.0,0.0,\"PYF\"],[0,8947027.0,0.0,\"PNG\"],[4,109581085.0,0.0365026500695809,\"PHL\"],[42,220892331.0,0.19013788215218752,\"PAK\"],[1,37950802.0,0.026349904278702728,\"POL\"],[0,6069.0,0.0,\"SPM\"],[0,56.0,0.0,\"PCN\"],[1,3194034.0,0.3130837054333172,\"PRI\"],[6,4803269.0,1.249149277294276,\"PSE\"],[1,10305564.0,0.09703496092013984,\"PRT\"],[0,18092.0,0.0,\"PLW\"],[0,7132530.0,0.0,\"PRY\"],[0,2881060.0,0.0,\"QAT\"],[0,840974.0,0.0,\"REU\"],[16,19286123.0,0.8296120479994864,\"ROU\"],[2,6908224.0,0.28951001009810917,\"SRB\"],[875,144104080.0,6.072000182090611,\"RUS\"],[0,12952209.0,0.0,\"RWA\"],[4,34813867.0,0.11489674502404458,\"SAU\"],[0,686878.0,0.0,\"SLB\"],[0,98462.0,0.0,\"SYC\"],[0,43849269.0,0.0,\"SDN\"],[2,10353442.0,0.1931724734634144,\"SWE\"],[1,5685807.0,0.175876529048559,\"SGP\"],[0,53192.0,0.0,\"SHN\"],[0,2100126.0,0.0,\"SVN\"],[0,2562.0,0.0,\"SJM\"],[0,5458827.0,0.0,\"SVK\"],[0,7976985.0,0.0,\"SLE\"],[0,33938.0,0.0,\"SMR\"],[0,16743930.0,0.0,\"SEN\"],[0,15893219.0,0.0,\"SOM\"],[0,586634.0,0.0,\"SUR\"],[0,11193729.0,0.0,\"SSD\"],[0,219161.0,0.0,\"STP\"],[0,6486201.0,0.0,\"SLV\"],[0,40812.0,0.0,\"SXM\"],[38,17500657.0,2.1713470528563588,\"SYR\"],[0,1160164.0,0.0,\"SWZ\"],[1,38718.0,25.827780360555813,\"TCA\"],[0,16425859.0,0.0,\"TCD\"],[0,400.0,0.0,\"ATF\"],[0,8278737.0,0.0,\"TGO\"],[3,69799978.0,0.04297995624010082,\"THA\"],[0,9537642.0,0.0,\"TJK\"],[0,1411.0,0.0,\"TKL\"],[0,1318442.0,0.0,\"TLS\"],[1,6031187.0,0.1658048407386473,\"TKM\"],[1,11818618.0,0.08461226177206167,\"TUN\"],[0,105697.0,0.0,\"TON\"],[26,84339067.0,0.30827943591076246,\"TUR\"],[0,1399491.0,0.0,\"TTO\"],[0,11792.0,0.0,\"TUV\"],[2,23503349.0,0.08509425614196513,\"TWN\"],[0,59734213.0,0.0,\"TZA\"],[31,44134693.0,0.7023952789249038,\"UKR\"],[0,45741000.0,0.0,\"UGA\"],[0,300.0,0.0,\"UMI\"],[330,329484123.0,1.001565711255835,\"USA\"],[1,3473727.0,0.2878752417792187,\"URY\"],[1,34232050.0,0.029212390143155315,\"UZB\"],[0,451.0,0.0,\"VAT\"],[0,110947.0,0.0,\"VCT\"],[1,28435943.0,0.035166760602945366,\"VEN\"],[0,30237.0,0.0,\"VGB\"],[0,106290.0,0.0,\"VIR\"],[4,97338583.0,0.041093674026464924,\"VNM\"],[0,307150.0,0.0,\"VUT\"],[0,11750.0,0.0,\"WLF\"],[0,198410.0,0.0,\"WSM\"],[1,29825968.0,0.03352783051332986,\"YEM\"],[0,226915.0,0.0,\"MYT\"],[0,59308690.0,0.0,\"ZAF\"],[0,18383956.0,0.0,\"ZMB\"],[0,14862927.0,0.0,\"ZWE\"]],\"geo\":\"geo\",\"hovertemplate\":\"\\u003cb\\u003e%{hovertext}\\u003c\\u002fb\\u003e\\u003cbr\\u003e\\u003cbr\\u003eattack_count=%{customdata[0]}\\u003cbr\\u003epopulation=%{customdata[1]}\\u003cbr\\u003eattack_density=%{customdata[2]:.2f}\\u003cbr\\u003eAttack Density Z-Score=%{z}\\u003cextra\\u003e\\u003c\\u002fextra\\u003e\",\"hovertext\":[\"AD\",\"AE\",\"AF\",\"AG\",\"AI\",\"AL\",\"AM\",\"AO\",\"AQ\",\"AR\",\"AS\",\"AT\",\"AU\",\"AW\",\"AX\",\"AZ\",\"BA\",\"BB\",\"BD\",\"BE\",\"BF\",\"BG\",\"BH\",\"BI\",\"BJ\",\"BL\",\"BM\",\"BN\",\"BO\",\"BQ\",\"BR\",\"BS\",\"BT\",\"BV\",\"BW\",\"BY\",\"BZ\",\"CA\",\"CC\",\"CD\",\"CF\",\"CG\",\"CH\",\"CI\",\"CK\",\"CL\",\"CM\",\"CN\",\"CO\",\"CR\",\"CU\",\"CV\",\"CW\",\"CX\",\"CY\",\"CZ\",\"DE\",\"DJ\",\"DK\",\"DM\",\"DO\",\"DZ\",\"EC\",\"EE\",\"EG\",\"EH\",\"ER\",\"ES\",\"ET\",\"FI\",\"FJ\",\"FK\",\"FM\",\"FO\",\"FR\",\"GA\",\"GB\",\"GD\",\"GE\",\"GF\",\"GG\",\"GH\",\"GI\",\"GL\",\"GM\",\"GN\",\"GP\",\"GQ\",\"GR\",\"GS\",\"GT\",\"GU\",\"GW\",\"GY\",\"HK\",\"HM\",\"HN\",\"HR\",\"HT\",\"HU\",\"ID\",\"IE\",\"IL\",\"IM\",\"IN\",\"IO\",\"IQ\",\"IR\",\"IS\",\"IT\",\"JE\",\"JM\",\"JO\",\"JP\",\"KE\",\"KG\",\"KH\",\"KI\",\"KM\",\"KN\",\"KP\",\"KR\",\"KW\",\"KY\",\"KZ\",\"LA\",\"LB\",\"LC\",\"LI\",\"LK\",\"LR\",\"LS\",\"LT\",\"LU\",\"LV\",\"LY\",\"MA\",\"MC\",\"MD\",\"ME\",\"MF\",\"MG\",\"MH\",\"MK\",\"ML\",\"MM\",\"MN\",\"MO\",\"MP\",\"MQ\",\"MR\",\"MS\",\"MT\",\"MU\",\"MV\",\"MW\",\"MX\",\"MY\",\"MZ\",\"NA\",\"NC\",\"NE\",\"NF\",\"NG\",\"NI\",\"NL\",\"NO\",\"NP\",\"NR\",\"NU\",\"NZ\",\"OM\",\"PA\",\"PE\",\"PF\",\"PG\",\"PH\",\"PK\",\"PL\",\"PM\",\"PN\",\"PR\",\"PS\",\"PT\",\"PW\",\"PY\",\"QA\",\"RE\",\"RO\",\"RS\",\"RU\",\"RW\",\"SA\",\"SB\",\"SC\",\"SD\",\"SE\",\"SG\",\"SH\",\"SI\",\"SJ\",\"SK\",\"SL\",\"SM\",\"SN\",\"SO\",\"SR\",\"SS\",\"ST\",\"SV\",\"SX\",\"SY\",\"SZ\",\"TC\",\"TD\",\"TF\",\"TG\",\"TH\",\"TJ\",\"TK\",\"TL\",\"TM\",\"TN\",\"TO\",\"TR\",\"TT\",\"TV\",\"TW\",\"TZ\",\"UA\",\"UG\",\"UM\",\"US\",\"UY\",\"UZ\",\"VA\",\"VC\",\"VE\",\"VG\",\"VI\",\"VN\",\"VU\",\"WF\",\"WS\",\"YE\",\"YT\",\"ZA\",\"ZM\",\"ZW\"],\"locations\":[\"AND\",\"ARE\",\"AFG\",\"ATG\",\"AIA\",\"ALB\",\"ARM\",\"AGO\",\"ATA\",\"ARG\",\"ASM\",\"AUT\",\"AUS\",\"ABW\",\"ALA\",\"AZE\",\"BIH\",\"BRB\",\"BGD\",\"BEL\",\"BFA\",\"BGR\",\"BHR\",\"BDI\",\"BEN\",\"BLM\",\"BMU\",\"BRN\",\"BOL\",\"BES\",\"BRA\",\"BHS\",\"BTN\",\"BVT\",\"BWA\",\"BLR\",\"BLZ\",\"CAN\",\"CCK\",\"COD\",\"CAF\",\"COG\",\"CHE\",\"CIV\",\"COK\",\"CHL\",\"CMR\",\"CHN\",\"COL\",\"CRI\",\"CUB\",\"CPV\",\"CUW\",\"CXR\",\"CYP\",\"CZE\",\"DEU\",\"DJI\",\"DNK\",\"DMA\",\"DOM\",\"DZA\",\"ECU\",\"EST\",\"EGY\",\"ESH\",\"ERI\",\"ESP\",\"ETH\",\"FIN\",\"FJI\",\"FLK\",\"FSM\",\"FRO\",\"FRA\",\"GAB\",\"GBR\",\"GRD\",\"GEO\",\"GUF\",\"GGY\",\"GHA\",\"GIB\",\"GRL\",\"GMB\",\"GIN\",\"GLP\",\"GNQ\",\"GRC\",\"SGS\",\"GTM\",\"GUM\",\"GNB\",\"GUY\",\"HKG\",\"HMD\",\"HND\",\"HRV\",\"HTI\",\"HUN\",\"IDN\",\"IRL\",\"ISR\",\"IMN\",\"IND\",\"IOT\",\"IRQ\",\"IRN\",\"ISL\",\"ITA\",\"JEY\",\"JAM\",\"JOR\",\"JPN\",\"KEN\",\"KGZ\",\"KHM\",\"KIR\",\"COM\",\"KNA\",\"PRK\",\"KOR\",\"KWT\",\"CYM\",\"KAZ\",\"LAO\",\"LBN\",\"LCA\",\"LIE\",\"LKA\",\"LBR\",\"LSO\",\"LTU\",\"LUX\",\"LVA\",\"LBY\",\"MAR\",\"MCO\",\"MDA\",\"MNE\",\"MAF\",\"MDG\",\"MHL\",\"MKD\",\"MLI\",\"MMR\",\"MNG\",\"MAC\",\"MNP\",\"MTQ\",\"MRT\",\"MSR\",\"MLT\",\"MUS\",\"MDV\",\"MWI\",\"MEX\",\"MYS\",\"MOZ\",\"NAM\",\"NCL\",\"NER\",\"NFK\",\"NGA\",\"NIC\",\"NLD\",\"NOR\",\"NPL\",\"NRU\",\"NIU\",\"NZL\",\"OMN\",\"PAN\",\"PER\",\"PYF\",\"PNG\",\"PHL\",\"PAK\",\"POL\",\"SPM\",\"PCN\",\"PRI\",\"PSE\",\"PRT\",\"PLW\",\"PRY\",\"QAT\",\"REU\",\"ROU\",\"SRB\",\"RUS\",\"RWA\",\"SAU\",\"SLB\",\"SYC\",\"SDN\",\"SWE\",\"SGP\",\"SHN\",\"SVN\",\"SJM\",\"SVK\",\"SLE\",\"SMR\",\"SEN\",\"SOM\",\"SUR\",\"SSD\",\"STP\",\"SLV\",\"SXM\",\"SYR\",\"SWZ\",\"TCA\",\"TCD\",\"ATF\",\"TGO\",\"THA\",\"TJK\",\"TKL\",\"TLS\",\"TKM\",\"TUN\",\"TON\",\"TUR\",\"TTO\",\"TUV\",\"TWN\",\"TZA\",\"UKR\",\"UGA\",\"UMI\",\"USA\",\"URY\",\"UZB\",\"VAT\",\"VCT\",\"VEN\",\"VGB\",\"VIR\",\"VNM\",\"VUT\",\"WLF\",\"WSM\",\"YEM\",\"MYT\",\"ZAF\",\"ZMB\",\"ZWE\"],\"name\":\"\",\"z\":[-0.1439000019226315,-0.1439000019226315,-0.11561522688024001,-0.1439000019226315,-0.1439000019226315,0.05653458663811219,0.23999263068493878,-0.1439000019226315,-0.1439000019226315,-0.04362280045788523,-0.1439000019226315,-0.08011523408942249,0.1439558106016564,-0.1439000019226315,-0.1439000019226315,-0.031382628106914556,-0.1439000019226315,-0.1439000019226315,-0.13008534452856912,-0.04546074987953553,-0.1439000019226315,0.10242230370958584,-0.1439000019226315,-0.1439000019226315,-0.1439000019226315,-0.1439000019226315,-0.1439000019226315,-0.1439000019226315,-0.1439000019226315,-0.1439000019226315,-0.13052064004629765,-0.1439000019226315,-0.1439000019226315,-0.1439000019226315,-0.1439000019226315,-0.1439000019226315,3.0,0.18534936928811768,-0.1439000019226315,-0.1439000019226315,-0.1439000019226315,-0.1439000019226315,-0.1439000019226315,-0.1439000019226315,-0.1439000019226315,-0.11414609775438714,-0.1439000019226315,-0.11874903342649133,-0.13272174695881833,-0.1439000019226315,-0.1439000019226315,-0.1439000019226315,-0.1439000019226315,-0.1439000019226315,-0.1439000019226315,-0.1439000019226315,-0.13023401770049617,-0.1439000019226315,-0.04636228190766934,-0.1439000019226315,-0.1439000019226315,-0.1439000019226315,-0.1439000019226315,0.7107318442659697,-0.13834193118618396,-0.1439000019226315,-0.1439000019226315,-0.1439000019226315,-0.1389525060652161,-0.1439000019226315,-0.1439000019226315,-0.1439000019226315,-0.1439000019226315,-0.1439000019226315,-0.12702009396480582,-0.1439000019226315,0.27074240217520373,-0.1439000019226315,-0.1439000019226315,-0.1439000019226315,-0.1439000019226315,-0.12559527249817137,-0.1439000019226315,-0.1439000019226315,-0.1439000019226315,-0.1439000019226315,-0.1439000019226315,-0.1439000019226315,-0.1439000019226315,-0.1439000019226315,-0.1439000019226315,-0.1439000019226315,-0.1439000019226315,-0.1439000019226315,-0.0680694993500542,-0.1439000019226315,-0.1439000019226315,-0.1439000019226315,-0.1439000019226315,-0.1439000019226315,-0.12518484804634095,0.0838530633703178,0.10294301499027,-0.1439000019226315,-0.1381297695990249,-0.1439000019226315,-0.1439000019226315,-0.015236170300037167,1.4083462985375732,-0.11524794004700654,-0.1439000019226315,0.04818068894359644,-0.08815423634006275,-0.1348599536737103,-0.1439000019226315,-0.1439000019226315,-0.07585970797797062,-0.1439000019226315,-0.1439000019226315,-0.1439000019226315,0.36357028190775414,-0.07799322432795101,-0.1439000019226315,-0.1439000019226315,-0.1135721515231458,-0.1439000019226315,-0.1439000019226315,-0.1439000019226315,-0.1439000019226315,-0.1439000019226315,-0.1439000019226315,-0.1439000019226315,0.26314322321504374,-0.1439000019226315,-0.1439000019226315,-0.06112339098407944,-0.1284902687333871,-0.1439000019226315,0.29064618585661267,-0.1439000019226315,-0.1439000019226315,-0.1439000019226315,-0.1439000019226315,-0.1439000019226315,-0.1439000019226315,-0.1439000019226315,-0.1439000019226315,-0.1439000019226315,-0.1439000019226315,-0.1439000019226315,-0.02157237997906348,-0.1439000019226315,-0.1439000019226315,-0.1439000019226315,-0.1439000019226315,-0.1439000019226315,-0.13948854061887625,-0.10875312644880057,-0.1439000019226315,-0.1439000019226315,-0.1439000019226315,-0.1439000019226315,-0.1439000019226315,-0.1301039654862596,-0.1439000019226315,-0.0073032885146153605,-0.1439000019226315,-0.1439000019226315,-0.1439000019226315,-0.1439000019226315,0.5273214255849472,-0.1439000019226315,-0.1439000019226315,-0.0921484090048922,-0.1439000019226315,-0.1439000019226315,-0.12313795706256718,-0.03575302543417442,-0.12891265460264256,-0.1439000019226315,-0.1439000019226315,0.03417632746087863,0.5665934357500833,-0.0887082772730994,-0.1439000019226315,-0.1439000019226315,-0.1439000019226315,-0.1439000019226315,0.32796827405684276,0.02076803740155096,3.0,-0.1439000019226315,-0.07854881865463885,-0.1439000019226315,-0.1439000019226315,-0.1439000019226315,-0.03402700497222012,-0.04386462424517419,-0.1439000019226315,-0.1439000019226315,-0.1439000019226315,-0.1439000019226315,-0.1439000019226315,-0.1439000019226315,-0.1439000019226315,-0.1439000019226315,-0.1439000019226315,-0.1439000019226315,-0.1439000019226315,-0.1439000019226315,-0.1439000019226315,1.0911227931960295,-0.1439000019226315,3.0,-0.1439000019226315,-0.1439000019226315,-0.1439000019226315,-0.11945378287169725,-0.1439000019226315,-0.1439000019226315,-0.1439000019226315,-0.049593217761216765,-0.09577408308456342,-0.1439000019226315,0.03144374615083714,-0.1439000019226315,-0.1439000019226315,-0.09549993343484871,-0.1439000019226315,0.2556096847093803,-0.1439000019226315,-0.1439000019226315,0.42577239686917023,0.01983821085175477,-0.12728452459521084,-0.1439000019226315,-0.1439000019226315,-0.1238977867456588,-0.1439000019226315,-0.1439000019226315,-0.12052666596000997,-0.1439000019226315,-0.1439000019226315,-0.1439000019226315,-0.12482998043510994,-0.1439000019226315,-0.1439000019226315,-0.1439000019226315,-0.1439000019226315],\"type\":\"choropleth\"}],                        {\"template\":{\"data\":{\"histogram2dcontour\":[{\"type\":\"histogram2dcontour\",\"colorbar\":{\"outlinewidth\":0,\"ticks\":\"\"},\"colorscale\":[[0.0,\"#0d0887\"],[0.1111111111111111,\"#46039f\"],[0.2222222222222222,\"#7201a8\"],[0.3333333333333333,\"#9c179e\"],[0.4444444444444444,\"#bd3786\"],[0.5555555555555556,\"#d8576b\"],[0.6666666666666666,\"#ed7953\"],[0.7777777777777778,\"#fb9f3a\"],[0.8888888888888888,\"#fdca26\"],[1.0,\"#f0f921\"]]}],\"choropleth\":[{\"type\":\"choropleth\",\"colorbar\":{\"outlinewidth\":0,\"ticks\":\"\"}}],\"histogram2d\":[{\"type\":\"histogram2d\",\"colorbar\":{\"outlinewidth\":0,\"ticks\":\"\"},\"colorscale\":[[0.0,\"#0d0887\"],[0.1111111111111111,\"#46039f\"],[0.2222222222222222,\"#7201a8\"],[0.3333333333333333,\"#9c179e\"],[0.4444444444444444,\"#bd3786\"],[0.5555555555555556,\"#d8576b\"],[0.6666666666666666,\"#ed7953\"],[0.7777777777777778,\"#fb9f3a\"],[0.8888888888888888,\"#fdca26\"],[1.0,\"#f0f921\"]]}],\"heatmap\":[{\"type\":\"heatmap\",\"colorbar\":{\"outlinewidth\":0,\"ticks\":\"\"},\"colorscale\":[[0.0,\"#0d0887\"],[0.1111111111111111,\"#46039f\"],[0.2222222222222222,\"#7201a8\"],[0.3333333333333333,\"#9c179e\"],[0.4444444444444444,\"#bd3786\"],[0.5555555555555556,\"#d8576b\"],[0.6666666666666666,\"#ed7953\"],[0.7777777777777778,\"#fb9f3a\"],[0.8888888888888888,\"#fdca26\"],[1.0,\"#f0f921\"]]}],\"heatmapgl\":[{\"type\":\"heatmapgl\",\"colorbar\":{\"outlinewidth\":0,\"ticks\":\"\"},\"colorscale\":[[0.0,\"#0d0887\"],[0.1111111111111111,\"#46039f\"],[0.2222222222222222,\"#7201a8\"],[0.3333333333333333,\"#9c179e\"],[0.4444444444444444,\"#bd3786\"],[0.5555555555555556,\"#d8576b\"],[0.6666666666666666,\"#ed7953\"],[0.7777777777777778,\"#fb9f3a\"],[0.8888888888888888,\"#fdca26\"],[1.0,\"#f0f921\"]]}],\"contourcarpet\":[{\"type\":\"contourcarpet\",\"colorbar\":{\"outlinewidth\":0,\"ticks\":\"\"}}],\"contour\":[{\"type\":\"contour\",\"colorbar\":{\"outlinewidth\":0,\"ticks\":\"\"},\"colorscale\":[[0.0,\"#0d0887\"],[0.1111111111111111,\"#46039f\"],[0.2222222222222222,\"#7201a8\"],[0.3333333333333333,\"#9c179e\"],[0.4444444444444444,\"#bd3786\"],[0.5555555555555556,\"#d8576b\"],[0.6666666666666666,\"#ed7953\"],[0.7777777777777778,\"#fb9f3a\"],[0.8888888888888888,\"#fdca26\"],[1.0,\"#f0f921\"]]}],\"surface\":[{\"type\":\"surface\",\"colorbar\":{\"outlinewidth\":0,\"ticks\":\"\"},\"colorscale\":[[0.0,\"#0d0887\"],[0.1111111111111111,\"#46039f\"],[0.2222222222222222,\"#7201a8\"],[0.3333333333333333,\"#9c179e\"],[0.4444444444444444,\"#bd3786\"],[0.5555555555555556,\"#d8576b\"],[0.6666666666666666,\"#ed7953\"],[0.7777777777777778,\"#fb9f3a\"],[0.8888888888888888,\"#fdca26\"],[1.0,\"#f0f921\"]]}],\"mesh3d\":[{\"type\":\"mesh3d\",\"colorbar\":{\"outlinewidth\":0,\"ticks\":\"\"}}],\"scatter\":[{\"marker\":{\"line\":{\"color\":\"#283442\"}},\"type\":\"scatter\"}],\"parcoords\":[{\"type\":\"parcoords\",\"line\":{\"colorbar\":{\"outlinewidth\":0,\"ticks\":\"\"}}}],\"scatterpolargl\":[{\"type\":\"scatterpolargl\",\"marker\":{\"colorbar\":{\"outlinewidth\":0,\"ticks\":\"\"}}}],\"bar\":[{\"error_x\":{\"color\":\"#f2f5fa\"},\"error_y\":{\"color\":\"#f2f5fa\"},\"marker\":{\"line\":{\"color\":\"rgb(17,17,17)\",\"width\":0.5},\"pattern\":{\"fillmode\":\"overlay\",\"size\":10,\"solidity\":0.2}},\"type\":\"bar\"}],\"scattergeo\":[{\"type\":\"scattergeo\",\"marker\":{\"colorbar\":{\"outlinewidth\":0,\"ticks\":\"\"}}}],\"scatterpolar\":[{\"type\":\"scatterpolar\",\"marker\":{\"colorbar\":{\"outlinewidth\":0,\"ticks\":\"\"}}}],\"histogram\":[{\"marker\":{\"pattern\":{\"fillmode\":\"overlay\",\"size\":10,\"solidity\":0.2}},\"type\":\"histogram\"}],\"scattergl\":[{\"marker\":{\"line\":{\"color\":\"#283442\"}},\"type\":\"scattergl\"}],\"scatter3d\":[{\"type\":\"scatter3d\",\"line\":{\"colorbar\":{\"outlinewidth\":0,\"ticks\":\"\"}},\"marker\":{\"colorbar\":{\"outlinewidth\":0,\"ticks\":\"\"}}}],\"scattermapbox\":[{\"type\":\"scattermapbox\",\"marker\":{\"colorbar\":{\"outlinewidth\":0,\"ticks\":\"\"}}}],\"scatterternary\":[{\"type\":\"scatterternary\",\"marker\":{\"colorbar\":{\"outlinewidth\":0,\"ticks\":\"\"}}}],\"scattercarpet\":[{\"type\":\"scattercarpet\",\"marker\":{\"colorbar\":{\"outlinewidth\":0,\"ticks\":\"\"}}}],\"carpet\":[{\"aaxis\":{\"endlinecolor\":\"#A2B1C6\",\"gridcolor\":\"#506784\",\"linecolor\":\"#506784\",\"minorgridcolor\":\"#506784\",\"startlinecolor\":\"#A2B1C6\"},\"baxis\":{\"endlinecolor\":\"#A2B1C6\",\"gridcolor\":\"#506784\",\"linecolor\":\"#506784\",\"minorgridcolor\":\"#506784\",\"startlinecolor\":\"#A2B1C6\"},\"type\":\"carpet\"}],\"table\":[{\"cells\":{\"fill\":{\"color\":\"#506784\"},\"line\":{\"color\":\"rgb(17,17,17)\"}},\"header\":{\"fill\":{\"color\":\"#2a3f5f\"},\"line\":{\"color\":\"rgb(17,17,17)\"}},\"type\":\"table\"}],\"barpolar\":[{\"marker\":{\"line\":{\"color\":\"rgb(17,17,17)\",\"width\":0.5},\"pattern\":{\"fillmode\":\"overlay\",\"size\":10,\"solidity\":0.2}},\"type\":\"barpolar\"}],\"pie\":[{\"automargin\":true,\"type\":\"pie\"}]},\"layout\":{\"autotypenumbers\":\"strict\",\"colorway\":[\"#636efa\",\"#EF553B\",\"#00cc96\",\"#ab63fa\",\"#FFA15A\",\"#19d3f3\",\"#FF6692\",\"#B6E880\",\"#FF97FF\",\"#FECB52\"],\"font\":{\"color\":\"#f2f5fa\"},\"hovermode\":\"closest\",\"hoverlabel\":{\"align\":\"left\"},\"paper_bgcolor\":\"rgb(17,17,17)\",\"plot_bgcolor\":\"rgb(17,17,17)\",\"polar\":{\"bgcolor\":\"rgb(17,17,17)\",\"angularaxis\":{\"gridcolor\":\"#506784\",\"linecolor\":\"#506784\",\"ticks\":\"\"},\"radialaxis\":{\"gridcolor\":\"#506784\",\"linecolor\":\"#506784\",\"ticks\":\"\"}},\"ternary\":{\"bgcolor\":\"rgb(17,17,17)\",\"aaxis\":{\"gridcolor\":\"#506784\",\"linecolor\":\"#506784\",\"ticks\":\"\"},\"baxis\":{\"gridcolor\":\"#506784\",\"linecolor\":\"#506784\",\"ticks\":\"\"},\"caxis\":{\"gridcolor\":\"#506784\",\"linecolor\":\"#506784\",\"ticks\":\"\"}},\"coloraxis\":{\"colorbar\":{\"outlinewidth\":0,\"ticks\":\"\"}},\"colorscale\":{\"sequential\":[[0.0,\"#0d0887\"],[0.1111111111111111,\"#46039f\"],[0.2222222222222222,\"#7201a8\"],[0.3333333333333333,\"#9c179e\"],[0.4444444444444444,\"#bd3786\"],[0.5555555555555556,\"#d8576b\"],[0.6666666666666666,\"#ed7953\"],[0.7777777777777778,\"#fb9f3a\"],[0.8888888888888888,\"#fdca26\"],[1.0,\"#f0f921\"]],\"sequentialminus\":[[0.0,\"#0d0887\"],[0.1111111111111111,\"#46039f\"],[0.2222222222222222,\"#7201a8\"],[0.3333333333333333,\"#9c179e\"],[0.4444444444444444,\"#bd3786\"],[0.5555555555555556,\"#d8576b\"],[0.6666666666666666,\"#ed7953\"],[0.7777777777777778,\"#fb9f3a\"],[0.8888888888888888,\"#fdca26\"],[1.0,\"#f0f921\"]],\"diverging\":[[0,\"#8e0152\"],[0.1,\"#c51b7d\"],[0.2,\"#de77ae\"],[0.3,\"#f1b6da\"],[0.4,\"#fde0ef\"],[0.5,\"#f7f7f7\"],[0.6,\"#e6f5d0\"],[0.7,\"#b8e186\"],[0.8,\"#7fbc41\"],[0.9,\"#4d9221\"],[1,\"#276419\"]]},\"xaxis\":{\"gridcolor\":\"#283442\",\"linecolor\":\"#506784\",\"ticks\":\"\",\"title\":{\"standoff\":15},\"zerolinecolor\":\"#283442\",\"automargin\":true,\"zerolinewidth\":2},\"yaxis\":{\"gridcolor\":\"#283442\",\"linecolor\":\"#506784\",\"ticks\":\"\",\"title\":{\"standoff\":15},\"zerolinecolor\":\"#283442\",\"automargin\":true,\"zerolinewidth\":2},\"scene\":{\"xaxis\":{\"backgroundcolor\":\"rgb(17,17,17)\",\"gridcolor\":\"#506784\",\"linecolor\":\"#506784\",\"showbackground\":true,\"ticks\":\"\",\"zerolinecolor\":\"#C8D4E3\",\"gridwidth\":2},\"yaxis\":{\"backgroundcolor\":\"rgb(17,17,17)\",\"gridcolor\":\"#506784\",\"linecolor\":\"#506784\",\"showbackground\":true,\"ticks\":\"\",\"zerolinecolor\":\"#C8D4E3\",\"gridwidth\":2},\"zaxis\":{\"backgroundcolor\":\"rgb(17,17,17)\",\"gridcolor\":\"#506784\",\"linecolor\":\"#506784\",\"showbackground\":true,\"ticks\":\"\",\"zerolinecolor\":\"#C8D4E3\",\"gridwidth\":2}},\"shapedefaults\":{\"line\":{\"color\":\"#f2f5fa\"}},\"annotationdefaults\":{\"arrowcolor\":\"#f2f5fa\",\"arrowhead\":0,\"arrowwidth\":1},\"geo\":{\"bgcolor\":\"rgb(17,17,17)\",\"landcolor\":\"rgb(17,17,17)\",\"subunitcolor\":\"#506784\",\"showland\":true,\"showlakes\":true,\"lakecolor\":\"rgb(17,17,17)\"},\"title\":{\"x\":0.05},\"updatemenudefaults\":{\"bgcolor\":\"#506784\",\"borderwidth\":0},\"sliderdefaults\":{\"bgcolor\":\"#C8D4E3\",\"borderwidth\":1,\"bordercolor\":\"rgb(17,17,17)\",\"tickwidth\":0},\"mapbox\":{\"style\":\"dark\"}}},\"geo\":{\"domain\":{\"x\":[0.0,1.0],\"y\":[0.0,1.0]},\"projection\":{\"type\":\"natural earth\",\"rotation\":{\"lon\":10}},\"center\":{},\"showframe\":true,\"showcoastlines\":true,\"coastlinecolor\":\"rgba(0,0,0,0.5)\",\"coastlinewidth\":0.8,\"landcolor\":\"rgba(240,240,240,1)\",\"lakecolor\":\"white\",\"oceancolor\":\"white\",\"showocean\":true,\"bgcolor\":\"white\",\"showcountries\":true,\"countrycolor\":\"rgba(0,0,0,0.2)\",\"countrywidth\":0.5},\"coloraxis\":{\"colorbar\":{\"title\":{\"text\":\"Z-Score\"},\"thickness\":15,\"lenmode\":\"pixels\",\"len\":300,\"yanchor\":\"middle\",\"y\":0.5,\"ticksuffix\":\" \\u03c3\",\"dtick\":1},\"colorscale\":[[0.0,\"rgb(0,104,55)\"],[0.1,\"rgb(26,152,80)\"],[0.2,\"rgb(102,189,99)\"],[0.3,\"rgb(166,217,106)\"],[0.4,\"rgb(217,239,139)\"],[0.5,\"rgb(255,255,191)\"],[0.6,\"rgb(254,224,139)\"],[0.7,\"rgb(253,174,97)\"],[0.8,\"rgb(244,109,67)\"],[0.9,\"rgb(215,48,39)\"],[1.0,\"rgb(165,0,38)\"]],\"cmid\":0,\"cmin\":-0.1,\"cmax\":3.1},\"legend\":{\"tracegroupgap\":0},\"title\":{\"text\":\"\\u003cb\\u003eGlobal Cyber Attack Density\\u003c\\u002fb\\u003e\\u003cbr\\u003e\\u003csup\\u003eNormalized by Z-Score\\u003c\\u002fsup\\u003e\",\"font\":{\"size\":20},\"y\":0.95,\"x\":0.5,\"xanchor\":\"center\",\"yanchor\":\"top\"},\"margin\":{\"r\":20,\"t\":80,\"l\":20,\"b\":20},\"font\":{\"family\":\"Arial\",\"size\":12,\"color\":\"#404040\"},\"hoverlabel\":{\"font\":{\"size\":12,\"family\":\"Arial\"},\"bgcolor\":\"white\"},\"plot_bgcolor\":\"white\",\"paper_bgcolor\":\"white\",\"annotations\":[{\"font\":{\"color\":\"#666666\",\"size\":10},\"showarrow\":false,\"text\":\"Source: Your Data Source | Visualization by Your Team\",\"x\":0.5,\"xref\":\"paper\",\"y\":-0.1,\"yref\":\"paper\"}]},                        {\"responsive\": true}                    ).then(function(){\n",
       "                            \n",
       "var gd = document.getElementById('5a61d57f-59dd-4081-968d-43fee0077e88');\n",
       "var x = new MutationObserver(function (mutations, observer) {{\n",
       "        var display = window.getComputedStyle(gd).display;\n",
       "        if (!display || display === 'none') {{\n",
       "            console.log([gd, 'removed!']);\n",
       "            Plotly.purge(gd);\n",
       "            observer.disconnect();\n",
       "        }}\n",
       "}});\n",
       "\n",
       "// Listen for the removal of the full notebook cells\n",
       "var notebookContainer = gd.closest('#notebook-container');\n",
       "if (notebookContainer) {{\n",
       "    x.observe(notebookContainer, {childList: true});\n",
       "}}\n",
       "\n",
       "// Listen for the clearing of the current output cell\n",
       "var outputEl = gd.closest('.output');\n",
       "if (outputEl) {{\n",
       "    x.observe(outputEl, {childList: true});\n",
       "}}\n",
       "\n",
       "                        })                };                });            </script>        </div>"
      ]
     },
     "metadata": {},
     "output_type": "display_data"
    }
   ],
   "execution_count": 25
  },
  {
   "metadata": {
    "ExecuteTime": {
     "end_time": "2025-01-25T11:35:55.774182Z",
     "start_time": "2025-01-25T11:35:55.740918Z"
    }
   },
   "cell_type": "code",
   "source": [
    "import plotly.express as px\n",
    "\n",
    "\n",
    "valid_data = valid_data.copy()\n",
    "\n",
    "# 分位数归一化函数\n",
    "def quantile_normalize(series):\n",
    "    rank = series.rank(method='average')\n",
    "    normalized = rank / len(series)\n",
    "    return normalized\n",
    "\n",
    "valid_data.loc[:, 'attack_density_normalized'] = quantile_normalize(valid_data['attack_density'])\n",
    "\n",
    "# 创建热力\n",
    "fig = px.choropleth(\n",
    "    valid_data,\n",
    "    locations=\"iso3\",\n",
    "    color=\"attack_density_normalized\",\n",
    "    hover_name=\"country_code\",\n",
    "    hover_data={\n",
    "        'attack_count': True,\n",
    "        'population': True,\n",
    "        'attack_density': ':.2f',\n",
    "        'iso3': False\n",
    "    },\n",
    "    color_continuous_scale=px.colors.diverging.RdYlGn_r,\n",
    "    color_continuous_midpoint=0.5,\n",
    " #   labels={'attack_density_normalized': 'Normalized Attack Density'},\n",
    "    title=\"<b>Cyber Attack Density by Country</b><br><sup>Quantile Normalization</sup>\",\n",
    "    range_color=[0.3, 1],  # 归一化范围\n",
    "    projection=\"natural earth\"\n",
    ")\n",
    "\n",
    "\n",
    "fig.update_layout(\n",
    "    margin={\"r\": 20, \"t\": 80, \"l\": 20, \"b\": 20},\n",
    "    coloraxis_colorbar=dict(\n",
    "        title=\"Percentage\",\n",
    "        thickness=15,\n",
    "        lenmode=\"pixels\",\n",
    "        len=300,\n",
    "        yanchor=\"middle\",\n",
    "        y=0.5,\n",
    "        #dtick=0.25,\n",
    "        tickvals=[0, 0.25, 0.5, 0.75, 1],\n",
    "\n",
    "    ),\n",
    "    geo=dict(\n",
    "        showframe=True,\n",
    "        showcoastlines=True,\n",
    "        coastlinecolor=\"rgba(0,0,0,0.5)\",\n",
    "        coastlinewidth=0.8,\n",
    "        landcolor=\"rgba(240,240,240,1)\",\n",
    "        projection=dict(\n",
    "            type=\"natural earth\",\n",
    "            rotation_lon=10\n",
    "        ),\n",
    "        lakecolor=\"white\",\n",
    "        oceancolor=\"white\"\n",
    "    ),\n",
    "    title={\n",
    "        'text': \"<b>Global Cyber Attack Density</b><br><sup>Quantile Normalization</sup>\",\n",
    "        'y': 0.95,\n",
    "        'x': 0.5,\n",
    "        'xanchor': 'center',\n",
    "        'yanchor': 'top',\n",
    "        'font': {'size': 20}\n",
    "    },\n",
    "    font=dict(\n",
    "        family=\"Arial\",\n",
    "        size=12,\n",
    "        color=\"#404040\"\n",
    "    ),\n",
    "    plot_bgcolor=\"white\",\n",
    "    paper_bgcolor=\"white\",\n",
    "    hoverlabel=dict(\n",
    "        bgcolor=\"white\",\n",
    "        font_size=12,\n",
    "        font_family=\"Arial\"\n",
    "    )\n",
    ")\n",
    "\n",
    "\n",
    "fig.update_geos(\n",
    "    showocean=True,\n",
    "    oceancolor=\"white\",\n",
    "    lakecolor=\"white\",\n",
    "    bgcolor=\"white\",\n",
    "    showcountries=True,\n",
    "    countrycolor=\"rgba(0,0,0,0.2)\",\n",
    "    countrywidth=0.5\n",
    ")\n",
    "\n",
    "fig.add_annotation(\n",
    "    x=0.5,\n",
    "    y=-0.1,\n",
    "    text=\"Source: Your Data Source | Visualization by Your Team\",\n",
    "    showarrow=False,\n",
    "    xref=\"paper\",\n",
    "    yref=\"paper\",\n",
    "    font=dict(size=10, color=\"#666666\")\n",
    ")\n",
    "\n",
    "fig.show()"
   ],
   "id": "6203488d3bd24b4e",
   "outputs": [
    {
     "data": {
      "application/vnd.plotly.v1+json": {
       "data": [
        {
         "coloraxis": "coloraxis",
         "customdata": [
          [
           0,
           77265.0,
           0.0,
           "AND"
          ],
          [
           0,
           9890400.0,
           0.0,
           "ARE"
          ],
          [
           2,
           4.0218234E7,
           0.04972868773899918,
           "AFG"
          ],
          [
           0,
           97928.0,
           0.0,
           "ATG"
          ],
          [
           0,
           13452.0,
           0.0,
           "AIA"
          ],
          [
           1,
           2837743.0,
           0.3523927290103438,
           "ALB"
          ],
          [
           2,
           2963234.0,
           0.6749382600226644,
           "ARM"
          ],
          [
           0,
           3.2866268E7,
           0.0,
           "AGO"
          ],
          [
           0,
           1000.0,
           0.0,
           "ATA"
          ],
          [
           8,
           4.5376763E7,
           0.1763016899200148,
           "ARG"
          ],
          [
           0,
           55197.0,
           0.0,
           "ASM"
          ],
          [
           1,
           8917205.0,
           0.11214276222201912,
           "AUT"
          ],
          [
           13,
           2.5687041E7,
           0.5060917682188463,
           "AUS"
          ],
          [
           0,
           106766.0,
           0.0,
           "ABW"
          ],
          [
           0,
           29458.0,
           0.0,
           "ALA"
          ],
          [
           2,
           1.0110116E7,
           0.1978216669324071,
           "AZE"
          ],
          [
           0,
           3280815.0,
           0.0,
           "BIH"
          ],
          [
           0,
           287371.0,
           0.0,
           "BRB"
          ],
          [
           4,
           1.64689383E8,
           0.024288147342199952,
           "BGD"
          ],
          [
           2,
           1.1555997E7,
           0.17307031145819785,
           "BEL"
          ],
          [
           0,
           2.0903278E7,
           0.0,
           "BFA"
          ],
          [
           3,
           6927288.0,
           0.4330699113419278,
           "BGR"
          ],
          [
           0,
           1701583.0,
           0.0,
           "BHR"
          ],
          [
           0,
           1.1890781E7,
           0.0,
           "BDI"
          ],
          [
           0,
           1.2123198E7,
           0.0,
           "BEN"
          ],
          [
           0,
           4255.0,
           0.0,
           "BLM"
          ],
          [
           0,
           63903.0,
           0.0,
           "BMU"
          ],
          [
           0,
           437483.0,
           0.0,
           "BRN"
          ],
          [
           0,
           1.1673029E7,
           0.0,
           "BOL"
          ],
          [
           0,
           25987.0,
           0.0,
           "BES"
          ],
          [
           5,
           2.12559409E8,
           0.023522835444089892,
           "BRA"
          ],
          [
           0,
           393248.0,
           0.0,
           "BHS"
          ],
          [
           0,
           771612.0,
           0.0,
           "BTN"
          ],
          [
           0,
           0.0,
           0.0,
           "BVT"
          ],
          [
           0,
           2351625.0,
           0.0,
           "BWA"
          ],
          [
           0,
           9398861.0,
           0.0,
           "BLR"
          ],
          [
           3,
           397621.0,
           7.544873132958269,
           "BLZ"
          ],
          [
           22,
           3.8005238E7,
           0.5788675760956951,
           "CAN"
          ],
          [
           0,
           544.0,
           0.0,
           "CCK"
          ],
          [
           0,
           1.08407721E8,
           0.0,
           "COD"
          ],
          [
           0,
           4829764.0,
           0.0,
           "CAF"
          ],
          [
           0,
           5657000.0,
           0.0,
           "COG"
          ],
          [
           0,
           8654622.0,
           0.0,
           "CHE"
          ],
          [
           0,
           2.6378275E7,
           0.0,
           "CIV"
          ],
          [
           0,
           18100.0,
           0.0,
           "COK"
          ],
          [
           1,
           1.9116209E7,
           0.05231162726877489,
           "CHL"
          ],
          [
           0,
           2.6545864E7,
           0.0,
           "CMR"
          ],
          [
           62,
           1.402112E9,
           0.044219006755523094,
           "CHN"
          ],
          [
           1,
           5.0882884E7,
           0.019652974072774648,
           "COL"
          ],
          [
           0,
           5094114.0,
           0.0,
           "CRI"
          ],
          [
           0,
           1.1326616E7,
           0.0,
           "CUB"
          ],
          [
           0,
           555988.0,
           0.0,
           "CPV"
          ],
          [
           0,
           155014.0,
           0.0,
           "CUW"
          ],
          [
           0,
           2072.0,
           0.0,
           "CXR"
          ],
          [
           0,
           1207361.0,
           0.0,
           "CYP"
          ],
          [
           0,
           1.0698896E7,
           0.0,
           "CZE"
          ],
          [
           2,
           8.3240525E7,
           0.024026758601053994,
           "DEU"
          ],
          [
           0,
           988002.0,
           0.0,
           "DJI"
          ],
          [
           1,
           5831404.0,
           0.171485288963001,
           "DNK"
          ],
          [
           0,
           71991.0,
           0.0,
           "DMA"
          ],
          [
           0,
           1.0847904E7,
           0.0,
           "DOM"
          ],
          [
           0,
           4.47E7,
           0.0,
           "DZA"
          ],
          [
           0,
           1.764306E7,
           0.0,
           "ECU"
          ],
          [
           2,
           1331057.0,
           1.5025652545307977,
           "EST"
          ],
          [
           1,
           1.02334403E8,
           0.009771884827431887,
           "EGY"
          ],
          [
           0,
           510713.0,
           0.0,
           "ESH"
          ],
          [
           0,
           5352000.0,
           0.0,
           "ERI"
          ],
          [
           0,
           4.7351567E7,
           0.0,
           "ESP"
          ],
          [
           1,
           1.14963583E8,
           0.0086984066945791,
           "ETH"
          ],
          [
           0,
           5530719.0,
           0.0,
           "FIN"
          ],
          [
           0,
           896444.0,
           0.0,
           "FJI"
          ],
          [
           0,
           2563.0,
           0.0,
           "FLK"
          ],
          [
           0,
           115021.0,
           0.0,
           "FSM"
          ],
          [
           0,
           48865.0,
           0.0,
           "FRO"
          ],
          [
           2,
           6.7391582E7,
           0.02967729708437472,
           "FRA"
          ],
          [
           0,
           2225728.0,
           0.0,
           "GAB"
          ],
          [
           49,
           6.7215293E7,
           0.7290007647515574,
           "GBR"
          ],
          [
           0,
           112519.0,
           0.0,
           "GRD"
          ],
          [
           0,
           3714000.0,
           0.0,
           "GEO"
          ],
          [
           0,
           254541.0,
           0.0,
           "GUF"
          ],
          [
           0,
           62999.0,
           0.0,
           "GGY"
          ],
          [
           1,
           3.1072945E7,
           0.03218233739994712,
           "GHA"
          ],
          [
           0,
           33691.0,
           0.0,
           "GIB"
          ],
          [
           0,
           56367.0,
           0.0,
           "GRL"
          ],
          [
           0,
           2416664.0,
           0.0,
           "GMB"
          ],
          [
           0,
           1.3132792E7,
           0.0,
           "GIN"
          ],
          [
           0,
           400132.0,
           0.0,
           "GLP"
          ],
          [
           0,
           1402985.0,
           0.0,
           "GNQ"
          ],
          [
           0,
           1.0715549E7,
           0.0,
           "GRC"
          ],
          [
           0,
           30.0,
           0.0,
           "SGS"
          ],
          [
           0,
           1.6858333E7,
           0.0,
           "GTM"
          ],
          [
           0,
           168783.0,
           0.0,
           "GUM"
          ],
          [
           0,
           1967998.0,
           0.0,
           "GNB"
          ],
          [
           0,
           786559.0,
           0.0,
           "GUY"
          ],
          [
           1,
           7500700.0,
           0.133320890050262,
           "HKG"
          ],
          [
           0,
           0.0,
           0.0,
           "HMD"
          ],
          [
           0,
           9904608.0,
           0.0,
           "HND"
          ],
          [
           0,
           4047200.0,
           0.0,
           "HRV"
          ],
          [
           0,
           1.1402533E7,
           0.0,
           "HTI"
          ],
          [
           0,
           9749763.0,
           0.0,
           "HUN"
          ],
          [
           9,
           2.73523621E8,
           0.03290392240017911,
           "IDN"
          ],
          [
           2,
           4994724.0,
           0.4004225258492761,
           "IRL"
          ],
          [
           4,
           9216900.0,
           0.4339853963914114,
           "ISR"
          ],
          [
           0,
           85032.0,
           0.0,
           "IMN"
          ],
          [
           14,
           1.380004385E9,
           0.010144895300459499,
           "IND"
          ],
          [
           0,
           3000.0,
           0.0,
           "IOT"
          ],
          [
           0,
           4.0222503E7,
           0.0,
           "IRQ"
          ],
          [
           19,
           8.3992953E7,
           0.22620945354784705,
           "IRN"
          ],
          [
           1,
           366425.0,
           2.7290714334447705,
           "ISL"
          ],
          [
           3,
           5.9554023E7,
           0.05037443062410746,
           "ITA"
          ],
          [
           0,
           100800.0,
           0.0,
           "JEY"
          ],
          [
           1,
           2961161.0,
           0.33770537974801096,
           "JAM"
          ],
          [
           1,
           1.020314E7,
           0.09800904427460566,
           "JOR"
          ],
          [
           2,
           1.25836021E8,
           0.01589370026250274,
           "JPN"
          ],
          [
           0,
           5.37713E7,
           0.0,
           "KEN"
          ],
          [
           0,
           6591600.0,
           0.0,
           "KGZ"
          ],
          [
           2,
           1.6718971E7,
           0.11962458694377781,
           "KHM"
          ],
          [
           0,
           119446.0,
           0.0,
           "KIR"
          ],
          [
           0,
           869595.0,
           0.0,
           "COM"
          ],
          [
           0,
           53192.0,
           0.0,
           "KNA"
          ],
          [
           23,
           2.5778815E7,
           0.8922054795769317,
           "PRK"
          ],
          [
           6,
           5.1780579E7,
           0.1158735594671508,
           "KOR"
          ],
          [
           0,
           4270563.0,
           0.0,
           "KWT"
          ],
          [
           0,
           65720.0,
           0.0,
           "CYM"
          ],
          [
           1,
           1.875444E7,
           0.053320706989918115,
           "KAZ"
          ],
          [
           0,
           7275556.0,
           0.0,
           "LAO"
          ],
          [
           0,
           6825442.0,
           0.0,
           "LBN"
          ],
          [
           0,
           183629.0,
           0.0,
           "LCA"
          ],
          [
           0,
           38137.0,
           0.0,
           "LIE"
          ],
          [
           0,
           2.1919E7,
           0.0,
           "LKA"
          ],
          [
           0,
           5057677.0,
           0.0,
           "LBR"
          ],
          [
           0,
           2142252.0,
           0.0,
           "LSO"
          ],
          [
           2,
           2794700.0,
           0.7156403191755824,
           "LTU"
          ],
          [
           0,
           632275.0,
           0.0,
           "LUX"
          ],
          [
           0,
           1901548.0,
           0.0,
           "LVA"
          ],
          [
           1,
           6871287.0,
           0.14553314393649983,
           "LBY"
          ],
          [
           1,
           3.6910558E7,
           0.02709251916484167,
           "MAR"
          ],
          [
           0,
           39244.0,
           0.0,
           "MCO"
          ],
          [
           2,
           2617820.0,
           0.7639944686800467,
           "MDA"
          ],
          [
           0,
           621718.0,
           0.0,
           "MNE"
          ],
          [
           0,
           38659.0,
           0.0,
           "MAF"
          ],
          [
           0,
           2.7691019E7,
           0.0,
           "MDG"
          ],
          [
           0,
           59194.0,
           0.0,
           "MHL"
          ],
          [
           0,
           2077132.0,
           0.0,
           "MKD"
          ],
          [
           0,
           2.0250834E7,
           0.0,
           "MLI"
          ],
          [
           0,
           5.4409794E7,
           0.0,
           "MMR"
          ],
          [
           0,
           3278292.0,
           0.0,
           "MNG"
          ],
          [
           0,
           649342.0,
           0.0,
           "MAC"
          ],
          [
           0,
           57557.0,
           0.0,
           "MNP"
          ],
          [
           0,
           378243.0,
           0.0,
           "MTQ"
          ],
          [
           1,
           4649660.0,
           0.21506948895188036,
           "MRT"
          ],
          [
           0,
           4922.0,
           0.0,
           "MSR"
          ],
          [
           0,
           525285.0,
           0.0,
           "MLT"
          ],
          [
           0,
           1265740.0,
           0.0,
           "MUS"
          ],
          [
           0,
           540542.0,
           0.0,
           "MDV"
          ],
          [
           0,
           1.9129955E7,
           0.0,
           "MWI"
          ],
          [
           1,
           1.28932753E8,
           0.007755981135375276,
           "MEX"
          ],
          [
           2,
           3.2365998E7,
           0.06179324363796846,
           "MYS"
          ],
          [
           0,
           3.1255435E7,
           0.0,
           "MOZ"
          ],
          [
           0,
           2540916.0,
           0.0,
           "NAM"
          ],
          [
           0,
           271960.0,
           0.0,
           "NCL"
          ],
          [
           0,
           2.4206636E7,
           0.0,
           "NER"
          ],
          [
           0,
           2302.0,
           0.0,
           "NFK"
          ],
          [
           5,
           2.06139587E8,
           0.02425540903019273,
           "NGA"
          ],
          [
           0,
           6624554.0,
           0.0,
           "NIC"
          ],
          [
           4,
           1.6655799E7,
           0.2401565965103205,
           "NLD"
          ],
          [
           0,
           5379475.0,
           0.0,
           "NOR"
          ],
          [
           0,
           2.9136808E7,
           0.0,
           "NPL"
          ],
          [
           0,
           10834.0,
           0.0,
           "NRU"
          ],
          [
           0,
           1470.0,
           0.0,
           "NIU"
          ],
          [
           6,
           5084300.0,
           1.1801034557362862,
           "NZL"
          ],
          [
           0,
           5106622.0,
           0.0,
           "OMN"
          ],
          [
           0,
           4314768.0,
           0.0,
           "PAN"
          ],
          [
           3,
           3.2971846E7,
           0.09098671636401552,
           "PER"
          ],
          [
           0,
           280904.0,
           0.0,
           "PYF"
          ],
          [
           0,
           8947027.0,
           0.0,
           "PNG"
          ],
          [
           4,
           1.09581085E8,
           0.0365026500695809,
           "PHL"
          ],
          [
           42,
           2.20892331E8,
           0.19013788215218752,
           "PAK"
          ],
          [
           1,
           3.7950802E7,
           0.026349904278702728,
           "POL"
          ],
          [
           0,
           6069.0,
           0.0,
           "SPM"
          ],
          [
           0,
           56.0,
           0.0,
           "PCN"
          ],
          [
           1,
           3194034.0,
           0.3130837054333172,
           "PRI"
          ],
          [
           6,
           4803269.0,
           1.249149277294276,
           "PSE"
          ],
          [
           1,
           1.0305564E7,
           0.09703496092013984,
           "PRT"
          ],
          [
           0,
           18092.0,
           0.0,
           "PLW"
          ],
          [
           0,
           7132530.0,
           0.0,
           "PRY"
          ],
          [
           0,
           2881060.0,
           0.0,
           "QAT"
          ],
          [
           0,
           840974.0,
           0.0,
           "REU"
          ],
          [
           16,
           1.9286123E7,
           0.8296120479994864,
           "ROU"
          ],
          [
           2,
           6908224.0,
           0.28951001009810917,
           "SRB"
          ],
          [
           875,
           1.4410408E8,
           6.072000182090611,
           "RUS"
          ],
          [
           0,
           1.2952209E7,
           0.0,
           "RWA"
          ],
          [
           4,
           3.4813867E7,
           0.11489674502404458,
           "SAU"
          ],
          [
           0,
           686878.0,
           0.0,
           "SLB"
          ],
          [
           0,
           98462.0,
           0.0,
           "SYC"
          ],
          [
           0,
           4.3849269E7,
           0.0,
           "SDN"
          ],
          [
           2,
           1.0353442E7,
           0.1931724734634144,
           "SWE"
          ],
          [
           1,
           5685807.0,
           0.175876529048559,
           "SGP"
          ],
          [
           0,
           53192.0,
           0.0,
           "SHN"
          ],
          [
           0,
           2100126.0,
           0.0,
           "SVN"
          ],
          [
           0,
           2562.0,
           0.0,
           "SJM"
          ],
          [
           0,
           5458827.0,
           0.0,
           "SVK"
          ],
          [
           0,
           7976985.0,
           0.0,
           "SLE"
          ],
          [
           0,
           33938.0,
           0.0,
           "SMR"
          ],
          [
           0,
           1.674393E7,
           0.0,
           "SEN"
          ],
          [
           0,
           1.5893219E7,
           0.0,
           "SOM"
          ],
          [
           0,
           586634.0,
           0.0,
           "SUR"
          ],
          [
           0,
           1.1193729E7,
           0.0,
           "SSD"
          ],
          [
           0,
           219161.0,
           0.0,
           "STP"
          ],
          [
           0,
           6486201.0,
           0.0,
           "SLV"
          ],
          [
           0,
           40812.0,
           0.0,
           "SXM"
          ],
          [
           38,
           1.7500657E7,
           2.1713470528563588,
           "SYR"
          ],
          [
           0,
           1160164.0,
           0.0,
           "SWZ"
          ],
          [
           1,
           38718.0,
           25.827780360555813,
           "TCA"
          ],
          [
           0,
           1.6425859E7,
           0.0,
           "TCD"
          ],
          [
           0,
           400.0,
           0.0,
           "ATF"
          ],
          [
           0,
           8278737.0,
           0.0,
           "TGO"
          ],
          [
           3,
           6.9799978E7,
           0.04297995624010082,
           "THA"
          ],
          [
           0,
           9537642.0,
           0.0,
           "TJK"
          ],
          [
           0,
           1411.0,
           0.0,
           "TKL"
          ],
          [
           0,
           1318442.0,
           0.0,
           "TLS"
          ],
          [
           1,
           6031187.0,
           0.1658048407386473,
           "TKM"
          ],
          [
           1,
           1.1818618E7,
           0.08461226177206167,
           "TUN"
          ],
          [
           0,
           105697.0,
           0.0,
           "TON"
          ],
          [
           26,
           8.4339067E7,
           0.30827943591076246,
           "TUR"
          ],
          [
           0,
           1399491.0,
           0.0,
           "TTO"
          ],
          [
           0,
           11792.0,
           0.0,
           "TUV"
          ],
          [
           2,
           2.3503349E7,
           0.08509425614196513,
           "TWN"
          ],
          [
           0,
           5.9734213E7,
           0.0,
           "TZA"
          ],
          [
           31,
           4.4134693E7,
           0.7023952789249038,
           "UKR"
          ],
          [
           0,
           4.5741E7,
           0.0,
           "UGA"
          ],
          [
           0,
           300.0,
           0.0,
           "UMI"
          ],
          [
           330,
           3.29484123E8,
           1.001565711255835,
           "USA"
          ],
          [
           1,
           3473727.0,
           0.2878752417792187,
           "URY"
          ],
          [
           1,
           3.423205E7,
           0.029212390143155315,
           "UZB"
          ],
          [
           0,
           451.0,
           0.0,
           "VAT"
          ],
          [
           0,
           110947.0,
           0.0,
           "VCT"
          ],
          [
           1,
           2.8435943E7,
           0.035166760602945366,
           "VEN"
          ],
          [
           0,
           30237.0,
           0.0,
           "VGB"
          ],
          [
           0,
           106290.0,
           0.0,
           "VIR"
          ],
          [
           4,
           9.7338583E7,
           0.041093674026464924,
           "VNM"
          ],
          [
           0,
           307150.0,
           0.0,
           "VUT"
          ],
          [
           0,
           11750.0,
           0.0,
           "WLF"
          ],
          [
           0,
           198410.0,
           0.0,
           "WSM"
          ],
          [
           1,
           2.9825968E7,
           0.03352783051332986,
           "YEM"
          ],
          [
           0,
           226915.0,
           0.0,
           "MYT"
          ],
          [
           0,
           5.930869E7,
           0.0,
           "ZAF"
          ],
          [
           0,
           1.8383956E7,
           0.0,
           "ZMB"
          ],
          [
           0,
           1.4862927E7,
           0.0,
           "ZWE"
          ]
         ],
         "geo": "geo",
         "hovertemplate": "<b>%{hovertext}</b><br><br>attack_count=%{customdata[0]}<br>population=%{customdata[1]}<br>attack_density=%{customdata[2]:.2f}<br>attack_density_normalized=%{z}<extra></extra>",
         "hovertext": [
          "AD",
          "AE",
          "AF",
          "AG",
          "AI",
          "AL",
          "AM",
          "AO",
          "AQ",
          "AR",
          "AS",
          "AT",
          "AU",
          "AW",
          "AX",
          "AZ",
          "BA",
          "BB",
          "BD",
          "BE",
          "BF",
          "BG",
          "BH",
          "BI",
          "BJ",
          "BL",
          "BM",
          "BN",
          "BO",
          "BQ",
          "BR",
          "BS",
          "BT",
          "BV",
          "BW",
          "BY",
          "BZ",
          "CA",
          "CC",
          "CD",
          "CF",
          "CG",
          "CH",
          "CI",
          "CK",
          "CL",
          "CM",
          "CN",
          "CO",
          "CR",
          "CU",
          "CV",
          "CW",
          "CX",
          "CY",
          "CZ",
          "DE",
          "DJ",
          "DK",
          "DM",
          "DO",
          "DZ",
          "EC",
          "EE",
          "EG",
          "EH",
          "ER",
          "ES",
          "ET",
          "FI",
          "FJ",
          "FK",
          "FM",
          "FO",
          "FR",
          "GA",
          "GB",
          "GD",
          "GE",
          "GF",
          "GG",
          "GH",
          "GI",
          "GL",
          "GM",
          "GN",
          "GP",
          "GQ",
          "GR",
          "GS",
          "GT",
          "GU",
          "GW",
          "GY",
          "HK",
          "HM",
          "HN",
          "HR",
          "HT",
          "HU",
          "ID",
          "IE",
          "IL",
          "IM",
          "IN",
          "IO",
          "IQ",
          "IR",
          "IS",
          "IT",
          "JE",
          "JM",
          "JO",
          "JP",
          "KE",
          "KG",
          "KH",
          "KI",
          "KM",
          "KN",
          "KP",
          "KR",
          "KW",
          "KY",
          "KZ",
          "LA",
          "LB",
          "LC",
          "LI",
          "LK",
          "LR",
          "LS",
          "LT",
          "LU",
          "LV",
          "LY",
          "MA",
          "MC",
          "MD",
          "ME",
          "MF",
          "MG",
          "MH",
          "MK",
          "ML",
          "MM",
          "MN",
          "MO",
          "MP",
          "MQ",
          "MR",
          "MS",
          "MT",
          "MU",
          "MV",
          "MW",
          "MX",
          "MY",
          "MZ",
          "NA",
          "NC",
          "NE",
          "NF",
          "NG",
          "NI",
          "NL",
          "NO",
          "NP",
          "NR",
          "NU",
          "NZ",
          "OM",
          "PA",
          "PE",
          "PF",
          "PG",
          "PH",
          "PK",
          "PL",
          "PM",
          "PN",
          "PR",
          "PS",
          "PT",
          "PW",
          "PY",
          "QA",
          "RE",
          "RO",
          "RS",
          "RU",
          "RW",
          "SA",
          "SB",
          "SC",
          "SD",
          "SE",
          "SG",
          "SH",
          "SI",
          "SJ",
          "SK",
          "SL",
          "SM",
          "SN",
          "SO",
          "SR",
          "SS",
          "ST",
          "SV",
          "SX",
          "SY",
          "SZ",
          "TC",
          "TD",
          "TF",
          "TG",
          "TH",
          "TJ",
          "TK",
          "TL",
          "TM",
          "TN",
          "TO",
          "TR",
          "TT",
          "TV",
          "TW",
          "TZ",
          "UA",
          "UG",
          "UM",
          "US",
          "UY",
          "UZ",
          "VA",
          "VC",
          "VE",
          "VG",
          "VI",
          "VN",
          "VU",
          "WF",
          "WS",
          "YE",
          "YT",
          "ZA",
          "ZM",
          "ZW"
         ],
         "locations": [
          "AND",
          "ARE",
          "AFG",
          "ATG",
          "AIA",
          "ALB",
          "ARM",
          "AGO",
          "ATA",
          "ARG",
          "ASM",
          "AUT",
          "AUS",
          "ABW",
          "ALA",
          "AZE",
          "BIH",
          "BRB",
          "BGD",
          "BEL",
          "BFA",
          "BGR",
          "BHR",
          "BDI",
          "BEN",
          "BLM",
          "BMU",
          "BRN",
          "BOL",
          "BES",
          "BRA",
          "BHS",
          "BTN",
          "BVT",
          "BWA",
          "BLR",
          "BLZ",
          "CAN",
          "CCK",
          "COD",
          "CAF",
          "COG",
          "CHE",
          "CIV",
          "COK",
          "CHL",
          "CMR",
          "CHN",
          "COL",
          "CRI",
          "CUB",
          "CPV",
          "CUW",
          "CXR",
          "CYP",
          "CZE",
          "DEU",
          "DJI",
          "DNK",
          "DMA",
          "DOM",
          "DZA",
          "ECU",
          "EST",
          "EGY",
          "ESH",
          "ERI",
          "ESP",
          "ETH",
          "FIN",
          "FJI",
          "FLK",
          "FSM",
          "FRO",
          "FRA",
          "GAB",
          "GBR",
          "GRD",
          "GEO",
          "GUF",
          "GGY",
          "GHA",
          "GIB",
          "GRL",
          "GMB",
          "GIN",
          "GLP",
          "GNQ",
          "GRC",
          "SGS",
          "GTM",
          "GUM",
          "GNB",
          "GUY",
          "HKG",
          "HMD",
          "HND",
          "HRV",
          "HTI",
          "HUN",
          "IDN",
          "IRL",
          "ISR",
          "IMN",
          "IND",
          "IOT",
          "IRQ",
          "IRN",
          "ISL",
          "ITA",
          "JEY",
          "JAM",
          "JOR",
          "JPN",
          "KEN",
          "KGZ",
          "KHM",
          "KIR",
          "COM",
          "KNA",
          "PRK",
          "KOR",
          "KWT",
          "CYM",
          "KAZ",
          "LAO",
          "LBN",
          "LCA",
          "LIE",
          "LKA",
          "LBR",
          "LSO",
          "LTU",
          "LUX",
          "LVA",
          "LBY",
          "MAR",
          "MCO",
          "MDA",
          "MNE",
          "MAF",
          "MDG",
          "MHL",
          "MKD",
          "MLI",
          "MMR",
          "MNG",
          "MAC",
          "MNP",
          "MTQ",
          "MRT",
          "MSR",
          "MLT",
          "MUS",
          "MDV",
          "MWI",
          "MEX",
          "MYS",
          "MOZ",
          "NAM",
          "NCL",
          "NER",
          "NFK",
          "NGA",
          "NIC",
          "NLD",
          "NOR",
          "NPL",
          "NRU",
          "NIU",
          "NZL",
          "OMN",
          "PAN",
          "PER",
          "PYF",
          "PNG",
          "PHL",
          "PAK",
          "POL",
          "SPM",
          "PCN",
          "PRI",
          "PSE",
          "PRT",
          "PLW",
          "PRY",
          "QAT",
          "REU",
          "ROU",
          "SRB",
          "RUS",
          "RWA",
          "SAU",
          "SLB",
          "SYC",
          "SDN",
          "SWE",
          "SGP",
          "SHN",
          "SVN",
          "SJM",
          "SVK",
          "SLE",
          "SMR",
          "SEN",
          "SOM",
          "SUR",
          "SSD",
          "STP",
          "SLV",
          "SXM",
          "SYR",
          "SWZ",
          "TCA",
          "TCD",
          "ATF",
          "TGO",
          "THA",
          "TJK",
          "TKL",
          "TLS",
          "TKM",
          "TUN",
          "TON",
          "TUR",
          "TTO",
          "TUV",
          "TWN",
          "TZA",
          "UKR",
          "UGA",
          "UMI",
          "USA",
          "URY",
          "UZB",
          "VAT",
          "VCT",
          "VEN",
          "VGB",
          "VIR",
          "VNM",
          "VUT",
          "WLF",
          "WSM",
          "YEM",
          "MYT",
          "ZAF",
          "ZMB",
          "ZWE"
         ],
         "name": "",
         "z": [
          0.3493975903614458,
          0.3493975903614458,
          0.7871485943775101,
          0.3493975903614458,
          0.3493975903614458,
          0.9156626506024096,
          0.9397590361445783,
          0.3493975903614458,
          0.3493975903614458,
          0.8674698795180723,
          0.3493975903614458,
          0.8273092369477911,
          0.9317269076305221,
          0.3493975903614458,
          0.3493975903614458,
          0.8795180722891566,
          0.3493975903614458,
          0.3493975903614458,
          0.7349397590361446,
          0.8594377510040161,
          0.3493975903614458,
          0.9236947791164659,
          0.3493975903614458,
          0.3493975903614458,
          0.3493975903614458,
          0.3493975903614458,
          0.3493975903614458,
          0.3493975903614458,
          0.3493975903614458,
          0.3493975903614458,
          0.7228915662650602,
          0.3493975903614458,
          0.3493975903614458,
          0.3493975903614458,
          0.3493975903614458,
          0.3493975903614458,
          0.9959839357429718,
          0.9357429718875502,
          0.3493975903614458,
          0.3493975903614458,
          0.3493975903614458,
          0.3493975903614458,
          0.3493975903614458,
          0.3493975903614458,
          0.3493975903614458,
          0.7951807228915663,
          0.3493975903614458,
          0.7831325301204819,
          0.7188755020080321,
          0.3493975903614458,
          0.3493975903614458,
          0.3493975903614458,
          0.3493975903614458,
          0.3493975903614458,
          0.3493975903614458,
          0.3493975903614458,
          0.7269076305220884,
          0.3493975903614458,
          0.8554216867469879,
          0.3493975903614458,
          0.3493975903614458,
          0.3493975903614458,
          0.3493975903614458,
          0.9799196787148594,
          0.7068273092369478,
          0.3493975903614458,
          0.3493975903614458,
          0.3493975903614458,
          0.7028112449799196,
          0.3493975903614458,
          0.3493975903614458,
          0.3493975903614458,
          0.3493975903614458,
          0.3493975903614458,
          0.751004016064257,
          0.3493975903614458,
          0.9518072289156626,
          0.3493975903614458,
          0.3493975903614458,
          0.3493975903614458,
          0.3493975903614458,
          0.7550200803212851,
          0.3493975903614458,
          0.3493975903614458,
          0.3493975903614458,
          0.3493975903614458,
          0.3493975903614458,
          0.3493975903614458,
          0.3493975903614458,
          0.3493975903614458,
          0.3493975903614458,
          0.3493975903614458,
          0.3493975903614458,
          0.3493975903614458,
          0.8433734939759037,
          0.3493975903614458,
          0.3493975903614458,
          0.3493975903614458,
          0.3493975903614458,
          0.3493975903614458,
          0.7590361445783133,
          0.9196787148594378,
          0.927710843373494,
          0.3493975903614458,
          0.7108433734939759,
          0.3493975903614458,
          0.3493975903614458,
          0.8875502008032129,
          0.9879518072289156,
          0.7911646586345381,
          0.3493975903614458,
          0.9116465863453815,
          0.8232931726907631,
          0.714859437751004,
          0.3493975903614458,
          0.3493975903614458,
          0.8393574297188755,
          0.3493975903614458,
          0.3493975903614458,
          0.3493975903614458,
          0.963855421686747,
          0.8353413654618473,
          0.3493975903614458,
          0.3493975903614458,
          0.7991967871485943,
          0.3493975903614458,
          0.3493975903614458,
          0.3493975903614458,
          0.3493975903614458,
          0.3493975903614458,
          0.3493975903614458,
          0.3493975903614458,
          0.9477911646586346,
          0.3493975903614458,
          0.3493975903614458,
          0.8473895582329317,
          0.7429718875502008,
          0.3493975903614458,
          0.9558232931726908,
          0.3493975903614458,
          0.3493975903614458,
          0.3493975903614458,
          0.3493975903614458,
          0.3493975903614458,
          0.3493975903614458,
          0.3493975903614458,
          0.3493975903614458,
          0.3493975903614458,
          0.3493975903614458,
          0.3493975903614458,
          0.8835341365461847,
          0.3493975903614458,
          0.3493975903614458,
          0.3493975903614458,
          0.3493975903614458,
          0.3493975903614458,
          0.6987951807228916,
          0.8032128514056225,
          0.3493975903614458,
          0.3493975903614458,
          0.3493975903614458,
          0.3493975903614458,
          0.3493975903614458,
          0.7309236947791165,
          0.3493975903614458,
          0.891566265060241,
          0.3493975903614458,
          0.3493975903614458,
          0.3493975903614458,
          0.3493975903614458,
          0.9718875502008032,
          0.3493975903614458,
          0.3493975903614458,
          0.8152610441767069,
          0.3493975903614458,
          0.3493975903614458,
          0.7710843373493976,
          0.8714859437751004,
          0.7389558232931727,
          0.3493975903614458,
          0.3493975903614458,
          0.9076305220883534,
          0.9759036144578314,
          0.8192771084337349,
          0.3493975903614458,
          0.3493975903614458,
          0.3493975903614458,
          0.3493975903614458,
          0.9598393574297188,
          0.8995983935742972,
          0.9919678714859438,
          0.3493975903614458,
          0.8313253012048193,
          0.3493975903614458,
          0.3493975903614458,
          0.3493975903614458,
          0.8755020080321285,
          0.8634538152610441,
          0.3493975903614458,
          0.3493975903614458,
          0.3493975903614458,
          0.3493975903614458,
          0.3493975903614458,
          0.3493975903614458,
          0.3493975903614458,
          0.3493975903614458,
          0.3493975903614458,
          0.3493975903614458,
          0.3493975903614458,
          0.3493975903614458,
          0.3493975903614458,
          0.9839357429718876,
          0.3493975903614458,
          1.0,
          0.3493975903614458,
          0.3493975903614458,
          0.3493975903614458,
          0.7791164658634538,
          0.3493975903614458,
          0.3493975903614458,
          0.3493975903614458,
          0.8514056224899599,
          0.8072289156626506,
          0.3493975903614458,
          0.9036144578313253,
          0.3493975903614458,
          0.3493975903614458,
          0.8112449799196787,
          0.3493975903614458,
          0.9437751004016064,
          0.3493975903614458,
          0.3493975903614458,
          0.9678714859437751,
          0.8955823293172691,
          0.7469879518072289,
          0.3493975903614458,
          0.3493975903614458,
          0.7670682730923695,
          0.3493975903614458,
          0.3493975903614458,
          0.7751004016064257,
          0.3493975903614458,
          0.3493975903614458,
          0.3493975903614458,
          0.7630522088353414,
          0.3493975903614458,
          0.3493975903614458,
          0.3493975903614458,
          0.3493975903614458
         ],
         "type": "choropleth"
        }
       ],
       "layout": {
        "template": {
         "data": {
          "histogram2dcontour": [
           {
            "type": "histogram2dcontour",
            "colorbar": {
             "outlinewidth": 0,
             "ticks": ""
            },
            "colorscale": [
             [
              0.0,
              "#0d0887"
             ],
             [
              0.1111111111111111,
              "#46039f"
             ],
             [
              0.2222222222222222,
              "#7201a8"
             ],
             [
              0.3333333333333333,
              "#9c179e"
             ],
             [
              0.4444444444444444,
              "#bd3786"
             ],
             [
              0.5555555555555556,
              "#d8576b"
             ],
             [
              0.6666666666666666,
              "#ed7953"
             ],
             [
              0.7777777777777778,
              "#fb9f3a"
             ],
             [
              0.8888888888888888,
              "#fdca26"
             ],
             [
              1.0,
              "#f0f921"
             ]
            ]
           }
          ],
          "choropleth": [
           {
            "type": "choropleth",
            "colorbar": {
             "outlinewidth": 0,
             "ticks": ""
            }
           }
          ],
          "histogram2d": [
           {
            "type": "histogram2d",
            "colorbar": {
             "outlinewidth": 0,
             "ticks": ""
            },
            "colorscale": [
             [
              0.0,
              "#0d0887"
             ],
             [
              0.1111111111111111,
              "#46039f"
             ],
             [
              0.2222222222222222,
              "#7201a8"
             ],
             [
              0.3333333333333333,
              "#9c179e"
             ],
             [
              0.4444444444444444,
              "#bd3786"
             ],
             [
              0.5555555555555556,
              "#d8576b"
             ],
             [
              0.6666666666666666,
              "#ed7953"
             ],
             [
              0.7777777777777778,
              "#fb9f3a"
             ],
             [
              0.8888888888888888,
              "#fdca26"
             ],
             [
              1.0,
              "#f0f921"
             ]
            ]
           }
          ],
          "heatmap": [
           {
            "type": "heatmap",
            "colorbar": {
             "outlinewidth": 0,
             "ticks": ""
            },
            "colorscale": [
             [
              0.0,
              "#0d0887"
             ],
             [
              0.1111111111111111,
              "#46039f"
             ],
             [
              0.2222222222222222,
              "#7201a8"
             ],
             [
              0.3333333333333333,
              "#9c179e"
             ],
             [
              0.4444444444444444,
              "#bd3786"
             ],
             [
              0.5555555555555556,
              "#d8576b"
             ],
             [
              0.6666666666666666,
              "#ed7953"
             ],
             [
              0.7777777777777778,
              "#fb9f3a"
             ],
             [
              0.8888888888888888,
              "#fdca26"
             ],
             [
              1.0,
              "#f0f921"
             ]
            ]
           }
          ],
          "heatmapgl": [
           {
            "type": "heatmapgl",
            "colorbar": {
             "outlinewidth": 0,
             "ticks": ""
            },
            "colorscale": [
             [
              0.0,
              "#0d0887"
             ],
             [
              0.1111111111111111,
              "#46039f"
             ],
             [
              0.2222222222222222,
              "#7201a8"
             ],
             [
              0.3333333333333333,
              "#9c179e"
             ],
             [
              0.4444444444444444,
              "#bd3786"
             ],
             [
              0.5555555555555556,
              "#d8576b"
             ],
             [
              0.6666666666666666,
              "#ed7953"
             ],
             [
              0.7777777777777778,
              "#fb9f3a"
             ],
             [
              0.8888888888888888,
              "#fdca26"
             ],
             [
              1.0,
              "#f0f921"
             ]
            ]
           }
          ],
          "contourcarpet": [
           {
            "type": "contourcarpet",
            "colorbar": {
             "outlinewidth": 0,
             "ticks": ""
            }
           }
          ],
          "contour": [
           {
            "type": "contour",
            "colorbar": {
             "outlinewidth": 0,
             "ticks": ""
            },
            "colorscale": [
             [
              0.0,
              "#0d0887"
             ],
             [
              0.1111111111111111,
              "#46039f"
             ],
             [
              0.2222222222222222,
              "#7201a8"
             ],
             [
              0.3333333333333333,
              "#9c179e"
             ],
             [
              0.4444444444444444,
              "#bd3786"
             ],
             [
              0.5555555555555556,
              "#d8576b"
             ],
             [
              0.6666666666666666,
              "#ed7953"
             ],
             [
              0.7777777777777778,
              "#fb9f3a"
             ],
             [
              0.8888888888888888,
              "#fdca26"
             ],
             [
              1.0,
              "#f0f921"
             ]
            ]
           }
          ],
          "surface": [
           {
            "type": "surface",
            "colorbar": {
             "outlinewidth": 0,
             "ticks": ""
            },
            "colorscale": [
             [
              0.0,
              "#0d0887"
             ],
             [
              0.1111111111111111,
              "#46039f"
             ],
             [
              0.2222222222222222,
              "#7201a8"
             ],
             [
              0.3333333333333333,
              "#9c179e"
             ],
             [
              0.4444444444444444,
              "#bd3786"
             ],
             [
              0.5555555555555556,
              "#d8576b"
             ],
             [
              0.6666666666666666,
              "#ed7953"
             ],
             [
              0.7777777777777778,
              "#fb9f3a"
             ],
             [
              0.8888888888888888,
              "#fdca26"
             ],
             [
              1.0,
              "#f0f921"
             ]
            ]
           }
          ],
          "mesh3d": [
           {
            "type": "mesh3d",
            "colorbar": {
             "outlinewidth": 0,
             "ticks": ""
            }
           }
          ],
          "scatter": [
           {
            "marker": {
             "line": {
              "color": "#283442"
             }
            },
            "type": "scatter"
           }
          ],
          "parcoords": [
           {
            "type": "parcoords",
            "line": {
             "colorbar": {
              "outlinewidth": 0,
              "ticks": ""
             }
            }
           }
          ],
          "scatterpolargl": [
           {
            "type": "scatterpolargl",
            "marker": {
             "colorbar": {
              "outlinewidth": 0,
              "ticks": ""
             }
            }
           }
          ],
          "bar": [
           {
            "error_x": {
             "color": "#f2f5fa"
            },
            "error_y": {
             "color": "#f2f5fa"
            },
            "marker": {
             "line": {
              "color": "rgb(17,17,17)",
              "width": 0.5
             },
             "pattern": {
              "fillmode": "overlay",
              "size": 10,
              "solidity": 0.2
             }
            },
            "type": "bar"
           }
          ],
          "scattergeo": [
           {
            "type": "scattergeo",
            "marker": {
             "colorbar": {
              "outlinewidth": 0,
              "ticks": ""
             }
            }
           }
          ],
          "scatterpolar": [
           {
            "type": "scatterpolar",
            "marker": {
             "colorbar": {
              "outlinewidth": 0,
              "ticks": ""
             }
            }
           }
          ],
          "histogram": [
           {
            "marker": {
             "pattern": {
              "fillmode": "overlay",
              "size": 10,
              "solidity": 0.2
             }
            },
            "type": "histogram"
           }
          ],
          "scattergl": [
           {
            "marker": {
             "line": {
              "color": "#283442"
             }
            },
            "type": "scattergl"
           }
          ],
          "scatter3d": [
           {
            "type": "scatter3d",
            "line": {
             "colorbar": {
              "outlinewidth": 0,
              "ticks": ""
             }
            },
            "marker": {
             "colorbar": {
              "outlinewidth": 0,
              "ticks": ""
             }
            }
           }
          ],
          "scattermapbox": [
           {
            "type": "scattermapbox",
            "marker": {
             "colorbar": {
              "outlinewidth": 0,
              "ticks": ""
             }
            }
           }
          ],
          "scatterternary": [
           {
            "type": "scatterternary",
            "marker": {
             "colorbar": {
              "outlinewidth": 0,
              "ticks": ""
             }
            }
           }
          ],
          "scattercarpet": [
           {
            "type": "scattercarpet",
            "marker": {
             "colorbar": {
              "outlinewidth": 0,
              "ticks": ""
             }
            }
           }
          ],
          "carpet": [
           {
            "aaxis": {
             "endlinecolor": "#A2B1C6",
             "gridcolor": "#506784",
             "linecolor": "#506784",
             "minorgridcolor": "#506784",
             "startlinecolor": "#A2B1C6"
            },
            "baxis": {
             "endlinecolor": "#A2B1C6",
             "gridcolor": "#506784",
             "linecolor": "#506784",
             "minorgridcolor": "#506784",
             "startlinecolor": "#A2B1C6"
            },
            "type": "carpet"
           }
          ],
          "table": [
           {
            "cells": {
             "fill": {
              "color": "#506784"
             },
             "line": {
              "color": "rgb(17,17,17)"
             }
            },
            "header": {
             "fill": {
              "color": "#2a3f5f"
             },
             "line": {
              "color": "rgb(17,17,17)"
             }
            },
            "type": "table"
           }
          ],
          "barpolar": [
           {
            "marker": {
             "line": {
              "color": "rgb(17,17,17)",
              "width": 0.5
             },
             "pattern": {
              "fillmode": "overlay",
              "size": 10,
              "solidity": 0.2
             }
            },
            "type": "barpolar"
           }
          ],
          "pie": [
           {
            "automargin": true,
            "type": "pie"
           }
          ]
         },
         "layout": {
          "autotypenumbers": "strict",
          "colorway": [
           "#636efa",
           "#EF553B",
           "#00cc96",
           "#ab63fa",
           "#FFA15A",
           "#19d3f3",
           "#FF6692",
           "#B6E880",
           "#FF97FF",
           "#FECB52"
          ],
          "font": {
           "color": "#f2f5fa"
          },
          "hovermode": "closest",
          "hoverlabel": {
           "align": "left"
          },
          "paper_bgcolor": "rgb(17,17,17)",
          "plot_bgcolor": "rgb(17,17,17)",
          "polar": {
           "bgcolor": "rgb(17,17,17)",
           "angularaxis": {
            "gridcolor": "#506784",
            "linecolor": "#506784",
            "ticks": ""
           },
           "radialaxis": {
            "gridcolor": "#506784",
            "linecolor": "#506784",
            "ticks": ""
           }
          },
          "ternary": {
           "bgcolor": "rgb(17,17,17)",
           "aaxis": {
            "gridcolor": "#506784",
            "linecolor": "#506784",
            "ticks": ""
           },
           "baxis": {
            "gridcolor": "#506784",
            "linecolor": "#506784",
            "ticks": ""
           },
           "caxis": {
            "gridcolor": "#506784",
            "linecolor": "#506784",
            "ticks": ""
           }
          },
          "coloraxis": {
           "colorbar": {
            "outlinewidth": 0,
            "ticks": ""
           }
          },
          "colorscale": {
           "sequential": [
            [
             0.0,
             "#0d0887"
            ],
            [
             0.1111111111111111,
             "#46039f"
            ],
            [
             0.2222222222222222,
             "#7201a8"
            ],
            [
             0.3333333333333333,
             "#9c179e"
            ],
            [
             0.4444444444444444,
             "#bd3786"
            ],
            [
             0.5555555555555556,
             "#d8576b"
            ],
            [
             0.6666666666666666,
             "#ed7953"
            ],
            [
             0.7777777777777778,
             "#fb9f3a"
            ],
            [
             0.8888888888888888,
             "#fdca26"
            ],
            [
             1.0,
             "#f0f921"
            ]
           ],
           "sequentialminus": [
            [
             0.0,
             "#0d0887"
            ],
            [
             0.1111111111111111,
             "#46039f"
            ],
            [
             0.2222222222222222,
             "#7201a8"
            ],
            [
             0.3333333333333333,
             "#9c179e"
            ],
            [
             0.4444444444444444,
             "#bd3786"
            ],
            [
             0.5555555555555556,
             "#d8576b"
            ],
            [
             0.6666666666666666,
             "#ed7953"
            ],
            [
             0.7777777777777778,
             "#fb9f3a"
            ],
            [
             0.8888888888888888,
             "#fdca26"
            ],
            [
             1.0,
             "#f0f921"
            ]
           ],
           "diverging": [
            [
             0,
             "#8e0152"
            ],
            [
             0.1,
             "#c51b7d"
            ],
            [
             0.2,
             "#de77ae"
            ],
            [
             0.3,
             "#f1b6da"
            ],
            [
             0.4,
             "#fde0ef"
            ],
            [
             0.5,
             "#f7f7f7"
            ],
            [
             0.6,
             "#e6f5d0"
            ],
            [
             0.7,
             "#b8e186"
            ],
            [
             0.8,
             "#7fbc41"
            ],
            [
             0.9,
             "#4d9221"
            ],
            [
             1,
             "#276419"
            ]
           ]
          },
          "xaxis": {
           "gridcolor": "#283442",
           "linecolor": "#506784",
           "ticks": "",
           "title": {
            "standoff": 15
           },
           "zerolinecolor": "#283442",
           "automargin": true,
           "zerolinewidth": 2
          },
          "yaxis": {
           "gridcolor": "#283442",
           "linecolor": "#506784",
           "ticks": "",
           "title": {
            "standoff": 15
           },
           "zerolinecolor": "#283442",
           "automargin": true,
           "zerolinewidth": 2
          },
          "scene": {
           "xaxis": {
            "backgroundcolor": "rgb(17,17,17)",
            "gridcolor": "#506784",
            "linecolor": "#506784",
            "showbackground": true,
            "ticks": "",
            "zerolinecolor": "#C8D4E3",
            "gridwidth": 2
           },
           "yaxis": {
            "backgroundcolor": "rgb(17,17,17)",
            "gridcolor": "#506784",
            "linecolor": "#506784",
            "showbackground": true,
            "ticks": "",
            "zerolinecolor": "#C8D4E3",
            "gridwidth": 2
           },
           "zaxis": {
            "backgroundcolor": "rgb(17,17,17)",
            "gridcolor": "#506784",
            "linecolor": "#506784",
            "showbackground": true,
            "ticks": "",
            "zerolinecolor": "#C8D4E3",
            "gridwidth": 2
           }
          },
          "shapedefaults": {
           "line": {
            "color": "#f2f5fa"
           }
          },
          "annotationdefaults": {
           "arrowcolor": "#f2f5fa",
           "arrowhead": 0,
           "arrowwidth": 1
          },
          "geo": {
           "bgcolor": "rgb(17,17,17)",
           "landcolor": "rgb(17,17,17)",
           "subunitcolor": "#506784",
           "showland": true,
           "showlakes": true,
           "lakecolor": "rgb(17,17,17)"
          },
          "title": {
           "x": 0.05
          },
          "updatemenudefaults": {
           "bgcolor": "#506784",
           "borderwidth": 0
          },
          "sliderdefaults": {
           "bgcolor": "#C8D4E3",
           "borderwidth": 1,
           "bordercolor": "rgb(17,17,17)",
           "tickwidth": 0
          },
          "mapbox": {
           "style": "dark"
          }
         }
        },
        "geo": {
         "domain": {
          "x": [
           0.0,
           1.0
          ],
          "y": [
           0.0,
           1.0
          ]
         },
         "projection": {
          "type": "natural earth",
          "rotation": {
           "lon": 10
          }
         },
         "center": {},
         "showframe": true,
         "showcoastlines": true,
         "coastlinecolor": "rgba(0,0,0,0.5)",
         "coastlinewidth": 0.8,
         "landcolor": "rgba(240,240,240,1)",
         "lakecolor": "white",
         "oceancolor": "white",
         "showocean": true,
         "bgcolor": "white",
         "showcountries": true,
         "countrycolor": "rgba(0,0,0,0.2)",
         "countrywidth": 0.5
        },
        "coloraxis": {
         "colorbar": {
          "title": {
           "text": "Percentage"
          },
          "thickness": 15,
          "lenmode": "pixels",
          "len": 300,
          "yanchor": "middle",
          "y": 0.5,
          "tickvals": [
           0,
           0.25,
           0.5,
           0.75,
           1
          ]
         },
         "colorscale": [
          [
           0.0,
           "rgb(0,104,55)"
          ],
          [
           0.1,
           "rgb(26,152,80)"
          ],
          [
           0.2,
           "rgb(102,189,99)"
          ],
          [
           0.3,
           "rgb(166,217,106)"
          ],
          [
           0.4,
           "rgb(217,239,139)"
          ],
          [
           0.5,
           "rgb(255,255,191)"
          ],
          [
           0.6,
           "rgb(254,224,139)"
          ],
          [
           0.7,
           "rgb(253,174,97)"
          ],
          [
           0.8,
           "rgb(244,109,67)"
          ],
          [
           0.9,
           "rgb(215,48,39)"
          ],
          [
           1.0,
           "rgb(165,0,38)"
          ]
         ],
         "cmid": 0.5,
         "cmin": 0.3,
         "cmax": 1
        },
        "legend": {
         "tracegroupgap": 0
        },
        "title": {
         "text": "<b>Global Cyber Attack Density</b><br><sup>Quantile Normalization</sup>",
         "font": {
          "size": 20
         },
         "y": 0.95,
         "x": 0.5,
         "xanchor": "center",
         "yanchor": "top"
        },
        "margin": {
         "r": 20,
         "t": 80,
         "l": 20,
         "b": 20
        },
        "font": {
         "family": "Arial",
         "size": 12,
         "color": "#404040"
        },
        "hoverlabel": {
         "font": {
          "size": 12,
          "family": "Arial"
         },
         "bgcolor": "white"
        },
        "plot_bgcolor": "white",
        "paper_bgcolor": "white",
        "annotations": [
         {
          "font": {
           "color": "#666666",
           "size": 10
          },
          "showarrow": false,
          "text": "Source: Your Data Source | Visualization by Your Team",
          "x": 0.5,
          "xref": "paper",
          "y": -0.1,
          "yref": "paper"
         }
        ]
       },
       "config": {
        "plotlyServerURL": "https://plot.ly"
       }
      },
      "text/html": [
       "<div>                            <div id=\"3d1bdbe7-f8c5-4dfd-a2c4-733d7528df86\" class=\"plotly-graph-div\" style=\"height:525px; width:100%;\"></div>            <script type=\"text/javascript\">                require([\"plotly\"], function(Plotly) {                    window.PLOTLYENV=window.PLOTLYENV || {};                                    if (document.getElementById(\"3d1bdbe7-f8c5-4dfd-a2c4-733d7528df86\")) {                    Plotly.newPlot(                        \"3d1bdbe7-f8c5-4dfd-a2c4-733d7528df86\",                        [{\"coloraxis\":\"coloraxis\",\"customdata\":[[0,77265.0,0.0,\"AND\"],[0,9890400.0,0.0,\"ARE\"],[2,40218234.0,0.04972868773899918,\"AFG\"],[0,97928.0,0.0,\"ATG\"],[0,13452.0,0.0,\"AIA\"],[1,2837743.0,0.3523927290103438,\"ALB\"],[2,2963234.0,0.6749382600226644,\"ARM\"],[0,32866268.0,0.0,\"AGO\"],[0,1000.0,0.0,\"ATA\"],[8,45376763.0,0.1763016899200148,\"ARG\"],[0,55197.0,0.0,\"ASM\"],[1,8917205.0,0.11214276222201912,\"AUT\"],[13,25687041.0,0.5060917682188463,\"AUS\"],[0,106766.0,0.0,\"ABW\"],[0,29458.0,0.0,\"ALA\"],[2,10110116.0,0.1978216669324071,\"AZE\"],[0,3280815.0,0.0,\"BIH\"],[0,287371.0,0.0,\"BRB\"],[4,164689383.0,0.024288147342199952,\"BGD\"],[2,11555997.0,0.17307031145819785,\"BEL\"],[0,20903278.0,0.0,\"BFA\"],[3,6927288.0,0.4330699113419278,\"BGR\"],[0,1701583.0,0.0,\"BHR\"],[0,11890781.0,0.0,\"BDI\"],[0,12123198.0,0.0,\"BEN\"],[0,4255.0,0.0,\"BLM\"],[0,63903.0,0.0,\"BMU\"],[0,437483.0,0.0,\"BRN\"],[0,11673029.0,0.0,\"BOL\"],[0,25987.0,0.0,\"BES\"],[5,212559409.0,0.023522835444089892,\"BRA\"],[0,393248.0,0.0,\"BHS\"],[0,771612.0,0.0,\"BTN\"],[0,0.0,0.0,\"BVT\"],[0,2351625.0,0.0,\"BWA\"],[0,9398861.0,0.0,\"BLR\"],[3,397621.0,7.544873132958269,\"BLZ\"],[22,38005238.0,0.5788675760956951,\"CAN\"],[0,544.0,0.0,\"CCK\"],[0,108407721.0,0.0,\"COD\"],[0,4829764.0,0.0,\"CAF\"],[0,5657000.0,0.0,\"COG\"],[0,8654622.0,0.0,\"CHE\"],[0,26378275.0,0.0,\"CIV\"],[0,18100.0,0.0,\"COK\"],[1,19116209.0,0.05231162726877489,\"CHL\"],[0,26545864.0,0.0,\"CMR\"],[62,1402112000.0,0.044219006755523094,\"CHN\"],[1,50882884.0,0.019652974072774648,\"COL\"],[0,5094114.0,0.0,\"CRI\"],[0,11326616.0,0.0,\"CUB\"],[0,555988.0,0.0,\"CPV\"],[0,155014.0,0.0,\"CUW\"],[0,2072.0,0.0,\"CXR\"],[0,1207361.0,0.0,\"CYP\"],[0,10698896.0,0.0,\"CZE\"],[2,83240525.0,0.024026758601053994,\"DEU\"],[0,988002.0,0.0,\"DJI\"],[1,5831404.0,0.171485288963001,\"DNK\"],[0,71991.0,0.0,\"DMA\"],[0,10847904.0,0.0,\"DOM\"],[0,44700000.0,0.0,\"DZA\"],[0,17643060.0,0.0,\"ECU\"],[2,1331057.0,1.5025652545307977,\"EST\"],[1,102334403.0,0.009771884827431887,\"EGY\"],[0,510713.0,0.0,\"ESH\"],[0,5352000.0,0.0,\"ERI\"],[0,47351567.0,0.0,\"ESP\"],[1,114963583.0,0.0086984066945791,\"ETH\"],[0,5530719.0,0.0,\"FIN\"],[0,896444.0,0.0,\"FJI\"],[0,2563.0,0.0,\"FLK\"],[0,115021.0,0.0,\"FSM\"],[0,48865.0,0.0,\"FRO\"],[2,67391582.0,0.02967729708437472,\"FRA\"],[0,2225728.0,0.0,\"GAB\"],[49,67215293.0,0.7290007647515574,\"GBR\"],[0,112519.0,0.0,\"GRD\"],[0,3714000.0,0.0,\"GEO\"],[0,254541.0,0.0,\"GUF\"],[0,62999.0,0.0,\"GGY\"],[1,31072945.0,0.03218233739994712,\"GHA\"],[0,33691.0,0.0,\"GIB\"],[0,56367.0,0.0,\"GRL\"],[0,2416664.0,0.0,\"GMB\"],[0,13132792.0,0.0,\"GIN\"],[0,400132.0,0.0,\"GLP\"],[0,1402985.0,0.0,\"GNQ\"],[0,10715549.0,0.0,\"GRC\"],[0,30.0,0.0,\"SGS\"],[0,16858333.0,0.0,\"GTM\"],[0,168783.0,0.0,\"GUM\"],[0,1967998.0,0.0,\"GNB\"],[0,786559.0,0.0,\"GUY\"],[1,7500700.0,0.133320890050262,\"HKG\"],[0,0.0,0.0,\"HMD\"],[0,9904608.0,0.0,\"HND\"],[0,4047200.0,0.0,\"HRV\"],[0,11402533.0,0.0,\"HTI\"],[0,9749763.0,0.0,\"HUN\"],[9,273523621.0,0.03290392240017911,\"IDN\"],[2,4994724.0,0.4004225258492761,\"IRL\"],[4,9216900.0,0.4339853963914114,\"ISR\"],[0,85032.0,0.0,\"IMN\"],[14,1380004385.0,0.010144895300459499,\"IND\"],[0,3000.0,0.0,\"IOT\"],[0,40222503.0,0.0,\"IRQ\"],[19,83992953.0,0.22620945354784705,\"IRN\"],[1,366425.0,2.7290714334447705,\"ISL\"],[3,59554023.0,0.05037443062410746,\"ITA\"],[0,100800.0,0.0,\"JEY\"],[1,2961161.0,0.33770537974801096,\"JAM\"],[1,10203140.0,0.09800904427460566,\"JOR\"],[2,125836021.0,0.01589370026250274,\"JPN\"],[0,53771300.0,0.0,\"KEN\"],[0,6591600.0,0.0,\"KGZ\"],[2,16718971.0,0.11962458694377781,\"KHM\"],[0,119446.0,0.0,\"KIR\"],[0,869595.0,0.0,\"COM\"],[0,53192.0,0.0,\"KNA\"],[23,25778815.0,0.8922054795769317,\"PRK\"],[6,51780579.0,0.1158735594671508,\"KOR\"],[0,4270563.0,0.0,\"KWT\"],[0,65720.0,0.0,\"CYM\"],[1,18754440.0,0.053320706989918115,\"KAZ\"],[0,7275556.0,0.0,\"LAO\"],[0,6825442.0,0.0,\"LBN\"],[0,183629.0,0.0,\"LCA\"],[0,38137.0,0.0,\"LIE\"],[0,21919000.0,0.0,\"LKA\"],[0,5057677.0,0.0,\"LBR\"],[0,2142252.0,0.0,\"LSO\"],[2,2794700.0,0.7156403191755824,\"LTU\"],[0,632275.0,0.0,\"LUX\"],[0,1901548.0,0.0,\"LVA\"],[1,6871287.0,0.14553314393649983,\"LBY\"],[1,36910558.0,0.02709251916484167,\"MAR\"],[0,39244.0,0.0,\"MCO\"],[2,2617820.0,0.7639944686800467,\"MDA\"],[0,621718.0,0.0,\"MNE\"],[0,38659.0,0.0,\"MAF\"],[0,27691019.0,0.0,\"MDG\"],[0,59194.0,0.0,\"MHL\"],[0,2077132.0,0.0,\"MKD\"],[0,20250834.0,0.0,\"MLI\"],[0,54409794.0,0.0,\"MMR\"],[0,3278292.0,0.0,\"MNG\"],[0,649342.0,0.0,\"MAC\"],[0,57557.0,0.0,\"MNP\"],[0,378243.0,0.0,\"MTQ\"],[1,4649660.0,0.21506948895188036,\"MRT\"],[0,4922.0,0.0,\"MSR\"],[0,525285.0,0.0,\"MLT\"],[0,1265740.0,0.0,\"MUS\"],[0,540542.0,0.0,\"MDV\"],[0,19129955.0,0.0,\"MWI\"],[1,128932753.0,0.007755981135375276,\"MEX\"],[2,32365998.0,0.06179324363796846,\"MYS\"],[0,31255435.0,0.0,\"MOZ\"],[0,2540916.0,0.0,\"NAM\"],[0,271960.0,0.0,\"NCL\"],[0,24206636.0,0.0,\"NER\"],[0,2302.0,0.0,\"NFK\"],[5,206139587.0,0.02425540903019273,\"NGA\"],[0,6624554.0,0.0,\"NIC\"],[4,16655799.0,0.2401565965103205,\"NLD\"],[0,5379475.0,0.0,\"NOR\"],[0,29136808.0,0.0,\"NPL\"],[0,10834.0,0.0,\"NRU\"],[0,1470.0,0.0,\"NIU\"],[6,5084300.0,1.1801034557362862,\"NZL\"],[0,5106622.0,0.0,\"OMN\"],[0,4314768.0,0.0,\"PAN\"],[3,32971846.0,0.09098671636401552,\"PER\"],[0,280904.0,0.0,\"PYF\"],[0,8947027.0,0.0,\"PNG\"],[4,109581085.0,0.0365026500695809,\"PHL\"],[42,220892331.0,0.19013788215218752,\"PAK\"],[1,37950802.0,0.026349904278702728,\"POL\"],[0,6069.0,0.0,\"SPM\"],[0,56.0,0.0,\"PCN\"],[1,3194034.0,0.3130837054333172,\"PRI\"],[6,4803269.0,1.249149277294276,\"PSE\"],[1,10305564.0,0.09703496092013984,\"PRT\"],[0,18092.0,0.0,\"PLW\"],[0,7132530.0,0.0,\"PRY\"],[0,2881060.0,0.0,\"QAT\"],[0,840974.0,0.0,\"REU\"],[16,19286123.0,0.8296120479994864,\"ROU\"],[2,6908224.0,0.28951001009810917,\"SRB\"],[875,144104080.0,6.072000182090611,\"RUS\"],[0,12952209.0,0.0,\"RWA\"],[4,34813867.0,0.11489674502404458,\"SAU\"],[0,686878.0,0.0,\"SLB\"],[0,98462.0,0.0,\"SYC\"],[0,43849269.0,0.0,\"SDN\"],[2,10353442.0,0.1931724734634144,\"SWE\"],[1,5685807.0,0.175876529048559,\"SGP\"],[0,53192.0,0.0,\"SHN\"],[0,2100126.0,0.0,\"SVN\"],[0,2562.0,0.0,\"SJM\"],[0,5458827.0,0.0,\"SVK\"],[0,7976985.0,0.0,\"SLE\"],[0,33938.0,0.0,\"SMR\"],[0,16743930.0,0.0,\"SEN\"],[0,15893219.0,0.0,\"SOM\"],[0,586634.0,0.0,\"SUR\"],[0,11193729.0,0.0,\"SSD\"],[0,219161.0,0.0,\"STP\"],[0,6486201.0,0.0,\"SLV\"],[0,40812.0,0.0,\"SXM\"],[38,17500657.0,2.1713470528563588,\"SYR\"],[0,1160164.0,0.0,\"SWZ\"],[1,38718.0,25.827780360555813,\"TCA\"],[0,16425859.0,0.0,\"TCD\"],[0,400.0,0.0,\"ATF\"],[0,8278737.0,0.0,\"TGO\"],[3,69799978.0,0.04297995624010082,\"THA\"],[0,9537642.0,0.0,\"TJK\"],[0,1411.0,0.0,\"TKL\"],[0,1318442.0,0.0,\"TLS\"],[1,6031187.0,0.1658048407386473,\"TKM\"],[1,11818618.0,0.08461226177206167,\"TUN\"],[0,105697.0,0.0,\"TON\"],[26,84339067.0,0.30827943591076246,\"TUR\"],[0,1399491.0,0.0,\"TTO\"],[0,11792.0,0.0,\"TUV\"],[2,23503349.0,0.08509425614196513,\"TWN\"],[0,59734213.0,0.0,\"TZA\"],[31,44134693.0,0.7023952789249038,\"UKR\"],[0,45741000.0,0.0,\"UGA\"],[0,300.0,0.0,\"UMI\"],[330,329484123.0,1.001565711255835,\"USA\"],[1,3473727.0,0.2878752417792187,\"URY\"],[1,34232050.0,0.029212390143155315,\"UZB\"],[0,451.0,0.0,\"VAT\"],[0,110947.0,0.0,\"VCT\"],[1,28435943.0,0.035166760602945366,\"VEN\"],[0,30237.0,0.0,\"VGB\"],[0,106290.0,0.0,\"VIR\"],[4,97338583.0,0.041093674026464924,\"VNM\"],[0,307150.0,0.0,\"VUT\"],[0,11750.0,0.0,\"WLF\"],[0,198410.0,0.0,\"WSM\"],[1,29825968.0,0.03352783051332986,\"YEM\"],[0,226915.0,0.0,\"MYT\"],[0,59308690.0,0.0,\"ZAF\"],[0,18383956.0,0.0,\"ZMB\"],[0,14862927.0,0.0,\"ZWE\"]],\"geo\":\"geo\",\"hovertemplate\":\"\\u003cb\\u003e%{hovertext}\\u003c\\u002fb\\u003e\\u003cbr\\u003e\\u003cbr\\u003eattack_count=%{customdata[0]}\\u003cbr\\u003epopulation=%{customdata[1]}\\u003cbr\\u003eattack_density=%{customdata[2]:.2f}\\u003cbr\\u003eattack_density_normalized=%{z}\\u003cextra\\u003e\\u003c\\u002fextra\\u003e\",\"hovertext\":[\"AD\",\"AE\",\"AF\",\"AG\",\"AI\",\"AL\",\"AM\",\"AO\",\"AQ\",\"AR\",\"AS\",\"AT\",\"AU\",\"AW\",\"AX\",\"AZ\",\"BA\",\"BB\",\"BD\",\"BE\",\"BF\",\"BG\",\"BH\",\"BI\",\"BJ\",\"BL\",\"BM\",\"BN\",\"BO\",\"BQ\",\"BR\",\"BS\",\"BT\",\"BV\",\"BW\",\"BY\",\"BZ\",\"CA\",\"CC\",\"CD\",\"CF\",\"CG\",\"CH\",\"CI\",\"CK\",\"CL\",\"CM\",\"CN\",\"CO\",\"CR\",\"CU\",\"CV\",\"CW\",\"CX\",\"CY\",\"CZ\",\"DE\",\"DJ\",\"DK\",\"DM\",\"DO\",\"DZ\",\"EC\",\"EE\",\"EG\",\"EH\",\"ER\",\"ES\",\"ET\",\"FI\",\"FJ\",\"FK\",\"FM\",\"FO\",\"FR\",\"GA\",\"GB\",\"GD\",\"GE\",\"GF\",\"GG\",\"GH\",\"GI\",\"GL\",\"GM\",\"GN\",\"GP\",\"GQ\",\"GR\",\"GS\",\"GT\",\"GU\",\"GW\",\"GY\",\"HK\",\"HM\",\"HN\",\"HR\",\"HT\",\"HU\",\"ID\",\"IE\",\"IL\",\"IM\",\"IN\",\"IO\",\"IQ\",\"IR\",\"IS\",\"IT\",\"JE\",\"JM\",\"JO\",\"JP\",\"KE\",\"KG\",\"KH\",\"KI\",\"KM\",\"KN\",\"KP\",\"KR\",\"KW\",\"KY\",\"KZ\",\"LA\",\"LB\",\"LC\",\"LI\",\"LK\",\"LR\",\"LS\",\"LT\",\"LU\",\"LV\",\"LY\",\"MA\",\"MC\",\"MD\",\"ME\",\"MF\",\"MG\",\"MH\",\"MK\",\"ML\",\"MM\",\"MN\",\"MO\",\"MP\",\"MQ\",\"MR\",\"MS\",\"MT\",\"MU\",\"MV\",\"MW\",\"MX\",\"MY\",\"MZ\",\"NA\",\"NC\",\"NE\",\"NF\",\"NG\",\"NI\",\"NL\",\"NO\",\"NP\",\"NR\",\"NU\",\"NZ\",\"OM\",\"PA\",\"PE\",\"PF\",\"PG\",\"PH\",\"PK\",\"PL\",\"PM\",\"PN\",\"PR\",\"PS\",\"PT\",\"PW\",\"PY\",\"QA\",\"RE\",\"RO\",\"RS\",\"RU\",\"RW\",\"SA\",\"SB\",\"SC\",\"SD\",\"SE\",\"SG\",\"SH\",\"SI\",\"SJ\",\"SK\",\"SL\",\"SM\",\"SN\",\"SO\",\"SR\",\"SS\",\"ST\",\"SV\",\"SX\",\"SY\",\"SZ\",\"TC\",\"TD\",\"TF\",\"TG\",\"TH\",\"TJ\",\"TK\",\"TL\",\"TM\",\"TN\",\"TO\",\"TR\",\"TT\",\"TV\",\"TW\",\"TZ\",\"UA\",\"UG\",\"UM\",\"US\",\"UY\",\"UZ\",\"VA\",\"VC\",\"VE\",\"VG\",\"VI\",\"VN\",\"VU\",\"WF\",\"WS\",\"YE\",\"YT\",\"ZA\",\"ZM\",\"ZW\"],\"locations\":[\"AND\",\"ARE\",\"AFG\",\"ATG\",\"AIA\",\"ALB\",\"ARM\",\"AGO\",\"ATA\",\"ARG\",\"ASM\",\"AUT\",\"AUS\",\"ABW\",\"ALA\",\"AZE\",\"BIH\",\"BRB\",\"BGD\",\"BEL\",\"BFA\",\"BGR\",\"BHR\",\"BDI\",\"BEN\",\"BLM\",\"BMU\",\"BRN\",\"BOL\",\"BES\",\"BRA\",\"BHS\",\"BTN\",\"BVT\",\"BWA\",\"BLR\",\"BLZ\",\"CAN\",\"CCK\",\"COD\",\"CAF\",\"COG\",\"CHE\",\"CIV\",\"COK\",\"CHL\",\"CMR\",\"CHN\",\"COL\",\"CRI\",\"CUB\",\"CPV\",\"CUW\",\"CXR\",\"CYP\",\"CZE\",\"DEU\",\"DJI\",\"DNK\",\"DMA\",\"DOM\",\"DZA\",\"ECU\",\"EST\",\"EGY\",\"ESH\",\"ERI\",\"ESP\",\"ETH\",\"FIN\",\"FJI\",\"FLK\",\"FSM\",\"FRO\",\"FRA\",\"GAB\",\"GBR\",\"GRD\",\"GEO\",\"GUF\",\"GGY\",\"GHA\",\"GIB\",\"GRL\",\"GMB\",\"GIN\",\"GLP\",\"GNQ\",\"GRC\",\"SGS\",\"GTM\",\"GUM\",\"GNB\",\"GUY\",\"HKG\",\"HMD\",\"HND\",\"HRV\",\"HTI\",\"HUN\",\"IDN\",\"IRL\",\"ISR\",\"IMN\",\"IND\",\"IOT\",\"IRQ\",\"IRN\",\"ISL\",\"ITA\",\"JEY\",\"JAM\",\"JOR\",\"JPN\",\"KEN\",\"KGZ\",\"KHM\",\"KIR\",\"COM\",\"KNA\",\"PRK\",\"KOR\",\"KWT\",\"CYM\",\"KAZ\",\"LAO\",\"LBN\",\"LCA\",\"LIE\",\"LKA\",\"LBR\",\"LSO\",\"LTU\",\"LUX\",\"LVA\",\"LBY\",\"MAR\",\"MCO\",\"MDA\",\"MNE\",\"MAF\",\"MDG\",\"MHL\",\"MKD\",\"MLI\",\"MMR\",\"MNG\",\"MAC\",\"MNP\",\"MTQ\",\"MRT\",\"MSR\",\"MLT\",\"MUS\",\"MDV\",\"MWI\",\"MEX\",\"MYS\",\"MOZ\",\"NAM\",\"NCL\",\"NER\",\"NFK\",\"NGA\",\"NIC\",\"NLD\",\"NOR\",\"NPL\",\"NRU\",\"NIU\",\"NZL\",\"OMN\",\"PAN\",\"PER\",\"PYF\",\"PNG\",\"PHL\",\"PAK\",\"POL\",\"SPM\",\"PCN\",\"PRI\",\"PSE\",\"PRT\",\"PLW\",\"PRY\",\"QAT\",\"REU\",\"ROU\",\"SRB\",\"RUS\",\"RWA\",\"SAU\",\"SLB\",\"SYC\",\"SDN\",\"SWE\",\"SGP\",\"SHN\",\"SVN\",\"SJM\",\"SVK\",\"SLE\",\"SMR\",\"SEN\",\"SOM\",\"SUR\",\"SSD\",\"STP\",\"SLV\",\"SXM\",\"SYR\",\"SWZ\",\"TCA\",\"TCD\",\"ATF\",\"TGO\",\"THA\",\"TJK\",\"TKL\",\"TLS\",\"TKM\",\"TUN\",\"TON\",\"TUR\",\"TTO\",\"TUV\",\"TWN\",\"TZA\",\"UKR\",\"UGA\",\"UMI\",\"USA\",\"URY\",\"UZB\",\"VAT\",\"VCT\",\"VEN\",\"VGB\",\"VIR\",\"VNM\",\"VUT\",\"WLF\",\"WSM\",\"YEM\",\"MYT\",\"ZAF\",\"ZMB\",\"ZWE\"],\"name\":\"\",\"z\":[0.3493975903614458,0.3493975903614458,0.7871485943775101,0.3493975903614458,0.3493975903614458,0.9156626506024096,0.9397590361445783,0.3493975903614458,0.3493975903614458,0.8674698795180723,0.3493975903614458,0.8273092369477911,0.9317269076305221,0.3493975903614458,0.3493975903614458,0.8795180722891566,0.3493975903614458,0.3493975903614458,0.7349397590361446,0.8594377510040161,0.3493975903614458,0.9236947791164659,0.3493975903614458,0.3493975903614458,0.3493975903614458,0.3493975903614458,0.3493975903614458,0.3493975903614458,0.3493975903614458,0.3493975903614458,0.7228915662650602,0.3493975903614458,0.3493975903614458,0.3493975903614458,0.3493975903614458,0.3493975903614458,0.9959839357429718,0.9357429718875502,0.3493975903614458,0.3493975903614458,0.3493975903614458,0.3493975903614458,0.3493975903614458,0.3493975903614458,0.3493975903614458,0.7951807228915663,0.3493975903614458,0.7831325301204819,0.7188755020080321,0.3493975903614458,0.3493975903614458,0.3493975903614458,0.3493975903614458,0.3493975903614458,0.3493975903614458,0.3493975903614458,0.7269076305220884,0.3493975903614458,0.8554216867469879,0.3493975903614458,0.3493975903614458,0.3493975903614458,0.3493975903614458,0.9799196787148594,0.7068273092369478,0.3493975903614458,0.3493975903614458,0.3493975903614458,0.7028112449799196,0.3493975903614458,0.3493975903614458,0.3493975903614458,0.3493975903614458,0.3493975903614458,0.751004016064257,0.3493975903614458,0.9518072289156626,0.3493975903614458,0.3493975903614458,0.3493975903614458,0.3493975903614458,0.7550200803212851,0.3493975903614458,0.3493975903614458,0.3493975903614458,0.3493975903614458,0.3493975903614458,0.3493975903614458,0.3493975903614458,0.3493975903614458,0.3493975903614458,0.3493975903614458,0.3493975903614458,0.3493975903614458,0.8433734939759037,0.3493975903614458,0.3493975903614458,0.3493975903614458,0.3493975903614458,0.3493975903614458,0.7590361445783133,0.9196787148594378,0.927710843373494,0.3493975903614458,0.7108433734939759,0.3493975903614458,0.3493975903614458,0.8875502008032129,0.9879518072289156,0.7911646586345381,0.3493975903614458,0.9116465863453815,0.8232931726907631,0.714859437751004,0.3493975903614458,0.3493975903614458,0.8393574297188755,0.3493975903614458,0.3493975903614458,0.3493975903614458,0.963855421686747,0.8353413654618473,0.3493975903614458,0.3493975903614458,0.7991967871485943,0.3493975903614458,0.3493975903614458,0.3493975903614458,0.3493975903614458,0.3493975903614458,0.3493975903614458,0.3493975903614458,0.9477911646586346,0.3493975903614458,0.3493975903614458,0.8473895582329317,0.7429718875502008,0.3493975903614458,0.9558232931726908,0.3493975903614458,0.3493975903614458,0.3493975903614458,0.3493975903614458,0.3493975903614458,0.3493975903614458,0.3493975903614458,0.3493975903614458,0.3493975903614458,0.3493975903614458,0.3493975903614458,0.8835341365461847,0.3493975903614458,0.3493975903614458,0.3493975903614458,0.3493975903614458,0.3493975903614458,0.6987951807228916,0.8032128514056225,0.3493975903614458,0.3493975903614458,0.3493975903614458,0.3493975903614458,0.3493975903614458,0.7309236947791165,0.3493975903614458,0.891566265060241,0.3493975903614458,0.3493975903614458,0.3493975903614458,0.3493975903614458,0.9718875502008032,0.3493975903614458,0.3493975903614458,0.8152610441767069,0.3493975903614458,0.3493975903614458,0.7710843373493976,0.8714859437751004,0.7389558232931727,0.3493975903614458,0.3493975903614458,0.9076305220883534,0.9759036144578314,0.8192771084337349,0.3493975903614458,0.3493975903614458,0.3493975903614458,0.3493975903614458,0.9598393574297188,0.8995983935742972,0.9919678714859438,0.3493975903614458,0.8313253012048193,0.3493975903614458,0.3493975903614458,0.3493975903614458,0.8755020080321285,0.8634538152610441,0.3493975903614458,0.3493975903614458,0.3493975903614458,0.3493975903614458,0.3493975903614458,0.3493975903614458,0.3493975903614458,0.3493975903614458,0.3493975903614458,0.3493975903614458,0.3493975903614458,0.3493975903614458,0.3493975903614458,0.9839357429718876,0.3493975903614458,1.0,0.3493975903614458,0.3493975903614458,0.3493975903614458,0.7791164658634538,0.3493975903614458,0.3493975903614458,0.3493975903614458,0.8514056224899599,0.8072289156626506,0.3493975903614458,0.9036144578313253,0.3493975903614458,0.3493975903614458,0.8112449799196787,0.3493975903614458,0.9437751004016064,0.3493975903614458,0.3493975903614458,0.9678714859437751,0.8955823293172691,0.7469879518072289,0.3493975903614458,0.3493975903614458,0.7670682730923695,0.3493975903614458,0.3493975903614458,0.7751004016064257,0.3493975903614458,0.3493975903614458,0.3493975903614458,0.7630522088353414,0.3493975903614458,0.3493975903614458,0.3493975903614458,0.3493975903614458],\"type\":\"choropleth\"}],                        {\"template\":{\"data\":{\"histogram2dcontour\":[{\"type\":\"histogram2dcontour\",\"colorbar\":{\"outlinewidth\":0,\"ticks\":\"\"},\"colorscale\":[[0.0,\"#0d0887\"],[0.1111111111111111,\"#46039f\"],[0.2222222222222222,\"#7201a8\"],[0.3333333333333333,\"#9c179e\"],[0.4444444444444444,\"#bd3786\"],[0.5555555555555556,\"#d8576b\"],[0.6666666666666666,\"#ed7953\"],[0.7777777777777778,\"#fb9f3a\"],[0.8888888888888888,\"#fdca26\"],[1.0,\"#f0f921\"]]}],\"choropleth\":[{\"type\":\"choropleth\",\"colorbar\":{\"outlinewidth\":0,\"ticks\":\"\"}}],\"histogram2d\":[{\"type\":\"histogram2d\",\"colorbar\":{\"outlinewidth\":0,\"ticks\":\"\"},\"colorscale\":[[0.0,\"#0d0887\"],[0.1111111111111111,\"#46039f\"],[0.2222222222222222,\"#7201a8\"],[0.3333333333333333,\"#9c179e\"],[0.4444444444444444,\"#bd3786\"],[0.5555555555555556,\"#d8576b\"],[0.6666666666666666,\"#ed7953\"],[0.7777777777777778,\"#fb9f3a\"],[0.8888888888888888,\"#fdca26\"],[1.0,\"#f0f921\"]]}],\"heatmap\":[{\"type\":\"heatmap\",\"colorbar\":{\"outlinewidth\":0,\"ticks\":\"\"},\"colorscale\":[[0.0,\"#0d0887\"],[0.1111111111111111,\"#46039f\"],[0.2222222222222222,\"#7201a8\"],[0.3333333333333333,\"#9c179e\"],[0.4444444444444444,\"#bd3786\"],[0.5555555555555556,\"#d8576b\"],[0.6666666666666666,\"#ed7953\"],[0.7777777777777778,\"#fb9f3a\"],[0.8888888888888888,\"#fdca26\"],[1.0,\"#f0f921\"]]}],\"heatmapgl\":[{\"type\":\"heatmapgl\",\"colorbar\":{\"outlinewidth\":0,\"ticks\":\"\"},\"colorscale\":[[0.0,\"#0d0887\"],[0.1111111111111111,\"#46039f\"],[0.2222222222222222,\"#7201a8\"],[0.3333333333333333,\"#9c179e\"],[0.4444444444444444,\"#bd3786\"],[0.5555555555555556,\"#d8576b\"],[0.6666666666666666,\"#ed7953\"],[0.7777777777777778,\"#fb9f3a\"],[0.8888888888888888,\"#fdca26\"],[1.0,\"#f0f921\"]]}],\"contourcarpet\":[{\"type\":\"contourcarpet\",\"colorbar\":{\"outlinewidth\":0,\"ticks\":\"\"}}],\"contour\":[{\"type\":\"contour\",\"colorbar\":{\"outlinewidth\":0,\"ticks\":\"\"},\"colorscale\":[[0.0,\"#0d0887\"],[0.1111111111111111,\"#46039f\"],[0.2222222222222222,\"#7201a8\"],[0.3333333333333333,\"#9c179e\"],[0.4444444444444444,\"#bd3786\"],[0.5555555555555556,\"#d8576b\"],[0.6666666666666666,\"#ed7953\"],[0.7777777777777778,\"#fb9f3a\"],[0.8888888888888888,\"#fdca26\"],[1.0,\"#f0f921\"]]}],\"surface\":[{\"type\":\"surface\",\"colorbar\":{\"outlinewidth\":0,\"ticks\":\"\"},\"colorscale\":[[0.0,\"#0d0887\"],[0.1111111111111111,\"#46039f\"],[0.2222222222222222,\"#7201a8\"],[0.3333333333333333,\"#9c179e\"],[0.4444444444444444,\"#bd3786\"],[0.5555555555555556,\"#d8576b\"],[0.6666666666666666,\"#ed7953\"],[0.7777777777777778,\"#fb9f3a\"],[0.8888888888888888,\"#fdca26\"],[1.0,\"#f0f921\"]]}],\"mesh3d\":[{\"type\":\"mesh3d\",\"colorbar\":{\"outlinewidth\":0,\"ticks\":\"\"}}],\"scatter\":[{\"marker\":{\"line\":{\"color\":\"#283442\"}},\"type\":\"scatter\"}],\"parcoords\":[{\"type\":\"parcoords\",\"line\":{\"colorbar\":{\"outlinewidth\":0,\"ticks\":\"\"}}}],\"scatterpolargl\":[{\"type\":\"scatterpolargl\",\"marker\":{\"colorbar\":{\"outlinewidth\":0,\"ticks\":\"\"}}}],\"bar\":[{\"error_x\":{\"color\":\"#f2f5fa\"},\"error_y\":{\"color\":\"#f2f5fa\"},\"marker\":{\"line\":{\"color\":\"rgb(17,17,17)\",\"width\":0.5},\"pattern\":{\"fillmode\":\"overlay\",\"size\":10,\"solidity\":0.2}},\"type\":\"bar\"}],\"scattergeo\":[{\"type\":\"scattergeo\",\"marker\":{\"colorbar\":{\"outlinewidth\":0,\"ticks\":\"\"}}}],\"scatterpolar\":[{\"type\":\"scatterpolar\",\"marker\":{\"colorbar\":{\"outlinewidth\":0,\"ticks\":\"\"}}}],\"histogram\":[{\"marker\":{\"pattern\":{\"fillmode\":\"overlay\",\"size\":10,\"solidity\":0.2}},\"type\":\"histogram\"}],\"scattergl\":[{\"marker\":{\"line\":{\"color\":\"#283442\"}},\"type\":\"scattergl\"}],\"scatter3d\":[{\"type\":\"scatter3d\",\"line\":{\"colorbar\":{\"outlinewidth\":0,\"ticks\":\"\"}},\"marker\":{\"colorbar\":{\"outlinewidth\":0,\"ticks\":\"\"}}}],\"scattermapbox\":[{\"type\":\"scattermapbox\",\"marker\":{\"colorbar\":{\"outlinewidth\":0,\"ticks\":\"\"}}}],\"scatterternary\":[{\"type\":\"scatterternary\",\"marker\":{\"colorbar\":{\"outlinewidth\":0,\"ticks\":\"\"}}}],\"scattercarpet\":[{\"type\":\"scattercarpet\",\"marker\":{\"colorbar\":{\"outlinewidth\":0,\"ticks\":\"\"}}}],\"carpet\":[{\"aaxis\":{\"endlinecolor\":\"#A2B1C6\",\"gridcolor\":\"#506784\",\"linecolor\":\"#506784\",\"minorgridcolor\":\"#506784\",\"startlinecolor\":\"#A2B1C6\"},\"baxis\":{\"endlinecolor\":\"#A2B1C6\",\"gridcolor\":\"#506784\",\"linecolor\":\"#506784\",\"minorgridcolor\":\"#506784\",\"startlinecolor\":\"#A2B1C6\"},\"type\":\"carpet\"}],\"table\":[{\"cells\":{\"fill\":{\"color\":\"#506784\"},\"line\":{\"color\":\"rgb(17,17,17)\"}},\"header\":{\"fill\":{\"color\":\"#2a3f5f\"},\"line\":{\"color\":\"rgb(17,17,17)\"}},\"type\":\"table\"}],\"barpolar\":[{\"marker\":{\"line\":{\"color\":\"rgb(17,17,17)\",\"width\":0.5},\"pattern\":{\"fillmode\":\"overlay\",\"size\":10,\"solidity\":0.2}},\"type\":\"barpolar\"}],\"pie\":[{\"automargin\":true,\"type\":\"pie\"}]},\"layout\":{\"autotypenumbers\":\"strict\",\"colorway\":[\"#636efa\",\"#EF553B\",\"#00cc96\",\"#ab63fa\",\"#FFA15A\",\"#19d3f3\",\"#FF6692\",\"#B6E880\",\"#FF97FF\",\"#FECB52\"],\"font\":{\"color\":\"#f2f5fa\"},\"hovermode\":\"closest\",\"hoverlabel\":{\"align\":\"left\"},\"paper_bgcolor\":\"rgb(17,17,17)\",\"plot_bgcolor\":\"rgb(17,17,17)\",\"polar\":{\"bgcolor\":\"rgb(17,17,17)\",\"angularaxis\":{\"gridcolor\":\"#506784\",\"linecolor\":\"#506784\",\"ticks\":\"\"},\"radialaxis\":{\"gridcolor\":\"#506784\",\"linecolor\":\"#506784\",\"ticks\":\"\"}},\"ternary\":{\"bgcolor\":\"rgb(17,17,17)\",\"aaxis\":{\"gridcolor\":\"#506784\",\"linecolor\":\"#506784\",\"ticks\":\"\"},\"baxis\":{\"gridcolor\":\"#506784\",\"linecolor\":\"#506784\",\"ticks\":\"\"},\"caxis\":{\"gridcolor\":\"#506784\",\"linecolor\":\"#506784\",\"ticks\":\"\"}},\"coloraxis\":{\"colorbar\":{\"outlinewidth\":0,\"ticks\":\"\"}},\"colorscale\":{\"sequential\":[[0.0,\"#0d0887\"],[0.1111111111111111,\"#46039f\"],[0.2222222222222222,\"#7201a8\"],[0.3333333333333333,\"#9c179e\"],[0.4444444444444444,\"#bd3786\"],[0.5555555555555556,\"#d8576b\"],[0.6666666666666666,\"#ed7953\"],[0.7777777777777778,\"#fb9f3a\"],[0.8888888888888888,\"#fdca26\"],[1.0,\"#f0f921\"]],\"sequentialminus\":[[0.0,\"#0d0887\"],[0.1111111111111111,\"#46039f\"],[0.2222222222222222,\"#7201a8\"],[0.3333333333333333,\"#9c179e\"],[0.4444444444444444,\"#bd3786\"],[0.5555555555555556,\"#d8576b\"],[0.6666666666666666,\"#ed7953\"],[0.7777777777777778,\"#fb9f3a\"],[0.8888888888888888,\"#fdca26\"],[1.0,\"#f0f921\"]],\"diverging\":[[0,\"#8e0152\"],[0.1,\"#c51b7d\"],[0.2,\"#de77ae\"],[0.3,\"#f1b6da\"],[0.4,\"#fde0ef\"],[0.5,\"#f7f7f7\"],[0.6,\"#e6f5d0\"],[0.7,\"#b8e186\"],[0.8,\"#7fbc41\"],[0.9,\"#4d9221\"],[1,\"#276419\"]]},\"xaxis\":{\"gridcolor\":\"#283442\",\"linecolor\":\"#506784\",\"ticks\":\"\",\"title\":{\"standoff\":15},\"zerolinecolor\":\"#283442\",\"automargin\":true,\"zerolinewidth\":2},\"yaxis\":{\"gridcolor\":\"#283442\",\"linecolor\":\"#506784\",\"ticks\":\"\",\"title\":{\"standoff\":15},\"zerolinecolor\":\"#283442\",\"automargin\":true,\"zerolinewidth\":2},\"scene\":{\"xaxis\":{\"backgroundcolor\":\"rgb(17,17,17)\",\"gridcolor\":\"#506784\",\"linecolor\":\"#506784\",\"showbackground\":true,\"ticks\":\"\",\"zerolinecolor\":\"#C8D4E3\",\"gridwidth\":2},\"yaxis\":{\"backgroundcolor\":\"rgb(17,17,17)\",\"gridcolor\":\"#506784\",\"linecolor\":\"#506784\",\"showbackground\":true,\"ticks\":\"\",\"zerolinecolor\":\"#C8D4E3\",\"gridwidth\":2},\"zaxis\":{\"backgroundcolor\":\"rgb(17,17,17)\",\"gridcolor\":\"#506784\",\"linecolor\":\"#506784\",\"showbackground\":true,\"ticks\":\"\",\"zerolinecolor\":\"#C8D4E3\",\"gridwidth\":2}},\"shapedefaults\":{\"line\":{\"color\":\"#f2f5fa\"}},\"annotationdefaults\":{\"arrowcolor\":\"#f2f5fa\",\"arrowhead\":0,\"arrowwidth\":1},\"geo\":{\"bgcolor\":\"rgb(17,17,17)\",\"landcolor\":\"rgb(17,17,17)\",\"subunitcolor\":\"#506784\",\"showland\":true,\"showlakes\":true,\"lakecolor\":\"rgb(17,17,17)\"},\"title\":{\"x\":0.05},\"updatemenudefaults\":{\"bgcolor\":\"#506784\",\"borderwidth\":0},\"sliderdefaults\":{\"bgcolor\":\"#C8D4E3\",\"borderwidth\":1,\"bordercolor\":\"rgb(17,17,17)\",\"tickwidth\":0},\"mapbox\":{\"style\":\"dark\"}}},\"geo\":{\"domain\":{\"x\":[0.0,1.0],\"y\":[0.0,1.0]},\"projection\":{\"type\":\"natural earth\",\"rotation\":{\"lon\":10}},\"center\":{},\"showframe\":true,\"showcoastlines\":true,\"coastlinecolor\":\"rgba(0,0,0,0.5)\",\"coastlinewidth\":0.8,\"landcolor\":\"rgba(240,240,240,1)\",\"lakecolor\":\"white\",\"oceancolor\":\"white\",\"showocean\":true,\"bgcolor\":\"white\",\"showcountries\":true,\"countrycolor\":\"rgba(0,0,0,0.2)\",\"countrywidth\":0.5},\"coloraxis\":{\"colorbar\":{\"title\":{\"text\":\"Percentage\"},\"thickness\":15,\"lenmode\":\"pixels\",\"len\":300,\"yanchor\":\"middle\",\"y\":0.5,\"tickvals\":[0,0.25,0.5,0.75,1]},\"colorscale\":[[0.0,\"rgb(0,104,55)\"],[0.1,\"rgb(26,152,80)\"],[0.2,\"rgb(102,189,99)\"],[0.3,\"rgb(166,217,106)\"],[0.4,\"rgb(217,239,139)\"],[0.5,\"rgb(255,255,191)\"],[0.6,\"rgb(254,224,139)\"],[0.7,\"rgb(253,174,97)\"],[0.8,\"rgb(244,109,67)\"],[0.9,\"rgb(215,48,39)\"],[1.0,\"rgb(165,0,38)\"]],\"cmid\":0.5,\"cmin\":0.3,\"cmax\":1},\"legend\":{\"tracegroupgap\":0},\"title\":{\"text\":\"\\u003cb\\u003eGlobal Cyber Attack Density\\u003c\\u002fb\\u003e\\u003cbr\\u003e\\u003csup\\u003eQuantile Normalization\\u003c\\u002fsup\\u003e\",\"font\":{\"size\":20},\"y\":0.95,\"x\":0.5,\"xanchor\":\"center\",\"yanchor\":\"top\"},\"margin\":{\"r\":20,\"t\":80,\"l\":20,\"b\":20},\"font\":{\"family\":\"Arial\",\"size\":12,\"color\":\"#404040\"},\"hoverlabel\":{\"font\":{\"size\":12,\"family\":\"Arial\"},\"bgcolor\":\"white\"},\"plot_bgcolor\":\"white\",\"paper_bgcolor\":\"white\",\"annotations\":[{\"font\":{\"color\":\"#666666\",\"size\":10},\"showarrow\":false,\"text\":\"Source: Your Data Source | Visualization by Your Team\",\"x\":0.5,\"xref\":\"paper\",\"y\":-0.1,\"yref\":\"paper\"}]},                        {\"responsive\": true}                    ).then(function(){\n",
       "                            \n",
       "var gd = document.getElementById('3d1bdbe7-f8c5-4dfd-a2c4-733d7528df86');\n",
       "var x = new MutationObserver(function (mutations, observer) {{\n",
       "        var display = window.getComputedStyle(gd).display;\n",
       "        if (!display || display === 'none') {{\n",
       "            console.log([gd, 'removed!']);\n",
       "            Plotly.purge(gd);\n",
       "            observer.disconnect();\n",
       "        }}\n",
       "}});\n",
       "\n",
       "// Listen for the removal of the full notebook cells\n",
       "var notebookContainer = gd.closest('#notebook-container');\n",
       "if (notebookContainer) {{\n",
       "    x.observe(notebookContainer, {childList: true});\n",
       "}}\n",
       "\n",
       "// Listen for the clearing of the current output cell\n",
       "var outputEl = gd.closest('.output');\n",
       "if (outputEl) {{\n",
       "    x.observe(outputEl, {childList: true});\n",
       "}}\n",
       "\n",
       "                        })                };                });            </script>        </div>"
      ]
     },
     "metadata": {},
     "output_type": "display_data"
    }
   ],
   "execution_count": 30
  }
 ],
 "metadata": {
  "kernelspec": {
   "display_name": "Python 3",
   "language": "python",
   "name": "python3"
  },
  "language_info": {
   "codemirror_mode": {
    "name": "ipython",
    "version": 2
   },
   "file_extension": ".py",
   "mimetype": "text/x-python",
   "name": "python",
   "nbconvert_exporter": "python",
   "pygments_lexer": "ipython2",
   "version": "2.7.6"
  }
 },
 "nbformat": 4,
 "nbformat_minor": 5
}
