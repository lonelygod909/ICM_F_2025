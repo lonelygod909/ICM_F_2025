{
 "cells": [
  {
   "cell_type": "code",
   "id": "f8bb4eb8e3561957",
   "metadata": {
    "ExecuteTime": {
     "end_time": "2025-01-25T11:21:17.930156Z",
     "start_time": "2025-01-25T11:21:16.105591Z"
    }
   },
   "source": [
    "# 这个文件画地理热力图（受害）\n",
    "import pandas as pd\n",
    "\n",
    "\n",
    "df = pd.read_csv(\"vcdb.csv\", low_memory=False)"
   ],
   "outputs": [],
   "execution_count": 1
  },
  {
   "metadata": {
    "ExecuteTime": {
     "end_time": "2025-01-25T11:21:19.904488Z",
     "start_time": "2025-01-25T11:21:19.671936Z"
    }
   },
   "cell_type": "code",
   "source": [
    "\n",
    "country_columns = [col for col in df.columns if col.startswith('victim.country')]\n",
    "\n",
    "attacks_by_victim_country = df[country_columns]\n",
    "\n",
    "attacks_by_victim_country.to_csv(\"attacks_by_victim_country.csv\")"
   ],
   "id": "2272484c3cd3fc7e",
   "outputs": [],
   "execution_count": 4
  },
  {
   "metadata": {
    "ExecuteTime": {
     "end_time": "2025-01-25T11:21:22.172543Z",
     "start_time": "2025-01-25T11:21:20.951357Z"
    }
   },
   "cell_type": "code",
   "source": [
    "import pandas as pd\n",
    "import plotly.express as px\n",
    "import pycountry\n",
    "import requests\n",
    "\n",
    "\n",
    "df = pd.read_csv(\"attacks_by_victim_country.csv\", index_col=0)\n",
    "\n",
    "\n",
    "attack_counts = df.sum().reset_index()\n",
    "attack_counts.columns = ['country_code', 'attack_count']\n",
    "attack_counts['country_code'] = attack_counts['country_code'].str.replace('victim.country.', '')\n",
    "\n",
    "# 获取国家人口数据\n",
    "def get_population_data():\n",
    "    url = \"https://restcountries.com/v3.1/all?fields=cca2,population\"\n",
    "    response = requests.get(url)\n",
    "    data = response.json()\n",
    "    return {country['cca2']: country['population'] for country in data}\n",
    "\n",
    "population_data = get_population_data()\n",
    "\n",
    "\n",
    "attack_counts['population'] = attack_counts['country_code'].map(population_data)\n",
    "\n",
    "\n",
    "attack_counts['attack_density'] = (attack_counts['attack_count'] / attack_counts['population']) * 1_000_000\n",
    "\n",
    "# 转换国家代码为ISO3格式\n",
    "def code_to_iso3(code):\n",
    "    try:\n",
    "        return pycountry.countries.get(alpha_2=code).alpha_3\n",
    "    except:\n",
    "        return None\n",
    "\n",
    "attack_counts['iso3'] = attack_counts['country_code'].apply(code_to_iso3)\n",
    "\n",
    "\n",
    "valid_data = attack_counts.dropna(subset=['iso3', 'population'])\n",
    "valid_data.to_csv(\"valid_data_v.csv\")"
   ],
   "id": "8ff6770d4d9d082",
   "outputs": [],
   "execution_count": 5
  },
  {
   "metadata": {
    "ExecuteTime": {
     "end_time": "2025-01-25T11:21:23.753277Z",
     "start_time": "2025-01-25T11:21:23.745852Z"
    }
   },
   "cell_type": "code",
   "source": [
    "\n",
    "from scipy.stats import zscore\n",
    "\n",
    "\n",
    "valid_data = valid_data.copy()\n",
    "if valid_data['attack_density'].isnull().any():\n",
    "    valid_data['attack_density'].fillna(0, inplace=True)\n",
    "# 计算 Z-Score\n",
    "valid_data.loc[:, 'attack_density_zscore'] = zscore(valid_data['attack_density'])\n",
    "\n",
    "valid_data.loc[:, 'attack_density_zscore_clipped'] = valid_data['attack_density_zscore'].clip(-3, 3)\n",
    "valid_data.attack_density_zscore.head()"
   ],
   "id": "37e392faca3e6b80",
   "outputs": [
    {
     "name": "stderr",
     "output_type": "stream",
     "text": [
      "C:\\Users\\lucaslan\\AppData\\Local\\Temp\\ipykernel_19932\\137127016.py:6: FutureWarning: A value is trying to be set on a copy of a DataFrame or Series through chained assignment using an inplace method.\n",
      "The behavior will change in pandas 3.0. This inplace method will never work because the intermediate object on which we are setting values always behaves as a copy.\n",
      "\n",
      "For example, when doing 'df[col].method(value, inplace=True)', try using 'df.method({col: value}, inplace=True)' or df[col] = df[col].method(value) instead, to perform the operation inplace on the original object.\n",
      "\n",
      "\n",
      "  valid_data['attack_density'].fillna(0, inplace=True)  # 填充缺失值\n"
     ]
    },
    {
     "data": {
      "text/plain": [
       "0   -0.065112\n",
       "1   -0.064212\n",
       "2   -0.065082\n",
       "3   -0.059057\n",
       "4   -0.065112\n",
       "Name: attack_density_zscore, dtype: float64"
      ]
     },
     "execution_count": 6,
     "metadata": {},
     "output_type": "execute_result"
    }
   ],
   "execution_count": 6
  },
  {
   "metadata": {
    "ExecuteTime": {
     "end_time": "2025-01-25T11:29:55.738871Z",
     "start_time": "2025-01-25T11:29:55.703178Z"
    }
   },
   "cell_type": "code",
   "source": [
    "fig = px.choropleth(\n",
    "    valid_data,\n",
    "    locations=\"iso3\",\n",
    "    color=\"attack_density_zscore_clipped\",\n",
    "    hover_name=\"country_code\",\n",
    "    hover_data={\n",
    "        'attack_count': True,\n",
    "        'population': True,\n",
    "        'attack_density': ':.2f',\n",
    "        'iso3': False\n",
    "    },\n",
    "    color_continuous_scale=px.colors.diverging.RdYlGn_r,\n",
    "    color_continuous_midpoint=0,\n",
    "    labels={'attack_density_zscore_clipped': 'Attack Density Z-Score'},\n",
    "    title=\"<b>Global Cyber Attack Density</b><br><sup>Normalized by Z-Score</sup>\",\n",
    "    range_color=[-0.066, -0.05],\n",
    "    projection=\"natural earth\"\n",
    ")\n",
    "\n",
    "fig.update_layout(\n",
    "    margin={\"r\": 20, \"t\": 80, \"l\": 20, \"b\": 20},\n",
    "    coloraxis_colorbar=dict(\n",
    "        title=\"Z-Score\",\n",
    "        thickness=15,\n",
    "        lenmode=\"pixels\",\n",
    "        len=300,\n",
    "        yanchor=\"middle\",\n",
    "        y=0.5,\n",
    "        ticksuffix=\" σ\",\n",
    "        #dtick=0.005\n",
    "    ),\n",
    "    geo=dict(\n",
    "        showframe=True,\n",
    "        showcoastlines=True,\n",
    "        coastlinecolor=\"rgba(0,0,0,0.5)\",\n",
    "        coastlinewidth=0.8,\n",
    "        landcolor=\"rgba(240,240,240,1)\",\n",
    "        projection=dict(\n",
    "            type=\"natural earth\",\n",
    "            rotation_lon=10\n",
    "        ),\n",
    "        lakecolor=\"white\",\n",
    "        oceancolor=\"white\"\n",
    "    ),\n",
    "    title={\n",
    "        'text': \"<b>Global Cyber Victim Density</b><br><sup>Normalized by Z-Score</sup>\",\n",
    "        'y': 0.95,\n",
    "        'x': 0.5,\n",
    "        'xanchor': 'center',\n",
    "        'yanchor': 'top',\n",
    "        'font': {'size': 20}\n",
    "    },\n",
    "    font=dict(\n",
    "        family=\"Arial\",\n",
    "        size=12,\n",
    "        color=\"#404040\"\n",
    "    ),\n",
    "    plot_bgcolor=\"white\",\n",
    "    paper_bgcolor=\"white\",\n",
    "    hoverlabel=dict(\n",
    "        bgcolor=\"white\",\n",
    "        font_size=12,\n",
    "        font_family=\"Arial\"\n",
    "    )\n",
    ")\n",
    "\n",
    "fig.update_geos(\n",
    "    showocean=True,\n",
    "    oceancolor=\"white\",\n",
    "    lakecolor=\"white\",\n",
    "    bgcolor=\"white\",\n",
    "    showcountries=True,\n",
    "    countrycolor=\"rgba(0,0,0,0.2)\",\n",
    "    countrywidth=0.5\n",
    ")\n",
    "\n",
    "fig.add_annotation(\n",
    "    x=0.5,\n",
    "    y=-0.1,\n",
    "    text=\"Source: Your Data Source | Visualization by Your Team\",\n",
    "    showarrow=False,\n",
    "    xref=\"paper\",\n",
    "    yref=\"paper\",\n",
    "    font=dict(size=10, color=\"#666666\")\n",
    ")\n",
    "\n",
    "fig.show()"
   ],
   "id": "9ac7b9706817e7ba",
   "outputs": [
    {
     "data": {
      "application/vnd.plotly.v1+json": {
       "data": [
        {
         "coloraxis": "coloraxis",
         "customdata": [
          [
           0,
           77265.0,
           0.0,
           "AND"
          ],
          [
           15,
           9890400.0,
           1.516622179082747,
           "ARE"
          ],
          [
           2,
           4.0218234E7,
           0.04972868773899918,
           "AFG"
          ],
          [
           1,
           97928.0,
           10.211584020913323,
           "ATG"
          ],
          [
           0,
           13452.0,
           0.0,
           "AIA"
          ],
          [
           2,
           2837743.0,
           0.7047854580206876,
           "ALB"
          ],
          [
           6,
           2963234.0,
           2.0248147800679934,
           "ARM"
          ],
          [
           0,
           3.2866268E7,
           0.0,
           "AGO"
          ],
          [
           0,
           1000.0,
           0.0,
           "ATA"
          ],
          [
           13,
           4.5376763E7,
           0.28649024612002405,
           "ARG"
          ],
          [
           0,
           55197.0,
           0.0,
           "ASM"
          ],
          [
           7,
           8917205.0,
           0.7849993355541338,
           "AUT"
          ],
          [
           174,
           2.5687041E7,
           6.773843666929173,
           "AUS"
          ],
          [
           0,
           106766.0,
           0.0,
           "ABW"
          ],
          [
           0,
           29458.0,
           0.0,
           "ALA"
          ],
          [
           6,
           1.0110116E7,
           0.5934650007972213,
           "AZE"
          ],
          [
           1,
           3280815.0,
           0.30480231283994985,
           "BIH"
          ],
          [
           0,
           287371.0,
           0.0,
           "BRB"
          ],
          [
           7,
           1.64689383E8,
           0.04250425784884992,
           "BGD"
          ],
          [
           18,
           1.1555997E7,
           1.5576328031237807,
           "BEL"
          ],
          [
           0,
           2.0903278E7,
           0.0,
           "BFA"
          ],
          [
           4,
           6927288.0,
           0.5774265484559037,
           "BGR"
          ],
          [
           2,
           1701583.0,
           1.1753761056616105,
           "BHR"
          ],
          [
           0,
           1.1890781E7,
           0.0,
           "BDI"
          ],
          [
           0,
           1.2123198E7,
           0.0,
           "BEN"
          ],
          [
           0,
           4255.0,
           0.0,
           "BLM"
          ],
          [
           0,
           63903.0,
           0.0,
           "BMU"
          ],
          [
           1,
           437483.0,
           2.285803105492099,
           "BRN"
          ],
          [
           2,
           1.1673029E7,
           0.17133513503650166,
           "BOL"
          ],
          [
           0,
           25987.0,
           0.0,
           "BES"
          ],
          [
           15,
           2.12559409E8,
           0.07056850633226967,
           "BRA"
          ],
          [
           5,
           393248.0,
           12.714622833428269,
           "BHS"
          ],
          [
           0,
           771612.0,
           0.0,
           "BTN"
          ],
          [
           0,
           0.0,
           0.0,
           "BVT"
          ],
          [
           2,
           2351625.0,
           0.8504757348641896,
           "BWA"
          ],
          [
           4,
           9398861.0,
           0.4255834829347939,
           "BLR"
          ],
          [
           2,
           397621.0,
           5.02991542197218,
           "BLZ"
          ],
          [
           380,
           3.8005238E7,
           9.998621768925641,
           "CAN"
          ],
          [
           0,
           544.0,
           0.0,
           "CCK"
          ],
          [
           0,
           1.08407721E8,
           0.0,
           "COD"
          ],
          [
           0,
           4829764.0,
           0.0,
           "CAF"
          ],
          [
           1,
           5657000.0,
           0.176772140710624,
           "COG"
          ],
          [
           19,
           8654622.0,
           2.1953587343271606,
           "CHE"
          ],
          [
           0,
           2.6378275E7,
           0.0,
           "CIV"
          ],
          [
           7,
           18100.0,
           386.7403314917127,
           "COK"
          ],
          [
           6,
           1.9116209E7,
           0.31386976361264934,
           "CHL"
          ],
          [
           0,
           2.6545864E7,
           0.0,
           "CMR"
          ],
          [
           70,
           1.402112E9,
           0.04992468504655834,
           "CHN"
          ],
          [
           3,
           5.0882884E7,
           0.058958922218323946,
           "COL"
          ],
          [
           3,
           5094114.0,
           0.5889149712786168,
           "CRI"
          ],
          [
           0,
           1.1326616E7,
           0.0,
           "CUB"
          ],
          [
           0,
           555988.0,
           0.0,
           "CPV"
          ],
          [
           1,
           155014.0,
           6.451030229527656,
           "CUW"
          ],
          [
           0,
           2072.0,
           0.0,
           "CXR"
          ],
          [
           6,
           1207361.0,
           4.969516159624172,
           "CYP"
          ],
          [
           10,
           1.0698896E7,
           0.9346758768381336,
           "CZE"
          ],
          [
           57,
           8.3240525E7,
           0.6847626201300389,
           "DEU"
          ],
          [
           0,
           988002.0,
           0.0,
           "DJI"
          ],
          [
           12,
           5831404.0,
           2.057823467556012,
           "DNK"
          ],
          [
           0,
           71991.0,
           0.0,
           "DMA"
          ],
          [
           0,
           1.0847904E7,
           0.0,
           "DOM"
          ],
          [
           1,
           4.47E7,
           0.02237136465324385,
           "DZA"
          ],
          [
           5,
           1.764306E7,
           0.28339755121843946,
           "ECU"
          ],
          [
           4,
           1331057.0,
           3.0051305090615954,
           "EST"
          ],
          [
           6,
           1.02334403E8,
           0.05863130896459131,
           "EGY"
          ],
          [
           0,
           510713.0,
           0.0,
           "ESH"
          ],
          [
           0,
           5352000.0,
           0.0,
           "ERI"
          ],
          [
           24,
           4.7351567E7,
           0.5068470067738202,
           "ESP"
          ],
          [
           3,
           1.14963583E8,
           0.0260952200837373,
           "ETH"
          ],
          [
           9,
           5530719.0,
           1.627274862454592,
           "FIN"
          ],
          [
           0,
           896444.0,
           0.0,
           "FJI"
          ],
          [
           0,
           2563.0,
           0.0,
           "FLK"
          ],
          [
           0,
           115021.0,
           0.0,
           "FSM"
          ],
          [
           0,
           48865.0,
           0.0,
           "FRO"
          ],
          [
           35,
           6.7391582E7,
           0.5193526989765577,
           "FRA"
          ],
          [
           3,
           2225728.0,
           1.347873594617132,
           "GAB"
          ],
          [
           592,
           6.7215293E7,
           8.807519443529019,
           "GBR"
          ],
          [
           0,
           112519.0,
           0.0,
           "GRD"
          ],
          [
           2,
           3714000.0,
           0.5385029617662896,
           "GEO"
          ],
          [
           0,
           254541.0,
           0.0,
           "GUF"
          ],
          [
           0,
           62999.0,
           0.0,
           "GGY"
          ],
          [
           4,
           3.1072945E7,
           0.1287293495997885,
           "GHA"
          ],
          [
           0,
           33691.0,
           0.0,
           "GIB"
          ],
          [
           0,
           56367.0,
           0.0,
           "GRL"
          ],
          [
           0,
           2416664.0,
           0.0,
           "GMB"
          ],
          [
           0,
           1.3132792E7,
           0.0,
           "GIN"
          ],
          [
           0,
           400132.0,
           0.0,
           "GLP"
          ],
          [
           0,
           1402985.0,
           0.0,
           "GNQ"
          ],
          [
           1,
           1.0715549E7,
           0.09332233000847646,
           "GRC"
          ],
          [
           0,
           30.0,
           0.0,
           "SGS"
          ],
          [
           2,
           1.6858333E7,
           0.11863569191568347,
           "GTM"
          ],
          [
           1,
           168783.0,
           5.924767304764106,
           "GUM"
          ],
          [
           0,
           1967998.0,
           0.0,
           "GNB"
          ],
          [
           0,
           786559.0,
           0.0,
           "GUY"
          ],
          [
           19,
           7500700.0,
           2.5330969109549777,
           "HKG"
          ],
          [
           0,
           0.0,
           0.0,
           "HMD"
          ],
          [
           3,
           9904608.0,
           0.3028893218186929,
           "HND"
          ],
          [
           1,
           4047200.0,
           0.2470844040324175,
           "HRV"
          ],
          [
           1,
           1.1402533E7,
           0.08769981196283316,
           "HTI"
          ],
          [
           2,
           9749763.0,
           0.2051331914427048,
           "HUN"
          ],
          [
           15,
           2.73523621E8,
           0.054839870666965176,
           "IDN"
          ],
          [
           71,
           4994724.0,
           14.214999667649304,
           "IRL"
          ],
          [
           51,
           9216900.0,
           5.533313803990496,
           "ISR"
          ],
          [
           1,
           85032.0,
           11.760278483394487,
           "IMN"
          ],
          [
           151,
           1.380004385E9,
           0.10941994216924174,
           "IND"
          ],
          [
           0,
           3000.0,
           0.0,
           "IOT"
          ],
          [
           1,
           4.0222503E7,
           0.02486170490185556,
           "IRQ"
          ],
          [
           10,
           8.3992953E7,
           0.11905760713044582,
           "IRN"
          ],
          [
           2,
           366425.0,
           5.458142866889541,
           "ISL"
          ],
          [
           11,
           5.9554023E7,
           0.18470624562172736,
           "ITA"
          ],
          [
           0,
           100800.0,
           0.0,
           "JEY"
          ],
          [
           3,
           2961161.0,
           1.013116139244033,
           "JAM"
          ],
          [
           3,
           1.020314E7,
           0.294027132823817,
           "JOR"
          ],
          [
           68,
           1.25836021E8,
           0.5403858089250931,
           "JPN"
          ],
          [
           10,
           5.37713E7,
           0.18597281449397726,
           "KEN"
          ],
          [
           0,
           6591600.0,
           0.0,
           "KGZ"
          ],
          [
           2,
           1.6718971E7,
           0.11962458694377781,
           "KHM"
          ],
          [
           0,
           119446.0,
           0.0,
           "KIR"
          ],
          [
           0,
           869595.0,
           0.0,
           "COM"
          ],
          [
           0,
           53192.0,
           0.0,
           "KNA"
          ],
          [
           4,
           2.5778815E7,
           0.1551661703612055,
           "PRK"
          ],
          [
           53,
           5.1780579E7,
           1.0235497752931653,
           "KOR"
          ],
          [
           1,
           4270563.0,
           0.23416116329392633,
           "KWT"
          ],
          [
           1,
           65720.0,
           15.216068167985393,
           "CYM"
          ],
          [
           7,
           1.875444E7,
           0.37324494892942683,
           "KAZ"
          ],
          [
           0,
           7275556.0,
           0.0,
           "LAO"
          ],
          [
           3,
           6825442.0,
           0.43953197463255855,
           "LBN"
          ],
          [
           0,
           183629.0,
           0.0,
           "LCA"
          ],
          [
           0,
           38137.0,
           0.0,
           "LIE"
          ],
          [
           2,
           2.1919E7,
           0.09124503855102879,
           "LKA"
          ],
          [
           0,
           5057677.0,
           0.0,
           "LBR"
          ],
          [
           0,
           2142252.0,
           0.0,
           "LSO"
          ],
          [
           6,
           2794700.0,
           2.1469209575267474,
           "LTU"
          ],
          [
           2,
           632275.0,
           3.163180578071251,
           "LUX"
          ],
          [
           3,
           1901548.0,
           1.5776619890741648,
           "LVA"
          ],
          [
           0,
           6871287.0,
           0.0,
           "LBY"
          ],
          [
           2,
           3.6910558E7,
           0.05418503832968334,
           "MAR"
          ],
          [
           1,
           39244.0,
           25.481602283151563,
           "MCO"
          ],
          [
           2,
           2617820.0,
           0.7639944686800467,
           "MDA"
          ],
          [
           1,
           621718.0,
           1.6084462730691407,
           "MNE"
          ],
          [
           0,
           38659.0,
           0.0,
           "MAF"
          ],
          [
           0,
           2.7691019E7,
           0.0,
           "MDG"
          ],
          [
           0,
           59194.0,
           0.0,
           "MHL"
          ],
          [
           1,
           2077132.0,
           0.4814330528825323,
           "MKD"
          ],
          [
           1,
           2.0250834E7,
           0.04938068229683775,
           "MLI"
          ],
          [
           0,
           5.4409794E7,
           0.0,
           "MMR"
          ],
          [
           0,
           3278292.0,
           0.0,
           "MNG"
          ],
          [
           0,
           649342.0,
           0.0,
           "MAC"
          ],
          [
           0,
           57557.0,
           0.0,
           "MNP"
          ],
          [
           0,
           378243.0,
           0.0,
           "MTQ"
          ],
          [
           1,
           4649660.0,
           0.21506948895188036,
           "MRT"
          ],
          [
           0,
           4922.0,
           0.0,
           "MSR"
          ],
          [
           2,
           525285.0,
           3.807456904347164,
           "MLT"
          ],
          [
           0,
           1265740.0,
           0.0,
           "MUS"
          ],
          [
           0,
           540542.0,
           0.0,
           "MDV"
          ],
          [
           0,
           1.9129955E7,
           0.0,
           "MWI"
          ],
          [
           13,
           1.28932753E8,
           0.10082775475987858,
           "MEX"
          ],
          [
           11,
           3.2365998E7,
           0.33986284000882655,
           "MYS"
          ],
          [
           1,
           3.1255435E7,
           0.031994435527773014,
           "MOZ"
          ],
          [
           2,
           2540916.0,
           0.7871177166029888,
           "NAM"
          ],
          [
           0,
           271960.0,
           0.0,
           "NCL"
          ],
          [
           0,
           2.4206636E7,
           0.0,
           "NER"
          ],
          [
           0,
           2302.0,
           0.0,
           "NFK"
          ],
          [
           5,
           2.06139587E8,
           0.02425540903019273,
           "NGA"
          ],
          [
           0,
           6624554.0,
           0.0,
           "NIC"
          ],
          [
           26,
           1.6655799E7,
           1.5610178773170833,
           "NLD"
          ],
          [
           8,
           5379475.0,
           1.4871339675340067,
           "NOR"
          ],
          [
           2,
           2.9136808E7,
           0.06864169884360703,
           "NPL"
          ],
          [
           0,
           10834.0,
           0.0,
           "NRU"
          ],
          [
           0,
           1470.0,
           0.0,
           "NIU"
          ],
          [
           106,
           5084300.0,
           20.848494384674392,
           "NZL"
          ],
          [
           3,
           5106622.0,
           0.5874725013913307,
           "OMN"
          ],
          [
           5,
           4314768.0,
           1.1588108561109196,
           "PAN"
          ],
          [
           6,
           3.2971846E7,
           0.18197343272803104,
           "PER"
          ],
          [
           0,
           280904.0,
           0.0,
           "PYF"
          ],
          [
           0,
           8947027.0,
           0.0,
           "PNG"
          ],
          [
           16,
           1.09581085E8,
           0.1460106002783236,
           "PHL"
          ],
          [
           16,
           2.20892331E8,
           0.07243347891511906,
           "PAK"
          ],
          [
           8,
           3.7950802E7,
           0.21079923422962182,
           "POL"
          ],
          [
           0,
           6069.0,
           0.0,
           "SPM"
          ],
          [
           0,
           56.0,
           0.0,
           "PCN"
          ],
          [
           9,
           3194034.0,
           2.8177533488998554,
           "PRI"
          ],
          [
           3,
           4803269.0,
           0.624574638647138,
           "PSE"
          ],
          [
           3,
           1.0305564E7,
           0.2911048827604195,
           "PRT"
          ],
          [
           0,
           18092.0,
           0.0,
           "PLW"
          ],
          [
           2,
           7132530.0,
           0.2804054101419833,
           "PRY"
          ],
          [
           3,
           2881060.0,
           1.0412834165203084,
           "QAT"
          ],
          [
           0,
           840974.0,
           0.0,
           "REU"
          ],
          [
           5,
           1.9286123E7,
           0.25925376499983954,
           "ROU"
          ],
          [
           2,
           6908224.0,
           0.28951001009810917,
           "SRB"
          ],
          [
           31,
           1.4410408E8,
           0.21512229216549594,
           "RUS"
          ],
          [
           1,
           1.2952209E7,
           0.07720690733140578,
           "RWA"
          ],
          [
           4,
           3.4813867E7,
           0.11489674502404458,
           "SAU"
          ],
          [
           0,
           686878.0,
           0.0,
           "SLB"
          ],
          [
           0,
           98462.0,
           0.0,
           "SYC"
          ],
          [
           1,
           4.3849269E7,
           0.022805397280397082,
           "SDN"
          ],
          [
           15,
           1.0353442E7,
           1.448793550975608,
           "SWE"
          ],
          [
           27,
           5685807.0,
           4.748666284311092,
           "SGP"
          ],
          [
           0,
           53192.0,
           0.0,
           "SHN"
          ],
          [
           1,
           2100126.0,
           0.4761619064760876,
           "SVN"
          ],
          [
           0,
           2562.0,
           0.0,
           "SJM"
          ],
          [
           3,
           5458827.0,
           0.5495686161147807,
           "SVK"
          ],
          [
           0,
           7976985.0,
           0.0,
           "SLE"
          ],
          [
           0,
           33938.0,
           0.0,
           "SMR"
          ],
          [
           0,
           1.674393E7,
           0.0,
           "SEN"
          ],
          [
           0,
           1.5893219E7,
           0.0,
           "SOM"
          ],
          [
           0,
           586634.0,
           0.0,
           "SUR"
          ],
          [
           0,
           1.1193729E7,
           0.0,
           "SSD"
          ],
          [
           0,
           219161.0,
           0.0,
           "STP"
          ],
          [
           0,
           6486201.0,
           0.0,
           "SLV"
          ],
          [
           0,
           40812.0,
           0.0,
           "SXM"
          ],
          [
           11,
           1.7500657E7,
           0.6285478310899985,
           "SYR"
          ],
          [
           2,
           1160164.0,
           1.7238942080602397,
           "SWZ"
          ],
          [
           0,
           38718.0,
           0.0,
           "TCA"
          ],
          [
           0,
           1.6425859E7,
           0.0,
           "TCD"
          ],
          [
           0,
           400.0,
           0.0,
           "ATF"
          ],
          [
           0,
           8278737.0,
           0.0,
           "TGO"
          ],
          [
           17,
           6.9799978E7,
           0.24355308536057133,
           "THA"
          ],
          [
           2,
           9537642.0,
           0.20969543625143405,
           "TJK"
          ],
          [
           0,
           1411.0,
           0.0,
           "TKL"
          ],
          [
           1,
           1318442.0,
           0.7584709831755966,
           "TLS"
          ],
          [
           4,
           6031187.0,
           0.6632193629545892,
           "TKM"
          ],
          [
           1,
           1.1818618E7,
           0.08461226177206167,
           "TUN"
          ],
          [
           0,
           105697.0,
           0.0,
           "TON"
          ],
          [
           27,
           8.4339067E7,
           0.3201363372919456,
           "TUR"
          ],
          [
           1,
           1399491.0,
           0.7145455026148794,
           "TTO"
          ],
          [
           0,
           11792.0,
           0.0,
           "TUV"
          ],
          [
           23,
           2.3503349E7,
           0.9785839456325991,
           "TWN"
          ],
          [
           1,
           5.9734213E7,
           0.01674082489376733,
           "TZA"
          ],
          [
           19,
           4.4134693E7,
           0.4305003322442959,
           "UKR"
          ],
          [
           1,
           4.5741E7,
           0.02186222426269649,
           "UGA"
          ],
          [
           8,
           300.0,
           26666.666666666668,
           "UMI"
          ],
          [
           7493,
           3.29484123E8,
           22.741611740727183,
           "USA"
          ],
          [
           1,
           3473727.0,
           0.2878752417792187,
           "URY"
          ],
          [
           3,
           3.423205E7,
           0.08763717042946595,
           "UZB"
          ],
          [
           0,
           451.0,
           0.0,
           "VAT"
          ],
          [
           0,
           110947.0,
           0.0,
           "VCT"
          ],
          [
           6,
           2.8435943E7,
           0.21100056361767217,
           "VEN"
          ],
          [
           0,
           30237.0,
           0.0,
           "VGB"
          ],
          [
           2,
           106290.0,
           18.816445573431178,
           "VIR"
          ],
          [
           5,
           9.7338583E7,
           0.05136709253308115,
           "VNM"
          ],
          [
           0,
           307150.0,
           0.0,
           "VUT"
          ],
          [
           0,
           11750.0,
           0.0,
           "WLF"
          ],
          [
           0,
           198410.0,
           0.0,
           "WSM"
          ],
          [
           1,
           2.9825968E7,
           0.03352783051332986,
           "YEM"
          ],
          [
           0,
           226915.0,
           0.0,
           "MYT"
          ],
          [
           25,
           5.930869E7,
           0.4215233888996705,
           "ZAF"
          ],
          [
           1,
           1.8383956E7,
           0.05439525638551354,
           "ZMB"
          ],
          [
           4,
           1.4862927E7,
           0.26912599382342384,
           "ZWE"
          ]
         ],
         "geo": "geo",
         "hovertemplate": "<b>%{hovertext}</b><br><br>attack_count=%{customdata[0]}<br>population=%{customdata[1]}<br>attack_density=%{customdata[2]:.2f}<br>Attack Density Z-Score=%{z}<extra></extra>",
         "hovertext": [
          "AD",
          "AE",
          "AF",
          "AG",
          "AI",
          "AL",
          "AM",
          "AO",
          "AQ",
          "AR",
          "AS",
          "AT",
          "AU",
          "AW",
          "AX",
          "AZ",
          "BA",
          "BB",
          "BD",
          "BE",
          "BF",
          "BG",
          "BH",
          "BI",
          "BJ",
          "BL",
          "BM",
          "BN",
          "BO",
          "BQ",
          "BR",
          "BS",
          "BT",
          "BV",
          "BW",
          "BY",
          "BZ",
          "CA",
          "CC",
          "CD",
          "CF",
          "CG",
          "CH",
          "CI",
          "CK",
          "CL",
          "CM",
          "CN",
          "CO",
          "CR",
          "CU",
          "CV",
          "CW",
          "CX",
          "CY",
          "CZ",
          "DE",
          "DJ",
          "DK",
          "DM",
          "DO",
          "DZ",
          "EC",
          "EE",
          "EG",
          "EH",
          "ER",
          "ES",
          "ET",
          "FI",
          "FJ",
          "FK",
          "FM",
          "FO",
          "FR",
          "GA",
          "GB",
          "GD",
          "GE",
          "GF",
          "GG",
          "GH",
          "GI",
          "GL",
          "GM",
          "GN",
          "GP",
          "GQ",
          "GR",
          "GS",
          "GT",
          "GU",
          "GW",
          "GY",
          "HK",
          "HM",
          "HN",
          "HR",
          "HT",
          "HU",
          "ID",
          "IE",
          "IL",
          "IM",
          "IN",
          "IO",
          "IQ",
          "IR",
          "IS",
          "IT",
          "JE",
          "JM",
          "JO",
          "JP",
          "KE",
          "KG",
          "KH",
          "KI",
          "KM",
          "KN",
          "KP",
          "KR",
          "KW",
          "KY",
          "KZ",
          "LA",
          "LB",
          "LC",
          "LI",
          "LK",
          "LR",
          "LS",
          "LT",
          "LU",
          "LV",
          "LY",
          "MA",
          "MC",
          "MD",
          "ME",
          "MF",
          "MG",
          "MH",
          "MK",
          "ML",
          "MM",
          "MN",
          "MO",
          "MP",
          "MQ",
          "MR",
          "MS",
          "MT",
          "MU",
          "MV",
          "MW",
          "MX",
          "MY",
          "MZ",
          "NA",
          "NC",
          "NE",
          "NF",
          "NG",
          "NI",
          "NL",
          "NO",
          "NP",
          "NR",
          "NU",
          "NZ",
          "OM",
          "PA",
          "PE",
          "PF",
          "PG",
          "PH",
          "PK",
          "PL",
          "PM",
          "PN",
          "PR",
          "PS",
          "PT",
          "PW",
          "PY",
          "QA",
          "RE",
          "RO",
          "RS",
          "RU",
          "RW",
          "SA",
          "SB",
          "SC",
          "SD",
          "SE",
          "SG",
          "SH",
          "SI",
          "SJ",
          "SK",
          "SL",
          "SM",
          "SN",
          "SO",
          "SR",
          "SS",
          "ST",
          "SV",
          "SX",
          "SY",
          "SZ",
          "TC",
          "TD",
          "TF",
          "TG",
          "TH",
          "TJ",
          "TK",
          "TL",
          "TM",
          "TN",
          "TO",
          "TR",
          "TT",
          "TV",
          "TW",
          "TZ",
          "UA",
          "UG",
          "UM",
          "US",
          "UY",
          "UZ",
          "VA",
          "VC",
          "VE",
          "VG",
          "VI",
          "VN",
          "VU",
          "WF",
          "WS",
          "YE",
          "YT",
          "ZA",
          "ZM",
          "ZW"
         ],
         "locations": [
          "AND",
          "ARE",
          "AFG",
          "ATG",
          "AIA",
          "ALB",
          "ARM",
          "AGO",
          "ATA",
          "ARG",
          "ASM",
          "AUT",
          "AUS",
          "ABW",
          "ALA",
          "AZE",
          "BIH",
          "BRB",
          "BGD",
          "BEL",
          "BFA",
          "BGR",
          "BHR",
          "BDI",
          "BEN",
          "BLM",
          "BMU",
          "BRN",
          "BOL",
          "BES",
          "BRA",
          "BHS",
          "BTN",
          "BVT",
          "BWA",
          "BLR",
          "BLZ",
          "CAN",
          "CCK",
          "COD",
          "CAF",
          "COG",
          "CHE",
          "CIV",
          "COK",
          "CHL",
          "CMR",
          "CHN",
          "COL",
          "CRI",
          "CUB",
          "CPV",
          "CUW",
          "CXR",
          "CYP",
          "CZE",
          "DEU",
          "DJI",
          "DNK",
          "DMA",
          "DOM",
          "DZA",
          "ECU",
          "EST",
          "EGY",
          "ESH",
          "ERI",
          "ESP",
          "ETH",
          "FIN",
          "FJI",
          "FLK",
          "FSM",
          "FRO",
          "FRA",
          "GAB",
          "GBR",
          "GRD",
          "GEO",
          "GUF",
          "GGY",
          "GHA",
          "GIB",
          "GRL",
          "GMB",
          "GIN",
          "GLP",
          "GNQ",
          "GRC",
          "SGS",
          "GTM",
          "GUM",
          "GNB",
          "GUY",
          "HKG",
          "HMD",
          "HND",
          "HRV",
          "HTI",
          "HUN",
          "IDN",
          "IRL",
          "ISR",
          "IMN",
          "IND",
          "IOT",
          "IRQ",
          "IRN",
          "ISL",
          "ITA",
          "JEY",
          "JAM",
          "JOR",
          "JPN",
          "KEN",
          "KGZ",
          "KHM",
          "KIR",
          "COM",
          "KNA",
          "PRK",
          "KOR",
          "KWT",
          "CYM",
          "KAZ",
          "LAO",
          "LBN",
          "LCA",
          "LIE",
          "LKA",
          "LBR",
          "LSO",
          "LTU",
          "LUX",
          "LVA",
          "LBY",
          "MAR",
          "MCO",
          "MDA",
          "MNE",
          "MAF",
          "MDG",
          "MHL",
          "MKD",
          "MLI",
          "MMR",
          "MNG",
          "MAC",
          "MNP",
          "MTQ",
          "MRT",
          "MSR",
          "MLT",
          "MUS",
          "MDV",
          "MWI",
          "MEX",
          "MYS",
          "MOZ",
          "NAM",
          "NCL",
          "NER",
          "NFK",
          "NGA",
          "NIC",
          "NLD",
          "NOR",
          "NPL",
          "NRU",
          "NIU",
          "NZL",
          "OMN",
          "PAN",
          "PER",
          "PYF",
          "PNG",
          "PHL",
          "PAK",
          "POL",
          "SPM",
          "PCN",
          "PRI",
          "PSE",
          "PRT",
          "PLW",
          "PRY",
          "QAT",
          "REU",
          "ROU",
          "SRB",
          "RUS",
          "RWA",
          "SAU",
          "SLB",
          "SYC",
          "SDN",
          "SWE",
          "SGP",
          "SHN",
          "SVN",
          "SJM",
          "SVK",
          "SLE",
          "SMR",
          "SEN",
          "SOM",
          "SUR",
          "SSD",
          "STP",
          "SLV",
          "SXM",
          "SYR",
          "SWZ",
          "TCA",
          "TCD",
          "ATF",
          "TGO",
          "THA",
          "TJK",
          "TKL",
          "TLS",
          "TKM",
          "TUN",
          "TON",
          "TUR",
          "TTO",
          "TUV",
          "TWN",
          "TZA",
          "UKR",
          "UGA",
          "UMI",
          "USA",
          "URY",
          "UZB",
          "VAT",
          "VCT",
          "VEN",
          "VGB",
          "VIR",
          "VNM",
          "VUT",
          "WLF",
          "WSM",
          "YEM",
          "MYT",
          "ZAF",
          "ZMB",
          "ZWE"
         ],
         "name": "",
         "z": [
          -0.06511161813432953,
          -0.06421236841467003,
          -0.06508213253855948,
          -0.0590568708183965,
          -0.06511161813432953,
          -0.06469373018947004,
          -0.06391104613396502,
          -0.06511161813432953,
          -0.06511161813432953,
          -0.06494174967462889,
          -0.06511161813432953,
          -0.06464616903160252,
          -0.06109520778340916,
          -0.06511161813432953,
          -0.06511161813432953,
          -0.06475973534970786,
          -0.06493089191381582,
          -0.06511161813432953,
          -0.06508641611468213,
          -0.06418805201426352,
          -0.06511161813432953,
          -0.06476924501794996,
          -0.06441470320845792,
          -0.06511161813432953,
          -0.06511161813432953,
          -0.06511161813432953,
          -0.06511161813432953,
          -0.0637562985101277,
          -0.0650100285134771,
          -0.06511161813432953,
          -0.06506977599960982,
          -0.057572745779547185,
          -0.06511161813432953,
          -0.06511161813432953,
          -0.06460734615631034,
          -0.06485927721976352,
          -0.062129233928491866,
          -0.05918314237636211,
          -0.06511161813432953,
          -0.06511161813432953,
          -0.06511161813432953,
          -0.06500680475353499,
          -0.06380992562737324,
          -0.06511161813432953,
          0.1641980540249426,
          -0.06492551555662031,
          -0.06511161813432953,
          -0.06508201632601406,
          -0.06507665966213554,
          -0.06476243319550326,
          -0.06511161813432953,
          -0.06511161813432953,
          -0.061286613327314096,
          -0.06511161813432953,
          -0.062165046420543726,
          -0.06455742142547781,
          -0.06470560231662754,
          -0.06511161813432953,
          -0.06389147431615877,
          -0.06511161813432953,
          -0.06511161813432953,
          -0.06509835349685404,
          -0.06494358342403701,
          -0.06332978821974378,
          -0.06507685391363116,
          -0.06511161813432953,
          -0.06511161813432953,
          -0.06481109369585186,
          -0.06509614551387838,
          -0.06414675919711138,
          -0.06511161813432953,
          -0.06511161813432953,
          -0.06511161813432953,
          -0.06511161813432953,
          -0.06480367870458867,
          -0.06431242439391557,
          -0.05988938183861665,
          -0.06511161813432953,
          -0.06479232395277074,
          -0.06511161813432953,
          -0.06511161813432953,
          -0.0650352907318056,
          -0.06511161813432953,
          -0.06511161813432953,
          -0.06511161813432953,
          -0.06511161813432953,
          -0.06511161813432953,
          -0.06511161813432953,
          -0.06505628459097541,
          -0.06511161813432953,
          -0.06504127555714177,
          -0.0615986500323602,
          -0.06511161813432953,
          -0.06511161813432953,
          -0.06360967076835847,
          -0.06511161813432953,
          -0.06493202618223369,
          -0.06496511455280286,
          -0.0650596183466372,
          -0.06498998865571458,
          -0.06507910196846858,
          -0.05668312840076608,
          -0.06183075428065973,
          -0.05813860450234758,
          -0.06504673984514325,
          -0.06511161813432953,
          -0.06509687690116572,
          -0.06504102539125087,
          -0.061875325331411116,
          -0.06500210039030237,
          -0.06511161813432953,
          -0.06451091189597773,
          -0.06493728083370795,
          -0.06479120755753198,
          -0.06500134940451369,
          -0.06511161813432953,
          -0.0650406892123098,
          -0.06511161813432953,
          -0.06511161813432953,
          -0.06511161813432953,
          -0.06501961556630541,
          -0.06450472548750921,
          -0.06497277712082505,
          -0.05608956556046024,
          -0.06489031026984075,
          -0.06511161813432953,
          -0.06485100675041269,
          -0.06511161813432953,
          -0.06511161813432953,
          -0.06505751627793512,
          -0.06511161813432953,
          -0.06511161813432953,
          -0.06383864580423036,
          -0.06323607570372675,
          -0.06417617612315545,
          -0.06511161813432953,
          -0.06507949023774479,
          -0.05000282965316835,
          -0.06465862343251298,
          -0.06415792321934446,
          -0.06511161813432953,
          -0.06511161813432953,
          -0.06511161813432953,
          -0.06482616237361971,
          -0.065082338881181,
          -0.06511161813432953,
          -0.06511161813432953,
          -0.06511161813432953,
          -0.06511161813432953,
          -0.06511161813432953,
          -0.06498409713383602,
          -0.06511161813432953,
          -0.06285406539570311,
          -0.06511161813432953,
          -0.06511161813432953,
          -0.06511161813432953,
          -0.06505183440476772,
          -0.06491010350015383,
          -0.06509264769622317,
          -0.06464491298142035,
          -0.06511161813432953,
          -0.06511161813432953,
          -0.06511161813432953,
          -0.06509723639174957,
          -0.06511161813432953,
          -0.06418604490460804,
          -0.064229852839159,
          -0.06507091846021597,
          -0.06511161813432953,
          -0.06511161813432953,
          -0.05274993505378804,
          -0.06476328847815681,
          -0.06442452523019808,
          -0.06500372075512521,
          -0.06511161813432953,
          -0.06511161813432953,
          -0.06502504417202139,
          -0.06506867020273079,
          -0.0649866290929586,
          -0.06511161813432953,
          -0.06511161813432953,
          -0.06344088962724657,
          -0.064741289534065,
          -0.0649390135213783,
          -0.06511161813432953,
          -0.06494535755213648,
          -0.06449421069211587,
          -0.06511161813432953,
          -0.06495789898218197,
          -0.06493995916810183,
          -0.06498406582526378,
          -0.06506583989718445,
          -0.06504349248828685,
          -0.06511161813432953,
          -0.06511161813432953,
          -0.06509809614619434,
          -0.0642525859953249,
          -0.06229599478144812,
          -0.06511161813432953,
          -0.06482928779074315,
          -0.06511161813432953,
          -0.06478576280213745,
          -0.06511161813432953,
          -0.06511161813432953,
          -0.06511161813432953,
          -0.06511161813432953,
          -0.06511161813432953,
          -0.06511161813432953,
          -0.06511161813432953,
          -0.06511161813432953,
          -0.06511161813432953,
          -0.06473893371187033,
          -0.06408947075662312,
          -0.06511161813432953,
          -0.06511161813432953,
          -0.06511161813432953,
          -0.06511161813432953,
          -0.06496720837509394,
          -0.0649872835671158,
          -0.06511161813432953,
          -0.06466189846887993,
          -0.06471837594491991,
          -0.06506144904559558,
          -0.06511161813432953,
          -0.06492179992150561,
          -0.06468794317310814,
          -0.06511161813432953,
          -0.0645313870451959,
          -0.06510169200882496,
          -0.06485636187576806,
          -0.06509865538110694,
          3.0,
          -0.05162745031421855,
          -0.06494092847012889,
          -0.06505965548863744,
          -0.06511161813432953,
          -0.06511161813432953,
          -0.06498650971886646,
          -0.06511161813432953,
          -0.0539547963231584,
          -0.06508116108035975,
          -0.06511161813432953,
          -0.06511161813432953,
          -0.06511161813432953,
          -0.0650917385014152,
          -0.06511161813432953,
          -0.06486168456845803,
          -0.0650793655933011,
          -0.064952045448504
         ],
         "type": "choropleth"
        }
       ],
       "layout": {
        "template": {
         "data": {
          "histogram2dcontour": [
           {
            "type": "histogram2dcontour",
            "colorbar": {
             "outlinewidth": 0,
             "ticks": ""
            },
            "colorscale": [
             [
              0.0,
              "#0d0887"
             ],
             [
              0.1111111111111111,
              "#46039f"
             ],
             [
              0.2222222222222222,
              "#7201a8"
             ],
             [
              0.3333333333333333,
              "#9c179e"
             ],
             [
              0.4444444444444444,
              "#bd3786"
             ],
             [
              0.5555555555555556,
              "#d8576b"
             ],
             [
              0.6666666666666666,
              "#ed7953"
             ],
             [
              0.7777777777777778,
              "#fb9f3a"
             ],
             [
              0.8888888888888888,
              "#fdca26"
             ],
             [
              1.0,
              "#f0f921"
             ]
            ]
           }
          ],
          "choropleth": [
           {
            "type": "choropleth",
            "colorbar": {
             "outlinewidth": 0,
             "ticks": ""
            }
           }
          ],
          "histogram2d": [
           {
            "type": "histogram2d",
            "colorbar": {
             "outlinewidth": 0,
             "ticks": ""
            },
            "colorscale": [
             [
              0.0,
              "#0d0887"
             ],
             [
              0.1111111111111111,
              "#46039f"
             ],
             [
              0.2222222222222222,
              "#7201a8"
             ],
             [
              0.3333333333333333,
              "#9c179e"
             ],
             [
              0.4444444444444444,
              "#bd3786"
             ],
             [
              0.5555555555555556,
              "#d8576b"
             ],
             [
              0.6666666666666666,
              "#ed7953"
             ],
             [
              0.7777777777777778,
              "#fb9f3a"
             ],
             [
              0.8888888888888888,
              "#fdca26"
             ],
             [
              1.0,
              "#f0f921"
             ]
            ]
           }
          ],
          "heatmap": [
           {
            "type": "heatmap",
            "colorbar": {
             "outlinewidth": 0,
             "ticks": ""
            },
            "colorscale": [
             [
              0.0,
              "#0d0887"
             ],
             [
              0.1111111111111111,
              "#46039f"
             ],
             [
              0.2222222222222222,
              "#7201a8"
             ],
             [
              0.3333333333333333,
              "#9c179e"
             ],
             [
              0.4444444444444444,
              "#bd3786"
             ],
             [
              0.5555555555555556,
              "#d8576b"
             ],
             [
              0.6666666666666666,
              "#ed7953"
             ],
             [
              0.7777777777777778,
              "#fb9f3a"
             ],
             [
              0.8888888888888888,
              "#fdca26"
             ],
             [
              1.0,
              "#f0f921"
             ]
            ]
           }
          ],
          "heatmapgl": [
           {
            "type": "heatmapgl",
            "colorbar": {
             "outlinewidth": 0,
             "ticks": ""
            },
            "colorscale": [
             [
              0.0,
              "#0d0887"
             ],
             [
              0.1111111111111111,
              "#46039f"
             ],
             [
              0.2222222222222222,
              "#7201a8"
             ],
             [
              0.3333333333333333,
              "#9c179e"
             ],
             [
              0.4444444444444444,
              "#bd3786"
             ],
             [
              0.5555555555555556,
              "#d8576b"
             ],
             [
              0.6666666666666666,
              "#ed7953"
             ],
             [
              0.7777777777777778,
              "#fb9f3a"
             ],
             [
              0.8888888888888888,
              "#fdca26"
             ],
             [
              1.0,
              "#f0f921"
             ]
            ]
           }
          ],
          "contourcarpet": [
           {
            "type": "contourcarpet",
            "colorbar": {
             "outlinewidth": 0,
             "ticks": ""
            }
           }
          ],
          "contour": [
           {
            "type": "contour",
            "colorbar": {
             "outlinewidth": 0,
             "ticks": ""
            },
            "colorscale": [
             [
              0.0,
              "#0d0887"
             ],
             [
              0.1111111111111111,
              "#46039f"
             ],
             [
              0.2222222222222222,
              "#7201a8"
             ],
             [
              0.3333333333333333,
              "#9c179e"
             ],
             [
              0.4444444444444444,
              "#bd3786"
             ],
             [
              0.5555555555555556,
              "#d8576b"
             ],
             [
              0.6666666666666666,
              "#ed7953"
             ],
             [
              0.7777777777777778,
              "#fb9f3a"
             ],
             [
              0.8888888888888888,
              "#fdca26"
             ],
             [
              1.0,
              "#f0f921"
             ]
            ]
           }
          ],
          "surface": [
           {
            "type": "surface",
            "colorbar": {
             "outlinewidth": 0,
             "ticks": ""
            },
            "colorscale": [
             [
              0.0,
              "#0d0887"
             ],
             [
              0.1111111111111111,
              "#46039f"
             ],
             [
              0.2222222222222222,
              "#7201a8"
             ],
             [
              0.3333333333333333,
              "#9c179e"
             ],
             [
              0.4444444444444444,
              "#bd3786"
             ],
             [
              0.5555555555555556,
              "#d8576b"
             ],
             [
              0.6666666666666666,
              "#ed7953"
             ],
             [
              0.7777777777777778,
              "#fb9f3a"
             ],
             [
              0.8888888888888888,
              "#fdca26"
             ],
             [
              1.0,
              "#f0f921"
             ]
            ]
           }
          ],
          "mesh3d": [
           {
            "type": "mesh3d",
            "colorbar": {
             "outlinewidth": 0,
             "ticks": ""
            }
           }
          ],
          "scatter": [
           {
            "marker": {
             "line": {
              "color": "#283442"
             }
            },
            "type": "scatter"
           }
          ],
          "parcoords": [
           {
            "type": "parcoords",
            "line": {
             "colorbar": {
              "outlinewidth": 0,
              "ticks": ""
             }
            }
           }
          ],
          "scatterpolargl": [
           {
            "type": "scatterpolargl",
            "marker": {
             "colorbar": {
              "outlinewidth": 0,
              "ticks": ""
             }
            }
           }
          ],
          "bar": [
           {
            "error_x": {
             "color": "#f2f5fa"
            },
            "error_y": {
             "color": "#f2f5fa"
            },
            "marker": {
             "line": {
              "color": "rgb(17,17,17)",
              "width": 0.5
             },
             "pattern": {
              "fillmode": "overlay",
              "size": 10,
              "solidity": 0.2
             }
            },
            "type": "bar"
           }
          ],
          "scattergeo": [
           {
            "type": "scattergeo",
            "marker": {
             "colorbar": {
              "outlinewidth": 0,
              "ticks": ""
             }
            }
           }
          ],
          "scatterpolar": [
           {
            "type": "scatterpolar",
            "marker": {
             "colorbar": {
              "outlinewidth": 0,
              "ticks": ""
             }
            }
           }
          ],
          "histogram": [
           {
            "marker": {
             "pattern": {
              "fillmode": "overlay",
              "size": 10,
              "solidity": 0.2
             }
            },
            "type": "histogram"
           }
          ],
          "scattergl": [
           {
            "marker": {
             "line": {
              "color": "#283442"
             }
            },
            "type": "scattergl"
           }
          ],
          "scatter3d": [
           {
            "type": "scatter3d",
            "line": {
             "colorbar": {
              "outlinewidth": 0,
              "ticks": ""
             }
            },
            "marker": {
             "colorbar": {
              "outlinewidth": 0,
              "ticks": ""
             }
            }
           }
          ],
          "scattermapbox": [
           {
            "type": "scattermapbox",
            "marker": {
             "colorbar": {
              "outlinewidth": 0,
              "ticks": ""
             }
            }
           }
          ],
          "scatterternary": [
           {
            "type": "scatterternary",
            "marker": {
             "colorbar": {
              "outlinewidth": 0,
              "ticks": ""
             }
            }
           }
          ],
          "scattercarpet": [
           {
            "type": "scattercarpet",
            "marker": {
             "colorbar": {
              "outlinewidth": 0,
              "ticks": ""
             }
            }
           }
          ],
          "carpet": [
           {
            "aaxis": {
             "endlinecolor": "#A2B1C6",
             "gridcolor": "#506784",
             "linecolor": "#506784",
             "minorgridcolor": "#506784",
             "startlinecolor": "#A2B1C6"
            },
            "baxis": {
             "endlinecolor": "#A2B1C6",
             "gridcolor": "#506784",
             "linecolor": "#506784",
             "minorgridcolor": "#506784",
             "startlinecolor": "#A2B1C6"
            },
            "type": "carpet"
           }
          ],
          "table": [
           {
            "cells": {
             "fill": {
              "color": "#506784"
             },
             "line": {
              "color": "rgb(17,17,17)"
             }
            },
            "header": {
             "fill": {
              "color": "#2a3f5f"
             },
             "line": {
              "color": "rgb(17,17,17)"
             }
            },
            "type": "table"
           }
          ],
          "barpolar": [
           {
            "marker": {
             "line": {
              "color": "rgb(17,17,17)",
              "width": 0.5
             },
             "pattern": {
              "fillmode": "overlay",
              "size": 10,
              "solidity": 0.2
             }
            },
            "type": "barpolar"
           }
          ],
          "pie": [
           {
            "automargin": true,
            "type": "pie"
           }
          ]
         },
         "layout": {
          "autotypenumbers": "strict",
          "colorway": [
           "#636efa",
           "#EF553B",
           "#00cc96",
           "#ab63fa",
           "#FFA15A",
           "#19d3f3",
           "#FF6692",
           "#B6E880",
           "#FF97FF",
           "#FECB52"
          ],
          "font": {
           "color": "#f2f5fa"
          },
          "hovermode": "closest",
          "hoverlabel": {
           "align": "left"
          },
          "paper_bgcolor": "rgb(17,17,17)",
          "plot_bgcolor": "rgb(17,17,17)",
          "polar": {
           "bgcolor": "rgb(17,17,17)",
           "angularaxis": {
            "gridcolor": "#506784",
            "linecolor": "#506784",
            "ticks": ""
           },
           "radialaxis": {
            "gridcolor": "#506784",
            "linecolor": "#506784",
            "ticks": ""
           }
          },
          "ternary": {
           "bgcolor": "rgb(17,17,17)",
           "aaxis": {
            "gridcolor": "#506784",
            "linecolor": "#506784",
            "ticks": ""
           },
           "baxis": {
            "gridcolor": "#506784",
            "linecolor": "#506784",
            "ticks": ""
           },
           "caxis": {
            "gridcolor": "#506784",
            "linecolor": "#506784",
            "ticks": ""
           }
          },
          "coloraxis": {
           "colorbar": {
            "outlinewidth": 0,
            "ticks": ""
           }
          },
          "colorscale": {
           "sequential": [
            [
             0.0,
             "#0d0887"
            ],
            [
             0.1111111111111111,
             "#46039f"
            ],
            [
             0.2222222222222222,
             "#7201a8"
            ],
            [
             0.3333333333333333,
             "#9c179e"
            ],
            [
             0.4444444444444444,
             "#bd3786"
            ],
            [
             0.5555555555555556,
             "#d8576b"
            ],
            [
             0.6666666666666666,
             "#ed7953"
            ],
            [
             0.7777777777777778,
             "#fb9f3a"
            ],
            [
             0.8888888888888888,
             "#fdca26"
            ],
            [
             1.0,
             "#f0f921"
            ]
           ],
           "sequentialminus": [
            [
             0.0,
             "#0d0887"
            ],
            [
             0.1111111111111111,
             "#46039f"
            ],
            [
             0.2222222222222222,
             "#7201a8"
            ],
            [
             0.3333333333333333,
             "#9c179e"
            ],
            [
             0.4444444444444444,
             "#bd3786"
            ],
            [
             0.5555555555555556,
             "#d8576b"
            ],
            [
             0.6666666666666666,
             "#ed7953"
            ],
            [
             0.7777777777777778,
             "#fb9f3a"
            ],
            [
             0.8888888888888888,
             "#fdca26"
            ],
            [
             1.0,
             "#f0f921"
            ]
           ],
           "diverging": [
            [
             0,
             "#8e0152"
            ],
            [
             0.1,
             "#c51b7d"
            ],
            [
             0.2,
             "#de77ae"
            ],
            [
             0.3,
             "#f1b6da"
            ],
            [
             0.4,
             "#fde0ef"
            ],
            [
             0.5,
             "#f7f7f7"
            ],
            [
             0.6,
             "#e6f5d0"
            ],
            [
             0.7,
             "#b8e186"
            ],
            [
             0.8,
             "#7fbc41"
            ],
            [
             0.9,
             "#4d9221"
            ],
            [
             1,
             "#276419"
            ]
           ]
          },
          "xaxis": {
           "gridcolor": "#283442",
           "linecolor": "#506784",
           "ticks": "",
           "title": {
            "standoff": 15
           },
           "zerolinecolor": "#283442",
           "automargin": true,
           "zerolinewidth": 2
          },
          "yaxis": {
           "gridcolor": "#283442",
           "linecolor": "#506784",
           "ticks": "",
           "title": {
            "standoff": 15
           },
           "zerolinecolor": "#283442",
           "automargin": true,
           "zerolinewidth": 2
          },
          "scene": {
           "xaxis": {
            "backgroundcolor": "rgb(17,17,17)",
            "gridcolor": "#506784",
            "linecolor": "#506784",
            "showbackground": true,
            "ticks": "",
            "zerolinecolor": "#C8D4E3",
            "gridwidth": 2
           },
           "yaxis": {
            "backgroundcolor": "rgb(17,17,17)",
            "gridcolor": "#506784",
            "linecolor": "#506784",
            "showbackground": true,
            "ticks": "",
            "zerolinecolor": "#C8D4E3",
            "gridwidth": 2
           },
           "zaxis": {
            "backgroundcolor": "rgb(17,17,17)",
            "gridcolor": "#506784",
            "linecolor": "#506784",
            "showbackground": true,
            "ticks": "",
            "zerolinecolor": "#C8D4E3",
            "gridwidth": 2
           }
          },
          "shapedefaults": {
           "line": {
            "color": "#f2f5fa"
           }
          },
          "annotationdefaults": {
           "arrowcolor": "#f2f5fa",
           "arrowhead": 0,
           "arrowwidth": 1
          },
          "geo": {
           "bgcolor": "rgb(17,17,17)",
           "landcolor": "rgb(17,17,17)",
           "subunitcolor": "#506784",
           "showland": true,
           "showlakes": true,
           "lakecolor": "rgb(17,17,17)"
          },
          "title": {
           "x": 0.05
          },
          "updatemenudefaults": {
           "bgcolor": "#506784",
           "borderwidth": 0
          },
          "sliderdefaults": {
           "bgcolor": "#C8D4E3",
           "borderwidth": 1,
           "bordercolor": "rgb(17,17,17)",
           "tickwidth": 0
          },
          "mapbox": {
           "style": "dark"
          }
         }
        },
        "geo": {
         "domain": {
          "x": [
           0.0,
           1.0
          ],
          "y": [
           0.0,
           1.0
          ]
         },
         "projection": {
          "type": "natural earth",
          "rotation": {
           "lon": 10
          }
         },
         "center": {},
         "showframe": true,
         "showcoastlines": true,
         "coastlinecolor": "rgba(0,0,0,0.5)",
         "coastlinewidth": 0.8,
         "landcolor": "rgba(240,240,240,1)",
         "lakecolor": "white",
         "oceancolor": "white",
         "showocean": true,
         "bgcolor": "white",
         "showcountries": true,
         "countrycolor": "rgba(0,0,0,0.2)",
         "countrywidth": 0.5
        },
        "coloraxis": {
         "colorbar": {
          "title": {
           "text": "Z-Score"
          },
          "thickness": 15,
          "lenmode": "pixels",
          "len": 300,
          "yanchor": "middle",
          "y": 0.5,
          "ticksuffix": " σ",
          "dtick": 0.005
         },
         "colorscale": [
          [
           0.0,
           "rgb(0,104,55)"
          ],
          [
           0.1,
           "rgb(26,152,80)"
          ],
          [
           0.2,
           "rgb(102,189,99)"
          ],
          [
           0.3,
           "rgb(166,217,106)"
          ],
          [
           0.4,
           "rgb(217,239,139)"
          ],
          [
           0.5,
           "rgb(255,255,191)"
          ],
          [
           0.6,
           "rgb(254,224,139)"
          ],
          [
           0.7,
           "rgb(253,174,97)"
          ],
          [
           0.8,
           "rgb(244,109,67)"
          ],
          [
           0.9,
           "rgb(215,48,39)"
          ],
          [
           1.0,
           "rgb(165,0,38)"
          ]
         ],
         "cmid": 0,
         "cmin": -0.066,
         "cmax": -0.05
        },
        "legend": {
         "tracegroupgap": 0
        },
        "title": {
         "text": "<b>Global Cyber Victim Density</b><br><sup>Normalized by Z-Score</sup>",
         "font": {
          "size": 20
         },
         "y": 0.95,
         "x": 0.5,
         "xanchor": "center",
         "yanchor": "top"
        },
        "margin": {
         "r": 20,
         "t": 80,
         "l": 20,
         "b": 20
        },
        "font": {
         "family": "Arial",
         "size": 12,
         "color": "#404040"
        },
        "hoverlabel": {
         "font": {
          "size": 12,
          "family": "Arial"
         },
         "bgcolor": "white"
        },
        "plot_bgcolor": "white",
        "paper_bgcolor": "white",
        "annotations": [
         {
          "font": {
           "color": "#666666",
           "size": 10
          },
          "showarrow": false,
          "text": "Source: Your Data Source | Visualization by Your Team",
          "x": 0.5,
          "xref": "paper",
          "y": -0.1,
          "yref": "paper"
         }
        ]
       },
       "config": {
        "plotlyServerURL": "https://plot.ly"
       }
      },
      "text/html": [
       "<div>                            <div id=\"893126e2-293a-4e03-887a-80596c7aa813\" class=\"plotly-graph-div\" style=\"height:525px; width:100%;\"></div>            <script type=\"text/javascript\">                require([\"plotly\"], function(Plotly) {                    window.PLOTLYENV=window.PLOTLYENV || {};                                    if (document.getElementById(\"893126e2-293a-4e03-887a-80596c7aa813\")) {                    Plotly.newPlot(                        \"893126e2-293a-4e03-887a-80596c7aa813\",                        [{\"coloraxis\":\"coloraxis\",\"customdata\":[[0,77265.0,0.0,\"AND\"],[15,9890400.0,1.516622179082747,\"ARE\"],[2,40218234.0,0.04972868773899918,\"AFG\"],[1,97928.0,10.211584020913323,\"ATG\"],[0,13452.0,0.0,\"AIA\"],[2,2837743.0,0.7047854580206876,\"ALB\"],[6,2963234.0,2.0248147800679934,\"ARM\"],[0,32866268.0,0.0,\"AGO\"],[0,1000.0,0.0,\"ATA\"],[13,45376763.0,0.28649024612002405,\"ARG\"],[0,55197.0,0.0,\"ASM\"],[7,8917205.0,0.7849993355541338,\"AUT\"],[174,25687041.0,6.773843666929173,\"AUS\"],[0,106766.0,0.0,\"ABW\"],[0,29458.0,0.0,\"ALA\"],[6,10110116.0,0.5934650007972213,\"AZE\"],[1,3280815.0,0.30480231283994985,\"BIH\"],[0,287371.0,0.0,\"BRB\"],[7,164689383.0,0.04250425784884992,\"BGD\"],[18,11555997.0,1.5576328031237807,\"BEL\"],[0,20903278.0,0.0,\"BFA\"],[4,6927288.0,0.5774265484559037,\"BGR\"],[2,1701583.0,1.1753761056616105,\"BHR\"],[0,11890781.0,0.0,\"BDI\"],[0,12123198.0,0.0,\"BEN\"],[0,4255.0,0.0,\"BLM\"],[0,63903.0,0.0,\"BMU\"],[1,437483.0,2.285803105492099,\"BRN\"],[2,11673029.0,0.17133513503650166,\"BOL\"],[0,25987.0,0.0,\"BES\"],[15,212559409.0,0.07056850633226967,\"BRA\"],[5,393248.0,12.714622833428269,\"BHS\"],[0,771612.0,0.0,\"BTN\"],[0,0.0,0.0,\"BVT\"],[2,2351625.0,0.8504757348641896,\"BWA\"],[4,9398861.0,0.4255834829347939,\"BLR\"],[2,397621.0,5.02991542197218,\"BLZ\"],[380,38005238.0,9.998621768925641,\"CAN\"],[0,544.0,0.0,\"CCK\"],[0,108407721.0,0.0,\"COD\"],[0,4829764.0,0.0,\"CAF\"],[1,5657000.0,0.176772140710624,\"COG\"],[19,8654622.0,2.1953587343271606,\"CHE\"],[0,26378275.0,0.0,\"CIV\"],[7,18100.0,386.7403314917127,\"COK\"],[6,19116209.0,0.31386976361264934,\"CHL\"],[0,26545864.0,0.0,\"CMR\"],[70,1402112000.0,0.04992468504655834,\"CHN\"],[3,50882884.0,0.058958922218323946,\"COL\"],[3,5094114.0,0.5889149712786168,\"CRI\"],[0,11326616.0,0.0,\"CUB\"],[0,555988.0,0.0,\"CPV\"],[1,155014.0,6.451030229527656,\"CUW\"],[0,2072.0,0.0,\"CXR\"],[6,1207361.0,4.969516159624172,\"CYP\"],[10,10698896.0,0.9346758768381336,\"CZE\"],[57,83240525.0,0.6847626201300389,\"DEU\"],[0,988002.0,0.0,\"DJI\"],[12,5831404.0,2.057823467556012,\"DNK\"],[0,71991.0,0.0,\"DMA\"],[0,10847904.0,0.0,\"DOM\"],[1,44700000.0,0.02237136465324385,\"DZA\"],[5,17643060.0,0.28339755121843946,\"ECU\"],[4,1331057.0,3.0051305090615954,\"EST\"],[6,102334403.0,0.05863130896459131,\"EGY\"],[0,510713.0,0.0,\"ESH\"],[0,5352000.0,0.0,\"ERI\"],[24,47351567.0,0.5068470067738202,\"ESP\"],[3,114963583.0,0.0260952200837373,\"ETH\"],[9,5530719.0,1.627274862454592,\"FIN\"],[0,896444.0,0.0,\"FJI\"],[0,2563.0,0.0,\"FLK\"],[0,115021.0,0.0,\"FSM\"],[0,48865.0,0.0,\"FRO\"],[35,67391582.0,0.5193526989765577,\"FRA\"],[3,2225728.0,1.347873594617132,\"GAB\"],[592,67215293.0,8.807519443529019,\"GBR\"],[0,112519.0,0.0,\"GRD\"],[2,3714000.0,0.5385029617662896,\"GEO\"],[0,254541.0,0.0,\"GUF\"],[0,62999.0,0.0,\"GGY\"],[4,31072945.0,0.1287293495997885,\"GHA\"],[0,33691.0,0.0,\"GIB\"],[0,56367.0,0.0,\"GRL\"],[0,2416664.0,0.0,\"GMB\"],[0,13132792.0,0.0,\"GIN\"],[0,400132.0,0.0,\"GLP\"],[0,1402985.0,0.0,\"GNQ\"],[1,10715549.0,0.09332233000847646,\"GRC\"],[0,30.0,0.0,\"SGS\"],[2,16858333.0,0.11863569191568347,\"GTM\"],[1,168783.0,5.924767304764106,\"GUM\"],[0,1967998.0,0.0,\"GNB\"],[0,786559.0,0.0,\"GUY\"],[19,7500700.0,2.5330969109549777,\"HKG\"],[0,0.0,0.0,\"HMD\"],[3,9904608.0,0.3028893218186929,\"HND\"],[1,4047200.0,0.2470844040324175,\"HRV\"],[1,11402533.0,0.08769981196283316,\"HTI\"],[2,9749763.0,0.2051331914427048,\"HUN\"],[15,273523621.0,0.054839870666965176,\"IDN\"],[71,4994724.0,14.214999667649304,\"IRL\"],[51,9216900.0,5.533313803990496,\"ISR\"],[1,85032.0,11.760278483394487,\"IMN\"],[151,1380004385.0,0.10941994216924174,\"IND\"],[0,3000.0,0.0,\"IOT\"],[1,40222503.0,0.02486170490185556,\"IRQ\"],[10,83992953.0,0.11905760713044582,\"IRN\"],[2,366425.0,5.458142866889541,\"ISL\"],[11,59554023.0,0.18470624562172736,\"ITA\"],[0,100800.0,0.0,\"JEY\"],[3,2961161.0,1.013116139244033,\"JAM\"],[3,10203140.0,0.294027132823817,\"JOR\"],[68,125836021.0,0.5403858089250931,\"JPN\"],[10,53771300.0,0.18597281449397726,\"KEN\"],[0,6591600.0,0.0,\"KGZ\"],[2,16718971.0,0.11962458694377781,\"KHM\"],[0,119446.0,0.0,\"KIR\"],[0,869595.0,0.0,\"COM\"],[0,53192.0,0.0,\"KNA\"],[4,25778815.0,0.1551661703612055,\"PRK\"],[53,51780579.0,1.0235497752931653,\"KOR\"],[1,4270563.0,0.23416116329392633,\"KWT\"],[1,65720.0,15.216068167985393,\"CYM\"],[7,18754440.0,0.37324494892942683,\"KAZ\"],[0,7275556.0,0.0,\"LAO\"],[3,6825442.0,0.43953197463255855,\"LBN\"],[0,183629.0,0.0,\"LCA\"],[0,38137.0,0.0,\"LIE\"],[2,21919000.0,0.09124503855102879,\"LKA\"],[0,5057677.0,0.0,\"LBR\"],[0,2142252.0,0.0,\"LSO\"],[6,2794700.0,2.1469209575267474,\"LTU\"],[2,632275.0,3.163180578071251,\"LUX\"],[3,1901548.0,1.5776619890741648,\"LVA\"],[0,6871287.0,0.0,\"LBY\"],[2,36910558.0,0.05418503832968334,\"MAR\"],[1,39244.0,25.481602283151563,\"MCO\"],[2,2617820.0,0.7639944686800467,\"MDA\"],[1,621718.0,1.6084462730691407,\"MNE\"],[0,38659.0,0.0,\"MAF\"],[0,27691019.0,0.0,\"MDG\"],[0,59194.0,0.0,\"MHL\"],[1,2077132.0,0.4814330528825323,\"MKD\"],[1,20250834.0,0.04938068229683775,\"MLI\"],[0,54409794.0,0.0,\"MMR\"],[0,3278292.0,0.0,\"MNG\"],[0,649342.0,0.0,\"MAC\"],[0,57557.0,0.0,\"MNP\"],[0,378243.0,0.0,\"MTQ\"],[1,4649660.0,0.21506948895188036,\"MRT\"],[0,4922.0,0.0,\"MSR\"],[2,525285.0,3.807456904347164,\"MLT\"],[0,1265740.0,0.0,\"MUS\"],[0,540542.0,0.0,\"MDV\"],[0,19129955.0,0.0,\"MWI\"],[13,128932753.0,0.10082775475987858,\"MEX\"],[11,32365998.0,0.33986284000882655,\"MYS\"],[1,31255435.0,0.031994435527773014,\"MOZ\"],[2,2540916.0,0.7871177166029888,\"NAM\"],[0,271960.0,0.0,\"NCL\"],[0,24206636.0,0.0,\"NER\"],[0,2302.0,0.0,\"NFK\"],[5,206139587.0,0.02425540903019273,\"NGA\"],[0,6624554.0,0.0,\"NIC\"],[26,16655799.0,1.5610178773170833,\"NLD\"],[8,5379475.0,1.4871339675340067,\"NOR\"],[2,29136808.0,0.06864169884360703,\"NPL\"],[0,10834.0,0.0,\"NRU\"],[0,1470.0,0.0,\"NIU\"],[106,5084300.0,20.848494384674392,\"NZL\"],[3,5106622.0,0.5874725013913307,\"OMN\"],[5,4314768.0,1.1588108561109196,\"PAN\"],[6,32971846.0,0.18197343272803104,\"PER\"],[0,280904.0,0.0,\"PYF\"],[0,8947027.0,0.0,\"PNG\"],[16,109581085.0,0.1460106002783236,\"PHL\"],[16,220892331.0,0.07243347891511906,\"PAK\"],[8,37950802.0,0.21079923422962182,\"POL\"],[0,6069.0,0.0,\"SPM\"],[0,56.0,0.0,\"PCN\"],[9,3194034.0,2.8177533488998554,\"PRI\"],[3,4803269.0,0.624574638647138,\"PSE\"],[3,10305564.0,0.2911048827604195,\"PRT\"],[0,18092.0,0.0,\"PLW\"],[2,7132530.0,0.2804054101419833,\"PRY\"],[3,2881060.0,1.0412834165203084,\"QAT\"],[0,840974.0,0.0,\"REU\"],[5,19286123.0,0.25925376499983954,\"ROU\"],[2,6908224.0,0.28951001009810917,\"SRB\"],[31,144104080.0,0.21512229216549594,\"RUS\"],[1,12952209.0,0.07720690733140578,\"RWA\"],[4,34813867.0,0.11489674502404458,\"SAU\"],[0,686878.0,0.0,\"SLB\"],[0,98462.0,0.0,\"SYC\"],[1,43849269.0,0.022805397280397082,\"SDN\"],[15,10353442.0,1.448793550975608,\"SWE\"],[27,5685807.0,4.748666284311092,\"SGP\"],[0,53192.0,0.0,\"SHN\"],[1,2100126.0,0.4761619064760876,\"SVN\"],[0,2562.0,0.0,\"SJM\"],[3,5458827.0,0.5495686161147807,\"SVK\"],[0,7976985.0,0.0,\"SLE\"],[0,33938.0,0.0,\"SMR\"],[0,16743930.0,0.0,\"SEN\"],[0,15893219.0,0.0,\"SOM\"],[0,586634.0,0.0,\"SUR\"],[0,11193729.0,0.0,\"SSD\"],[0,219161.0,0.0,\"STP\"],[0,6486201.0,0.0,\"SLV\"],[0,40812.0,0.0,\"SXM\"],[11,17500657.0,0.6285478310899985,\"SYR\"],[2,1160164.0,1.7238942080602397,\"SWZ\"],[0,38718.0,0.0,\"TCA\"],[0,16425859.0,0.0,\"TCD\"],[0,400.0,0.0,\"ATF\"],[0,8278737.0,0.0,\"TGO\"],[17,69799978.0,0.24355308536057133,\"THA\"],[2,9537642.0,0.20969543625143405,\"TJK\"],[0,1411.0,0.0,\"TKL\"],[1,1318442.0,0.7584709831755966,\"TLS\"],[4,6031187.0,0.6632193629545892,\"TKM\"],[1,11818618.0,0.08461226177206167,\"TUN\"],[0,105697.0,0.0,\"TON\"],[27,84339067.0,0.3201363372919456,\"TUR\"],[1,1399491.0,0.7145455026148794,\"TTO\"],[0,11792.0,0.0,\"TUV\"],[23,23503349.0,0.9785839456325991,\"TWN\"],[1,59734213.0,0.01674082489376733,\"TZA\"],[19,44134693.0,0.4305003322442959,\"UKR\"],[1,45741000.0,0.02186222426269649,\"UGA\"],[8,300.0,26666.666666666668,\"UMI\"],[7493,329484123.0,22.741611740727183,\"USA\"],[1,3473727.0,0.2878752417792187,\"URY\"],[3,34232050.0,0.08763717042946595,\"UZB\"],[0,451.0,0.0,\"VAT\"],[0,110947.0,0.0,\"VCT\"],[6,28435943.0,0.21100056361767217,\"VEN\"],[0,30237.0,0.0,\"VGB\"],[2,106290.0,18.816445573431178,\"VIR\"],[5,97338583.0,0.05136709253308115,\"VNM\"],[0,307150.0,0.0,\"VUT\"],[0,11750.0,0.0,\"WLF\"],[0,198410.0,0.0,\"WSM\"],[1,29825968.0,0.03352783051332986,\"YEM\"],[0,226915.0,0.0,\"MYT\"],[25,59308690.0,0.4215233888996705,\"ZAF\"],[1,18383956.0,0.05439525638551354,\"ZMB\"],[4,14862927.0,0.26912599382342384,\"ZWE\"]],\"geo\":\"geo\",\"hovertemplate\":\"\\u003cb\\u003e%{hovertext}\\u003c\\u002fb\\u003e\\u003cbr\\u003e\\u003cbr\\u003eattack_count=%{customdata[0]}\\u003cbr\\u003epopulation=%{customdata[1]}\\u003cbr\\u003eattack_density=%{customdata[2]:.2f}\\u003cbr\\u003eAttack Density Z-Score=%{z}\\u003cextra\\u003e\\u003c\\u002fextra\\u003e\",\"hovertext\":[\"AD\",\"AE\",\"AF\",\"AG\",\"AI\",\"AL\",\"AM\",\"AO\",\"AQ\",\"AR\",\"AS\",\"AT\",\"AU\",\"AW\",\"AX\",\"AZ\",\"BA\",\"BB\",\"BD\",\"BE\",\"BF\",\"BG\",\"BH\",\"BI\",\"BJ\",\"BL\",\"BM\",\"BN\",\"BO\",\"BQ\",\"BR\",\"BS\",\"BT\",\"BV\",\"BW\",\"BY\",\"BZ\",\"CA\",\"CC\",\"CD\",\"CF\",\"CG\",\"CH\",\"CI\",\"CK\",\"CL\",\"CM\",\"CN\",\"CO\",\"CR\",\"CU\",\"CV\",\"CW\",\"CX\",\"CY\",\"CZ\",\"DE\",\"DJ\",\"DK\",\"DM\",\"DO\",\"DZ\",\"EC\",\"EE\",\"EG\",\"EH\",\"ER\",\"ES\",\"ET\",\"FI\",\"FJ\",\"FK\",\"FM\",\"FO\",\"FR\",\"GA\",\"GB\",\"GD\",\"GE\",\"GF\",\"GG\",\"GH\",\"GI\",\"GL\",\"GM\",\"GN\",\"GP\",\"GQ\",\"GR\",\"GS\",\"GT\",\"GU\",\"GW\",\"GY\",\"HK\",\"HM\",\"HN\",\"HR\",\"HT\",\"HU\",\"ID\",\"IE\",\"IL\",\"IM\",\"IN\",\"IO\",\"IQ\",\"IR\",\"IS\",\"IT\",\"JE\",\"JM\",\"JO\",\"JP\",\"KE\",\"KG\",\"KH\",\"KI\",\"KM\",\"KN\",\"KP\",\"KR\",\"KW\",\"KY\",\"KZ\",\"LA\",\"LB\",\"LC\",\"LI\",\"LK\",\"LR\",\"LS\",\"LT\",\"LU\",\"LV\",\"LY\",\"MA\",\"MC\",\"MD\",\"ME\",\"MF\",\"MG\",\"MH\",\"MK\",\"ML\",\"MM\",\"MN\",\"MO\",\"MP\",\"MQ\",\"MR\",\"MS\",\"MT\",\"MU\",\"MV\",\"MW\",\"MX\",\"MY\",\"MZ\",\"NA\",\"NC\",\"NE\",\"NF\",\"NG\",\"NI\",\"NL\",\"NO\",\"NP\",\"NR\",\"NU\",\"NZ\",\"OM\",\"PA\",\"PE\",\"PF\",\"PG\",\"PH\",\"PK\",\"PL\",\"PM\",\"PN\",\"PR\",\"PS\",\"PT\",\"PW\",\"PY\",\"QA\",\"RE\",\"RO\",\"RS\",\"RU\",\"RW\",\"SA\",\"SB\",\"SC\",\"SD\",\"SE\",\"SG\",\"SH\",\"SI\",\"SJ\",\"SK\",\"SL\",\"SM\",\"SN\",\"SO\",\"SR\",\"SS\",\"ST\",\"SV\",\"SX\",\"SY\",\"SZ\",\"TC\",\"TD\",\"TF\",\"TG\",\"TH\",\"TJ\",\"TK\",\"TL\",\"TM\",\"TN\",\"TO\",\"TR\",\"TT\",\"TV\",\"TW\",\"TZ\",\"UA\",\"UG\",\"UM\",\"US\",\"UY\",\"UZ\",\"VA\",\"VC\",\"VE\",\"VG\",\"VI\",\"VN\",\"VU\",\"WF\",\"WS\",\"YE\",\"YT\",\"ZA\",\"ZM\",\"ZW\"],\"locations\":[\"AND\",\"ARE\",\"AFG\",\"ATG\",\"AIA\",\"ALB\",\"ARM\",\"AGO\",\"ATA\",\"ARG\",\"ASM\",\"AUT\",\"AUS\",\"ABW\",\"ALA\",\"AZE\",\"BIH\",\"BRB\",\"BGD\",\"BEL\",\"BFA\",\"BGR\",\"BHR\",\"BDI\",\"BEN\",\"BLM\",\"BMU\",\"BRN\",\"BOL\",\"BES\",\"BRA\",\"BHS\",\"BTN\",\"BVT\",\"BWA\",\"BLR\",\"BLZ\",\"CAN\",\"CCK\",\"COD\",\"CAF\",\"COG\",\"CHE\",\"CIV\",\"COK\",\"CHL\",\"CMR\",\"CHN\",\"COL\",\"CRI\",\"CUB\",\"CPV\",\"CUW\",\"CXR\",\"CYP\",\"CZE\",\"DEU\",\"DJI\",\"DNK\",\"DMA\",\"DOM\",\"DZA\",\"ECU\",\"EST\",\"EGY\",\"ESH\",\"ERI\",\"ESP\",\"ETH\",\"FIN\",\"FJI\",\"FLK\",\"FSM\",\"FRO\",\"FRA\",\"GAB\",\"GBR\",\"GRD\",\"GEO\",\"GUF\",\"GGY\",\"GHA\",\"GIB\",\"GRL\",\"GMB\",\"GIN\",\"GLP\",\"GNQ\",\"GRC\",\"SGS\",\"GTM\",\"GUM\",\"GNB\",\"GUY\",\"HKG\",\"HMD\",\"HND\",\"HRV\",\"HTI\",\"HUN\",\"IDN\",\"IRL\",\"ISR\",\"IMN\",\"IND\",\"IOT\",\"IRQ\",\"IRN\",\"ISL\",\"ITA\",\"JEY\",\"JAM\",\"JOR\",\"JPN\",\"KEN\",\"KGZ\",\"KHM\",\"KIR\",\"COM\",\"KNA\",\"PRK\",\"KOR\",\"KWT\",\"CYM\",\"KAZ\",\"LAO\",\"LBN\",\"LCA\",\"LIE\",\"LKA\",\"LBR\",\"LSO\",\"LTU\",\"LUX\",\"LVA\",\"LBY\",\"MAR\",\"MCO\",\"MDA\",\"MNE\",\"MAF\",\"MDG\",\"MHL\",\"MKD\",\"MLI\",\"MMR\",\"MNG\",\"MAC\",\"MNP\",\"MTQ\",\"MRT\",\"MSR\",\"MLT\",\"MUS\",\"MDV\",\"MWI\",\"MEX\",\"MYS\",\"MOZ\",\"NAM\",\"NCL\",\"NER\",\"NFK\",\"NGA\",\"NIC\",\"NLD\",\"NOR\",\"NPL\",\"NRU\",\"NIU\",\"NZL\",\"OMN\",\"PAN\",\"PER\",\"PYF\",\"PNG\",\"PHL\",\"PAK\",\"POL\",\"SPM\",\"PCN\",\"PRI\",\"PSE\",\"PRT\",\"PLW\",\"PRY\",\"QAT\",\"REU\",\"ROU\",\"SRB\",\"RUS\",\"RWA\",\"SAU\",\"SLB\",\"SYC\",\"SDN\",\"SWE\",\"SGP\",\"SHN\",\"SVN\",\"SJM\",\"SVK\",\"SLE\",\"SMR\",\"SEN\",\"SOM\",\"SUR\",\"SSD\",\"STP\",\"SLV\",\"SXM\",\"SYR\",\"SWZ\",\"TCA\",\"TCD\",\"ATF\",\"TGO\",\"THA\",\"TJK\",\"TKL\",\"TLS\",\"TKM\",\"TUN\",\"TON\",\"TUR\",\"TTO\",\"TUV\",\"TWN\",\"TZA\",\"UKR\",\"UGA\",\"UMI\",\"USA\",\"URY\",\"UZB\",\"VAT\",\"VCT\",\"VEN\",\"VGB\",\"VIR\",\"VNM\",\"VUT\",\"WLF\",\"WSM\",\"YEM\",\"MYT\",\"ZAF\",\"ZMB\",\"ZWE\"],\"name\":\"\",\"z\":[-0.06511161813432953,-0.06421236841467003,-0.06508213253855948,-0.0590568708183965,-0.06511161813432953,-0.06469373018947004,-0.06391104613396502,-0.06511161813432953,-0.06511161813432953,-0.06494174967462889,-0.06511161813432953,-0.06464616903160252,-0.06109520778340916,-0.06511161813432953,-0.06511161813432953,-0.06475973534970786,-0.06493089191381582,-0.06511161813432953,-0.06508641611468213,-0.06418805201426352,-0.06511161813432953,-0.06476924501794996,-0.06441470320845792,-0.06511161813432953,-0.06511161813432953,-0.06511161813432953,-0.06511161813432953,-0.0637562985101277,-0.0650100285134771,-0.06511161813432953,-0.06506977599960982,-0.057572745779547185,-0.06511161813432953,-0.06511161813432953,-0.06460734615631034,-0.06485927721976352,-0.062129233928491866,-0.05918314237636211,-0.06511161813432953,-0.06511161813432953,-0.06511161813432953,-0.06500680475353499,-0.06380992562737324,-0.06511161813432953,0.1641980540249426,-0.06492551555662031,-0.06511161813432953,-0.06508201632601406,-0.06507665966213554,-0.06476243319550326,-0.06511161813432953,-0.06511161813432953,-0.061286613327314096,-0.06511161813432953,-0.062165046420543726,-0.06455742142547781,-0.06470560231662754,-0.06511161813432953,-0.06389147431615877,-0.06511161813432953,-0.06511161813432953,-0.06509835349685404,-0.06494358342403701,-0.06332978821974378,-0.06507685391363116,-0.06511161813432953,-0.06511161813432953,-0.06481109369585186,-0.06509614551387838,-0.06414675919711138,-0.06511161813432953,-0.06511161813432953,-0.06511161813432953,-0.06511161813432953,-0.06480367870458867,-0.06431242439391557,-0.05988938183861665,-0.06511161813432953,-0.06479232395277074,-0.06511161813432953,-0.06511161813432953,-0.0650352907318056,-0.06511161813432953,-0.06511161813432953,-0.06511161813432953,-0.06511161813432953,-0.06511161813432953,-0.06511161813432953,-0.06505628459097541,-0.06511161813432953,-0.06504127555714177,-0.0615986500323602,-0.06511161813432953,-0.06511161813432953,-0.06360967076835847,-0.06511161813432953,-0.06493202618223369,-0.06496511455280286,-0.0650596183466372,-0.06498998865571458,-0.06507910196846858,-0.05668312840076608,-0.06183075428065973,-0.05813860450234758,-0.06504673984514325,-0.06511161813432953,-0.06509687690116572,-0.06504102539125087,-0.061875325331411116,-0.06500210039030237,-0.06511161813432953,-0.06451091189597773,-0.06493728083370795,-0.06479120755753198,-0.06500134940451369,-0.06511161813432953,-0.0650406892123098,-0.06511161813432953,-0.06511161813432953,-0.06511161813432953,-0.06501961556630541,-0.06450472548750921,-0.06497277712082505,-0.05608956556046024,-0.06489031026984075,-0.06511161813432953,-0.06485100675041269,-0.06511161813432953,-0.06511161813432953,-0.06505751627793512,-0.06511161813432953,-0.06511161813432953,-0.06383864580423036,-0.06323607570372675,-0.06417617612315545,-0.06511161813432953,-0.06507949023774479,-0.05000282965316835,-0.06465862343251298,-0.06415792321934446,-0.06511161813432953,-0.06511161813432953,-0.06511161813432953,-0.06482616237361971,-0.065082338881181,-0.06511161813432953,-0.06511161813432953,-0.06511161813432953,-0.06511161813432953,-0.06511161813432953,-0.06498409713383602,-0.06511161813432953,-0.06285406539570311,-0.06511161813432953,-0.06511161813432953,-0.06511161813432953,-0.06505183440476772,-0.06491010350015383,-0.06509264769622317,-0.06464491298142035,-0.06511161813432953,-0.06511161813432953,-0.06511161813432953,-0.06509723639174957,-0.06511161813432953,-0.06418604490460804,-0.064229852839159,-0.06507091846021597,-0.06511161813432953,-0.06511161813432953,-0.05274993505378804,-0.06476328847815681,-0.06442452523019808,-0.06500372075512521,-0.06511161813432953,-0.06511161813432953,-0.06502504417202139,-0.06506867020273079,-0.0649866290929586,-0.06511161813432953,-0.06511161813432953,-0.06344088962724657,-0.064741289534065,-0.0649390135213783,-0.06511161813432953,-0.06494535755213648,-0.06449421069211587,-0.06511161813432953,-0.06495789898218197,-0.06493995916810183,-0.06498406582526378,-0.06506583989718445,-0.06504349248828685,-0.06511161813432953,-0.06511161813432953,-0.06509809614619434,-0.0642525859953249,-0.06229599478144812,-0.06511161813432953,-0.06482928779074315,-0.06511161813432953,-0.06478576280213745,-0.06511161813432953,-0.06511161813432953,-0.06511161813432953,-0.06511161813432953,-0.06511161813432953,-0.06511161813432953,-0.06511161813432953,-0.06511161813432953,-0.06511161813432953,-0.06473893371187033,-0.06408947075662312,-0.06511161813432953,-0.06511161813432953,-0.06511161813432953,-0.06511161813432953,-0.06496720837509394,-0.0649872835671158,-0.06511161813432953,-0.06466189846887993,-0.06471837594491991,-0.06506144904559558,-0.06511161813432953,-0.06492179992150561,-0.06468794317310814,-0.06511161813432953,-0.0645313870451959,-0.06510169200882496,-0.06485636187576806,-0.06509865538110694,3.0,-0.05162745031421855,-0.06494092847012889,-0.06505965548863744,-0.06511161813432953,-0.06511161813432953,-0.06498650971886646,-0.06511161813432953,-0.0539547963231584,-0.06508116108035975,-0.06511161813432953,-0.06511161813432953,-0.06511161813432953,-0.0650917385014152,-0.06511161813432953,-0.06486168456845803,-0.0650793655933011,-0.064952045448504],\"type\":\"choropleth\"}],                        {\"template\":{\"data\":{\"histogram2dcontour\":[{\"type\":\"histogram2dcontour\",\"colorbar\":{\"outlinewidth\":0,\"ticks\":\"\"},\"colorscale\":[[0.0,\"#0d0887\"],[0.1111111111111111,\"#46039f\"],[0.2222222222222222,\"#7201a8\"],[0.3333333333333333,\"#9c179e\"],[0.4444444444444444,\"#bd3786\"],[0.5555555555555556,\"#d8576b\"],[0.6666666666666666,\"#ed7953\"],[0.7777777777777778,\"#fb9f3a\"],[0.8888888888888888,\"#fdca26\"],[1.0,\"#f0f921\"]]}],\"choropleth\":[{\"type\":\"choropleth\",\"colorbar\":{\"outlinewidth\":0,\"ticks\":\"\"}}],\"histogram2d\":[{\"type\":\"histogram2d\",\"colorbar\":{\"outlinewidth\":0,\"ticks\":\"\"},\"colorscale\":[[0.0,\"#0d0887\"],[0.1111111111111111,\"#46039f\"],[0.2222222222222222,\"#7201a8\"],[0.3333333333333333,\"#9c179e\"],[0.4444444444444444,\"#bd3786\"],[0.5555555555555556,\"#d8576b\"],[0.6666666666666666,\"#ed7953\"],[0.7777777777777778,\"#fb9f3a\"],[0.8888888888888888,\"#fdca26\"],[1.0,\"#f0f921\"]]}],\"heatmap\":[{\"type\":\"heatmap\",\"colorbar\":{\"outlinewidth\":0,\"ticks\":\"\"},\"colorscale\":[[0.0,\"#0d0887\"],[0.1111111111111111,\"#46039f\"],[0.2222222222222222,\"#7201a8\"],[0.3333333333333333,\"#9c179e\"],[0.4444444444444444,\"#bd3786\"],[0.5555555555555556,\"#d8576b\"],[0.6666666666666666,\"#ed7953\"],[0.7777777777777778,\"#fb9f3a\"],[0.8888888888888888,\"#fdca26\"],[1.0,\"#f0f921\"]]}],\"heatmapgl\":[{\"type\":\"heatmapgl\",\"colorbar\":{\"outlinewidth\":0,\"ticks\":\"\"},\"colorscale\":[[0.0,\"#0d0887\"],[0.1111111111111111,\"#46039f\"],[0.2222222222222222,\"#7201a8\"],[0.3333333333333333,\"#9c179e\"],[0.4444444444444444,\"#bd3786\"],[0.5555555555555556,\"#d8576b\"],[0.6666666666666666,\"#ed7953\"],[0.7777777777777778,\"#fb9f3a\"],[0.8888888888888888,\"#fdca26\"],[1.0,\"#f0f921\"]]}],\"contourcarpet\":[{\"type\":\"contourcarpet\",\"colorbar\":{\"outlinewidth\":0,\"ticks\":\"\"}}],\"contour\":[{\"type\":\"contour\",\"colorbar\":{\"outlinewidth\":0,\"ticks\":\"\"},\"colorscale\":[[0.0,\"#0d0887\"],[0.1111111111111111,\"#46039f\"],[0.2222222222222222,\"#7201a8\"],[0.3333333333333333,\"#9c179e\"],[0.4444444444444444,\"#bd3786\"],[0.5555555555555556,\"#d8576b\"],[0.6666666666666666,\"#ed7953\"],[0.7777777777777778,\"#fb9f3a\"],[0.8888888888888888,\"#fdca26\"],[1.0,\"#f0f921\"]]}],\"surface\":[{\"type\":\"surface\",\"colorbar\":{\"outlinewidth\":0,\"ticks\":\"\"},\"colorscale\":[[0.0,\"#0d0887\"],[0.1111111111111111,\"#46039f\"],[0.2222222222222222,\"#7201a8\"],[0.3333333333333333,\"#9c179e\"],[0.4444444444444444,\"#bd3786\"],[0.5555555555555556,\"#d8576b\"],[0.6666666666666666,\"#ed7953\"],[0.7777777777777778,\"#fb9f3a\"],[0.8888888888888888,\"#fdca26\"],[1.0,\"#f0f921\"]]}],\"mesh3d\":[{\"type\":\"mesh3d\",\"colorbar\":{\"outlinewidth\":0,\"ticks\":\"\"}}],\"scatter\":[{\"marker\":{\"line\":{\"color\":\"#283442\"}},\"type\":\"scatter\"}],\"parcoords\":[{\"type\":\"parcoords\",\"line\":{\"colorbar\":{\"outlinewidth\":0,\"ticks\":\"\"}}}],\"scatterpolargl\":[{\"type\":\"scatterpolargl\",\"marker\":{\"colorbar\":{\"outlinewidth\":0,\"ticks\":\"\"}}}],\"bar\":[{\"error_x\":{\"color\":\"#f2f5fa\"},\"error_y\":{\"color\":\"#f2f5fa\"},\"marker\":{\"line\":{\"color\":\"rgb(17,17,17)\",\"width\":0.5},\"pattern\":{\"fillmode\":\"overlay\",\"size\":10,\"solidity\":0.2}},\"type\":\"bar\"}],\"scattergeo\":[{\"type\":\"scattergeo\",\"marker\":{\"colorbar\":{\"outlinewidth\":0,\"ticks\":\"\"}}}],\"scatterpolar\":[{\"type\":\"scatterpolar\",\"marker\":{\"colorbar\":{\"outlinewidth\":0,\"ticks\":\"\"}}}],\"histogram\":[{\"marker\":{\"pattern\":{\"fillmode\":\"overlay\",\"size\":10,\"solidity\":0.2}},\"type\":\"histogram\"}],\"scattergl\":[{\"marker\":{\"line\":{\"color\":\"#283442\"}},\"type\":\"scattergl\"}],\"scatter3d\":[{\"type\":\"scatter3d\",\"line\":{\"colorbar\":{\"outlinewidth\":0,\"ticks\":\"\"}},\"marker\":{\"colorbar\":{\"outlinewidth\":0,\"ticks\":\"\"}}}],\"scattermapbox\":[{\"type\":\"scattermapbox\",\"marker\":{\"colorbar\":{\"outlinewidth\":0,\"ticks\":\"\"}}}],\"scatterternary\":[{\"type\":\"scatterternary\",\"marker\":{\"colorbar\":{\"outlinewidth\":0,\"ticks\":\"\"}}}],\"scattercarpet\":[{\"type\":\"scattercarpet\",\"marker\":{\"colorbar\":{\"outlinewidth\":0,\"ticks\":\"\"}}}],\"carpet\":[{\"aaxis\":{\"endlinecolor\":\"#A2B1C6\",\"gridcolor\":\"#506784\",\"linecolor\":\"#506784\",\"minorgridcolor\":\"#506784\",\"startlinecolor\":\"#A2B1C6\"},\"baxis\":{\"endlinecolor\":\"#A2B1C6\",\"gridcolor\":\"#506784\",\"linecolor\":\"#506784\",\"minorgridcolor\":\"#506784\",\"startlinecolor\":\"#A2B1C6\"},\"type\":\"carpet\"}],\"table\":[{\"cells\":{\"fill\":{\"color\":\"#506784\"},\"line\":{\"color\":\"rgb(17,17,17)\"}},\"header\":{\"fill\":{\"color\":\"#2a3f5f\"},\"line\":{\"color\":\"rgb(17,17,17)\"}},\"type\":\"table\"}],\"barpolar\":[{\"marker\":{\"line\":{\"color\":\"rgb(17,17,17)\",\"width\":0.5},\"pattern\":{\"fillmode\":\"overlay\",\"size\":10,\"solidity\":0.2}},\"type\":\"barpolar\"}],\"pie\":[{\"automargin\":true,\"type\":\"pie\"}]},\"layout\":{\"autotypenumbers\":\"strict\",\"colorway\":[\"#636efa\",\"#EF553B\",\"#00cc96\",\"#ab63fa\",\"#FFA15A\",\"#19d3f3\",\"#FF6692\",\"#B6E880\",\"#FF97FF\",\"#FECB52\"],\"font\":{\"color\":\"#f2f5fa\"},\"hovermode\":\"closest\",\"hoverlabel\":{\"align\":\"left\"},\"paper_bgcolor\":\"rgb(17,17,17)\",\"plot_bgcolor\":\"rgb(17,17,17)\",\"polar\":{\"bgcolor\":\"rgb(17,17,17)\",\"angularaxis\":{\"gridcolor\":\"#506784\",\"linecolor\":\"#506784\",\"ticks\":\"\"},\"radialaxis\":{\"gridcolor\":\"#506784\",\"linecolor\":\"#506784\",\"ticks\":\"\"}},\"ternary\":{\"bgcolor\":\"rgb(17,17,17)\",\"aaxis\":{\"gridcolor\":\"#506784\",\"linecolor\":\"#506784\",\"ticks\":\"\"},\"baxis\":{\"gridcolor\":\"#506784\",\"linecolor\":\"#506784\",\"ticks\":\"\"},\"caxis\":{\"gridcolor\":\"#506784\",\"linecolor\":\"#506784\",\"ticks\":\"\"}},\"coloraxis\":{\"colorbar\":{\"outlinewidth\":0,\"ticks\":\"\"}},\"colorscale\":{\"sequential\":[[0.0,\"#0d0887\"],[0.1111111111111111,\"#46039f\"],[0.2222222222222222,\"#7201a8\"],[0.3333333333333333,\"#9c179e\"],[0.4444444444444444,\"#bd3786\"],[0.5555555555555556,\"#d8576b\"],[0.6666666666666666,\"#ed7953\"],[0.7777777777777778,\"#fb9f3a\"],[0.8888888888888888,\"#fdca26\"],[1.0,\"#f0f921\"]],\"sequentialminus\":[[0.0,\"#0d0887\"],[0.1111111111111111,\"#46039f\"],[0.2222222222222222,\"#7201a8\"],[0.3333333333333333,\"#9c179e\"],[0.4444444444444444,\"#bd3786\"],[0.5555555555555556,\"#d8576b\"],[0.6666666666666666,\"#ed7953\"],[0.7777777777777778,\"#fb9f3a\"],[0.8888888888888888,\"#fdca26\"],[1.0,\"#f0f921\"]],\"diverging\":[[0,\"#8e0152\"],[0.1,\"#c51b7d\"],[0.2,\"#de77ae\"],[0.3,\"#f1b6da\"],[0.4,\"#fde0ef\"],[0.5,\"#f7f7f7\"],[0.6,\"#e6f5d0\"],[0.7,\"#b8e186\"],[0.8,\"#7fbc41\"],[0.9,\"#4d9221\"],[1,\"#276419\"]]},\"xaxis\":{\"gridcolor\":\"#283442\",\"linecolor\":\"#506784\",\"ticks\":\"\",\"title\":{\"standoff\":15},\"zerolinecolor\":\"#283442\",\"automargin\":true,\"zerolinewidth\":2},\"yaxis\":{\"gridcolor\":\"#283442\",\"linecolor\":\"#506784\",\"ticks\":\"\",\"title\":{\"standoff\":15},\"zerolinecolor\":\"#283442\",\"automargin\":true,\"zerolinewidth\":2},\"scene\":{\"xaxis\":{\"backgroundcolor\":\"rgb(17,17,17)\",\"gridcolor\":\"#506784\",\"linecolor\":\"#506784\",\"showbackground\":true,\"ticks\":\"\",\"zerolinecolor\":\"#C8D4E3\",\"gridwidth\":2},\"yaxis\":{\"backgroundcolor\":\"rgb(17,17,17)\",\"gridcolor\":\"#506784\",\"linecolor\":\"#506784\",\"showbackground\":true,\"ticks\":\"\",\"zerolinecolor\":\"#C8D4E3\",\"gridwidth\":2},\"zaxis\":{\"backgroundcolor\":\"rgb(17,17,17)\",\"gridcolor\":\"#506784\",\"linecolor\":\"#506784\",\"showbackground\":true,\"ticks\":\"\",\"zerolinecolor\":\"#C8D4E3\",\"gridwidth\":2}},\"shapedefaults\":{\"line\":{\"color\":\"#f2f5fa\"}},\"annotationdefaults\":{\"arrowcolor\":\"#f2f5fa\",\"arrowhead\":0,\"arrowwidth\":1},\"geo\":{\"bgcolor\":\"rgb(17,17,17)\",\"landcolor\":\"rgb(17,17,17)\",\"subunitcolor\":\"#506784\",\"showland\":true,\"showlakes\":true,\"lakecolor\":\"rgb(17,17,17)\"},\"title\":{\"x\":0.05},\"updatemenudefaults\":{\"bgcolor\":\"#506784\",\"borderwidth\":0},\"sliderdefaults\":{\"bgcolor\":\"#C8D4E3\",\"borderwidth\":1,\"bordercolor\":\"rgb(17,17,17)\",\"tickwidth\":0},\"mapbox\":{\"style\":\"dark\"}}},\"geo\":{\"domain\":{\"x\":[0.0,1.0],\"y\":[0.0,1.0]},\"projection\":{\"type\":\"natural earth\",\"rotation\":{\"lon\":10}},\"center\":{},\"showframe\":true,\"showcoastlines\":true,\"coastlinecolor\":\"rgba(0,0,0,0.5)\",\"coastlinewidth\":0.8,\"landcolor\":\"rgba(240,240,240,1)\",\"lakecolor\":\"white\",\"oceancolor\":\"white\",\"showocean\":true,\"bgcolor\":\"white\",\"showcountries\":true,\"countrycolor\":\"rgba(0,0,0,0.2)\",\"countrywidth\":0.5},\"coloraxis\":{\"colorbar\":{\"title\":{\"text\":\"Z-Score\"},\"thickness\":15,\"lenmode\":\"pixels\",\"len\":300,\"yanchor\":\"middle\",\"y\":0.5,\"ticksuffix\":\" \\u03c3\",\"dtick\":0.005},\"colorscale\":[[0.0,\"rgb(0,104,55)\"],[0.1,\"rgb(26,152,80)\"],[0.2,\"rgb(102,189,99)\"],[0.3,\"rgb(166,217,106)\"],[0.4,\"rgb(217,239,139)\"],[0.5,\"rgb(255,255,191)\"],[0.6,\"rgb(254,224,139)\"],[0.7,\"rgb(253,174,97)\"],[0.8,\"rgb(244,109,67)\"],[0.9,\"rgb(215,48,39)\"],[1.0,\"rgb(165,0,38)\"]],\"cmid\":0,\"cmin\":-0.066,\"cmax\":-0.05},\"legend\":{\"tracegroupgap\":0},\"title\":{\"text\":\"\\u003cb\\u003eGlobal Cyber Victim Density\\u003c\\u002fb\\u003e\\u003cbr\\u003e\\u003csup\\u003eNormalized by Z-Score\\u003c\\u002fsup\\u003e\",\"font\":{\"size\":20},\"y\":0.95,\"x\":0.5,\"xanchor\":\"center\",\"yanchor\":\"top\"},\"margin\":{\"r\":20,\"t\":80,\"l\":20,\"b\":20},\"font\":{\"family\":\"Arial\",\"size\":12,\"color\":\"#404040\"},\"hoverlabel\":{\"font\":{\"size\":12,\"family\":\"Arial\"},\"bgcolor\":\"white\"},\"plot_bgcolor\":\"white\",\"paper_bgcolor\":\"white\",\"annotations\":[{\"font\":{\"color\":\"#666666\",\"size\":10},\"showarrow\":false,\"text\":\"Source: Your Data Source | Visualization by Your Team\",\"x\":0.5,\"xref\":\"paper\",\"y\":-0.1,\"yref\":\"paper\"}]},                        {\"responsive\": true}                    ).then(function(){\n",
       "                            \n",
       "var gd = document.getElementById('893126e2-293a-4e03-887a-80596c7aa813');\n",
       "var x = new MutationObserver(function (mutations, observer) {{\n",
       "        var display = window.getComputedStyle(gd).display;\n",
       "        if (!display || display === 'none') {{\n",
       "            console.log([gd, 'removed!']);\n",
       "            Plotly.purge(gd);\n",
       "            observer.disconnect();\n",
       "        }}\n",
       "}});\n",
       "\n",
       "// Listen for the removal of the full notebook cells\n",
       "var notebookContainer = gd.closest('#notebook-container');\n",
       "if (notebookContainer) {{\n",
       "    x.observe(notebookContainer, {childList: true});\n",
       "}}\n",
       "\n",
       "// Listen for the clearing of the current output cell\n",
       "var outputEl = gd.closest('.output');\n",
       "if (outputEl) {{\n",
       "    x.observe(outputEl, {childList: true});\n",
       "}}\n",
       "\n",
       "                        })                };                });            </script>        </div>"
      ]
     },
     "metadata": {},
     "output_type": "display_data"
    }
   ],
   "execution_count": 12
  },
  {
   "metadata": {
    "ExecuteTime": {
     "end_time": "2025-01-25T11:36:36.622398Z",
     "start_time": "2025-01-25T11:36:36.587546Z"
    }
   },
   "cell_type": "code",
   "outputs": [
    {
     "data": {
      "application/vnd.plotly.v1+json": {
       "data": [
        {
         "coloraxis": "coloraxis",
         "customdata": [
          [
           0,
           77265.0,
           0.0,
           "AND"
          ],
          [
           15,
           9890400.0,
           1.516622179082747,
           "ARE"
          ],
          [
           2,
           4.0218234E7,
           0.04972868773899918,
           "AFG"
          ],
          [
           1,
           97928.0,
           10.211584020913323,
           "ATG"
          ],
          [
           0,
           13452.0,
           0.0,
           "AIA"
          ],
          [
           2,
           2837743.0,
           0.7047854580206876,
           "ALB"
          ],
          [
           6,
           2963234.0,
           2.0248147800679934,
           "ARM"
          ],
          [
           0,
           3.2866268E7,
           0.0,
           "AGO"
          ],
          [
           0,
           1000.0,
           0.0,
           "ATA"
          ],
          [
           13,
           4.5376763E7,
           0.28649024612002405,
           "ARG"
          ],
          [
           0,
           55197.0,
           0.0,
           "ASM"
          ],
          [
           7,
           8917205.0,
           0.7849993355541338,
           "AUT"
          ],
          [
           174,
           2.5687041E7,
           6.773843666929173,
           "AUS"
          ],
          [
           0,
           106766.0,
           0.0,
           "ABW"
          ],
          [
           0,
           29458.0,
           0.0,
           "ALA"
          ],
          [
           6,
           1.0110116E7,
           0.5934650007972213,
           "AZE"
          ],
          [
           1,
           3280815.0,
           0.30480231283994985,
           "BIH"
          ],
          [
           0,
           287371.0,
           0.0,
           "BRB"
          ],
          [
           7,
           1.64689383E8,
           0.04250425784884992,
           "BGD"
          ],
          [
           18,
           1.1555997E7,
           1.5576328031237807,
           "BEL"
          ],
          [
           0,
           2.0903278E7,
           0.0,
           "BFA"
          ],
          [
           4,
           6927288.0,
           0.5774265484559037,
           "BGR"
          ],
          [
           2,
           1701583.0,
           1.1753761056616105,
           "BHR"
          ],
          [
           0,
           1.1890781E7,
           0.0,
           "BDI"
          ],
          [
           0,
           1.2123198E7,
           0.0,
           "BEN"
          ],
          [
           0,
           4255.0,
           0.0,
           "BLM"
          ],
          [
           0,
           63903.0,
           0.0,
           "BMU"
          ],
          [
           1,
           437483.0,
           2.285803105492099,
           "BRN"
          ],
          [
           2,
           1.1673029E7,
           0.17133513503650166,
           "BOL"
          ],
          [
           0,
           25987.0,
           0.0,
           "BES"
          ],
          [
           15,
           2.12559409E8,
           0.07056850633226967,
           "BRA"
          ],
          [
           5,
           393248.0,
           12.714622833428269,
           "BHS"
          ],
          [
           0,
           771612.0,
           0.0,
           "BTN"
          ],
          [
           0,
           0.0,
           0.0,
           "BVT"
          ],
          [
           2,
           2351625.0,
           0.8504757348641896,
           "BWA"
          ],
          [
           4,
           9398861.0,
           0.4255834829347939,
           "BLR"
          ],
          [
           2,
           397621.0,
           5.02991542197218,
           "BLZ"
          ],
          [
           380,
           3.8005238E7,
           9.998621768925641,
           "CAN"
          ],
          [
           0,
           544.0,
           0.0,
           "CCK"
          ],
          [
           0,
           1.08407721E8,
           0.0,
           "COD"
          ],
          [
           0,
           4829764.0,
           0.0,
           "CAF"
          ],
          [
           1,
           5657000.0,
           0.176772140710624,
           "COG"
          ],
          [
           19,
           8654622.0,
           2.1953587343271606,
           "CHE"
          ],
          [
           0,
           2.6378275E7,
           0.0,
           "CIV"
          ],
          [
           7,
           18100.0,
           386.7403314917127,
           "COK"
          ],
          [
           6,
           1.9116209E7,
           0.31386976361264934,
           "CHL"
          ],
          [
           0,
           2.6545864E7,
           0.0,
           "CMR"
          ],
          [
           70,
           1.402112E9,
           0.04992468504655834,
           "CHN"
          ],
          [
           3,
           5.0882884E7,
           0.058958922218323946,
           "COL"
          ],
          [
           3,
           5094114.0,
           0.5889149712786168,
           "CRI"
          ],
          [
           0,
           1.1326616E7,
           0.0,
           "CUB"
          ],
          [
           0,
           555988.0,
           0.0,
           "CPV"
          ],
          [
           1,
           155014.0,
           6.451030229527656,
           "CUW"
          ],
          [
           0,
           2072.0,
           0.0,
           "CXR"
          ],
          [
           6,
           1207361.0,
           4.969516159624172,
           "CYP"
          ],
          [
           10,
           1.0698896E7,
           0.9346758768381336,
           "CZE"
          ],
          [
           57,
           8.3240525E7,
           0.6847626201300389,
           "DEU"
          ],
          [
           0,
           988002.0,
           0.0,
           "DJI"
          ],
          [
           12,
           5831404.0,
           2.057823467556012,
           "DNK"
          ],
          [
           0,
           71991.0,
           0.0,
           "DMA"
          ],
          [
           0,
           1.0847904E7,
           0.0,
           "DOM"
          ],
          [
           1,
           4.47E7,
           0.02237136465324385,
           "DZA"
          ],
          [
           5,
           1.764306E7,
           0.28339755121843946,
           "ECU"
          ],
          [
           4,
           1331057.0,
           3.0051305090615954,
           "EST"
          ],
          [
           6,
           1.02334403E8,
           0.05863130896459131,
           "EGY"
          ],
          [
           0,
           510713.0,
           0.0,
           "ESH"
          ],
          [
           0,
           5352000.0,
           0.0,
           "ERI"
          ],
          [
           24,
           4.7351567E7,
           0.5068470067738202,
           "ESP"
          ],
          [
           3,
           1.14963583E8,
           0.0260952200837373,
           "ETH"
          ],
          [
           9,
           5530719.0,
           1.627274862454592,
           "FIN"
          ],
          [
           0,
           896444.0,
           0.0,
           "FJI"
          ],
          [
           0,
           2563.0,
           0.0,
           "FLK"
          ],
          [
           0,
           115021.0,
           0.0,
           "FSM"
          ],
          [
           0,
           48865.0,
           0.0,
           "FRO"
          ],
          [
           35,
           6.7391582E7,
           0.5193526989765577,
           "FRA"
          ],
          [
           3,
           2225728.0,
           1.347873594617132,
           "GAB"
          ],
          [
           592,
           6.7215293E7,
           8.807519443529019,
           "GBR"
          ],
          [
           0,
           112519.0,
           0.0,
           "GRD"
          ],
          [
           2,
           3714000.0,
           0.5385029617662896,
           "GEO"
          ],
          [
           0,
           254541.0,
           0.0,
           "GUF"
          ],
          [
           0,
           62999.0,
           0.0,
           "GGY"
          ],
          [
           4,
           3.1072945E7,
           0.1287293495997885,
           "GHA"
          ],
          [
           0,
           33691.0,
           0.0,
           "GIB"
          ],
          [
           0,
           56367.0,
           0.0,
           "GRL"
          ],
          [
           0,
           2416664.0,
           0.0,
           "GMB"
          ],
          [
           0,
           1.3132792E7,
           0.0,
           "GIN"
          ],
          [
           0,
           400132.0,
           0.0,
           "GLP"
          ],
          [
           0,
           1402985.0,
           0.0,
           "GNQ"
          ],
          [
           1,
           1.0715549E7,
           0.09332233000847646,
           "GRC"
          ],
          [
           0,
           30.0,
           0.0,
           "SGS"
          ],
          [
           2,
           1.6858333E7,
           0.11863569191568347,
           "GTM"
          ],
          [
           1,
           168783.0,
           5.924767304764106,
           "GUM"
          ],
          [
           0,
           1967998.0,
           0.0,
           "GNB"
          ],
          [
           0,
           786559.0,
           0.0,
           "GUY"
          ],
          [
           19,
           7500700.0,
           2.5330969109549777,
           "HKG"
          ],
          [
           0,
           0.0,
           0.0,
           "HMD"
          ],
          [
           3,
           9904608.0,
           0.3028893218186929,
           "HND"
          ],
          [
           1,
           4047200.0,
           0.2470844040324175,
           "HRV"
          ],
          [
           1,
           1.1402533E7,
           0.08769981196283316,
           "HTI"
          ],
          [
           2,
           9749763.0,
           0.2051331914427048,
           "HUN"
          ],
          [
           15,
           2.73523621E8,
           0.054839870666965176,
           "IDN"
          ],
          [
           71,
           4994724.0,
           14.214999667649304,
           "IRL"
          ],
          [
           51,
           9216900.0,
           5.533313803990496,
           "ISR"
          ],
          [
           1,
           85032.0,
           11.760278483394487,
           "IMN"
          ],
          [
           151,
           1.380004385E9,
           0.10941994216924174,
           "IND"
          ],
          [
           0,
           3000.0,
           0.0,
           "IOT"
          ],
          [
           1,
           4.0222503E7,
           0.02486170490185556,
           "IRQ"
          ],
          [
           10,
           8.3992953E7,
           0.11905760713044582,
           "IRN"
          ],
          [
           2,
           366425.0,
           5.458142866889541,
           "ISL"
          ],
          [
           11,
           5.9554023E7,
           0.18470624562172736,
           "ITA"
          ],
          [
           0,
           100800.0,
           0.0,
           "JEY"
          ],
          [
           3,
           2961161.0,
           1.013116139244033,
           "JAM"
          ],
          [
           3,
           1.020314E7,
           0.294027132823817,
           "JOR"
          ],
          [
           68,
           1.25836021E8,
           0.5403858089250931,
           "JPN"
          ],
          [
           10,
           5.37713E7,
           0.18597281449397726,
           "KEN"
          ],
          [
           0,
           6591600.0,
           0.0,
           "KGZ"
          ],
          [
           2,
           1.6718971E7,
           0.11962458694377781,
           "KHM"
          ],
          [
           0,
           119446.0,
           0.0,
           "KIR"
          ],
          [
           0,
           869595.0,
           0.0,
           "COM"
          ],
          [
           0,
           53192.0,
           0.0,
           "KNA"
          ],
          [
           4,
           2.5778815E7,
           0.1551661703612055,
           "PRK"
          ],
          [
           53,
           5.1780579E7,
           1.0235497752931653,
           "KOR"
          ],
          [
           1,
           4270563.0,
           0.23416116329392633,
           "KWT"
          ],
          [
           1,
           65720.0,
           15.216068167985393,
           "CYM"
          ],
          [
           7,
           1.875444E7,
           0.37324494892942683,
           "KAZ"
          ],
          [
           0,
           7275556.0,
           0.0,
           "LAO"
          ],
          [
           3,
           6825442.0,
           0.43953197463255855,
           "LBN"
          ],
          [
           0,
           183629.0,
           0.0,
           "LCA"
          ],
          [
           0,
           38137.0,
           0.0,
           "LIE"
          ],
          [
           2,
           2.1919E7,
           0.09124503855102879,
           "LKA"
          ],
          [
           0,
           5057677.0,
           0.0,
           "LBR"
          ],
          [
           0,
           2142252.0,
           0.0,
           "LSO"
          ],
          [
           6,
           2794700.0,
           2.1469209575267474,
           "LTU"
          ],
          [
           2,
           632275.0,
           3.163180578071251,
           "LUX"
          ],
          [
           3,
           1901548.0,
           1.5776619890741648,
           "LVA"
          ],
          [
           0,
           6871287.0,
           0.0,
           "LBY"
          ],
          [
           2,
           3.6910558E7,
           0.05418503832968334,
           "MAR"
          ],
          [
           1,
           39244.0,
           25.481602283151563,
           "MCO"
          ],
          [
           2,
           2617820.0,
           0.7639944686800467,
           "MDA"
          ],
          [
           1,
           621718.0,
           1.6084462730691407,
           "MNE"
          ],
          [
           0,
           38659.0,
           0.0,
           "MAF"
          ],
          [
           0,
           2.7691019E7,
           0.0,
           "MDG"
          ],
          [
           0,
           59194.0,
           0.0,
           "MHL"
          ],
          [
           1,
           2077132.0,
           0.4814330528825323,
           "MKD"
          ],
          [
           1,
           2.0250834E7,
           0.04938068229683775,
           "MLI"
          ],
          [
           0,
           5.4409794E7,
           0.0,
           "MMR"
          ],
          [
           0,
           3278292.0,
           0.0,
           "MNG"
          ],
          [
           0,
           649342.0,
           0.0,
           "MAC"
          ],
          [
           0,
           57557.0,
           0.0,
           "MNP"
          ],
          [
           0,
           378243.0,
           0.0,
           "MTQ"
          ],
          [
           1,
           4649660.0,
           0.21506948895188036,
           "MRT"
          ],
          [
           0,
           4922.0,
           0.0,
           "MSR"
          ],
          [
           2,
           525285.0,
           3.807456904347164,
           "MLT"
          ],
          [
           0,
           1265740.0,
           0.0,
           "MUS"
          ],
          [
           0,
           540542.0,
           0.0,
           "MDV"
          ],
          [
           0,
           1.9129955E7,
           0.0,
           "MWI"
          ],
          [
           13,
           1.28932753E8,
           0.10082775475987858,
           "MEX"
          ],
          [
           11,
           3.2365998E7,
           0.33986284000882655,
           "MYS"
          ],
          [
           1,
           3.1255435E7,
           0.031994435527773014,
           "MOZ"
          ],
          [
           2,
           2540916.0,
           0.7871177166029888,
           "NAM"
          ],
          [
           0,
           271960.0,
           0.0,
           "NCL"
          ],
          [
           0,
           2.4206636E7,
           0.0,
           "NER"
          ],
          [
           0,
           2302.0,
           0.0,
           "NFK"
          ],
          [
           5,
           2.06139587E8,
           0.02425540903019273,
           "NGA"
          ],
          [
           0,
           6624554.0,
           0.0,
           "NIC"
          ],
          [
           26,
           1.6655799E7,
           1.5610178773170833,
           "NLD"
          ],
          [
           8,
           5379475.0,
           1.4871339675340067,
           "NOR"
          ],
          [
           2,
           2.9136808E7,
           0.06864169884360703,
           "NPL"
          ],
          [
           0,
           10834.0,
           0.0,
           "NRU"
          ],
          [
           0,
           1470.0,
           0.0,
           "NIU"
          ],
          [
           106,
           5084300.0,
           20.848494384674392,
           "NZL"
          ],
          [
           3,
           5106622.0,
           0.5874725013913307,
           "OMN"
          ],
          [
           5,
           4314768.0,
           1.1588108561109196,
           "PAN"
          ],
          [
           6,
           3.2971846E7,
           0.18197343272803104,
           "PER"
          ],
          [
           0,
           280904.0,
           0.0,
           "PYF"
          ],
          [
           0,
           8947027.0,
           0.0,
           "PNG"
          ],
          [
           16,
           1.09581085E8,
           0.1460106002783236,
           "PHL"
          ],
          [
           16,
           2.20892331E8,
           0.07243347891511906,
           "PAK"
          ],
          [
           8,
           3.7950802E7,
           0.21079923422962182,
           "POL"
          ],
          [
           0,
           6069.0,
           0.0,
           "SPM"
          ],
          [
           0,
           56.0,
           0.0,
           "PCN"
          ],
          [
           9,
           3194034.0,
           2.8177533488998554,
           "PRI"
          ],
          [
           3,
           4803269.0,
           0.624574638647138,
           "PSE"
          ],
          [
           3,
           1.0305564E7,
           0.2911048827604195,
           "PRT"
          ],
          [
           0,
           18092.0,
           0.0,
           "PLW"
          ],
          [
           2,
           7132530.0,
           0.2804054101419833,
           "PRY"
          ],
          [
           3,
           2881060.0,
           1.0412834165203084,
           "QAT"
          ],
          [
           0,
           840974.0,
           0.0,
           "REU"
          ],
          [
           5,
           1.9286123E7,
           0.25925376499983954,
           "ROU"
          ],
          [
           2,
           6908224.0,
           0.28951001009810917,
           "SRB"
          ],
          [
           31,
           1.4410408E8,
           0.21512229216549594,
           "RUS"
          ],
          [
           1,
           1.2952209E7,
           0.07720690733140578,
           "RWA"
          ],
          [
           4,
           3.4813867E7,
           0.11489674502404458,
           "SAU"
          ],
          [
           0,
           686878.0,
           0.0,
           "SLB"
          ],
          [
           0,
           98462.0,
           0.0,
           "SYC"
          ],
          [
           1,
           4.3849269E7,
           0.022805397280397082,
           "SDN"
          ],
          [
           15,
           1.0353442E7,
           1.448793550975608,
           "SWE"
          ],
          [
           27,
           5685807.0,
           4.748666284311092,
           "SGP"
          ],
          [
           0,
           53192.0,
           0.0,
           "SHN"
          ],
          [
           1,
           2100126.0,
           0.4761619064760876,
           "SVN"
          ],
          [
           0,
           2562.0,
           0.0,
           "SJM"
          ],
          [
           3,
           5458827.0,
           0.5495686161147807,
           "SVK"
          ],
          [
           0,
           7976985.0,
           0.0,
           "SLE"
          ],
          [
           0,
           33938.0,
           0.0,
           "SMR"
          ],
          [
           0,
           1.674393E7,
           0.0,
           "SEN"
          ],
          [
           0,
           1.5893219E7,
           0.0,
           "SOM"
          ],
          [
           0,
           586634.0,
           0.0,
           "SUR"
          ],
          [
           0,
           1.1193729E7,
           0.0,
           "SSD"
          ],
          [
           0,
           219161.0,
           0.0,
           "STP"
          ],
          [
           0,
           6486201.0,
           0.0,
           "SLV"
          ],
          [
           0,
           40812.0,
           0.0,
           "SXM"
          ],
          [
           11,
           1.7500657E7,
           0.6285478310899985,
           "SYR"
          ],
          [
           2,
           1160164.0,
           1.7238942080602397,
           "SWZ"
          ],
          [
           0,
           38718.0,
           0.0,
           "TCA"
          ],
          [
           0,
           1.6425859E7,
           0.0,
           "TCD"
          ],
          [
           0,
           400.0,
           0.0,
           "ATF"
          ],
          [
           0,
           8278737.0,
           0.0,
           "TGO"
          ],
          [
           17,
           6.9799978E7,
           0.24355308536057133,
           "THA"
          ],
          [
           2,
           9537642.0,
           0.20969543625143405,
           "TJK"
          ],
          [
           0,
           1411.0,
           0.0,
           "TKL"
          ],
          [
           1,
           1318442.0,
           0.7584709831755966,
           "TLS"
          ],
          [
           4,
           6031187.0,
           0.6632193629545892,
           "TKM"
          ],
          [
           1,
           1.1818618E7,
           0.08461226177206167,
           "TUN"
          ],
          [
           0,
           105697.0,
           0.0,
           "TON"
          ],
          [
           27,
           8.4339067E7,
           0.3201363372919456,
           "TUR"
          ],
          [
           1,
           1399491.0,
           0.7145455026148794,
           "TTO"
          ],
          [
           0,
           11792.0,
           0.0,
           "TUV"
          ],
          [
           23,
           2.3503349E7,
           0.9785839456325991,
           "TWN"
          ],
          [
           1,
           5.9734213E7,
           0.01674082489376733,
           "TZA"
          ],
          [
           19,
           4.4134693E7,
           0.4305003322442959,
           "UKR"
          ],
          [
           1,
           4.5741E7,
           0.02186222426269649,
           "UGA"
          ],
          [
           8,
           300.0,
           26666.666666666668,
           "UMI"
          ],
          [
           7493,
           3.29484123E8,
           22.741611740727183,
           "USA"
          ],
          [
           1,
           3473727.0,
           0.2878752417792187,
           "URY"
          ],
          [
           3,
           3.423205E7,
           0.08763717042946595,
           "UZB"
          ],
          [
           0,
           451.0,
           0.0,
           "VAT"
          ],
          [
           0,
           110947.0,
           0.0,
           "VCT"
          ],
          [
           6,
           2.8435943E7,
           0.21100056361767217,
           "VEN"
          ],
          [
           0,
           30237.0,
           0.0,
           "VGB"
          ],
          [
           2,
           106290.0,
           18.816445573431178,
           "VIR"
          ],
          [
           5,
           9.7338583E7,
           0.05136709253308115,
           "VNM"
          ],
          [
           0,
           307150.0,
           0.0,
           "VUT"
          ],
          [
           0,
           11750.0,
           0.0,
           "WLF"
          ],
          [
           0,
           198410.0,
           0.0,
           "WSM"
          ],
          [
           1,
           2.9825968E7,
           0.03352783051332986,
           "YEM"
          ],
          [
           0,
           226915.0,
           0.0,
           "MYT"
          ],
          [
           25,
           5.930869E7,
           0.4215233888996705,
           "ZAF"
          ],
          [
           1,
           1.8383956E7,
           0.05439525638551354,
           "ZMB"
          ],
          [
           4,
           1.4862927E7,
           0.26912599382342384,
           "ZWE"
          ]
         ],
         "geo": "geo",
         "hovertemplate": "<b>%{hovertext}</b><br><br>attack_count=%{customdata[0]}<br>population=%{customdata[1]}<br>attack_density=%{customdata[2]:.2f}<br>attack_density_normalized=%{z}<extra></extra>",
         "hovertext": [
          "AD",
          "AE",
          "AF",
          "AG",
          "AI",
          "AL",
          "AM",
          "AO",
          "AQ",
          "AR",
          "AS",
          "AT",
          "AU",
          "AW",
          "AX",
          "AZ",
          "BA",
          "BB",
          "BD",
          "BE",
          "BF",
          "BG",
          "BH",
          "BI",
          "BJ",
          "BL",
          "BM",
          "BN",
          "BO",
          "BQ",
          "BR",
          "BS",
          "BT",
          "BV",
          "BW",
          "BY",
          "BZ",
          "CA",
          "CC",
          "CD",
          "CF",
          "CG",
          "CH",
          "CI",
          "CK",
          "CL",
          "CM",
          "CN",
          "CO",
          "CR",
          "CU",
          "CV",
          "CW",
          "CX",
          "CY",
          "CZ",
          "DE",
          "DJ",
          "DK",
          "DM",
          "DO",
          "DZ",
          "EC",
          "EE",
          "EG",
          "EH",
          "ER",
          "ES",
          "ET",
          "FI",
          "FJ",
          "FK",
          "FM",
          "FO",
          "FR",
          "GA",
          "GB",
          "GD",
          "GE",
          "GF",
          "GG",
          "GH",
          "GI",
          "GL",
          "GM",
          "GN",
          "GP",
          "GQ",
          "GR",
          "GS",
          "GT",
          "GU",
          "GW",
          "GY",
          "HK",
          "HM",
          "HN",
          "HR",
          "HT",
          "HU",
          "ID",
          "IE",
          "IL",
          "IM",
          "IN",
          "IO",
          "IQ",
          "IR",
          "IS",
          "IT",
          "JE",
          "JM",
          "JO",
          "JP",
          "KE",
          "KG",
          "KH",
          "KI",
          "KM",
          "KN",
          "KP",
          "KR",
          "KW",
          "KY",
          "KZ",
          "LA",
          "LB",
          "LC",
          "LI",
          "LK",
          "LR",
          "LS",
          "LT",
          "LU",
          "LV",
          "LY",
          "MA",
          "MC",
          "MD",
          "ME",
          "MF",
          "MG",
          "MH",
          "MK",
          "ML",
          "MM",
          "MN",
          "MO",
          "MP",
          "MQ",
          "MR",
          "MS",
          "MT",
          "MU",
          "MV",
          "MW",
          "MX",
          "MY",
          "MZ",
          "NA",
          "NC",
          "NE",
          "NF",
          "NG",
          "NI",
          "NL",
          "NO",
          "NP",
          "NR",
          "NU",
          "NZ",
          "OM",
          "PA",
          "PE",
          "PF",
          "PG",
          "PH",
          "PK",
          "PL",
          "PM",
          "PN",
          "PR",
          "PS",
          "PT",
          "PW",
          "PY",
          "QA",
          "RE",
          "RO",
          "RS",
          "RU",
          "RW",
          "SA",
          "SB",
          "SC",
          "SD",
          "SE",
          "SG",
          "SH",
          "SI",
          "SJ",
          "SK",
          "SL",
          "SM",
          "SN",
          "SO",
          "SR",
          "SS",
          "ST",
          "SV",
          "SX",
          "SY",
          "SZ",
          "TC",
          "TD",
          "TF",
          "TG",
          "TH",
          "TJ",
          "TK",
          "TL",
          "TM",
          "TN",
          "TO",
          "TR",
          "TT",
          "TV",
          "TW",
          "TZ",
          "UA",
          "UG",
          "UM",
          "US",
          "UY",
          "UZ",
          "VA",
          "VC",
          "VE",
          "VG",
          "VI",
          "VN",
          "VU",
          "WF",
          "WS",
          "YE",
          "YT",
          "ZA",
          "ZM",
          "ZW"
         ],
         "locations": [
          "AND",
          "ARE",
          "AFG",
          "ATG",
          "AIA",
          "ALB",
          "ARM",
          "AGO",
          "ATA",
          "ARG",
          "ASM",
          "AUT",
          "AUS",
          "ABW",
          "ALA",
          "AZE",
          "BIH",
          "BRB",
          "BGD",
          "BEL",
          "BFA",
          "BGR",
          "BHR",
          "BDI",
          "BEN",
          "BLM",
          "BMU",
          "BRN",
          "BOL",
          "BES",
          "BRA",
          "BHS",
          "BTN",
          "BVT",
          "BWA",
          "BLR",
          "BLZ",
          "CAN",
          "CCK",
          "COD",
          "CAF",
          "COG",
          "CHE",
          "CIV",
          "COK",
          "CHL",
          "CMR",
          "CHN",
          "COL",
          "CRI",
          "CUB",
          "CPV",
          "CUW",
          "CXR",
          "CYP",
          "CZE",
          "DEU",
          "DJI",
          "DNK",
          "DMA",
          "DOM",
          "DZA",
          "ECU",
          "EST",
          "EGY",
          "ESH",
          "ERI",
          "ESP",
          "ETH",
          "FIN",
          "FJI",
          "FLK",
          "FSM",
          "FRO",
          "FRA",
          "GAB",
          "GBR",
          "GRD",
          "GEO",
          "GUF",
          "GGY",
          "GHA",
          "GIB",
          "GRL",
          "GMB",
          "GIN",
          "GLP",
          "GNQ",
          "GRC",
          "SGS",
          "GTM",
          "GUM",
          "GNB",
          "GUY",
          "HKG",
          "HMD",
          "HND",
          "HRV",
          "HTI",
          "HUN",
          "IDN",
          "IRL",
          "ISR",
          "IMN",
          "IND",
          "IOT",
          "IRQ",
          "IRN",
          "ISL",
          "ITA",
          "JEY",
          "JAM",
          "JOR",
          "JPN",
          "KEN",
          "KGZ",
          "KHM",
          "KIR",
          "COM",
          "KNA",
          "PRK",
          "KOR",
          "KWT",
          "CYM",
          "KAZ",
          "LAO",
          "LBN",
          "LCA",
          "LIE",
          "LKA",
          "LBR",
          "LSO",
          "LTU",
          "LUX",
          "LVA",
          "LBY",
          "MAR",
          "MCO",
          "MDA",
          "MNE",
          "MAF",
          "MDG",
          "MHL",
          "MKD",
          "MLI",
          "MMR",
          "MNG",
          "MAC",
          "MNP",
          "MTQ",
          "MRT",
          "MSR",
          "MLT",
          "MUS",
          "MDV",
          "MWI",
          "MEX",
          "MYS",
          "MOZ",
          "NAM",
          "NCL",
          "NER",
          "NFK",
          "NGA",
          "NIC",
          "NLD",
          "NOR",
          "NPL",
          "NRU",
          "NIU",
          "NZL",
          "OMN",
          "PAN",
          "PER",
          "PYF",
          "PNG",
          "PHL",
          "PAK",
          "POL",
          "SPM",
          "PCN",
          "PRI",
          "PSE",
          "PRT",
          "PLW",
          "PRY",
          "QAT",
          "REU",
          "ROU",
          "SRB",
          "RUS",
          "RWA",
          "SAU",
          "SLB",
          "SYC",
          "SDN",
          "SWE",
          "SGP",
          "SHN",
          "SVN",
          "SJM",
          "SVK",
          "SLE",
          "SMR",
          "SEN",
          "SOM",
          "SUR",
          "SSD",
          "STP",
          "SLV",
          "SXM",
          "SYR",
          "SWZ",
          "TCA",
          "TCD",
          "ATF",
          "TGO",
          "THA",
          "TJK",
          "TKL",
          "TLS",
          "TKM",
          "TUN",
          "TON",
          "TUR",
          "TTO",
          "TUV",
          "TWN",
          "TZA",
          "UKR",
          "UGA",
          "UMI",
          "USA",
          "URY",
          "UZB",
          "VAT",
          "VCT",
          "VEN",
          "VGB",
          "VIR",
          "VNM",
          "VUT",
          "WLF",
          "WSM",
          "YEM",
          "MYT",
          "ZAF",
          "ZMB",
          "ZWE"
         ],
         "name": "",
         "z": [
          0.22088353413654618,
          0.8514056224899599,
          0.4859437751004016,
          0.9598393574297188,
          0.22088353413654618,
          0.7831325301204819,
          0.8795180722891566,
          0.22088353413654618,
          0.22088353413654618,
          0.6626506024096386,
          0.22088353413654618,
          0.7991967871485943,
          0.9477911646586346,
          0.22088353413654618,
          0.22088353413654618,
          0.7630522088353414,
          0.6867469879518072,
          0.22088353413654618,
          0.4779116465863454,
          0.8554216867469879,
          0.22088353413654618,
          0.751004016064257,
          0.8353413654618473,
          0.22088353413654618,
          0.22088353413654618,
          0.22088353413654618,
          0.22088353413654618,
          0.8955823293172691,
          0.5903614457831325,
          0.22088353413654618,
          0.5220883534136547,
          0.9678714859437751,
          0.22088353413654618,
          0.22088353413654618,
          0.8072289156626506,
          0.7108433734939759,
          0.927710843373494,
          0.9558232931726908,
          0.22088353413654618,
          0.22088353413654618,
          0.22088353413654618,
          0.5943775100401606,
          0.891566265060241,
          0.22088353413654618,
          0.9959839357429718,
          0.6907630522088354,
          0.22088353413654618,
          0.4899598393574297,
          0.5140562248995983,
          0.7590361445783133,
          0.22088353413654618,
          0.22088353413654618,
          0.9437751004016064,
          0.22088353413654618,
          0.9236947791164659,
          0.8112449799196787,
          0.7791164658634538,
          0.22088353413654618,
          0.8835341365461847,
          0.22088353413654618,
          0.22088353413654618,
          0.4497991967871486,
          0.6586345381526104,
          0.9076305220883534,
          0.5100401606425703,
          0.22088353413654618,
          0.22088353413654618,
          0.7309236947791165,
          0.46586345381526106,
          0.8714859437751004,
          0.22088353413654618,
          0.22088353413654618,
          0.22088353413654618,
          0.22088353413654618,
          0.7349397590361446,
          0.8393574297188755,
          0.9518072289156626,
          0.22088353413654618,
          0.7389558232931727,
          0.22088353413654618,
          0.22088353413654618,
          0.5783132530120482,
          0.22088353413654618,
          0.22088353413654618,
          0.22088353413654618,
          0.22088353413654618,
          0.22088353413654618,
          0.22088353413654618,
          0.5502008032128514,
          0.22088353413654618,
          0.5662650602409639,
          0.9397590361445783,
          0.22088353413654618,
          0.22088353413654618,
          0.8995983935742972,
          0.22088353413654618,
          0.6827309236947792,
          0.642570281124498,
          0.5421686746987951,
          0.6104417670682731,
          0.5060240963855421,
          0.9718875502008032,
          0.9357429718875502,
          0.963855421686747,
          0.5582329317269076,
          0.22088353413654618,
          0.46184738955823296,
          0.570281124497992,
          0.9317269076305221,
          0.6024096385542169,
          0.22088353413654618,
          0.8192771084337349,
          0.678714859437751,
          0.7429718875502008,
          0.606425702811245,
          0.22088353413654618,
          0.5742971887550201,
          0.22088353413654618,
          0.22088353413654618,
          0.22088353413654618,
          0.5863453815261044,
          0.8232931726907631,
          0.6345381526104418,
          0.9759036144578314,
          0.7028112449799196,
          0.22088353413654618,
          0.7188755020080321,
          0.22088353413654618,
          0.22088353413654618,
          0.5461847389558233,
          0.22088353413654618,
          0.22088353413654618,
          0.8875502008032129,
          0.9116465863453815,
          0.8634538152610441,
          0.22088353413654618,
          0.4979919678714859,
          0.9919678714859438,
          0.7951807228915663,
          0.8674698795180723,
          0.22088353413654618,
          0.22088353413654618,
          0.22088353413654618,
          0.7269076305220884,
          0.4819277108433735,
          0.22088353413654618,
          0.22088353413654618,
          0.22088353413654618,
          0.22088353413654618,
          0.22088353413654618,
          0.6265060240963856,
          0.22088353413654618,
          0.9156626506024096,
          0.22088353413654618,
          0.22088353413654618,
          0.22088353413654618,
          0.5542168674698795,
          0.6987951807228916,
          0.46987951807228917,
          0.8032128514056225,
          0.22088353413654618,
          0.22088353413654618,
          0.22088353413654618,
          0.4578313253012048,
          0.22088353413654618,
          0.8594377510040161,
          0.8473895582329317,
          0.5180722891566265,
          0.22088353413654618,
          0.22088353413654618,
          0.9839357429718876,
          0.7550200803212851,
          0.8313253012048193,
          0.5983935742971888,
          0.22088353413654618,
          0.22088353413654618,
          0.5823293172690763,
          0.5261044176706827,
          0.6184738955823293,
          0.22088353413654618,
          0.22088353413654618,
          0.9036144578313253,
          0.7670682730923695,
          0.6746987951807228,
          0.22088353413654618,
          0.6546184738955824,
          0.8273092369477911,
          0.22088353413654618,
          0.6465863453815262,
          0.6706827309236948,
          0.6305220883534136,
          0.5301204819277109,
          0.5622489959839357,
          0.22088353413654618,
          0.22088353413654618,
          0.4538152610441767,
          0.8433734939759037,
          0.9196787148594378,
          0.22088353413654618,
          0.7228915662650602,
          0.22088353413654618,
          0.7469879518072289,
          0.22088353413654618,
          0.22088353413654618,
          0.22088353413654618,
          0.22088353413654618,
          0.22088353413654618,
          0.22088353413654618,
          0.22088353413654618,
          0.22088353413654618,
          0.22088353413654618,
          0.7710843373493976,
          0.8755020080321285,
          0.22088353413654618,
          0.22088353413654618,
          0.22088353413654618,
          0.22088353413654618,
          0.6385542168674698,
          0.6144578313253012,
          0.22088353413654618,
          0.7911646586345381,
          0.7751004016064257,
          0.5341365461847389,
          0.22088353413654618,
          0.6947791164658634,
          0.7871485943775101,
          0.22088353413654618,
          0.8152610441767069,
          0.44176706827309237,
          0.714859437751004,
          0.4457831325301205,
          1.0,
          0.9879518072289156,
          0.6666666666666666,
          0.5381526104417671,
          0.22088353413654618,
          0.22088353413654618,
          0.6224899598393574,
          0.22088353413654618,
          0.9799196787148594,
          0.4939759036144578,
          0.22088353413654618,
          0.22088353413654618,
          0.22088353413654618,
          0.4738955823293173,
          0.22088353413654618,
          0.7068273092369478,
          0.5020080321285141,
          0.6506024096385542
         ],
         "type": "choropleth"
        }
       ],
       "layout": {
        "template": {
         "data": {
          "histogram2dcontour": [
           {
            "type": "histogram2dcontour",
            "colorbar": {
             "outlinewidth": 0,
             "ticks": ""
            },
            "colorscale": [
             [
              0.0,
              "#0d0887"
             ],
             [
              0.1111111111111111,
              "#46039f"
             ],
             [
              0.2222222222222222,
              "#7201a8"
             ],
             [
              0.3333333333333333,
              "#9c179e"
             ],
             [
              0.4444444444444444,
              "#bd3786"
             ],
             [
              0.5555555555555556,
              "#d8576b"
             ],
             [
              0.6666666666666666,
              "#ed7953"
             ],
             [
              0.7777777777777778,
              "#fb9f3a"
             ],
             [
              0.8888888888888888,
              "#fdca26"
             ],
             [
              1.0,
              "#f0f921"
             ]
            ]
           }
          ],
          "choropleth": [
           {
            "type": "choropleth",
            "colorbar": {
             "outlinewidth": 0,
             "ticks": ""
            }
           }
          ],
          "histogram2d": [
           {
            "type": "histogram2d",
            "colorbar": {
             "outlinewidth": 0,
             "ticks": ""
            },
            "colorscale": [
             [
              0.0,
              "#0d0887"
             ],
             [
              0.1111111111111111,
              "#46039f"
             ],
             [
              0.2222222222222222,
              "#7201a8"
             ],
             [
              0.3333333333333333,
              "#9c179e"
             ],
             [
              0.4444444444444444,
              "#bd3786"
             ],
             [
              0.5555555555555556,
              "#d8576b"
             ],
             [
              0.6666666666666666,
              "#ed7953"
             ],
             [
              0.7777777777777778,
              "#fb9f3a"
             ],
             [
              0.8888888888888888,
              "#fdca26"
             ],
             [
              1.0,
              "#f0f921"
             ]
            ]
           }
          ],
          "heatmap": [
           {
            "type": "heatmap",
            "colorbar": {
             "outlinewidth": 0,
             "ticks": ""
            },
            "colorscale": [
             [
              0.0,
              "#0d0887"
             ],
             [
              0.1111111111111111,
              "#46039f"
             ],
             [
              0.2222222222222222,
              "#7201a8"
             ],
             [
              0.3333333333333333,
              "#9c179e"
             ],
             [
              0.4444444444444444,
              "#bd3786"
             ],
             [
              0.5555555555555556,
              "#d8576b"
             ],
             [
              0.6666666666666666,
              "#ed7953"
             ],
             [
              0.7777777777777778,
              "#fb9f3a"
             ],
             [
              0.8888888888888888,
              "#fdca26"
             ],
             [
              1.0,
              "#f0f921"
             ]
            ]
           }
          ],
          "heatmapgl": [
           {
            "type": "heatmapgl",
            "colorbar": {
             "outlinewidth": 0,
             "ticks": ""
            },
            "colorscale": [
             [
              0.0,
              "#0d0887"
             ],
             [
              0.1111111111111111,
              "#46039f"
             ],
             [
              0.2222222222222222,
              "#7201a8"
             ],
             [
              0.3333333333333333,
              "#9c179e"
             ],
             [
              0.4444444444444444,
              "#bd3786"
             ],
             [
              0.5555555555555556,
              "#d8576b"
             ],
             [
              0.6666666666666666,
              "#ed7953"
             ],
             [
              0.7777777777777778,
              "#fb9f3a"
             ],
             [
              0.8888888888888888,
              "#fdca26"
             ],
             [
              1.0,
              "#f0f921"
             ]
            ]
           }
          ],
          "contourcarpet": [
           {
            "type": "contourcarpet",
            "colorbar": {
             "outlinewidth": 0,
             "ticks": ""
            }
           }
          ],
          "contour": [
           {
            "type": "contour",
            "colorbar": {
             "outlinewidth": 0,
             "ticks": ""
            },
            "colorscale": [
             [
              0.0,
              "#0d0887"
             ],
             [
              0.1111111111111111,
              "#46039f"
             ],
             [
              0.2222222222222222,
              "#7201a8"
             ],
             [
              0.3333333333333333,
              "#9c179e"
             ],
             [
              0.4444444444444444,
              "#bd3786"
             ],
             [
              0.5555555555555556,
              "#d8576b"
             ],
             [
              0.6666666666666666,
              "#ed7953"
             ],
             [
              0.7777777777777778,
              "#fb9f3a"
             ],
             [
              0.8888888888888888,
              "#fdca26"
             ],
             [
              1.0,
              "#f0f921"
             ]
            ]
           }
          ],
          "surface": [
           {
            "type": "surface",
            "colorbar": {
             "outlinewidth": 0,
             "ticks": ""
            },
            "colorscale": [
             [
              0.0,
              "#0d0887"
             ],
             [
              0.1111111111111111,
              "#46039f"
             ],
             [
              0.2222222222222222,
              "#7201a8"
             ],
             [
              0.3333333333333333,
              "#9c179e"
             ],
             [
              0.4444444444444444,
              "#bd3786"
             ],
             [
              0.5555555555555556,
              "#d8576b"
             ],
             [
              0.6666666666666666,
              "#ed7953"
             ],
             [
              0.7777777777777778,
              "#fb9f3a"
             ],
             [
              0.8888888888888888,
              "#fdca26"
             ],
             [
              1.0,
              "#f0f921"
             ]
            ]
           }
          ],
          "mesh3d": [
           {
            "type": "mesh3d",
            "colorbar": {
             "outlinewidth": 0,
             "ticks": ""
            }
           }
          ],
          "scatter": [
           {
            "marker": {
             "line": {
              "color": "#283442"
             }
            },
            "type": "scatter"
           }
          ],
          "parcoords": [
           {
            "type": "parcoords",
            "line": {
             "colorbar": {
              "outlinewidth": 0,
              "ticks": ""
             }
            }
           }
          ],
          "scatterpolargl": [
           {
            "type": "scatterpolargl",
            "marker": {
             "colorbar": {
              "outlinewidth": 0,
              "ticks": ""
             }
            }
           }
          ],
          "bar": [
           {
            "error_x": {
             "color": "#f2f5fa"
            },
            "error_y": {
             "color": "#f2f5fa"
            },
            "marker": {
             "line": {
              "color": "rgb(17,17,17)",
              "width": 0.5
             },
             "pattern": {
              "fillmode": "overlay",
              "size": 10,
              "solidity": 0.2
             }
            },
            "type": "bar"
           }
          ],
          "scattergeo": [
           {
            "type": "scattergeo",
            "marker": {
             "colorbar": {
              "outlinewidth": 0,
              "ticks": ""
             }
            }
           }
          ],
          "scatterpolar": [
           {
            "type": "scatterpolar",
            "marker": {
             "colorbar": {
              "outlinewidth": 0,
              "ticks": ""
             }
            }
           }
          ],
          "histogram": [
           {
            "marker": {
             "pattern": {
              "fillmode": "overlay",
              "size": 10,
              "solidity": 0.2
             }
            },
            "type": "histogram"
           }
          ],
          "scattergl": [
           {
            "marker": {
             "line": {
              "color": "#283442"
             }
            },
            "type": "scattergl"
           }
          ],
          "scatter3d": [
           {
            "type": "scatter3d",
            "line": {
             "colorbar": {
              "outlinewidth": 0,
              "ticks": ""
             }
            },
            "marker": {
             "colorbar": {
              "outlinewidth": 0,
              "ticks": ""
             }
            }
           }
          ],
          "scattermapbox": [
           {
            "type": "scattermapbox",
            "marker": {
             "colorbar": {
              "outlinewidth": 0,
              "ticks": ""
             }
            }
           }
          ],
          "scatterternary": [
           {
            "type": "scatterternary",
            "marker": {
             "colorbar": {
              "outlinewidth": 0,
              "ticks": ""
             }
            }
           }
          ],
          "scattercarpet": [
           {
            "type": "scattercarpet",
            "marker": {
             "colorbar": {
              "outlinewidth": 0,
              "ticks": ""
             }
            }
           }
          ],
          "carpet": [
           {
            "aaxis": {
             "endlinecolor": "#A2B1C6",
             "gridcolor": "#506784",
             "linecolor": "#506784",
             "minorgridcolor": "#506784",
             "startlinecolor": "#A2B1C6"
            },
            "baxis": {
             "endlinecolor": "#A2B1C6",
             "gridcolor": "#506784",
             "linecolor": "#506784",
             "minorgridcolor": "#506784",
             "startlinecolor": "#A2B1C6"
            },
            "type": "carpet"
           }
          ],
          "table": [
           {
            "cells": {
             "fill": {
              "color": "#506784"
             },
             "line": {
              "color": "rgb(17,17,17)"
             }
            },
            "header": {
             "fill": {
              "color": "#2a3f5f"
             },
             "line": {
              "color": "rgb(17,17,17)"
             }
            },
            "type": "table"
           }
          ],
          "barpolar": [
           {
            "marker": {
             "line": {
              "color": "rgb(17,17,17)",
              "width": 0.5
             },
             "pattern": {
              "fillmode": "overlay",
              "size": 10,
              "solidity": 0.2
             }
            },
            "type": "barpolar"
           }
          ],
          "pie": [
           {
            "automargin": true,
            "type": "pie"
           }
          ]
         },
         "layout": {
          "autotypenumbers": "strict",
          "colorway": [
           "#636efa",
           "#EF553B",
           "#00cc96",
           "#ab63fa",
           "#FFA15A",
           "#19d3f3",
           "#FF6692",
           "#B6E880",
           "#FF97FF",
           "#FECB52"
          ],
          "font": {
           "color": "#f2f5fa"
          },
          "hovermode": "closest",
          "hoverlabel": {
           "align": "left"
          },
          "paper_bgcolor": "rgb(17,17,17)",
          "plot_bgcolor": "rgb(17,17,17)",
          "polar": {
           "bgcolor": "rgb(17,17,17)",
           "angularaxis": {
            "gridcolor": "#506784",
            "linecolor": "#506784",
            "ticks": ""
           },
           "radialaxis": {
            "gridcolor": "#506784",
            "linecolor": "#506784",
            "ticks": ""
           }
          },
          "ternary": {
           "bgcolor": "rgb(17,17,17)",
           "aaxis": {
            "gridcolor": "#506784",
            "linecolor": "#506784",
            "ticks": ""
           },
           "baxis": {
            "gridcolor": "#506784",
            "linecolor": "#506784",
            "ticks": ""
           },
           "caxis": {
            "gridcolor": "#506784",
            "linecolor": "#506784",
            "ticks": ""
           }
          },
          "coloraxis": {
           "colorbar": {
            "outlinewidth": 0,
            "ticks": ""
           }
          },
          "colorscale": {
           "sequential": [
            [
             0.0,
             "#0d0887"
            ],
            [
             0.1111111111111111,
             "#46039f"
            ],
            [
             0.2222222222222222,
             "#7201a8"
            ],
            [
             0.3333333333333333,
             "#9c179e"
            ],
            [
             0.4444444444444444,
             "#bd3786"
            ],
            [
             0.5555555555555556,
             "#d8576b"
            ],
            [
             0.6666666666666666,
             "#ed7953"
            ],
            [
             0.7777777777777778,
             "#fb9f3a"
            ],
            [
             0.8888888888888888,
             "#fdca26"
            ],
            [
             1.0,
             "#f0f921"
            ]
           ],
           "sequentialminus": [
            [
             0.0,
             "#0d0887"
            ],
            [
             0.1111111111111111,
             "#46039f"
            ],
            [
             0.2222222222222222,
             "#7201a8"
            ],
            [
             0.3333333333333333,
             "#9c179e"
            ],
            [
             0.4444444444444444,
             "#bd3786"
            ],
            [
             0.5555555555555556,
             "#d8576b"
            ],
            [
             0.6666666666666666,
             "#ed7953"
            ],
            [
             0.7777777777777778,
             "#fb9f3a"
            ],
            [
             0.8888888888888888,
             "#fdca26"
            ],
            [
             1.0,
             "#f0f921"
            ]
           ],
           "diverging": [
            [
             0,
             "#8e0152"
            ],
            [
             0.1,
             "#c51b7d"
            ],
            [
             0.2,
             "#de77ae"
            ],
            [
             0.3,
             "#f1b6da"
            ],
            [
             0.4,
             "#fde0ef"
            ],
            [
             0.5,
             "#f7f7f7"
            ],
            [
             0.6,
             "#e6f5d0"
            ],
            [
             0.7,
             "#b8e186"
            ],
            [
             0.8,
             "#7fbc41"
            ],
            [
             0.9,
             "#4d9221"
            ],
            [
             1,
             "#276419"
            ]
           ]
          },
          "xaxis": {
           "gridcolor": "#283442",
           "linecolor": "#506784",
           "ticks": "",
           "title": {
            "standoff": 15
           },
           "zerolinecolor": "#283442",
           "automargin": true,
           "zerolinewidth": 2
          },
          "yaxis": {
           "gridcolor": "#283442",
           "linecolor": "#506784",
           "ticks": "",
           "title": {
            "standoff": 15
           },
           "zerolinecolor": "#283442",
           "automargin": true,
           "zerolinewidth": 2
          },
          "scene": {
           "xaxis": {
            "backgroundcolor": "rgb(17,17,17)",
            "gridcolor": "#506784",
            "linecolor": "#506784",
            "showbackground": true,
            "ticks": "",
            "zerolinecolor": "#C8D4E3",
            "gridwidth": 2
           },
           "yaxis": {
            "backgroundcolor": "rgb(17,17,17)",
            "gridcolor": "#506784",
            "linecolor": "#506784",
            "showbackground": true,
            "ticks": "",
            "zerolinecolor": "#C8D4E3",
            "gridwidth": 2
           },
           "zaxis": {
            "backgroundcolor": "rgb(17,17,17)",
            "gridcolor": "#506784",
            "linecolor": "#506784",
            "showbackground": true,
            "ticks": "",
            "zerolinecolor": "#C8D4E3",
            "gridwidth": 2
           }
          },
          "shapedefaults": {
           "line": {
            "color": "#f2f5fa"
           }
          },
          "annotationdefaults": {
           "arrowcolor": "#f2f5fa",
           "arrowhead": 0,
           "arrowwidth": 1
          },
          "geo": {
           "bgcolor": "rgb(17,17,17)",
           "landcolor": "rgb(17,17,17)",
           "subunitcolor": "#506784",
           "showland": true,
           "showlakes": true,
           "lakecolor": "rgb(17,17,17)"
          },
          "title": {
           "x": 0.05
          },
          "updatemenudefaults": {
           "bgcolor": "#506784",
           "borderwidth": 0
          },
          "sliderdefaults": {
           "bgcolor": "#C8D4E3",
           "borderwidth": 1,
           "bordercolor": "rgb(17,17,17)",
           "tickwidth": 0
          },
          "mapbox": {
           "style": "dark"
          }
         }
        },
        "geo": {
         "domain": {
          "x": [
           0.0,
           1.0
          ],
          "y": [
           0.0,
           1.0
          ]
         },
         "projection": {
          "type": "natural earth",
          "rotation": {
           "lon": 10
          }
         },
         "center": {},
         "showframe": true,
         "showcoastlines": true,
         "coastlinecolor": "rgba(0,0,0,0.5)",
         "coastlinewidth": 0.8,
         "landcolor": "rgba(240,240,240,1)",
         "lakecolor": "white",
         "oceancolor": "white",
         "showocean": true,
         "bgcolor": "white",
         "showcountries": true,
         "countrycolor": "rgba(0,0,0,0.2)",
         "countrywidth": 0.5
        },
        "coloraxis": {
         "colorbar": {
          "title": {
           "text": "Percentage"
          },
          "thickness": 15,
          "lenmode": "pixels",
          "len": 300,
          "yanchor": "middle",
          "y": 0.5,
          "tickvals": [
           0,
           0.25,
           0.5,
           0.75,
           1
          ]
         },
         "colorscale": [
          [
           0.0,
           "rgb(0,104,55)"
          ],
          [
           0.1,
           "rgb(26,152,80)"
          ],
          [
           0.2,
           "rgb(102,189,99)"
          ],
          [
           0.3,
           "rgb(166,217,106)"
          ],
          [
           0.4,
           "rgb(217,239,139)"
          ],
          [
           0.5,
           "rgb(255,255,191)"
          ],
          [
           0.6,
           "rgb(254,224,139)"
          ],
          [
           0.7,
           "rgb(253,174,97)"
          ],
          [
           0.8,
           "rgb(244,109,67)"
          ],
          [
           0.9,
           "rgb(215,48,39)"
          ],
          [
           1.0,
           "rgb(165,0,38)"
          ]
         ],
         "cmid": 0.5,
         "cmin": 0.3,
         "cmax": 1
        },
        "legend": {
         "tracegroupgap": 0
        },
        "title": {
         "text": "<b>Global Cyber Victim Density</b><br><sup>Quantile Normalization</sup>",
         "font": {
          "size": 20
         },
         "y": 0.95,
         "x": 0.5,
         "xanchor": "center",
         "yanchor": "top"
        },
        "margin": {
         "r": 20,
         "t": 80,
         "l": 20,
         "b": 20
        },
        "font": {
         "family": "Arial",
         "size": 12,
         "color": "#404040"
        },
        "hoverlabel": {
         "font": {
          "size": 12,
          "family": "Arial"
         },
         "bgcolor": "white"
        },
        "plot_bgcolor": "white",
        "paper_bgcolor": "white",
        "annotations": [
         {
          "font": {
           "color": "#666666",
           "size": 10
          },
          "showarrow": false,
          "text": "Source: Your Data Source | Visualization by Your Team",
          "x": 0.5,
          "xref": "paper",
          "y": -0.1,
          "yref": "paper"
         }
        ]
       },
       "config": {
        "plotlyServerURL": "https://plot.ly"
       }
      },
      "text/html": [
       "<div>                            <div id=\"cb5b8187-4334-4ce3-8e1c-17c0cb18c8d0\" class=\"plotly-graph-div\" style=\"height:525px; width:100%;\"></div>            <script type=\"text/javascript\">                require([\"plotly\"], function(Plotly) {                    window.PLOTLYENV=window.PLOTLYENV || {};                                    if (document.getElementById(\"cb5b8187-4334-4ce3-8e1c-17c0cb18c8d0\")) {                    Plotly.newPlot(                        \"cb5b8187-4334-4ce3-8e1c-17c0cb18c8d0\",                        [{\"coloraxis\":\"coloraxis\",\"customdata\":[[0,77265.0,0.0,\"AND\"],[15,9890400.0,1.516622179082747,\"ARE\"],[2,40218234.0,0.04972868773899918,\"AFG\"],[1,97928.0,10.211584020913323,\"ATG\"],[0,13452.0,0.0,\"AIA\"],[2,2837743.0,0.7047854580206876,\"ALB\"],[6,2963234.0,2.0248147800679934,\"ARM\"],[0,32866268.0,0.0,\"AGO\"],[0,1000.0,0.0,\"ATA\"],[13,45376763.0,0.28649024612002405,\"ARG\"],[0,55197.0,0.0,\"ASM\"],[7,8917205.0,0.7849993355541338,\"AUT\"],[174,25687041.0,6.773843666929173,\"AUS\"],[0,106766.0,0.0,\"ABW\"],[0,29458.0,0.0,\"ALA\"],[6,10110116.0,0.5934650007972213,\"AZE\"],[1,3280815.0,0.30480231283994985,\"BIH\"],[0,287371.0,0.0,\"BRB\"],[7,164689383.0,0.04250425784884992,\"BGD\"],[18,11555997.0,1.5576328031237807,\"BEL\"],[0,20903278.0,0.0,\"BFA\"],[4,6927288.0,0.5774265484559037,\"BGR\"],[2,1701583.0,1.1753761056616105,\"BHR\"],[0,11890781.0,0.0,\"BDI\"],[0,12123198.0,0.0,\"BEN\"],[0,4255.0,0.0,\"BLM\"],[0,63903.0,0.0,\"BMU\"],[1,437483.0,2.285803105492099,\"BRN\"],[2,11673029.0,0.17133513503650166,\"BOL\"],[0,25987.0,0.0,\"BES\"],[15,212559409.0,0.07056850633226967,\"BRA\"],[5,393248.0,12.714622833428269,\"BHS\"],[0,771612.0,0.0,\"BTN\"],[0,0.0,0.0,\"BVT\"],[2,2351625.0,0.8504757348641896,\"BWA\"],[4,9398861.0,0.4255834829347939,\"BLR\"],[2,397621.0,5.02991542197218,\"BLZ\"],[380,38005238.0,9.998621768925641,\"CAN\"],[0,544.0,0.0,\"CCK\"],[0,108407721.0,0.0,\"COD\"],[0,4829764.0,0.0,\"CAF\"],[1,5657000.0,0.176772140710624,\"COG\"],[19,8654622.0,2.1953587343271606,\"CHE\"],[0,26378275.0,0.0,\"CIV\"],[7,18100.0,386.7403314917127,\"COK\"],[6,19116209.0,0.31386976361264934,\"CHL\"],[0,26545864.0,0.0,\"CMR\"],[70,1402112000.0,0.04992468504655834,\"CHN\"],[3,50882884.0,0.058958922218323946,\"COL\"],[3,5094114.0,0.5889149712786168,\"CRI\"],[0,11326616.0,0.0,\"CUB\"],[0,555988.0,0.0,\"CPV\"],[1,155014.0,6.451030229527656,\"CUW\"],[0,2072.0,0.0,\"CXR\"],[6,1207361.0,4.969516159624172,\"CYP\"],[10,10698896.0,0.9346758768381336,\"CZE\"],[57,83240525.0,0.6847626201300389,\"DEU\"],[0,988002.0,0.0,\"DJI\"],[12,5831404.0,2.057823467556012,\"DNK\"],[0,71991.0,0.0,\"DMA\"],[0,10847904.0,0.0,\"DOM\"],[1,44700000.0,0.02237136465324385,\"DZA\"],[5,17643060.0,0.28339755121843946,\"ECU\"],[4,1331057.0,3.0051305090615954,\"EST\"],[6,102334403.0,0.05863130896459131,\"EGY\"],[0,510713.0,0.0,\"ESH\"],[0,5352000.0,0.0,\"ERI\"],[24,47351567.0,0.5068470067738202,\"ESP\"],[3,114963583.0,0.0260952200837373,\"ETH\"],[9,5530719.0,1.627274862454592,\"FIN\"],[0,896444.0,0.0,\"FJI\"],[0,2563.0,0.0,\"FLK\"],[0,115021.0,0.0,\"FSM\"],[0,48865.0,0.0,\"FRO\"],[35,67391582.0,0.5193526989765577,\"FRA\"],[3,2225728.0,1.347873594617132,\"GAB\"],[592,67215293.0,8.807519443529019,\"GBR\"],[0,112519.0,0.0,\"GRD\"],[2,3714000.0,0.5385029617662896,\"GEO\"],[0,254541.0,0.0,\"GUF\"],[0,62999.0,0.0,\"GGY\"],[4,31072945.0,0.1287293495997885,\"GHA\"],[0,33691.0,0.0,\"GIB\"],[0,56367.0,0.0,\"GRL\"],[0,2416664.0,0.0,\"GMB\"],[0,13132792.0,0.0,\"GIN\"],[0,400132.0,0.0,\"GLP\"],[0,1402985.0,0.0,\"GNQ\"],[1,10715549.0,0.09332233000847646,\"GRC\"],[0,30.0,0.0,\"SGS\"],[2,16858333.0,0.11863569191568347,\"GTM\"],[1,168783.0,5.924767304764106,\"GUM\"],[0,1967998.0,0.0,\"GNB\"],[0,786559.0,0.0,\"GUY\"],[19,7500700.0,2.5330969109549777,\"HKG\"],[0,0.0,0.0,\"HMD\"],[3,9904608.0,0.3028893218186929,\"HND\"],[1,4047200.0,0.2470844040324175,\"HRV\"],[1,11402533.0,0.08769981196283316,\"HTI\"],[2,9749763.0,0.2051331914427048,\"HUN\"],[15,273523621.0,0.054839870666965176,\"IDN\"],[71,4994724.0,14.214999667649304,\"IRL\"],[51,9216900.0,5.533313803990496,\"ISR\"],[1,85032.0,11.760278483394487,\"IMN\"],[151,1380004385.0,0.10941994216924174,\"IND\"],[0,3000.0,0.0,\"IOT\"],[1,40222503.0,0.02486170490185556,\"IRQ\"],[10,83992953.0,0.11905760713044582,\"IRN\"],[2,366425.0,5.458142866889541,\"ISL\"],[11,59554023.0,0.18470624562172736,\"ITA\"],[0,100800.0,0.0,\"JEY\"],[3,2961161.0,1.013116139244033,\"JAM\"],[3,10203140.0,0.294027132823817,\"JOR\"],[68,125836021.0,0.5403858089250931,\"JPN\"],[10,53771300.0,0.18597281449397726,\"KEN\"],[0,6591600.0,0.0,\"KGZ\"],[2,16718971.0,0.11962458694377781,\"KHM\"],[0,119446.0,0.0,\"KIR\"],[0,869595.0,0.0,\"COM\"],[0,53192.0,0.0,\"KNA\"],[4,25778815.0,0.1551661703612055,\"PRK\"],[53,51780579.0,1.0235497752931653,\"KOR\"],[1,4270563.0,0.23416116329392633,\"KWT\"],[1,65720.0,15.216068167985393,\"CYM\"],[7,18754440.0,0.37324494892942683,\"KAZ\"],[0,7275556.0,0.0,\"LAO\"],[3,6825442.0,0.43953197463255855,\"LBN\"],[0,183629.0,0.0,\"LCA\"],[0,38137.0,0.0,\"LIE\"],[2,21919000.0,0.09124503855102879,\"LKA\"],[0,5057677.0,0.0,\"LBR\"],[0,2142252.0,0.0,\"LSO\"],[6,2794700.0,2.1469209575267474,\"LTU\"],[2,632275.0,3.163180578071251,\"LUX\"],[3,1901548.0,1.5776619890741648,\"LVA\"],[0,6871287.0,0.0,\"LBY\"],[2,36910558.0,0.05418503832968334,\"MAR\"],[1,39244.0,25.481602283151563,\"MCO\"],[2,2617820.0,0.7639944686800467,\"MDA\"],[1,621718.0,1.6084462730691407,\"MNE\"],[0,38659.0,0.0,\"MAF\"],[0,27691019.0,0.0,\"MDG\"],[0,59194.0,0.0,\"MHL\"],[1,2077132.0,0.4814330528825323,\"MKD\"],[1,20250834.0,0.04938068229683775,\"MLI\"],[0,54409794.0,0.0,\"MMR\"],[0,3278292.0,0.0,\"MNG\"],[0,649342.0,0.0,\"MAC\"],[0,57557.0,0.0,\"MNP\"],[0,378243.0,0.0,\"MTQ\"],[1,4649660.0,0.21506948895188036,\"MRT\"],[0,4922.0,0.0,\"MSR\"],[2,525285.0,3.807456904347164,\"MLT\"],[0,1265740.0,0.0,\"MUS\"],[0,540542.0,0.0,\"MDV\"],[0,19129955.0,0.0,\"MWI\"],[13,128932753.0,0.10082775475987858,\"MEX\"],[11,32365998.0,0.33986284000882655,\"MYS\"],[1,31255435.0,0.031994435527773014,\"MOZ\"],[2,2540916.0,0.7871177166029888,\"NAM\"],[0,271960.0,0.0,\"NCL\"],[0,24206636.0,0.0,\"NER\"],[0,2302.0,0.0,\"NFK\"],[5,206139587.0,0.02425540903019273,\"NGA\"],[0,6624554.0,0.0,\"NIC\"],[26,16655799.0,1.5610178773170833,\"NLD\"],[8,5379475.0,1.4871339675340067,\"NOR\"],[2,29136808.0,0.06864169884360703,\"NPL\"],[0,10834.0,0.0,\"NRU\"],[0,1470.0,0.0,\"NIU\"],[106,5084300.0,20.848494384674392,\"NZL\"],[3,5106622.0,0.5874725013913307,\"OMN\"],[5,4314768.0,1.1588108561109196,\"PAN\"],[6,32971846.0,0.18197343272803104,\"PER\"],[0,280904.0,0.0,\"PYF\"],[0,8947027.0,0.0,\"PNG\"],[16,109581085.0,0.1460106002783236,\"PHL\"],[16,220892331.0,0.07243347891511906,\"PAK\"],[8,37950802.0,0.21079923422962182,\"POL\"],[0,6069.0,0.0,\"SPM\"],[0,56.0,0.0,\"PCN\"],[9,3194034.0,2.8177533488998554,\"PRI\"],[3,4803269.0,0.624574638647138,\"PSE\"],[3,10305564.0,0.2911048827604195,\"PRT\"],[0,18092.0,0.0,\"PLW\"],[2,7132530.0,0.2804054101419833,\"PRY\"],[3,2881060.0,1.0412834165203084,\"QAT\"],[0,840974.0,0.0,\"REU\"],[5,19286123.0,0.25925376499983954,\"ROU\"],[2,6908224.0,0.28951001009810917,\"SRB\"],[31,144104080.0,0.21512229216549594,\"RUS\"],[1,12952209.0,0.07720690733140578,\"RWA\"],[4,34813867.0,0.11489674502404458,\"SAU\"],[0,686878.0,0.0,\"SLB\"],[0,98462.0,0.0,\"SYC\"],[1,43849269.0,0.022805397280397082,\"SDN\"],[15,10353442.0,1.448793550975608,\"SWE\"],[27,5685807.0,4.748666284311092,\"SGP\"],[0,53192.0,0.0,\"SHN\"],[1,2100126.0,0.4761619064760876,\"SVN\"],[0,2562.0,0.0,\"SJM\"],[3,5458827.0,0.5495686161147807,\"SVK\"],[0,7976985.0,0.0,\"SLE\"],[0,33938.0,0.0,\"SMR\"],[0,16743930.0,0.0,\"SEN\"],[0,15893219.0,0.0,\"SOM\"],[0,586634.0,0.0,\"SUR\"],[0,11193729.0,0.0,\"SSD\"],[0,219161.0,0.0,\"STP\"],[0,6486201.0,0.0,\"SLV\"],[0,40812.0,0.0,\"SXM\"],[11,17500657.0,0.6285478310899985,\"SYR\"],[2,1160164.0,1.7238942080602397,\"SWZ\"],[0,38718.0,0.0,\"TCA\"],[0,16425859.0,0.0,\"TCD\"],[0,400.0,0.0,\"ATF\"],[0,8278737.0,0.0,\"TGO\"],[17,69799978.0,0.24355308536057133,\"THA\"],[2,9537642.0,0.20969543625143405,\"TJK\"],[0,1411.0,0.0,\"TKL\"],[1,1318442.0,0.7584709831755966,\"TLS\"],[4,6031187.0,0.6632193629545892,\"TKM\"],[1,11818618.0,0.08461226177206167,\"TUN\"],[0,105697.0,0.0,\"TON\"],[27,84339067.0,0.3201363372919456,\"TUR\"],[1,1399491.0,0.7145455026148794,\"TTO\"],[0,11792.0,0.0,\"TUV\"],[23,23503349.0,0.9785839456325991,\"TWN\"],[1,59734213.0,0.01674082489376733,\"TZA\"],[19,44134693.0,0.4305003322442959,\"UKR\"],[1,45741000.0,0.02186222426269649,\"UGA\"],[8,300.0,26666.666666666668,\"UMI\"],[7493,329484123.0,22.741611740727183,\"USA\"],[1,3473727.0,0.2878752417792187,\"URY\"],[3,34232050.0,0.08763717042946595,\"UZB\"],[0,451.0,0.0,\"VAT\"],[0,110947.0,0.0,\"VCT\"],[6,28435943.0,0.21100056361767217,\"VEN\"],[0,30237.0,0.0,\"VGB\"],[2,106290.0,18.816445573431178,\"VIR\"],[5,97338583.0,0.05136709253308115,\"VNM\"],[0,307150.0,0.0,\"VUT\"],[0,11750.0,0.0,\"WLF\"],[0,198410.0,0.0,\"WSM\"],[1,29825968.0,0.03352783051332986,\"YEM\"],[0,226915.0,0.0,\"MYT\"],[25,59308690.0,0.4215233888996705,\"ZAF\"],[1,18383956.0,0.05439525638551354,\"ZMB\"],[4,14862927.0,0.26912599382342384,\"ZWE\"]],\"geo\":\"geo\",\"hovertemplate\":\"\\u003cb\\u003e%{hovertext}\\u003c\\u002fb\\u003e\\u003cbr\\u003e\\u003cbr\\u003eattack_count=%{customdata[0]}\\u003cbr\\u003epopulation=%{customdata[1]}\\u003cbr\\u003eattack_density=%{customdata[2]:.2f}\\u003cbr\\u003eattack_density_normalized=%{z}\\u003cextra\\u003e\\u003c\\u002fextra\\u003e\",\"hovertext\":[\"AD\",\"AE\",\"AF\",\"AG\",\"AI\",\"AL\",\"AM\",\"AO\",\"AQ\",\"AR\",\"AS\",\"AT\",\"AU\",\"AW\",\"AX\",\"AZ\",\"BA\",\"BB\",\"BD\",\"BE\",\"BF\",\"BG\",\"BH\",\"BI\",\"BJ\",\"BL\",\"BM\",\"BN\",\"BO\",\"BQ\",\"BR\",\"BS\",\"BT\",\"BV\",\"BW\",\"BY\",\"BZ\",\"CA\",\"CC\",\"CD\",\"CF\",\"CG\",\"CH\",\"CI\",\"CK\",\"CL\",\"CM\",\"CN\",\"CO\",\"CR\",\"CU\",\"CV\",\"CW\",\"CX\",\"CY\",\"CZ\",\"DE\",\"DJ\",\"DK\",\"DM\",\"DO\",\"DZ\",\"EC\",\"EE\",\"EG\",\"EH\",\"ER\",\"ES\",\"ET\",\"FI\",\"FJ\",\"FK\",\"FM\",\"FO\",\"FR\",\"GA\",\"GB\",\"GD\",\"GE\",\"GF\",\"GG\",\"GH\",\"GI\",\"GL\",\"GM\",\"GN\",\"GP\",\"GQ\",\"GR\",\"GS\",\"GT\",\"GU\",\"GW\",\"GY\",\"HK\",\"HM\",\"HN\",\"HR\",\"HT\",\"HU\",\"ID\",\"IE\",\"IL\",\"IM\",\"IN\",\"IO\",\"IQ\",\"IR\",\"IS\",\"IT\",\"JE\",\"JM\",\"JO\",\"JP\",\"KE\",\"KG\",\"KH\",\"KI\",\"KM\",\"KN\",\"KP\",\"KR\",\"KW\",\"KY\",\"KZ\",\"LA\",\"LB\",\"LC\",\"LI\",\"LK\",\"LR\",\"LS\",\"LT\",\"LU\",\"LV\",\"LY\",\"MA\",\"MC\",\"MD\",\"ME\",\"MF\",\"MG\",\"MH\",\"MK\",\"ML\",\"MM\",\"MN\",\"MO\",\"MP\",\"MQ\",\"MR\",\"MS\",\"MT\",\"MU\",\"MV\",\"MW\",\"MX\",\"MY\",\"MZ\",\"NA\",\"NC\",\"NE\",\"NF\",\"NG\",\"NI\",\"NL\",\"NO\",\"NP\",\"NR\",\"NU\",\"NZ\",\"OM\",\"PA\",\"PE\",\"PF\",\"PG\",\"PH\",\"PK\",\"PL\",\"PM\",\"PN\",\"PR\",\"PS\",\"PT\",\"PW\",\"PY\",\"QA\",\"RE\",\"RO\",\"RS\",\"RU\",\"RW\",\"SA\",\"SB\",\"SC\",\"SD\",\"SE\",\"SG\",\"SH\",\"SI\",\"SJ\",\"SK\",\"SL\",\"SM\",\"SN\",\"SO\",\"SR\",\"SS\",\"ST\",\"SV\",\"SX\",\"SY\",\"SZ\",\"TC\",\"TD\",\"TF\",\"TG\",\"TH\",\"TJ\",\"TK\",\"TL\",\"TM\",\"TN\",\"TO\",\"TR\",\"TT\",\"TV\",\"TW\",\"TZ\",\"UA\",\"UG\",\"UM\",\"US\",\"UY\",\"UZ\",\"VA\",\"VC\",\"VE\",\"VG\",\"VI\",\"VN\",\"VU\",\"WF\",\"WS\",\"YE\",\"YT\",\"ZA\",\"ZM\",\"ZW\"],\"locations\":[\"AND\",\"ARE\",\"AFG\",\"ATG\",\"AIA\",\"ALB\",\"ARM\",\"AGO\",\"ATA\",\"ARG\",\"ASM\",\"AUT\",\"AUS\",\"ABW\",\"ALA\",\"AZE\",\"BIH\",\"BRB\",\"BGD\",\"BEL\",\"BFA\",\"BGR\",\"BHR\",\"BDI\",\"BEN\",\"BLM\",\"BMU\",\"BRN\",\"BOL\",\"BES\",\"BRA\",\"BHS\",\"BTN\",\"BVT\",\"BWA\",\"BLR\",\"BLZ\",\"CAN\",\"CCK\",\"COD\",\"CAF\",\"COG\",\"CHE\",\"CIV\",\"COK\",\"CHL\",\"CMR\",\"CHN\",\"COL\",\"CRI\",\"CUB\",\"CPV\",\"CUW\",\"CXR\",\"CYP\",\"CZE\",\"DEU\",\"DJI\",\"DNK\",\"DMA\",\"DOM\",\"DZA\",\"ECU\",\"EST\",\"EGY\",\"ESH\",\"ERI\",\"ESP\",\"ETH\",\"FIN\",\"FJI\",\"FLK\",\"FSM\",\"FRO\",\"FRA\",\"GAB\",\"GBR\",\"GRD\",\"GEO\",\"GUF\",\"GGY\",\"GHA\",\"GIB\",\"GRL\",\"GMB\",\"GIN\",\"GLP\",\"GNQ\",\"GRC\",\"SGS\",\"GTM\",\"GUM\",\"GNB\",\"GUY\",\"HKG\",\"HMD\",\"HND\",\"HRV\",\"HTI\",\"HUN\",\"IDN\",\"IRL\",\"ISR\",\"IMN\",\"IND\",\"IOT\",\"IRQ\",\"IRN\",\"ISL\",\"ITA\",\"JEY\",\"JAM\",\"JOR\",\"JPN\",\"KEN\",\"KGZ\",\"KHM\",\"KIR\",\"COM\",\"KNA\",\"PRK\",\"KOR\",\"KWT\",\"CYM\",\"KAZ\",\"LAO\",\"LBN\",\"LCA\",\"LIE\",\"LKA\",\"LBR\",\"LSO\",\"LTU\",\"LUX\",\"LVA\",\"LBY\",\"MAR\",\"MCO\",\"MDA\",\"MNE\",\"MAF\",\"MDG\",\"MHL\",\"MKD\",\"MLI\",\"MMR\",\"MNG\",\"MAC\",\"MNP\",\"MTQ\",\"MRT\",\"MSR\",\"MLT\",\"MUS\",\"MDV\",\"MWI\",\"MEX\",\"MYS\",\"MOZ\",\"NAM\",\"NCL\",\"NER\",\"NFK\",\"NGA\",\"NIC\",\"NLD\",\"NOR\",\"NPL\",\"NRU\",\"NIU\",\"NZL\",\"OMN\",\"PAN\",\"PER\",\"PYF\",\"PNG\",\"PHL\",\"PAK\",\"POL\",\"SPM\",\"PCN\",\"PRI\",\"PSE\",\"PRT\",\"PLW\",\"PRY\",\"QAT\",\"REU\",\"ROU\",\"SRB\",\"RUS\",\"RWA\",\"SAU\",\"SLB\",\"SYC\",\"SDN\",\"SWE\",\"SGP\",\"SHN\",\"SVN\",\"SJM\",\"SVK\",\"SLE\",\"SMR\",\"SEN\",\"SOM\",\"SUR\",\"SSD\",\"STP\",\"SLV\",\"SXM\",\"SYR\",\"SWZ\",\"TCA\",\"TCD\",\"ATF\",\"TGO\",\"THA\",\"TJK\",\"TKL\",\"TLS\",\"TKM\",\"TUN\",\"TON\",\"TUR\",\"TTO\",\"TUV\",\"TWN\",\"TZA\",\"UKR\",\"UGA\",\"UMI\",\"USA\",\"URY\",\"UZB\",\"VAT\",\"VCT\",\"VEN\",\"VGB\",\"VIR\",\"VNM\",\"VUT\",\"WLF\",\"WSM\",\"YEM\",\"MYT\",\"ZAF\",\"ZMB\",\"ZWE\"],\"name\":\"\",\"z\":[0.22088353413654618,0.8514056224899599,0.4859437751004016,0.9598393574297188,0.22088353413654618,0.7831325301204819,0.8795180722891566,0.22088353413654618,0.22088353413654618,0.6626506024096386,0.22088353413654618,0.7991967871485943,0.9477911646586346,0.22088353413654618,0.22088353413654618,0.7630522088353414,0.6867469879518072,0.22088353413654618,0.4779116465863454,0.8554216867469879,0.22088353413654618,0.751004016064257,0.8353413654618473,0.22088353413654618,0.22088353413654618,0.22088353413654618,0.22088353413654618,0.8955823293172691,0.5903614457831325,0.22088353413654618,0.5220883534136547,0.9678714859437751,0.22088353413654618,0.22088353413654618,0.8072289156626506,0.7108433734939759,0.927710843373494,0.9558232931726908,0.22088353413654618,0.22088353413654618,0.22088353413654618,0.5943775100401606,0.891566265060241,0.22088353413654618,0.9959839357429718,0.6907630522088354,0.22088353413654618,0.4899598393574297,0.5140562248995983,0.7590361445783133,0.22088353413654618,0.22088353413654618,0.9437751004016064,0.22088353413654618,0.9236947791164659,0.8112449799196787,0.7791164658634538,0.22088353413654618,0.8835341365461847,0.22088353413654618,0.22088353413654618,0.4497991967871486,0.6586345381526104,0.9076305220883534,0.5100401606425703,0.22088353413654618,0.22088353413654618,0.7309236947791165,0.46586345381526106,0.8714859437751004,0.22088353413654618,0.22088353413654618,0.22088353413654618,0.22088353413654618,0.7349397590361446,0.8393574297188755,0.9518072289156626,0.22088353413654618,0.7389558232931727,0.22088353413654618,0.22088353413654618,0.5783132530120482,0.22088353413654618,0.22088353413654618,0.22088353413654618,0.22088353413654618,0.22088353413654618,0.22088353413654618,0.5502008032128514,0.22088353413654618,0.5662650602409639,0.9397590361445783,0.22088353413654618,0.22088353413654618,0.8995983935742972,0.22088353413654618,0.6827309236947792,0.642570281124498,0.5421686746987951,0.6104417670682731,0.5060240963855421,0.9718875502008032,0.9357429718875502,0.963855421686747,0.5582329317269076,0.22088353413654618,0.46184738955823296,0.570281124497992,0.9317269076305221,0.6024096385542169,0.22088353413654618,0.8192771084337349,0.678714859437751,0.7429718875502008,0.606425702811245,0.22088353413654618,0.5742971887550201,0.22088353413654618,0.22088353413654618,0.22088353413654618,0.5863453815261044,0.8232931726907631,0.6345381526104418,0.9759036144578314,0.7028112449799196,0.22088353413654618,0.7188755020080321,0.22088353413654618,0.22088353413654618,0.5461847389558233,0.22088353413654618,0.22088353413654618,0.8875502008032129,0.9116465863453815,0.8634538152610441,0.22088353413654618,0.4979919678714859,0.9919678714859438,0.7951807228915663,0.8674698795180723,0.22088353413654618,0.22088353413654618,0.22088353413654618,0.7269076305220884,0.4819277108433735,0.22088353413654618,0.22088353413654618,0.22088353413654618,0.22088353413654618,0.22088353413654618,0.6265060240963856,0.22088353413654618,0.9156626506024096,0.22088353413654618,0.22088353413654618,0.22088353413654618,0.5542168674698795,0.6987951807228916,0.46987951807228917,0.8032128514056225,0.22088353413654618,0.22088353413654618,0.22088353413654618,0.4578313253012048,0.22088353413654618,0.8594377510040161,0.8473895582329317,0.5180722891566265,0.22088353413654618,0.22088353413654618,0.9839357429718876,0.7550200803212851,0.8313253012048193,0.5983935742971888,0.22088353413654618,0.22088353413654618,0.5823293172690763,0.5261044176706827,0.6184738955823293,0.22088353413654618,0.22088353413654618,0.9036144578313253,0.7670682730923695,0.6746987951807228,0.22088353413654618,0.6546184738955824,0.8273092369477911,0.22088353413654618,0.6465863453815262,0.6706827309236948,0.6305220883534136,0.5301204819277109,0.5622489959839357,0.22088353413654618,0.22088353413654618,0.4538152610441767,0.8433734939759037,0.9196787148594378,0.22088353413654618,0.7228915662650602,0.22088353413654618,0.7469879518072289,0.22088353413654618,0.22088353413654618,0.22088353413654618,0.22088353413654618,0.22088353413654618,0.22088353413654618,0.22088353413654618,0.22088353413654618,0.22088353413654618,0.7710843373493976,0.8755020080321285,0.22088353413654618,0.22088353413654618,0.22088353413654618,0.22088353413654618,0.6385542168674698,0.6144578313253012,0.22088353413654618,0.7911646586345381,0.7751004016064257,0.5341365461847389,0.22088353413654618,0.6947791164658634,0.7871485943775101,0.22088353413654618,0.8152610441767069,0.44176706827309237,0.714859437751004,0.4457831325301205,1.0,0.9879518072289156,0.6666666666666666,0.5381526104417671,0.22088353413654618,0.22088353413654618,0.6224899598393574,0.22088353413654618,0.9799196787148594,0.4939759036144578,0.22088353413654618,0.22088353413654618,0.22088353413654618,0.4738955823293173,0.22088353413654618,0.7068273092369478,0.5020080321285141,0.6506024096385542],\"type\":\"choropleth\"}],                        {\"template\":{\"data\":{\"histogram2dcontour\":[{\"type\":\"histogram2dcontour\",\"colorbar\":{\"outlinewidth\":0,\"ticks\":\"\"},\"colorscale\":[[0.0,\"#0d0887\"],[0.1111111111111111,\"#46039f\"],[0.2222222222222222,\"#7201a8\"],[0.3333333333333333,\"#9c179e\"],[0.4444444444444444,\"#bd3786\"],[0.5555555555555556,\"#d8576b\"],[0.6666666666666666,\"#ed7953\"],[0.7777777777777778,\"#fb9f3a\"],[0.8888888888888888,\"#fdca26\"],[1.0,\"#f0f921\"]]}],\"choropleth\":[{\"type\":\"choropleth\",\"colorbar\":{\"outlinewidth\":0,\"ticks\":\"\"}}],\"histogram2d\":[{\"type\":\"histogram2d\",\"colorbar\":{\"outlinewidth\":0,\"ticks\":\"\"},\"colorscale\":[[0.0,\"#0d0887\"],[0.1111111111111111,\"#46039f\"],[0.2222222222222222,\"#7201a8\"],[0.3333333333333333,\"#9c179e\"],[0.4444444444444444,\"#bd3786\"],[0.5555555555555556,\"#d8576b\"],[0.6666666666666666,\"#ed7953\"],[0.7777777777777778,\"#fb9f3a\"],[0.8888888888888888,\"#fdca26\"],[1.0,\"#f0f921\"]]}],\"heatmap\":[{\"type\":\"heatmap\",\"colorbar\":{\"outlinewidth\":0,\"ticks\":\"\"},\"colorscale\":[[0.0,\"#0d0887\"],[0.1111111111111111,\"#46039f\"],[0.2222222222222222,\"#7201a8\"],[0.3333333333333333,\"#9c179e\"],[0.4444444444444444,\"#bd3786\"],[0.5555555555555556,\"#d8576b\"],[0.6666666666666666,\"#ed7953\"],[0.7777777777777778,\"#fb9f3a\"],[0.8888888888888888,\"#fdca26\"],[1.0,\"#f0f921\"]]}],\"heatmapgl\":[{\"type\":\"heatmapgl\",\"colorbar\":{\"outlinewidth\":0,\"ticks\":\"\"},\"colorscale\":[[0.0,\"#0d0887\"],[0.1111111111111111,\"#46039f\"],[0.2222222222222222,\"#7201a8\"],[0.3333333333333333,\"#9c179e\"],[0.4444444444444444,\"#bd3786\"],[0.5555555555555556,\"#d8576b\"],[0.6666666666666666,\"#ed7953\"],[0.7777777777777778,\"#fb9f3a\"],[0.8888888888888888,\"#fdca26\"],[1.0,\"#f0f921\"]]}],\"contourcarpet\":[{\"type\":\"contourcarpet\",\"colorbar\":{\"outlinewidth\":0,\"ticks\":\"\"}}],\"contour\":[{\"type\":\"contour\",\"colorbar\":{\"outlinewidth\":0,\"ticks\":\"\"},\"colorscale\":[[0.0,\"#0d0887\"],[0.1111111111111111,\"#46039f\"],[0.2222222222222222,\"#7201a8\"],[0.3333333333333333,\"#9c179e\"],[0.4444444444444444,\"#bd3786\"],[0.5555555555555556,\"#d8576b\"],[0.6666666666666666,\"#ed7953\"],[0.7777777777777778,\"#fb9f3a\"],[0.8888888888888888,\"#fdca26\"],[1.0,\"#f0f921\"]]}],\"surface\":[{\"type\":\"surface\",\"colorbar\":{\"outlinewidth\":0,\"ticks\":\"\"},\"colorscale\":[[0.0,\"#0d0887\"],[0.1111111111111111,\"#46039f\"],[0.2222222222222222,\"#7201a8\"],[0.3333333333333333,\"#9c179e\"],[0.4444444444444444,\"#bd3786\"],[0.5555555555555556,\"#d8576b\"],[0.6666666666666666,\"#ed7953\"],[0.7777777777777778,\"#fb9f3a\"],[0.8888888888888888,\"#fdca26\"],[1.0,\"#f0f921\"]]}],\"mesh3d\":[{\"type\":\"mesh3d\",\"colorbar\":{\"outlinewidth\":0,\"ticks\":\"\"}}],\"scatter\":[{\"marker\":{\"line\":{\"color\":\"#283442\"}},\"type\":\"scatter\"}],\"parcoords\":[{\"type\":\"parcoords\",\"line\":{\"colorbar\":{\"outlinewidth\":0,\"ticks\":\"\"}}}],\"scatterpolargl\":[{\"type\":\"scatterpolargl\",\"marker\":{\"colorbar\":{\"outlinewidth\":0,\"ticks\":\"\"}}}],\"bar\":[{\"error_x\":{\"color\":\"#f2f5fa\"},\"error_y\":{\"color\":\"#f2f5fa\"},\"marker\":{\"line\":{\"color\":\"rgb(17,17,17)\",\"width\":0.5},\"pattern\":{\"fillmode\":\"overlay\",\"size\":10,\"solidity\":0.2}},\"type\":\"bar\"}],\"scattergeo\":[{\"type\":\"scattergeo\",\"marker\":{\"colorbar\":{\"outlinewidth\":0,\"ticks\":\"\"}}}],\"scatterpolar\":[{\"type\":\"scatterpolar\",\"marker\":{\"colorbar\":{\"outlinewidth\":0,\"ticks\":\"\"}}}],\"histogram\":[{\"marker\":{\"pattern\":{\"fillmode\":\"overlay\",\"size\":10,\"solidity\":0.2}},\"type\":\"histogram\"}],\"scattergl\":[{\"marker\":{\"line\":{\"color\":\"#283442\"}},\"type\":\"scattergl\"}],\"scatter3d\":[{\"type\":\"scatter3d\",\"line\":{\"colorbar\":{\"outlinewidth\":0,\"ticks\":\"\"}},\"marker\":{\"colorbar\":{\"outlinewidth\":0,\"ticks\":\"\"}}}],\"scattermapbox\":[{\"type\":\"scattermapbox\",\"marker\":{\"colorbar\":{\"outlinewidth\":0,\"ticks\":\"\"}}}],\"scatterternary\":[{\"type\":\"scatterternary\",\"marker\":{\"colorbar\":{\"outlinewidth\":0,\"ticks\":\"\"}}}],\"scattercarpet\":[{\"type\":\"scattercarpet\",\"marker\":{\"colorbar\":{\"outlinewidth\":0,\"ticks\":\"\"}}}],\"carpet\":[{\"aaxis\":{\"endlinecolor\":\"#A2B1C6\",\"gridcolor\":\"#506784\",\"linecolor\":\"#506784\",\"minorgridcolor\":\"#506784\",\"startlinecolor\":\"#A2B1C6\"},\"baxis\":{\"endlinecolor\":\"#A2B1C6\",\"gridcolor\":\"#506784\",\"linecolor\":\"#506784\",\"minorgridcolor\":\"#506784\",\"startlinecolor\":\"#A2B1C6\"},\"type\":\"carpet\"}],\"table\":[{\"cells\":{\"fill\":{\"color\":\"#506784\"},\"line\":{\"color\":\"rgb(17,17,17)\"}},\"header\":{\"fill\":{\"color\":\"#2a3f5f\"},\"line\":{\"color\":\"rgb(17,17,17)\"}},\"type\":\"table\"}],\"barpolar\":[{\"marker\":{\"line\":{\"color\":\"rgb(17,17,17)\",\"width\":0.5},\"pattern\":{\"fillmode\":\"overlay\",\"size\":10,\"solidity\":0.2}},\"type\":\"barpolar\"}],\"pie\":[{\"automargin\":true,\"type\":\"pie\"}]},\"layout\":{\"autotypenumbers\":\"strict\",\"colorway\":[\"#636efa\",\"#EF553B\",\"#00cc96\",\"#ab63fa\",\"#FFA15A\",\"#19d3f3\",\"#FF6692\",\"#B6E880\",\"#FF97FF\",\"#FECB52\"],\"font\":{\"color\":\"#f2f5fa\"},\"hovermode\":\"closest\",\"hoverlabel\":{\"align\":\"left\"},\"paper_bgcolor\":\"rgb(17,17,17)\",\"plot_bgcolor\":\"rgb(17,17,17)\",\"polar\":{\"bgcolor\":\"rgb(17,17,17)\",\"angularaxis\":{\"gridcolor\":\"#506784\",\"linecolor\":\"#506784\",\"ticks\":\"\"},\"radialaxis\":{\"gridcolor\":\"#506784\",\"linecolor\":\"#506784\",\"ticks\":\"\"}},\"ternary\":{\"bgcolor\":\"rgb(17,17,17)\",\"aaxis\":{\"gridcolor\":\"#506784\",\"linecolor\":\"#506784\",\"ticks\":\"\"},\"baxis\":{\"gridcolor\":\"#506784\",\"linecolor\":\"#506784\",\"ticks\":\"\"},\"caxis\":{\"gridcolor\":\"#506784\",\"linecolor\":\"#506784\",\"ticks\":\"\"}},\"coloraxis\":{\"colorbar\":{\"outlinewidth\":0,\"ticks\":\"\"}},\"colorscale\":{\"sequential\":[[0.0,\"#0d0887\"],[0.1111111111111111,\"#46039f\"],[0.2222222222222222,\"#7201a8\"],[0.3333333333333333,\"#9c179e\"],[0.4444444444444444,\"#bd3786\"],[0.5555555555555556,\"#d8576b\"],[0.6666666666666666,\"#ed7953\"],[0.7777777777777778,\"#fb9f3a\"],[0.8888888888888888,\"#fdca26\"],[1.0,\"#f0f921\"]],\"sequentialminus\":[[0.0,\"#0d0887\"],[0.1111111111111111,\"#46039f\"],[0.2222222222222222,\"#7201a8\"],[0.3333333333333333,\"#9c179e\"],[0.4444444444444444,\"#bd3786\"],[0.5555555555555556,\"#d8576b\"],[0.6666666666666666,\"#ed7953\"],[0.7777777777777778,\"#fb9f3a\"],[0.8888888888888888,\"#fdca26\"],[1.0,\"#f0f921\"]],\"diverging\":[[0,\"#8e0152\"],[0.1,\"#c51b7d\"],[0.2,\"#de77ae\"],[0.3,\"#f1b6da\"],[0.4,\"#fde0ef\"],[0.5,\"#f7f7f7\"],[0.6,\"#e6f5d0\"],[0.7,\"#b8e186\"],[0.8,\"#7fbc41\"],[0.9,\"#4d9221\"],[1,\"#276419\"]]},\"xaxis\":{\"gridcolor\":\"#283442\",\"linecolor\":\"#506784\",\"ticks\":\"\",\"title\":{\"standoff\":15},\"zerolinecolor\":\"#283442\",\"automargin\":true,\"zerolinewidth\":2},\"yaxis\":{\"gridcolor\":\"#283442\",\"linecolor\":\"#506784\",\"ticks\":\"\",\"title\":{\"standoff\":15},\"zerolinecolor\":\"#283442\",\"automargin\":true,\"zerolinewidth\":2},\"scene\":{\"xaxis\":{\"backgroundcolor\":\"rgb(17,17,17)\",\"gridcolor\":\"#506784\",\"linecolor\":\"#506784\",\"showbackground\":true,\"ticks\":\"\",\"zerolinecolor\":\"#C8D4E3\",\"gridwidth\":2},\"yaxis\":{\"backgroundcolor\":\"rgb(17,17,17)\",\"gridcolor\":\"#506784\",\"linecolor\":\"#506784\",\"showbackground\":true,\"ticks\":\"\",\"zerolinecolor\":\"#C8D4E3\",\"gridwidth\":2},\"zaxis\":{\"backgroundcolor\":\"rgb(17,17,17)\",\"gridcolor\":\"#506784\",\"linecolor\":\"#506784\",\"showbackground\":true,\"ticks\":\"\",\"zerolinecolor\":\"#C8D4E3\",\"gridwidth\":2}},\"shapedefaults\":{\"line\":{\"color\":\"#f2f5fa\"}},\"annotationdefaults\":{\"arrowcolor\":\"#f2f5fa\",\"arrowhead\":0,\"arrowwidth\":1},\"geo\":{\"bgcolor\":\"rgb(17,17,17)\",\"landcolor\":\"rgb(17,17,17)\",\"subunitcolor\":\"#506784\",\"showland\":true,\"showlakes\":true,\"lakecolor\":\"rgb(17,17,17)\"},\"title\":{\"x\":0.05},\"updatemenudefaults\":{\"bgcolor\":\"#506784\",\"borderwidth\":0},\"sliderdefaults\":{\"bgcolor\":\"#C8D4E3\",\"borderwidth\":1,\"bordercolor\":\"rgb(17,17,17)\",\"tickwidth\":0},\"mapbox\":{\"style\":\"dark\"}}},\"geo\":{\"domain\":{\"x\":[0.0,1.0],\"y\":[0.0,1.0]},\"projection\":{\"type\":\"natural earth\",\"rotation\":{\"lon\":10}},\"center\":{},\"showframe\":true,\"showcoastlines\":true,\"coastlinecolor\":\"rgba(0,0,0,0.5)\",\"coastlinewidth\":0.8,\"landcolor\":\"rgba(240,240,240,1)\",\"lakecolor\":\"white\",\"oceancolor\":\"white\",\"showocean\":true,\"bgcolor\":\"white\",\"showcountries\":true,\"countrycolor\":\"rgba(0,0,0,0.2)\",\"countrywidth\":0.5},\"coloraxis\":{\"colorbar\":{\"title\":{\"text\":\"Percentage\"},\"thickness\":15,\"lenmode\":\"pixels\",\"len\":300,\"yanchor\":\"middle\",\"y\":0.5,\"tickvals\":[0,0.25,0.5,0.75,1]},\"colorscale\":[[0.0,\"rgb(0,104,55)\"],[0.1,\"rgb(26,152,80)\"],[0.2,\"rgb(102,189,99)\"],[0.3,\"rgb(166,217,106)\"],[0.4,\"rgb(217,239,139)\"],[0.5,\"rgb(255,255,191)\"],[0.6,\"rgb(254,224,139)\"],[0.7,\"rgb(253,174,97)\"],[0.8,\"rgb(244,109,67)\"],[0.9,\"rgb(215,48,39)\"],[1.0,\"rgb(165,0,38)\"]],\"cmid\":0.5,\"cmin\":0.3,\"cmax\":1},\"legend\":{\"tracegroupgap\":0},\"title\":{\"text\":\"\\u003cb\\u003eGlobal Cyber Victim Density\\u003c\\u002fb\\u003e\\u003cbr\\u003e\\u003csup\\u003eQuantile Normalization\\u003c\\u002fsup\\u003e\",\"font\":{\"size\":20},\"y\":0.95,\"x\":0.5,\"xanchor\":\"center\",\"yanchor\":\"top\"},\"margin\":{\"r\":20,\"t\":80,\"l\":20,\"b\":20},\"font\":{\"family\":\"Arial\",\"size\":12,\"color\":\"#404040\"},\"hoverlabel\":{\"font\":{\"size\":12,\"family\":\"Arial\"},\"bgcolor\":\"white\"},\"plot_bgcolor\":\"white\",\"paper_bgcolor\":\"white\",\"annotations\":[{\"font\":{\"color\":\"#666666\",\"size\":10},\"showarrow\":false,\"text\":\"Source: Your Data Source | Visualization by Your Team\",\"x\":0.5,\"xref\":\"paper\",\"y\":-0.1,\"yref\":\"paper\"}]},                        {\"responsive\": true}                    ).then(function(){\n",
       "                            \n",
       "var gd = document.getElementById('cb5b8187-4334-4ce3-8e1c-17c0cb18c8d0');\n",
       "var x = new MutationObserver(function (mutations, observer) {{\n",
       "        var display = window.getComputedStyle(gd).display;\n",
       "        if (!display || display === 'none') {{\n",
       "            console.log([gd, 'removed!']);\n",
       "            Plotly.purge(gd);\n",
       "            observer.disconnect();\n",
       "        }}\n",
       "}});\n",
       "\n",
       "// Listen for the removal of the full notebook cells\n",
       "var notebookContainer = gd.closest('#notebook-container');\n",
       "if (notebookContainer) {{\n",
       "    x.observe(notebookContainer, {childList: true});\n",
       "}}\n",
       "\n",
       "// Listen for the clearing of the current output cell\n",
       "var outputEl = gd.closest('.output');\n",
       "if (outputEl) {{\n",
       "    x.observe(outputEl, {childList: true});\n",
       "}}\n",
       "\n",
       "                        })                };                });            </script>        </div>"
      ]
     },
     "metadata": {},
     "output_type": "display_data"
    }
   ],
   "execution_count": 14,
   "source": [
    "import plotly.express as px\n",
    "\n",
    "valid_data = valid_data.copy()\n",
    "\n",
    "def quantile_normalize(series):\n",
    "    rank = series.rank(method='average')\n",
    "    normalized = rank / len(series)\n",
    "    return normalized\n",
    "\n",
    "valid_data.loc[:, 'attack_density_normalized'] = quantile_normalize(valid_data['attack_density'])\n",
    "\n",
    "fig = px.choropleth(\n",
    "    valid_data,\n",
    "    locations=\"iso3\",\n",
    "    color=\"attack_density_normalized\",\n",
    "    hover_name=\"country_code\",\n",
    "    hover_data={\n",
    "        'attack_count': True,\n",
    "        'population': True,\n",
    "        'attack_density': ':.2f',\n",
    "        'iso3': False\n",
    "    },\n",
    "    color_continuous_scale=px.colors.diverging.RdYlGn_r,\n",
    "    color_continuous_midpoint=0.5,\n",
    " #   labels={'attack_density_normalized': 'Normalized Attack Density'},\n",
    "    title=\"<b>Cyber Attack Density by Country</b><br><sup>Quantile Normalization</sup>\",\n",
    "    range_color=[0.3, 1],\n",
    "    projection=\"natural earth\"\n",
    ")\n",
    "\n",
    "fig.update_layout(\n",
    "    margin={\"r\": 20, \"t\": 80, \"l\": 20, \"b\": 20},\n",
    "    coloraxis_colorbar=dict(\n",
    "        title=\"Percentage\",\n",
    "        thickness=15,\n",
    "        lenmode=\"pixels\",\n",
    "        len=300,\n",
    "        yanchor=\"middle\",\n",
    "        y=0.5,\n",
    "        #dtick=0.25,\n",
    "        tickvals=[0, 0.25, 0.5, 0.75, 1],\n",
    "\n",
    "    ),\n",
    "    geo=dict(\n",
    "        showframe=True,\n",
    "        showcoastlines=True,\n",
    "        coastlinecolor=\"rgba(0,0,0,0.5)\",\n",
    "        coastlinewidth=0.8,\n",
    "        landcolor=\"rgba(240,240,240,1)\",\n",
    "        projection=dict(\n",
    "            type=\"natural earth\",\n",
    "            rotation_lon=10\n",
    "        ),\n",
    "        lakecolor=\"white\",\n",
    "        oceancolor=\"white\"\n",
    "    ),\n",
    "    title={\n",
    "        'text': \"<b>Global Cyber Victim Density</b><br><sup>Quantile Normalization</sup>\",\n",
    "        'y': 0.95,\n",
    "        'x': 0.5,\n",
    "        'xanchor': 'center',\n",
    "        'yanchor': 'top',\n",
    "        'font': {'size': 20}\n",
    "    },\n",
    "    font=dict(\n",
    "        family=\"Arial\",\n",
    "        size=12,\n",
    "        color=\"#404040\"\n",
    "    ),\n",
    "    plot_bgcolor=\"white\",\n",
    "    paper_bgcolor=\"white\",\n",
    "    hoverlabel=dict(\n",
    "        bgcolor=\"white\",\n",
    "        font_size=12,\n",
    "        font_family=\"Arial\"\n",
    "    )\n",
    ")\n",
    "\n",
    "fig.update_geos(\n",
    "    showocean=True,\n",
    "    oceancolor=\"white\",\n",
    "    lakecolor=\"white\",\n",
    "    bgcolor=\"white\",\n",
    "    showcountries=True,\n",
    "    countrycolor=\"rgba(0,0,0,0.2)\",\n",
    "    countrywidth=0.5\n",
    ")\n",
    "\n",
    "fig.add_annotation(\n",
    "    x=0.5,\n",
    "    y=-0.1,\n",
    "    text=\"Source: Your Data Source | Visualization by Your Team\",\n",
    "    showarrow=False,\n",
    "    xref=\"paper\",\n",
    "    yref=\"paper\",\n",
    "    font=dict(size=10, color=\"#666666\")\n",
    ")\n",
    "\n",
    "fig.show()"
   ],
   "id": "6203488d3bd24b4e"
  }
 ],
 "metadata": {
  "kernelspec": {
   "display_name": "Python 3",
   "language": "python",
   "name": "python3"
  },
  "language_info": {
   "codemirror_mode": {
    "name": "ipython",
    "version": 2
   },
   "file_extension": ".py",
   "mimetype": "text/x-python",
   "name": "python",
   "nbconvert_exporter": "python",
   "pygments_lexer": "ipython2",
   "version": "2.7.6"
  }
 },
 "nbformat": 4,
 "nbformat_minor": 5
}
